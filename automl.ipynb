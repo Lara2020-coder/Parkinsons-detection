{
 "cells": [
  {
   "cell_type": "markdown",
   "metadata": {},
   "source": [
    "# Automated ML\n",
    "\n",
    "we start by importing all the dependencies that we will need to complete the project."
   ]
  },
  {
   "cell_type": "code",
   "execution_count": 16,
   "metadata": {
    "gather": {
     "logged": 1598423888013
    },
    "jupyter": {
     "outputs_hidden": false,
     "source_hidden": false
    },
    "nteract": {
     "transient": {
      "deleting": false
     }
    }
   },
   "outputs": [],
   "source": [
    "from azureml.core import Workspace, Experiment\n",
    "from azureml.core.compute import ComputeTarget, AmlCompute\n",
    "from azureml.core.compute_target import ComputeTargetException\n",
    "from azureml.data.dataset_factory import TabularDatasetFactory\n",
    "import pandas as pd\n",
    "from azureml.train.automl import AutoMLConfig\n",
    "from azureml.widgets import RunDetails\n",
    "from azureml.core.model import InferenceConfig\n",
    "from azureml.core.webservice import AciWebservice\n",
    "from azureml.core.webservice import Webservice\n",
    "from azureml.core.model import Model\n",
    "from azureml.core import Dataset, Environment, Experiment, Workspace\n",
    "\n",
    "import json\n",
    "\n"
   ]
  },
  {
   "cell_type": "markdown",
   "metadata": {},
   "source": [
    "## Dataset\n",
    "\n",
    "### Overview\n",
    "We first of all define the workspace and create the experiment 'Parkinson-classification-AutoML' (config.json in the same directory)\n",
    "\n",
    "We then access to the dataset from the external link (placed in the github)\n",
    "\n",
    "We move then to prepare the data(read the data using TabularDatasetFactory  then transforme it to a dataframe then store it in a csv file ) and send it to the default datastore so that we can use it in the Automl Config \n",
    "\n",
    "To finally create the compute cluster \n",
    "\n",
    "The dataset used in this notebook  is composed of a range of biomedical voice measurements from 31 people, 23 with Parkinson's disease (PD). Each column in the data is a particular voice measure, and each row corresponds one of 195 voice recording from these individuals (\"name\" column)"
   ]
  },
  {
   "cell_type": "code",
   "execution_count": 2,
   "metadata": {
    "gather": {
     "logged": 1598423890461
    },
    "jupyter": {
     "outputs_hidden": false,
     "source_hidden": false
    },
    "nteract": {
     "transient": {
      "deleting": false
     }
    },
    "scrolled": true
   },
   "outputs": [
    {
     "name": "stdout",
     "output_type": "stream",
     "text": [
      "Workspace name: quick-starts-ws-132622\n",
      "Azure region: southcentralus\n",
      "Subscription id: 976ee174-3882-4721-b90a-b5fef6b72f24\n",
      "Resource group: aml-quickstarts-132622\n"
     ]
    }
   ],
   "source": [
    "#Connection to the workspace and definition of the experiment \n",
    "ws = Workspace.from_config()\n",
    "experiment_name = 'Parkinson-classification-AutoML'\n",
    "\n",
    "experiment=Experiment(workspace=ws, name=experiment_name)\n",
    "\n",
    "print('Workspace name: ' + ws.name, \n",
    "      'Azure region: ' + ws.location, \n",
    "      'Subscription id: ' + ws.subscription_id, \n",
    "      'Resource group: ' + ws.resource_group, sep = '\\n')\n",
    "\n",
    "run = experiment.start_logging()"
   ]
  },
  {
   "cell_type": "code",
   "execution_count": 3,
   "metadata": {},
   "outputs": [
    {
     "data": {
      "text/html": [
       "<div>\n",
       "<style scoped>\n",
       "    .dataframe tbody tr th:only-of-type {\n",
       "        vertical-align: middle;\n",
       "    }\n",
       "\n",
       "    .dataframe tbody tr th {\n",
       "        vertical-align: top;\n",
       "    }\n",
       "\n",
       "    .dataframe thead th {\n",
       "        text-align: right;\n",
       "    }\n",
       "</style>\n",
       "<table border=\"1\" class=\"dataframe\">\n",
       "  <thead>\n",
       "    <tr style=\"text-align: right;\">\n",
       "      <th></th>\n",
       "      <th>name</th>\n",
       "      <th>MDVP:Fo(Hz)</th>\n",
       "      <th>MDVP:Fhi(Hz)</th>\n",
       "      <th>MDVP:Flo(Hz)</th>\n",
       "      <th>MDVP:Jitter(%)</th>\n",
       "      <th>MDVP:Jitter(Abs)</th>\n",
       "      <th>MDVP:RAP</th>\n",
       "      <th>MDVP:PPQ</th>\n",
       "      <th>Jitter:DDP</th>\n",
       "      <th>MDVP:Shimmer</th>\n",
       "      <th>...</th>\n",
       "      <th>Shimmer:DDA</th>\n",
       "      <th>NHR</th>\n",
       "      <th>HNR</th>\n",
       "      <th>status</th>\n",
       "      <th>RPDE</th>\n",
       "      <th>DFA</th>\n",
       "      <th>spread1</th>\n",
       "      <th>spread2</th>\n",
       "      <th>D2</th>\n",
       "      <th>PPE</th>\n",
       "    </tr>\n",
       "  </thead>\n",
       "  <tbody>\n",
       "    <tr>\n",
       "      <th>0</th>\n",
       "      <td>phon_R01_S01_1</td>\n",
       "      <td>119.992</td>\n",
       "      <td>157.302</td>\n",
       "      <td>74.997</td>\n",
       "      <td>0.00784</td>\n",
       "      <td>0.00007</td>\n",
       "      <td>0.00370</td>\n",
       "      <td>0.00554</td>\n",
       "      <td>0.01109</td>\n",
       "      <td>0.04374</td>\n",
       "      <td>...</td>\n",
       "      <td>0.06545</td>\n",
       "      <td>0.02211</td>\n",
       "      <td>21.033</td>\n",
       "      <td>1</td>\n",
       "      <td>0.414783</td>\n",
       "      <td>0.815285</td>\n",
       "      <td>-4.813031</td>\n",
       "      <td>0.266482</td>\n",
       "      <td>2.301442</td>\n",
       "      <td>0.284654</td>\n",
       "    </tr>\n",
       "    <tr>\n",
       "      <th>1</th>\n",
       "      <td>phon_R01_S01_2</td>\n",
       "      <td>122.400</td>\n",
       "      <td>148.650</td>\n",
       "      <td>113.819</td>\n",
       "      <td>0.00968</td>\n",
       "      <td>0.00008</td>\n",
       "      <td>0.00465</td>\n",
       "      <td>0.00696</td>\n",
       "      <td>0.01394</td>\n",
       "      <td>0.06134</td>\n",
       "      <td>...</td>\n",
       "      <td>0.09403</td>\n",
       "      <td>0.01929</td>\n",
       "      <td>19.085</td>\n",
       "      <td>1</td>\n",
       "      <td>0.458359</td>\n",
       "      <td>0.819521</td>\n",
       "      <td>-4.075192</td>\n",
       "      <td>0.335590</td>\n",
       "      <td>2.486855</td>\n",
       "      <td>0.368674</td>\n",
       "    </tr>\n",
       "    <tr>\n",
       "      <th>2</th>\n",
       "      <td>phon_R01_S01_3</td>\n",
       "      <td>116.682</td>\n",
       "      <td>131.111</td>\n",
       "      <td>111.555</td>\n",
       "      <td>0.01050</td>\n",
       "      <td>0.00009</td>\n",
       "      <td>0.00544</td>\n",
       "      <td>0.00781</td>\n",
       "      <td>0.01633</td>\n",
       "      <td>0.05233</td>\n",
       "      <td>...</td>\n",
       "      <td>0.08270</td>\n",
       "      <td>0.01309</td>\n",
       "      <td>20.651</td>\n",
       "      <td>1</td>\n",
       "      <td>0.429895</td>\n",
       "      <td>0.825288</td>\n",
       "      <td>-4.443179</td>\n",
       "      <td>0.311173</td>\n",
       "      <td>2.342259</td>\n",
       "      <td>0.332634</td>\n",
       "    </tr>\n",
       "    <tr>\n",
       "      <th>3</th>\n",
       "      <td>phon_R01_S01_4</td>\n",
       "      <td>116.676</td>\n",
       "      <td>137.871</td>\n",
       "      <td>111.366</td>\n",
       "      <td>0.00997</td>\n",
       "      <td>0.00009</td>\n",
       "      <td>0.00502</td>\n",
       "      <td>0.00698</td>\n",
       "      <td>0.01505</td>\n",
       "      <td>0.05492</td>\n",
       "      <td>...</td>\n",
       "      <td>0.08771</td>\n",
       "      <td>0.01353</td>\n",
       "      <td>20.644</td>\n",
       "      <td>1</td>\n",
       "      <td>0.434969</td>\n",
       "      <td>0.819235</td>\n",
       "      <td>-4.117501</td>\n",
       "      <td>0.334147</td>\n",
       "      <td>2.405554</td>\n",
       "      <td>0.368975</td>\n",
       "    </tr>\n",
       "    <tr>\n",
       "      <th>4</th>\n",
       "      <td>phon_R01_S01_5</td>\n",
       "      <td>116.014</td>\n",
       "      <td>141.781</td>\n",
       "      <td>110.655</td>\n",
       "      <td>0.01284</td>\n",
       "      <td>0.00011</td>\n",
       "      <td>0.00655</td>\n",
       "      <td>0.00908</td>\n",
       "      <td>0.01966</td>\n",
       "      <td>0.06425</td>\n",
       "      <td>...</td>\n",
       "      <td>0.10470</td>\n",
       "      <td>0.01767</td>\n",
       "      <td>19.649</td>\n",
       "      <td>1</td>\n",
       "      <td>0.417356</td>\n",
       "      <td>0.823484</td>\n",
       "      <td>-3.747787</td>\n",
       "      <td>0.234513</td>\n",
       "      <td>2.332180</td>\n",
       "      <td>0.410335</td>\n",
       "    </tr>\n",
       "  </tbody>\n",
       "</table>\n",
       "<p>5 rows × 24 columns</p>\n",
       "</div>"
      ],
      "text/plain": [
       "             name  MDVP:Fo(Hz)  MDVP:Fhi(Hz)  MDVP:Flo(Hz)  MDVP:Jitter(%)  \\\n",
       "0  phon_R01_S01_1      119.992       157.302        74.997         0.00784   \n",
       "1  phon_R01_S01_2      122.400       148.650       113.819         0.00968   \n",
       "2  phon_R01_S01_3      116.682       131.111       111.555         0.01050   \n",
       "3  phon_R01_S01_4      116.676       137.871       111.366         0.00997   \n",
       "4  phon_R01_S01_5      116.014       141.781       110.655         0.01284   \n",
       "\n",
       "   MDVP:Jitter(Abs)  MDVP:RAP  MDVP:PPQ  Jitter:DDP  MDVP:Shimmer  ...  \\\n",
       "0           0.00007   0.00370   0.00554     0.01109       0.04374  ...   \n",
       "1           0.00008   0.00465   0.00696     0.01394       0.06134  ...   \n",
       "2           0.00009   0.00544   0.00781     0.01633       0.05233  ...   \n",
       "3           0.00009   0.00502   0.00698     0.01505       0.05492  ...   \n",
       "4           0.00011   0.00655   0.00908     0.01966       0.06425  ...   \n",
       "\n",
       "   Shimmer:DDA      NHR     HNR  status      RPDE       DFA   spread1  \\\n",
       "0      0.06545  0.02211  21.033       1  0.414783  0.815285 -4.813031   \n",
       "1      0.09403  0.01929  19.085       1  0.458359  0.819521 -4.075192   \n",
       "2      0.08270  0.01309  20.651       1  0.429895  0.825288 -4.443179   \n",
       "3      0.08771  0.01353  20.644       1  0.434969  0.819235 -4.117501   \n",
       "4      0.10470  0.01767  19.649       1  0.417356  0.823484 -3.747787   \n",
       "\n",
       "    spread2        D2       PPE  \n",
       "0  0.266482  2.301442  0.284654  \n",
       "1  0.335590  2.486855  0.368674  \n",
       "2  0.311173  2.342259  0.332634  \n",
       "3  0.334147  2.405554  0.368975  \n",
       "4  0.234513  2.332180  0.410335  \n",
       "\n",
       "[5 rows x 24 columns]"
      ]
     },
     "execution_count": 3,
     "metadata": {},
     "output_type": "execute_result"
    }
   ],
   "source": [
    "#Get the data from github\n",
    "path_url = 'https://raw.githubusercontent.com/hananeouhammouch/Parkinsons-detection/master/parkinsons.data'\n",
    "ds = TabularDatasetFactory.from_delimited_files(path = path_url)\n",
    "ds.to_pandas_dataframe().head()"
   ]
  },
  {
   "cell_type": "code",
   "execution_count": 4,
   "metadata": {},
   "outputs": [
    {
     "name": "stdout",
     "output_type": "stream",
     "text": [
      "Uploading an estimated of 4 files\n",
      "Uploading ./automl.ipynb\n",
      "Uploaded ./automl.ipynb, 1 files out of an estimated total of 4\n",
      "Uploading ./training_dataset.csv\n",
      "Uploaded ./training_dataset.csv, 2 files out of an estimated total of 4\n",
      "Uploading ./.ipynb_aml_checkpoints/automl-checkpoint2020-11-31-10-25-31.ipynb\n",
      "Uploaded ./.ipynb_aml_checkpoints/automl-checkpoint2020-11-31-10-25-31.ipynb, 3 files out of an estimated total of 4\n",
      "Uploading ./.ipynb_checkpoints/automl-checkpoint.ipynb\n",
      "Uploaded ./.ipynb_checkpoints/automl-checkpoint.ipynb, 4 files out of an estimated total of 4\n",
      "Uploaded 4 files\n"
     ]
    }
   ],
   "source": [
    "#Prepare the data and send it to the datastore\n",
    "ds.to_pandas_dataframe().to_csv(\"./training_dataset.csv\")\n",
    "datastore = ws.get_default_datastore()\n",
    "datastore.upload(src_dir = \"./\", target_path = \"data/\")\n",
    "training_data = TabularDatasetFactory.from_delimited_files(path = [(datastore, (\"data/training_dataset.csv\"))])\n"
   ]
  },
  {
   "cell_type": "code",
   "execution_count": 5,
   "metadata": {},
   "outputs": [
    {
     "name": "stdout",
     "output_type": "stream",
     "text": [
      "Creating\n",
      "Succeeded.....................\n",
      "AmlCompute wait for completion finished\n",
      "\n",
      "Wait timeout has been reached\n",
      "Current provisioning state of AmlCompute is \"Succeeded\" and current node count is \"0\"\n"
     ]
    }
   ],
   "source": [
    "#Creation of the compute-cluster\n",
    "amlcompute_cluster_name = \"cpu-cluster\"\n",
    "\n",
    "try:\n",
    "    aml_compute = ComputeTarget(workspace=ws, name=amlcompute_cluster_name)\n",
    "    print('Found existing cluster, use it.')\n",
    "except ComputeTargetException:\n",
    "    compute_config = AmlCompute.provisioning_configuration(vm_size='STANDARD_DS3_V2',\n",
    "                                                           max_nodes=5)\n",
    "    aml_compute = ComputeTarget.create(ws, amlcompute_cluster_name, compute_config)\n",
    "\n",
    "aml_compute.wait_for_completion(show_output=True , min_node_count = 1, timeout_in_minutes = 2)"
   ]
  },
  {
   "cell_type": "markdown",
   "metadata": {},
   "source": [
    "## AutoML Configuration\n",
    "\n",
    "In this section we configure the automnl setting and submit the experiment \n",
    "\n",
    "And Bellow is the description/Reason for the configuration used in Automl\n",
    "\n",
    "|Setting |Reasons ?|\n",
    "|-|-|\n",
    "|**experiment_timeout_minutes**|Maximum amount of time in minutes that all iterations combined can take before the experiment terminates (15 minute because the dataset include only 195 lines)|\n",
    "|**max_concurrent_iterations**|To help manage child runs  in parallele mode and when they can be performed, we create a dedicated cluster per experiment, and match the number of this setting (4) to the number of nodes in the cluster(5-1))|\n",
    "|**n_cross_validations**|Number of cross validation (5) splits to ensure that they will be no overfiting |\n",
    "|**primary_metric**|This is the metric that we want to optimize (accuracy) |\n",
    "|**task**|classification |\n",
    "|**compute_target**|To define the compute cluster we will be using |\n",
    "|**training_data**|To specify the training dataset stored in the datastore  |\n",
    "|**label_column_name**|To specify the dependent variable that we are trying to classify |"
   ]
  },
  {
   "cell_type": "code",
   "execution_count": 6,
   "metadata": {
    "gather": {
     "logged": 1598429217746
    },
    "jupyter": {
     "outputs_hidden": false,
     "source_hidden": false
    },
    "nteract": {
     "transient": {
      "deleting": false
     }
    }
   },
   "outputs": [],
   "source": [
    "# Automl settings \n",
    "automl_settings = {\n",
    "    \"experiment_timeout_minutes\" :15,\n",
    "    \"max_concurrent_iterations\": 4,\n",
    "    \"n_cross_validations\": 5,\n",
    "    \"primary_metric\": 'accuracy',\n",
    "}\n",
    "\n",
    "# Automl config \n",
    "automl_config = AutoMLConfig(\n",
    "    task=\"classification\",\n",
    "    compute_target=aml_compute,\n",
    "    training_data=training_data,\n",
    "    label_column_name=\"status\",\n",
    "    **automl_settings\n",
    ")"
   ]
  },
  {
   "cell_type": "code",
   "execution_count": 7,
   "metadata": {
    "gather": {
     "logged": 1598431107951
    },
    "jupyter": {
     "outputs_hidden": false,
     "source_hidden": false
    },
    "nteract": {
     "transient": {
      "deleting": false
     }
    }
   },
   "outputs": [
    {
     "name": "stdout",
     "output_type": "stream",
     "text": [
      "Running on remote.\n",
      "No run_configuration provided, running on cpu-cluster with default configuration\n",
      "Running on remote compute: cpu-cluster\n",
      "Parent Run ID: AutoML_77352c12-d25b-4d39-8406-3436e020c60e\n",
      "\n",
      "Current status: FeaturesGeneration. Generating features for the dataset.\n",
      "Current status: ModelSelection. Beginning model selection.\n",
      "\n",
      "****************************************************************************************************\n",
      "DATA GUARDRAILS: \n",
      "\n",
      "TYPE:         Class balancing detection\n",
      "STATUS:       PASSED\n",
      "DESCRIPTION:  Your inputs were analyzed, and all classes are balanced in your training data.\n",
      "              Learn more about imbalanced data: https://aka.ms/AutomatedMLImbalancedData\n",
      "\n",
      "****************************************************************************************************\n",
      "\n",
      "TYPE:         Missing feature values imputation\n",
      "STATUS:       PASSED\n",
      "DESCRIPTION:  No feature missing values were detected in the training data.\n",
      "              Learn more about missing value imputation: https://aka.ms/AutomatedMLFeaturization\n",
      "\n",
      "****************************************************************************************************\n",
      "\n",
      "TYPE:         High cardinality feature detection\n",
      "STATUS:       PASSED\n",
      "DESCRIPTION:  Your inputs were analyzed, and no high cardinality features were detected.\n",
      "              Learn more about high cardinality feature handling: https://aka.ms/AutomatedMLFeaturization\n",
      "\n",
      "****************************************************************************************************\n",
      "\n",
      "****************************************************************************************************\n",
      "ITERATION: The iteration being evaluated.\n",
      "PIPELINE: A summary description of the pipeline being evaluated.\n",
      "DURATION: Time taken for the current iteration.\n",
      "METRIC: The result of computing score on the fitted pipeline.\n",
      "BEST: The best observed score thus far.\n",
      "****************************************************************************************************\n",
      "\n",
      " ITERATION   PIPELINE                                       DURATION      METRIC      BEST\n",
      "         0   MaxAbsScaler LightGBM                          0:00:43       0.9641    0.9641\n",
      "         1   MaxAbsScaler XGBoostClassifier                 0:00:53       0.9641    0.9641\n",
      "         2   MinMaxScaler RandomForest                      0:00:49       0.9231    0.9641\n",
      "         6   RobustScaler LightGBM                          0:00:44       0.9385    0.9641\n",
      "         3   MinMaxScaler RandomForest                      0:01:44       0.8615    0.9641\n",
      "         4   MinMaxScaler RandomForest                      0:01:50       0.9333    0.9641\n",
      "         5   RobustScaler LightGBM                          0:02:00       0.9128    0.9641\n",
      "         7   MinMaxScaler SVM                               0:00:48       0.9641    0.9641\n",
      "         8   SparseNormalizer XGBoostClassifier             0:00:39       0.9333    0.9641\n",
      "        11   RobustScaler RandomForest                      0:00:39       0.8821    0.9641\n",
      "         9   SparseNormalizer XGBoostClassifier             0:00:40       0.9436    0.9641\n",
      "        10   SparseNormalizer LightGBM                      0:00:42       0.9026    0.9641\n",
      "        12   StandardScalerWrapper LightGBM                 0:00:39       0.8205    0.9641\n",
      "        13   StandardScalerWrapper LogisticRegression       0:00:40       0.8410    0.9641\n",
      "        14   MaxAbsScaler LightGBM                          0:00:51       0.8974    0.9641\n",
      "        15   MaxAbsScaler LightGBM                          0:00:49       0.9026    0.9641\n",
      "        16   StandardScalerWrapper LogisticRegression       0:00:43       0.8410    0.9641\n",
      "        17   MinMaxScaler LightGBM                          0:00:44       0.9333    0.9641\n",
      "        18   SparseNormalizer XGBoostClassifier             0:00:37       0.8923    0.9641\n",
      "        19   SparseNormalizer XGBoostClassifier             0:00:43       0.8615    0.9641\n",
      "        20   SparseNormalizer XGBoostClassifier             0:00:43       0.9231    0.9641\n",
      "        21   SparseNormalizer XGBoostClassifier             0:00:38       0.9436    0.9641\n",
      "        22   SparseNormalizer XGBoostClassifier             0:00:46       0.9538    0.9641\n",
      "        23   StandardScalerWrapper XGBoostClassifier        0:00:45       0.9077    0.9641\n",
      "        24   StandardScalerWrapper LightGBM                 0:00:40       0.8718    0.9641\n",
      "        25   TruncatedSVDWrapper LightGBM                   0:00:39       0.8872    0.9641\n",
      "        26   SparseNormalizer XGBoostClassifier             0:00:37       0.9128    0.9641\n",
      "        27   SparseNormalizer ExtremeRandomTrees            0:00:44       0.8615    0.9641\n",
      "        28   MaxAbsScaler ExtremeRandomTrees                0:00:40       0.8410    0.9641\n",
      "        29   StandardScalerWrapper RandomForest             0:00:42       0.8462    0.9641\n",
      "        30   StandardScalerWrapper LightGBM                 0:00:49       0.8410    0.9641\n",
      "        31   RobustScaler ExtremeRandomTrees                0:00:45       0.8872    0.9641\n",
      "        32   SparseNormalizer XGBoostClassifier             0:00:40       0.8923    0.9641\n",
      "        33   SparseNormalizer XGBoostClassifier             0:00:40       0.9385    0.9641\n",
      "        34   SparseNormalizer XGBoostClassifier             0:00:35       0.9333    0.9641\n",
      "        35   SparseNormalizer LightGBM                      0:00:43       0.8872    0.9641\n",
      "        36   SparseNormalizer XGBoostClassifier             0:00:42       0.9333    0.9641\n",
      "        37   SparseNormalizer XGBoostClassifier             0:00:45       0.9385    0.9641\n",
      "        38   MinMaxScaler ExtremeRandomTrees                0:00:55       0.9487    0.9641\n",
      "        39   SparseNormalizer XGBoostClassifier             0:00:51       0.9026    0.9641\n",
      "        40   RobustScaler LightGBM                          0:00:51       0.9385    0.9641\n",
      "        41   SparseNormalizer XGBoostClassifier             0:00:52       0.9333    0.9641\n",
      "        42   SparseNormalizer XGBoostClassifier             0:00:40       0.9436    0.9641\n",
      "        43   SparseNormalizer XGBoostClassifier             0:00:45       0.9231    0.9641\n",
      "        44   StandardScalerWrapper LightGBM                 0:00:40       0.9231    0.9641\n",
      "        45   PCA LightGBM                                   0:00:40       0.7436    0.9641\n",
      "        46   SparseNormalizer XGBoostClassifier             0:00:38       0.9282    0.9641\n",
      "        47   SparseNormalizer XGBoostClassifier             0:00:38       0.9231    0.9641\n",
      "        48   SparseNormalizer XGBoostClassifier             0:00:39       0.9231    0.9641\n",
      "        49   RobustScaler ExtremeRandomTrees                0:00:43       0.8821    0.9641\n",
      "        50   TruncatedSVDWrapper LightGBM                   0:00:38       0.8923    0.9641\n",
      "        51                                                  0:00:23          nan    0.9641\n",
      "        52                                                  0:00:12          nan    0.9641\n",
      "        54    StackEnsemble                                 0:01:38       0.9538    0.9641\n",
      "        53    VotingEnsemble                                0:01:39       0.9744    0.9744\n"
     ]
    }
   ],
   "source": [
    "# Submit experiment\n",
    "auto_ml_run = experiment.submit(config = automl_config, show_output = True)\n"
   ]
  },
  {
   "cell_type": "markdown",
   "metadata": {},
   "source": [
    "## Run Details\n",
    "\n",
    "`RunDetails` widgets used here to show the different experiments."
   ]
  },
  {
   "cell_type": "code",
   "execution_count": 8,
   "metadata": {
    "gather": {
     "logged": 1598431121770
    },
    "jupyter": {
     "outputs_hidden": false,
     "source_hidden": false
    },
    "nteract": {
     "transient": {
      "deleting": false
     }
    }
   },
   "outputs": [
    {
     "data": {
      "application/vnd.jupyter.widget-view+json": {
       "model_id": "5b862228733b41ab958b263285b9356b",
       "version_major": 2,
       "version_minor": 0
      },
      "text/plain": [
       "_AutoMLWidget(widget_settings={'childWidgetDisplay': 'popup', 'send_telemetry': False, 'log_level': 'INFO', 's…"
      ]
     },
     "metadata": {},
     "output_type": "display_data"
    },
    {
     "data": {
      "application/aml.mini.widget.v1": "{\"status\": \"Completed\", \"workbench_run_details_uri\": \"https://ml.azure.com/experiments/Parkinson-classification-AutoML/runs/AutoML_77352c12-d25b-4d39-8406-3436e020c60e?wsid=/subscriptions/976ee174-3882-4721-b90a-b5fef6b72f24/resourcegroups/aml-quickstarts-132622/workspaces/quick-starts-ws-132622\", \"run_id\": \"AutoML_77352c12-d25b-4d39-8406-3436e020c60e\", \"run_properties\": {\"run_id\": \"AutoML_77352c12-d25b-4d39-8406-3436e020c60e\", \"created_utc\": \"2020-12-31T11:40:57.607647Z\", \"properties\": {\"num_iterations\": \"1000\", \"training_type\": \"TrainFull\", \"acquisition_function\": \"EI\", \"primary_metric\": \"accuracy\", \"train_split\": \"0\", \"acquisition_parameter\": \"0\", \"num_cross_validation\": \"5\", \"target\": \"cpu-cluster\", \"AMLSettingsJsonString\": \"{\\\"path\\\":null,\\\"name\\\":\\\"Parkinson-classification-AutoML\\\",\\\"subscription_id\\\":\\\"976ee174-3882-4721-b90a-b5fef6b72f24\\\",\\\"resource_group\\\":\\\"aml-quickstarts-132622\\\",\\\"workspace_name\\\":\\\"quick-starts-ws-132622\\\",\\\"region\\\":\\\"southcentralus\\\",\\\"compute_target\\\":\\\"cpu-cluster\\\",\\\"spark_service\\\":null,\\\"azure_service\\\":\\\"remote\\\",\\\"many_models\\\":false,\\\"pipeline_fetch_max_batch_size\\\":1,\\\"iterations\\\":1000,\\\"primary_metric\\\":\\\"accuracy\\\",\\\"task_type\\\":\\\"classification\\\",\\\"data_script\\\":null,\\\"validation_size\\\":0.0,\\\"n_cross_validations\\\":5,\\\"y_min\\\":null,\\\"y_max\\\":null,\\\"num_classes\\\":null,\\\"featurization\\\":\\\"auto\\\",\\\"_ignore_package_version_incompatibilities\\\":false,\\\"is_timeseries\\\":false,\\\"max_cores_per_iteration\\\":1,\\\"max_concurrent_iterations\\\":4,\\\"iteration_timeout_minutes\\\":null,\\\"mem_in_mb\\\":null,\\\"enforce_time_on_windows\\\":false,\\\"experiment_timeout_minutes\\\":15,\\\"experiment_exit_score\\\":null,\\\"whitelist_models\\\":null,\\\"blacklist_algos\\\":[\\\"TensorFlowLinearClassifier\\\",\\\"TensorFlowDNN\\\"],\\\"supported_models\\\":[\\\"SVM\\\",\\\"TensorFlowDNN\\\",\\\"XGBoostClassifier\\\",\\\"ExtremeRandomTrees\\\",\\\"RandomForest\\\",\\\"SGD\\\",\\\"KNN\\\",\\\"DecisionTree\\\",\\\"LogisticRegression\\\",\\\"MultinomialNaiveBayes\\\",\\\"LightGBM\\\",\\\"GradientBoosting\\\",\\\"LinearSVM\\\",\\\"TensorFlowLinearClassifier\\\",\\\"AveragedPerceptronClassifier\\\",\\\"BernoulliNaiveBayes\\\"],\\\"auto_blacklist\\\":true,\\\"blacklist_samples_reached\\\":false,\\\"exclude_nan_labels\\\":true,\\\"verbosity\\\":20,\\\"_debug_log\\\":\\\"azureml_automl.log\\\",\\\"show_warnings\\\":false,\\\"model_explainability\\\":true,\\\"service_url\\\":null,\\\"sdk_url\\\":null,\\\"sdk_packages\\\":null,\\\"enable_onnx_compatible_models\\\":false,\\\"enable_split_onnx_featurizer_estimator_models\\\":false,\\\"vm_type\\\":\\\"STANDARD_DS3_V2\\\",\\\"telemetry_verbosity\\\":20,\\\"send_telemetry\\\":true,\\\"enable_dnn\\\":false,\\\"scenario\\\":\\\"SDK-1.13.0\\\",\\\"environment_label\\\":null,\\\"force_text_dnn\\\":false,\\\"enable_feature_sweeping\\\":true,\\\"enable_early_stopping\\\":false,\\\"early_stopping_n_iters\\\":10,\\\"metrics\\\":null,\\\"enable_ensembling\\\":true,\\\"enable_stack_ensembling\\\":true,\\\"ensemble_iterations\\\":15,\\\"enable_tf\\\":false,\\\"enable_subsampling\\\":null,\\\"subsample_seed\\\":null,\\\"enable_nimbusml\\\":false,\\\"enable_streaming\\\":false,\\\"force_streaming\\\":false,\\\"track_child_runs\\\":true,\\\"allowed_private_models\\\":[],\\\"label_column_name\\\":\\\"status\\\",\\\"weight_column_name\\\":null,\\\"cv_split_column_names\\\":null,\\\"enable_local_managed\\\":false,\\\"_local_managed_run_id\\\":null,\\\"cost_mode\\\":1,\\\"lag_length\\\":0,\\\"metric_operation\\\":\\\"maximize\\\",\\\"preprocess\\\":true}\", \"DataPrepJsonString\": \"{\\\\\\\"training_data\\\\\\\": \\\\\\\"{\\\\\\\\\\\\\\\"blocks\\\\\\\\\\\\\\\": [{\\\\\\\\\\\\\\\"id\\\\\\\\\\\\\\\": \\\\\\\\\\\\\\\"20943a77-c44e-4e56-83e3-ab0845b6b2e7\\\\\\\\\\\\\\\", \\\\\\\\\\\\\\\"type\\\\\\\\\\\\\\\": \\\\\\\\\\\\\\\"Microsoft.DPrep.GetDatastoreFilesBlock\\\\\\\\\\\\\\\", \\\\\\\\\\\\\\\"arguments\\\\\\\\\\\\\\\": {\\\\\\\\\\\\\\\"datastores\\\\\\\\\\\\\\\": [{\\\\\\\\\\\\\\\"datastoreName\\\\\\\\\\\\\\\": \\\\\\\\\\\\\\\"workspaceblobstore\\\\\\\\\\\\\\\", \\\\\\\\\\\\\\\"path\\\\\\\\\\\\\\\": \\\\\\\\\\\\\\\"data/training_dataset.csv\\\\\\\\\\\\\\\", \\\\\\\\\\\\\\\"resourceGroup\\\\\\\\\\\\\\\": \\\\\\\\\\\\\\\"aml-quickstarts-132622\\\\\\\\\\\\\\\", \\\\\\\\\\\\\\\"subscription\\\\\\\\\\\\\\\": \\\\\\\\\\\\\\\"976ee174-3882-4721-b90a-b5fef6b72f24\\\\\\\\\\\\\\\", \\\\\\\\\\\\\\\"workspaceName\\\\\\\\\\\\\\\": \\\\\\\\\\\\\\\"quick-starts-ws-132622\\\\\\\\\\\\\\\"}]}, \\\\\\\\\\\\\\\"localData\\\\\\\\\\\\\\\": {}, \\\\\\\\\\\\\\\"isEnabled\\\\\\\\\\\\\\\": true, \\\\\\\\\\\\\\\"name\\\\\\\\\\\\\\\": null, \\\\\\\\\\\\\\\"annotation\\\\\\\\\\\\\\\": null}, {\\\\\\\\\\\\\\\"id\\\\\\\\\\\\\\\": \\\\\\\\\\\\\\\"c81ad372-7de5-4fdd-a5cd-4d312e15b379\\\\\\\\\\\\\\\", \\\\\\\\\\\\\\\"type\\\\\\\\\\\\\\\": \\\\\\\\\\\\\\\"Microsoft.DPrep.ParseDelimitedBlock\\\\\\\\\\\\\\\", \\\\\\\\\\\\\\\"arguments\\\\\\\\\\\\\\\": {\\\\\\\\\\\\\\\"columnHeadersMode\\\\\\\\\\\\\\\": 3, \\\\\\\\\\\\\\\"fileEncoding\\\\\\\\\\\\\\\": 0, \\\\\\\\\\\\\\\"handleQuotedLineBreaks\\\\\\\\\\\\\\\": false, \\\\\\\\\\\\\\\"preview\\\\\\\\\\\\\\\": false, \\\\\\\\\\\\\\\"separator\\\\\\\\\\\\\\\": \\\\\\\\\\\\\\\",\\\\\\\\\\\\\\\", \\\\\\\\\\\\\\\"skipRows\\\\\\\\\\\\\\\": 0, \\\\\\\\\\\\\\\"skipRowsMode\\\\\\\\\\\\\\\": 0}, \\\\\\\\\\\\\\\"localData\\\\\\\\\\\\\\\": {}, \\\\\\\\\\\\\\\"isEnabled\\\\\\\\\\\\\\\": true, \\\\\\\\\\\\\\\"name\\\\\\\\\\\\\\\": null, \\\\\\\\\\\\\\\"annotation\\\\\\\\\\\\\\\": null}, {\\\\\\\\\\\\\\\"id\\\\\\\\\\\\\\\": \\\\\\\\\\\\\\\"d5397071-725f-4797-9330-197de0ca8246\\\\\\\\\\\\\\\", \\\\\\\\\\\\\\\"type\\\\\\\\\\\\\\\": \\\\\\\\\\\\\\\"Microsoft.DPrep.DropColumnsBlock\\\\\\\\\\\\\\\", \\\\\\\\\\\\\\\"arguments\\\\\\\\\\\\\\\": {\\\\\\\\\\\\\\\"columns\\\\\\\\\\\\\\\": {\\\\\\\\\\\\\\\"type\\\\\\\\\\\\\\\": 0, \\\\\\\\\\\\\\\"details\\\\\\\\\\\\\\\": {\\\\\\\\\\\\\\\"selectedColumns\\\\\\\\\\\\\\\": [\\\\\\\\\\\\\\\"Path\\\\\\\\\\\\\\\"]}}}, \\\\\\\\\\\\\\\"localData\\\\\\\\\\\\\\\": {}, \\\\\\\\\\\\\\\"isEnabled\\\\\\\\\\\\\\\": true, \\\\\\\\\\\\\\\"name\\\\\\\\\\\\\\\": null, \\\\\\\\\\\\\\\"annotation\\\\\\\\\\\\\\\": null}, {\\\\\\\\\\\\\\\"id\\\\\\\\\\\\\\\": \\\\\\\\\\\\\\\"70bdf349-e367-47b8-8328-ba0fe65d9315\\\\\\\\\\\\\\\", \\\\\\\\\\\\\\\"type\\\\\\\\\\\\\\\": \\\\\\\\\\\\\\\"Microsoft.DPrep.SetColumnTypesBlock\\\\\\\\\\\\\\\", \\\\\\\\\\\\\\\"arguments\\\\\\\\\\\\\\\": {\\\\\\\\\\\\\\\"columnConversion\\\\\\\\\\\\\\\": [{\\\\\\\\\\\\\\\"column\\\\\\\\\\\\\\\": {\\\\\\\\\\\\\\\"type\\\\\\\\\\\\\\\": 2, \\\\\\\\\\\\\\\"details\\\\\\\\\\\\\\\": {\\\\\\\\\\\\\\\"selectedColumn\\\\\\\\\\\\\\\": \\\\\\\\\\\\\\\"Column1\\\\\\\\\\\\\\\"}}, \\\\\\\\\\\\\\\"typeProperty\\\\\\\\\\\\\\\": 2}, {\\\\\\\\\\\\\\\"column\\\\\\\\\\\\\\\": {\\\\\\\\\\\\\\\"type\\\\\\\\\\\\\\\": 2, \\\\\\\\\\\\\\\"details\\\\\\\\\\\\\\\": {\\\\\\\\\\\\\\\"selectedColumn\\\\\\\\\\\\\\\": \\\\\\\\\\\\\\\"name\\\\\\\\\\\\\\\"}}, \\\\\\\\\\\\\\\"typeProperty\\\\\\\\\\\\\\\": 0}, {\\\\\\\\\\\\\\\"column\\\\\\\\\\\\\\\": {\\\\\\\\\\\\\\\"type\\\\\\\\\\\\\\\": 2, \\\\\\\\\\\\\\\"details\\\\\\\\\\\\\\\": {\\\\\\\\\\\\\\\"selectedColumn\\\\\\\\\\\\\\\": \\\\\\\\\\\\\\\"MDVP:Fo(Hz)\\\\\\\\\\\\\\\"}}, \\\\\\\\\\\\\\\"typeProperty\\\\\\\\\\\\\\\": 3}, {\\\\\\\\\\\\\\\"column\\\\\\\\\\\\\\\": {\\\\\\\\\\\\\\\"type\\\\\\\\\\\\\\\": 2, \\\\\\\\\\\\\\\"details\\\\\\\\\\\\\\\": {\\\\\\\\\\\\\\\"selectedColumn\\\\\\\\\\\\\\\": \\\\\\\\\\\\\\\"MDVP:Fhi(Hz)\\\\\\\\\\\\\\\"}}, \\\\\\\\\\\\\\\"typeProperty\\\\\\\\\\\\\\\": 3}, {\\\\\\\\\\\\\\\"column\\\\\\\\\\\\\\\": {\\\\\\\\\\\\\\\"type\\\\\\\\\\\\\\\": 2, \\\\\\\\\\\\\\\"details\\\\\\\\\\\\\\\": {\\\\\\\\\\\\\\\"selectedColumn\\\\\\\\\\\\\\\": \\\\\\\\\\\\\\\"MDVP:Flo(Hz)\\\\\\\\\\\\\\\"}}, \\\\\\\\\\\\\\\"typeProperty\\\\\\\\\\\\\\\": 3}, {\\\\\\\\\\\\\\\"column\\\\\\\\\\\\\\\": {\\\\\\\\\\\\\\\"type\\\\\\\\\\\\\\\": 2, \\\\\\\\\\\\\\\"details\\\\\\\\\\\\\\\": {\\\\\\\\\\\\\\\"selectedColumn\\\\\\\\\\\\\\\": \\\\\\\\\\\\\\\"MDVP:Jitter(%)\\\\\\\\\\\\\\\"}}, \\\\\\\\\\\\\\\"typeProperty\\\\\\\\\\\\\\\": 3}, {\\\\\\\\\\\\\\\"column\\\\\\\\\\\\\\\": {\\\\\\\\\\\\\\\"type\\\\\\\\\\\\\\\": 2, \\\\\\\\\\\\\\\"details\\\\\\\\\\\\\\\": {\\\\\\\\\\\\\\\"selectedColumn\\\\\\\\\\\\\\\": \\\\\\\\\\\\\\\"MDVP:Jitter(Abs)\\\\\\\\\\\\\\\"}}, \\\\\\\\\\\\\\\"typeProperty\\\\\\\\\\\\\\\": 3}, {\\\\\\\\\\\\\\\"column\\\\\\\\\\\\\\\": {\\\\\\\\\\\\\\\"type\\\\\\\\\\\\\\\": 2, \\\\\\\\\\\\\\\"details\\\\\\\\\\\\\\\": {\\\\\\\\\\\\\\\"selectedColumn\\\\\\\\\\\\\\\": \\\\\\\\\\\\\\\"MDVP:RAP\\\\\\\\\\\\\\\"}}, \\\\\\\\\\\\\\\"typeProperty\\\\\\\\\\\\\\\": 3}, {\\\\\\\\\\\\\\\"column\\\\\\\\\\\\\\\": {\\\\\\\\\\\\\\\"type\\\\\\\\\\\\\\\": 2, \\\\\\\\\\\\\\\"details\\\\\\\\\\\\\\\": {\\\\\\\\\\\\\\\"selectedColumn\\\\\\\\\\\\\\\": \\\\\\\\\\\\\\\"MDVP:PPQ\\\\\\\\\\\\\\\"}}, \\\\\\\\\\\\\\\"typeProperty\\\\\\\\\\\\\\\": 3}, {\\\\\\\\\\\\\\\"column\\\\\\\\\\\\\\\": {\\\\\\\\\\\\\\\"type\\\\\\\\\\\\\\\": 2, \\\\\\\\\\\\\\\"details\\\\\\\\\\\\\\\": {\\\\\\\\\\\\\\\"selectedColumn\\\\\\\\\\\\\\\": \\\\\\\\\\\\\\\"Jitter:DDP\\\\\\\\\\\\\\\"}}, \\\\\\\\\\\\\\\"typeProperty\\\\\\\\\\\\\\\": 3}, {\\\\\\\\\\\\\\\"column\\\\\\\\\\\\\\\": {\\\\\\\\\\\\\\\"type\\\\\\\\\\\\\\\": 2, \\\\\\\\\\\\\\\"details\\\\\\\\\\\\\\\": {\\\\\\\\\\\\\\\"selectedColumn\\\\\\\\\\\\\\\": \\\\\\\\\\\\\\\"MDVP:Shimmer\\\\\\\\\\\\\\\"}}, \\\\\\\\\\\\\\\"typeProperty\\\\\\\\\\\\\\\": 3}, {\\\\\\\\\\\\\\\"column\\\\\\\\\\\\\\\": {\\\\\\\\\\\\\\\"type\\\\\\\\\\\\\\\": 2, \\\\\\\\\\\\\\\"details\\\\\\\\\\\\\\\": {\\\\\\\\\\\\\\\"selectedColumn\\\\\\\\\\\\\\\": \\\\\\\\\\\\\\\"MDVP:Shimmer(dB)\\\\\\\\\\\\\\\"}}, \\\\\\\\\\\\\\\"typeProperty\\\\\\\\\\\\\\\": 3}, {\\\\\\\\\\\\\\\"column\\\\\\\\\\\\\\\": {\\\\\\\\\\\\\\\"type\\\\\\\\\\\\\\\": 2, \\\\\\\\\\\\\\\"details\\\\\\\\\\\\\\\": {\\\\\\\\\\\\\\\"selectedColumn\\\\\\\\\\\\\\\": \\\\\\\\\\\\\\\"Shimmer:APQ3\\\\\\\\\\\\\\\"}}, \\\\\\\\\\\\\\\"typeProperty\\\\\\\\\\\\\\\": 3}, {\\\\\\\\\\\\\\\"column\\\\\\\\\\\\\\\": {\\\\\\\\\\\\\\\"type\\\\\\\\\\\\\\\": 2, \\\\\\\\\\\\\\\"details\\\\\\\\\\\\\\\": {\\\\\\\\\\\\\\\"selectedColumn\\\\\\\\\\\\\\\": \\\\\\\\\\\\\\\"Shimmer:APQ5\\\\\\\\\\\\\\\"}}, \\\\\\\\\\\\\\\"typeProperty\\\\\\\\\\\\\\\": 3}, {\\\\\\\\\\\\\\\"column\\\\\\\\\\\\\\\": {\\\\\\\\\\\\\\\"type\\\\\\\\\\\\\\\": 2, \\\\\\\\\\\\\\\"details\\\\\\\\\\\\\\\": {\\\\\\\\\\\\\\\"selectedColumn\\\\\\\\\\\\\\\": \\\\\\\\\\\\\\\"MDVP:APQ\\\\\\\\\\\\\\\"}}, \\\\\\\\\\\\\\\"typeProperty\\\\\\\\\\\\\\\": 3}, {\\\\\\\\\\\\\\\"column\\\\\\\\\\\\\\\": {\\\\\\\\\\\\\\\"type\\\\\\\\\\\\\\\": 2, \\\\\\\\\\\\\\\"details\\\\\\\\\\\\\\\": {\\\\\\\\\\\\\\\"selectedColumn\\\\\\\\\\\\\\\": \\\\\\\\\\\\\\\"Shimmer:DDA\\\\\\\\\\\\\\\"}}, \\\\\\\\\\\\\\\"typeProperty\\\\\\\\\\\\\\\": 3}, {\\\\\\\\\\\\\\\"column\\\\\\\\\\\\\\\": {\\\\\\\\\\\\\\\"type\\\\\\\\\\\\\\\": 2, \\\\\\\\\\\\\\\"details\\\\\\\\\\\\\\\": {\\\\\\\\\\\\\\\"selectedColumn\\\\\\\\\\\\\\\": \\\\\\\\\\\\\\\"NHR\\\\\\\\\\\\\\\"}}, \\\\\\\\\\\\\\\"typeProperty\\\\\\\\\\\\\\\": 3}, {\\\\\\\\\\\\\\\"column\\\\\\\\\\\\\\\": {\\\\\\\\\\\\\\\"type\\\\\\\\\\\\\\\": 2, \\\\\\\\\\\\\\\"details\\\\\\\\\\\\\\\": {\\\\\\\\\\\\\\\"selectedColumn\\\\\\\\\\\\\\\": \\\\\\\\\\\\\\\"HNR\\\\\\\\\\\\\\\"}}, \\\\\\\\\\\\\\\"typeProperty\\\\\\\\\\\\\\\": 3}, {\\\\\\\\\\\\\\\"column\\\\\\\\\\\\\\\": {\\\\\\\\\\\\\\\"type\\\\\\\\\\\\\\\": 2, \\\\\\\\\\\\\\\"details\\\\\\\\\\\\\\\": {\\\\\\\\\\\\\\\"selectedColumn\\\\\\\\\\\\\\\": \\\\\\\\\\\\\\\"status\\\\\\\\\\\\\\\"}}, \\\\\\\\\\\\\\\"typeProperty\\\\\\\\\\\\\\\": 2}, {\\\\\\\\\\\\\\\"column\\\\\\\\\\\\\\\": {\\\\\\\\\\\\\\\"type\\\\\\\\\\\\\\\": 2, \\\\\\\\\\\\\\\"details\\\\\\\\\\\\\\\": {\\\\\\\\\\\\\\\"selectedColumn\\\\\\\\\\\\\\\": \\\\\\\\\\\\\\\"RPDE\\\\\\\\\\\\\\\"}}, \\\\\\\\\\\\\\\"typeProperty\\\\\\\\\\\\\\\": 3}, {\\\\\\\\\\\\\\\"column\\\\\\\\\\\\\\\": {\\\\\\\\\\\\\\\"type\\\\\\\\\\\\\\\": 2, \\\\\\\\\\\\\\\"details\\\\\\\\\\\\\\\": {\\\\\\\\\\\\\\\"selectedColumn\\\\\\\\\\\\\\\": \\\\\\\\\\\\\\\"DFA\\\\\\\\\\\\\\\"}}, \\\\\\\\\\\\\\\"typeProperty\\\\\\\\\\\\\\\": 3}, {\\\\\\\\\\\\\\\"column\\\\\\\\\\\\\\\": {\\\\\\\\\\\\\\\"type\\\\\\\\\\\\\\\": 2, \\\\\\\\\\\\\\\"details\\\\\\\\\\\\\\\": {\\\\\\\\\\\\\\\"selectedColumn\\\\\\\\\\\\\\\": \\\\\\\\\\\\\\\"spread1\\\\\\\\\\\\\\\"}}, \\\\\\\\\\\\\\\"typeProperty\\\\\\\\\\\\\\\": 3}, {\\\\\\\\\\\\\\\"column\\\\\\\\\\\\\\\": {\\\\\\\\\\\\\\\"type\\\\\\\\\\\\\\\": 2, \\\\\\\\\\\\\\\"details\\\\\\\\\\\\\\\": {\\\\\\\\\\\\\\\"selectedColumn\\\\\\\\\\\\\\\": \\\\\\\\\\\\\\\"spread2\\\\\\\\\\\\\\\"}}, \\\\\\\\\\\\\\\"typeProperty\\\\\\\\\\\\\\\": 3}, {\\\\\\\\\\\\\\\"column\\\\\\\\\\\\\\\": {\\\\\\\\\\\\\\\"type\\\\\\\\\\\\\\\": 2, \\\\\\\\\\\\\\\"details\\\\\\\\\\\\\\\": {\\\\\\\\\\\\\\\"selectedColumn\\\\\\\\\\\\\\\": \\\\\\\\\\\\\\\"D2\\\\\\\\\\\\\\\"}}, \\\\\\\\\\\\\\\"typeProperty\\\\\\\\\\\\\\\": 3}, {\\\\\\\\\\\\\\\"column\\\\\\\\\\\\\\\": {\\\\\\\\\\\\\\\"type\\\\\\\\\\\\\\\": 2, \\\\\\\\\\\\\\\"details\\\\\\\\\\\\\\\": {\\\\\\\\\\\\\\\"selectedColumn\\\\\\\\\\\\\\\": \\\\\\\\\\\\\\\"PPE\\\\\\\\\\\\\\\"}}, \\\\\\\\\\\\\\\"typeProperty\\\\\\\\\\\\\\\": 3}]}, \\\\\\\\\\\\\\\"localData\\\\\\\\\\\\\\\": {}, \\\\\\\\\\\\\\\"isEnabled\\\\\\\\\\\\\\\": true, \\\\\\\\\\\\\\\"name\\\\\\\\\\\\\\\": null, \\\\\\\\\\\\\\\"annotation\\\\\\\\\\\\\\\": null}], \\\\\\\\\\\\\\\"inspectors\\\\\\\\\\\\\\\": [], \\\\\\\\\\\\\\\"meta\\\\\\\\\\\\\\\": {\\\\\\\\\\\\\\\"savedDatasetId\\\\\\\\\\\\\\\": \\\\\\\\\\\\\\\"15204659-1a91-473e-981f-7850f248422f\\\\\\\\\\\\\\\", \\\\\\\\\\\\\\\"datasetType\\\\\\\\\\\\\\\": \\\\\\\\\\\\\\\"tabular\\\\\\\\\\\\\\\", \\\\\\\\\\\\\\\"subscriptionId\\\\\\\\\\\\\\\": \\\\\\\\\\\\\\\"976ee174-3882-4721-b90a-b5fef6b72f24\\\\\\\\\\\\\\\", \\\\\\\\\\\\\\\"workspaceId\\\\\\\\\\\\\\\": \\\\\\\\\\\\\\\"b31c461b-0287-44c7-ab7a-600be87db9ad\\\\\\\\\\\\\\\", \\\\\\\\\\\\\\\"workspaceLocation\\\\\\\\\\\\\\\": \\\\\\\\\\\\\\\"southcentralus\\\\\\\\\\\\\\\"}}\\\\\\\", \\\\\\\"activities\\\\\\\": 0}\", \"EnableSubsampling\": null, \"runTemplate\": \"AutoML\", \"azureml.runsource\": \"automl\", \"display_task_type\": \"classification\", \"dependencies_versions\": \"{\\\"azureml-widgets\\\": \\\"1.19.0\\\", \\\"azureml-train\\\": \\\"1.19.0\\\", \\\"azureml-train-restclients-hyperdrive\\\": \\\"1.19.0\\\", \\\"azureml-train-core\\\": \\\"1.19.0\\\", \\\"azureml-train-automl\\\": \\\"1.19.0\\\", \\\"azureml-train-automl-runtime\\\": \\\"1.19.0\\\", \\\"azureml-train-automl-client\\\": \\\"1.19.0\\\", \\\"azureml-tensorboard\\\": \\\"1.19.0\\\", \\\"azureml-telemetry\\\": \\\"1.19.0\\\", \\\"azureml-sdk\\\": \\\"1.19.0\\\", \\\"azureml-samples\\\": \\\"0+unknown\\\", \\\"azureml-pipeline\\\": \\\"1.19.0\\\", \\\"azureml-pipeline-steps\\\": \\\"1.19.0\\\", \\\"azureml-pipeline-core\\\": \\\"1.19.0\\\", \\\"azureml-opendatasets\\\": \\\"1.19.0\\\", \\\"azureml-model-management-sdk\\\": \\\"1.0.1b6.post1\\\", \\\"azureml-mlflow\\\": \\\"1.19.0\\\", \\\"azureml-interpret\\\": \\\"1.19.0\\\", \\\"azureml-explain-model\\\": \\\"1.19.0\\\", \\\"azureml-defaults\\\": \\\"1.19.0\\\", \\\"azureml-dataset-runtime\\\": \\\"1.19.0\\\", \\\"azureml-dataprep\\\": \\\"2.6.1\\\", \\\"azureml-dataprep-rslex\\\": \\\"1.4.0\\\", \\\"azureml-dataprep-native\\\": \\\"26.0.0\\\", \\\"azureml-datadrift\\\": \\\"1.19.0\\\", \\\"azureml-core\\\": \\\"1.19.0\\\", \\\"azureml-contrib-services\\\": \\\"1.19.0\\\", \\\"azureml-contrib-server\\\": \\\"1.19.0\\\", \\\"azureml-contrib-reinforcementlearning\\\": \\\"1.19.0\\\", \\\"azureml-contrib-pipeline-steps\\\": \\\"1.19.0\\\", \\\"azureml-contrib-notebook\\\": \\\"1.19.0\\\", \\\"azureml-contrib-interpret\\\": \\\"1.19.0\\\", \\\"azureml-contrib-gbdt\\\": \\\"1.19.0\\\", \\\"azureml-contrib-fairness\\\": \\\"1.19.0\\\", \\\"azureml-contrib-dataset\\\": \\\"1.19.0\\\", \\\"azureml-cli-common\\\": \\\"1.19.0\\\", \\\"azureml-automl-runtime\\\": \\\"1.19.0\\\", \\\"azureml-automl-core\\\": \\\"1.19.0\\\", \\\"azureml-accel-models\\\": \\\"1.19.0\\\"}\", \"_aml_system_scenario_identification\": \"Remote.Parent\", \"ClientType\": \"SDK\", \"environment_cpu_name\": \"AzureML-AutoML\", \"environment_cpu_label\": \"prod\", \"environment_gpu_name\": \"AzureML-AutoML-GPU\", \"environment_gpu_label\": \"prod\", \"root_attribution\": \"automl\", \"attribution\": \"AutoML\", \"Orchestrator\": \"AutoML\", \"CancelUri\": \"https://southcentralus.experiments.azureml.net/jasmine/v1.0/subscriptions/976ee174-3882-4721-b90a-b5fef6b72f24/resourceGroups/aml-quickstarts-132622/providers/Microsoft.MachineLearningServices/workspaces/quick-starts-ws-132622/experimentids/a2931fd3-61ba-4e29-b9af-980296b38162/cancel/AutoML_77352c12-d25b-4d39-8406-3436e020c60e\", \"ClientSdkVersion\": \"1.19.0\", \"snapshotId\": \"00000000-0000-0000-0000-000000000000\", \"SetupRunId\": \"AutoML_77352c12-d25b-4d39-8406-3436e020c60e_setup\", \"SetupRunContainerId\": \"dcid.AutoML_77352c12-d25b-4d39-8406-3436e020c60e_setup\", \"FeaturizationRunJsonPath\": \"featurizer_container.json\", \"FeaturizationRunId\": \"AutoML_77352c12-d25b-4d39-8406-3436e020c60e_featurize\", \"ProblemInfoJsonString\": \"{\\\"dataset_num_categorical\\\": 0, \\\"is_sparse\\\": false, \\\"subsampling\\\": false, \\\"dataset_classes\\\": 2, \\\"dataset_features\\\": 23, \\\"dataset_samples\\\": 195, \\\"single_frequency_class_detected\\\": false}\", \"ModelExplainRunId\": \"AutoML_77352c12-d25b-4d39-8406-3436e020c60e_ModelExplain\"}, \"tags\": {\"model_explain_run\": \"best_run\", \"_aml_system_azureml.automlComponent\": \"AutoML\", \"pipeline_id\": \"\", \"score\": \"\", \"predicted_cost\": \"\", \"fit_time\": \"\", \"training_percent\": \"\", \"iteration\": \"\", \"run_preprocessor\": \"\", \"run_algorithm\": \"\", \"dynamic_whitelisting_iterations\": \"<25>;<30>;<35>;<40>;<45>;<50>;\", \"automl_best_child_run_id\": \"AutoML_77352c12-d25b-4d39-8406-3436e020c60e_53\", \"model_explain_best_run_child_id\": \"AutoML_77352c12-d25b-4d39-8406-3436e020c60e_53\"}, \"end_time_utc\": \"2020-12-31T12:05:42.331564Z\", \"status\": \"Completed\", \"log_files\": {}, \"log_groups\": [], \"run_duration\": \"0:24:44\"}, \"child_runs\": [{\"run_id\": \"AutoML_77352c12-d25b-4d39-8406-3436e020c60e_1\", \"run_number\": 6, \"metric\": null, \"status\": \"Completed\", \"run_type\": \"azureml.scriptrun\", \"training_percent\": \"100\", \"start_time\": \"2020-12-31T11:49:24.988034Z\", \"end_time\": \"2020-12-31T11:50:17.99093Z\", \"created_time\": \"2020-12-31T11:48:29.973115Z\", \"created_time_dt\": \"2020-12-31T11:48:29.973115Z\", \"duration\": \"0:01:48\", \"iteration\": \"1\", \"goal\": \"accuracy_max\", \"run_name\": \"MaxAbsScaler, XGBoostClassifier\", \"run_properties\": \"copy=True\", \"primary_metric\": 0.96410256, \"best_metric\": 0.96410256}, {\"run_id\": \"AutoML_77352c12-d25b-4d39-8406-3436e020c60e_0\", \"run_number\": 7, \"metric\": null, \"status\": \"Completed\", \"run_type\": \"azureml.scriptrun\", \"training_percent\": \"100\", \"start_time\": \"2020-12-31T11:48:42.805488Z\", \"end_time\": \"2020-12-31T11:49:25.629304Z\", \"created_time\": \"2020-12-31T11:48:30.002736Z\", \"created_time_dt\": \"2020-12-31T11:48:30.002736Z\", \"duration\": \"0:00:55\", \"iteration\": \"0\", \"goal\": \"accuracy_max\", \"run_name\": \"MaxAbsScaler, LightGBM\", \"run_properties\": \"copy=True\", \"primary_metric\": 0.96410256, \"best_metric\": 0.96410256}, {\"run_id\": \"AutoML_77352c12-d25b-4d39-8406-3436e020c60e_3\", \"run_number\": 8, \"metric\": null, \"status\": \"Completed\", \"run_type\": \"azureml.scriptrun\", \"training_percent\": \"100\", \"start_time\": \"2020-12-31T11:51:08.096214Z\", \"end_time\": \"2020-12-31T11:52:51.816284Z\", \"created_time\": \"2020-12-31T11:48:30.662626Z\", \"created_time_dt\": \"2020-12-31T11:48:30.662626Z\", \"duration\": \"0:04:21\", \"iteration\": \"3\", \"goal\": \"accuracy_max\", \"run_name\": \"MinMaxScaler, RandomForest\", \"run_properties\": \"copy=True, feature_range=(0, 1\", \"primary_metric\": 0.86153846, \"best_metric\": 0.96410256}, {\"run_id\": \"AutoML_77352c12-d25b-4d39-8406-3436e020c60e_2\", \"run_number\": 9, \"metric\": null, \"status\": \"Completed\", \"run_type\": \"azureml.scriptrun\", \"training_percent\": \"100\", \"start_time\": \"2020-12-31T11:50:19.573323Z\", \"end_time\": \"2020-12-31T11:51:08.161958Z\", \"created_time\": \"2020-12-31T11:48:30.901951Z\", \"created_time_dt\": \"2020-12-31T11:48:30.901951Z\", \"duration\": \"0:02:37\", \"iteration\": \"2\", \"goal\": \"accuracy_max\", \"run_name\": \"MinMaxScaler, RandomForest\", \"run_properties\": \"copy=True, feature_range=(0, 1\", \"primary_metric\": 0.92307692, \"best_metric\": 0.96410256}, {\"run_id\": \"AutoML_77352c12-d25b-4d39-8406-3436e020c60e_4\", \"run_number\": 10, \"metric\": null, \"status\": \"Completed\", \"run_type\": \"azureml.scriptrun\", \"training_percent\": \"100\", \"start_time\": \"2020-12-31T11:51:11.182802Z\", \"end_time\": \"2020-12-31T11:53:01.035516Z\", \"created_time\": \"2020-12-31T11:49:28.505996Z\", \"created_time_dt\": \"2020-12-31T11:49:28.505996Z\", \"duration\": \"0:03:32\", \"iteration\": \"4\", \"goal\": \"accuracy_max\", \"run_name\": \"MinMaxScaler, RandomForest\", \"run_properties\": \"copy=True, feature_range=(0, 1\", \"primary_metric\": 0.93333333, \"best_metric\": 0.96410256}, {\"run_id\": \"AutoML_77352c12-d25b-4d39-8406-3436e020c60e_5\", \"run_number\": 11, \"metric\": null, \"status\": \"Completed\", \"run_type\": \"azureml.scriptrun\", \"training_percent\": \"100\", \"start_time\": \"2020-12-31T11:51:10.369559Z\", \"end_time\": \"2020-12-31T11:53:10.419046Z\", \"created_time\": \"2020-12-31T11:50:20.765023Z\", \"created_time_dt\": \"2020-12-31T11:50:20.765023Z\", \"duration\": \"0:02:49\", \"iteration\": \"5\", \"goal\": \"accuracy_max\", \"run_name\": \"RobustScaler, LightGBM\", \"run_properties\": \"copy=True, quantile_range=[25, 75], with_centering=False,\\n             with_scaling=False\", \"primary_metric\": 0.91282051, \"best_metric\": 0.96410256}, {\"run_id\": \"AutoML_77352c12-d25b-4d39-8406-3436e020c60e_6\", \"run_number\": 12, \"metric\": null, \"status\": \"Completed\", \"run_type\": \"azureml.scriptrun\", \"training_percent\": \"100\", \"start_time\": \"2020-12-31T11:51:24.625774Z\", \"end_time\": \"2020-12-31T11:52:08.496987Z\", \"created_time\": \"2020-12-31T11:51:11.417266Z\", \"created_time_dt\": \"2020-12-31T11:51:11.417266Z\", \"duration\": \"0:00:57\", \"iteration\": \"6\", \"goal\": \"accuracy_max\", \"run_name\": \"RobustScaler, LightGBM\", \"run_properties\": \"copy=True, quantile_range=[25, 75], with_centering=True,\\n             with_scaling=False\", \"primary_metric\": 0.93846154, \"best_metric\": 0.96410256}, {\"run_id\": \"AutoML_77352c12-d25b-4d39-8406-3436e020c60e_7\", \"run_number\": 13, \"metric\": null, \"status\": \"Completed\", \"run_type\": \"azureml.scriptrun\", \"training_percent\": \"100\", \"start_time\": \"2020-12-31T11:52:23.087881Z\", \"end_time\": \"2020-12-31T11:53:10.601485Z\", \"created_time\": \"2020-12-31T11:52:11.310588Z\", \"created_time_dt\": \"2020-12-31T11:52:11.310588Z\", \"duration\": \"0:00:59\", \"iteration\": \"7\", \"goal\": \"accuracy_max\", \"run_name\": \"MinMaxScaler, SVM\", \"run_properties\": \"copy=True, feature_range=(0, 1\", \"primary_metric\": 0.96410256, \"best_metric\": 0.96410256}, {\"run_id\": \"AutoML_77352c12-d25b-4d39-8406-3436e020c60e_8\", \"run_number\": 14, \"metric\": null, \"status\": \"Completed\", \"run_type\": \"azureml.scriptrun\", \"training_percent\": \"100\", \"start_time\": \"2020-12-31T11:53:07.084685Z\", \"end_time\": \"2020-12-31T11:53:46.367504Z\", \"created_time\": \"2020-12-31T11:52:54.236533Z\", \"created_time_dt\": \"2020-12-31T11:52:54.236533Z\", \"duration\": \"0:00:52\", \"iteration\": \"8\", \"goal\": \"accuracy_max\", \"run_name\": \"SparseNormalizer, XGBoostClassifier\", \"run_properties\": \"<azureml.automl.runtime.shared.model_wrappers.SparseNormalizer object at 0x7fa74e838940\", \"primary_metric\": 0.93333333, \"best_metric\": 0.96410256}, {\"run_id\": \"AutoML_77352c12-d25b-4d39-8406-3436e020c60e_9\", \"run_number\": 15, \"metric\": null, \"status\": \"Completed\", \"run_type\": \"azureml.scriptrun\", \"training_percent\": \"100\", \"start_time\": \"2020-12-31T11:53:15.707721Z\", \"end_time\": \"2020-12-31T11:53:55.580696Z\", \"created_time\": \"2020-12-31T11:53:03.117085Z\", \"created_time_dt\": \"2020-12-31T11:53:03.117085Z\", \"duration\": \"0:00:52\", \"iteration\": \"9\", \"goal\": \"accuracy_max\", \"run_name\": \"SparseNormalizer, XGBoostClassifier\", \"run_properties\": \"<azureml.automl.runtime.shared.model_wrappers.SparseNormalizer object at 0x7f2b98fa1cc0\", \"primary_metric\": 0.94358974, \"best_metric\": 0.96410256}, {\"run_id\": \"AutoML_77352c12-d25b-4d39-8406-3436e020c60e_10\", \"run_number\": 16, \"metric\": null, \"status\": \"Completed\", \"run_type\": \"azureml.scriptrun\", \"training_percent\": \"100\", \"start_time\": \"2020-12-31T11:53:25.656574Z\", \"end_time\": \"2020-12-31T11:54:07.900077Z\", \"created_time\": \"2020-12-31T11:53:12.884426Z\", \"created_time_dt\": \"2020-12-31T11:53:12.884426Z\", \"duration\": \"0:00:55\", \"iteration\": \"10\", \"goal\": \"accuracy_max\", \"run_name\": \"SparseNormalizer, LightGBM\", \"run_properties\": \"<azureml.automl.runtime.shared.model_wrappers.SparseNormalizer object at 0x7fe178dfb2e8\", \"primary_metric\": 0.9025641, \"best_metric\": 0.96410256}, {\"run_id\": \"AutoML_77352c12-d25b-4d39-8406-3436e020c60e_11\", \"run_number\": 17, \"metric\": null, \"status\": \"Completed\", \"run_type\": \"azureml.scriptrun\", \"training_percent\": \"100\", \"start_time\": \"2020-12-31T11:53:24.615629Z\", \"end_time\": \"2020-12-31T11:54:03.843526Z\", \"created_time\": \"2020-12-31T11:53:12.999539Z\", \"created_time_dt\": \"2020-12-31T11:53:12.999539Z\", \"duration\": \"0:00:50\", \"iteration\": \"11\", \"goal\": \"accuracy_max\", \"run_name\": \"RobustScaler, RandomForest\", \"run_properties\": \"copy=True, quantile_range=[25, 75], with_centering=False,\\n             with_scaling=True\", \"primary_metric\": 0.88205128, \"best_metric\": 0.96410256}, {\"run_id\": \"AutoML_77352c12-d25b-4d39-8406-3436e020c60e_12\", \"run_number\": 18, \"metric\": null, \"status\": \"Completed\", \"run_type\": \"azureml.scriptrun\", \"training_percent\": \"100\", \"start_time\": \"2020-12-31T11:54:00.674288Z\", \"end_time\": \"2020-12-31T11:54:39.709807Z\", \"created_time\": \"2020-12-31T11:53:48.971175Z\", \"created_time_dt\": \"2020-12-31T11:53:48.971175Z\", \"duration\": \"0:00:50\", \"iteration\": \"12\", \"goal\": \"accuracy_max\", \"run_name\": \"StandardScalerWrapper, LightGBM\", \"run_properties\": \"<azureml.automl.runtime.shared.model_wrappers.StandardScalerWrapper object at 0x7f9495c90ac8\", \"primary_metric\": 0.82051282, \"best_metric\": 0.96410256}, {\"run_id\": \"AutoML_77352c12-d25b-4d39-8406-3436e020c60e_13\", \"run_number\": 19, \"metric\": null, \"status\": \"Completed\", \"run_type\": \"azureml.scriptrun\", \"training_percent\": \"100\", \"start_time\": \"2020-12-31T11:54:10.00983Z\", \"end_time\": \"2020-12-31T11:54:49.777926Z\", \"created_time\": \"2020-12-31T11:53:58.232688Z\", \"created_time_dt\": \"2020-12-31T11:53:58.232688Z\", \"duration\": \"0:00:51\", \"iteration\": \"13\", \"goal\": \"accuracy_max\", \"run_name\": \"StandardScalerWrapper, LogisticRegression\", \"run_properties\": \"<azureml.automl.runtime.shared.model_wrappers.StandardScalerWrapper object at 0x7f6609ac6f60\", \"primary_metric\": 0.84102564, \"best_metric\": 0.96410256}, {\"run_id\": \"AutoML_77352c12-d25b-4d39-8406-3436e020c60e_14\", \"run_number\": 20, \"metric\": null, \"status\": \"Completed\", \"run_type\": \"azureml.scriptrun\", \"training_percent\": \"100\", \"start_time\": \"2020-12-31T11:54:17.766208Z\", \"end_time\": \"2020-12-31T11:55:08.845074Z\", \"created_time\": \"2020-12-31T11:54:06.058817Z\", \"created_time_dt\": \"2020-12-31T11:54:06.058817Z\", \"duration\": \"0:01:02\", \"iteration\": \"14\", \"goal\": \"accuracy_max\", \"run_name\": \"MaxAbsScaler, LightGBM\", \"run_properties\": \"copy=True\", \"primary_metric\": 0.8974359, \"best_metric\": 0.96410256}, {\"run_id\": \"AutoML_77352c12-d25b-4d39-8406-3436e020c60e_15\", \"run_number\": 21, \"metric\": null, \"status\": \"Completed\", \"run_type\": \"azureml.scriptrun\", \"training_percent\": \"100\", \"start_time\": \"2020-12-31T11:54:23.019187Z\", \"end_time\": \"2020-12-31T11:55:11.699063Z\", \"created_time\": \"2020-12-31T11:54:10.653112Z\", \"created_time_dt\": \"2020-12-31T11:54:10.653112Z\", \"duration\": \"0:01:01\", \"iteration\": \"15\", \"goal\": \"accuracy_max\", \"run_name\": \"MaxAbsScaler, LightGBM\", \"run_properties\": \"copy=True\", \"primary_metric\": 0.9025641, \"best_metric\": 0.96410256}, {\"run_id\": \"AutoML_77352c12-d25b-4d39-8406-3436e020c60e_16\", \"run_number\": 22, \"metric\": null, \"status\": \"Completed\", \"run_type\": \"azureml.scriptrun\", \"training_percent\": \"100\", \"start_time\": \"2020-12-31T11:54:53.919849Z\", \"end_time\": \"2020-12-31T11:55:36.437815Z\", \"created_time\": \"2020-12-31T11:54:41.94114Z\", \"created_time_dt\": \"2020-12-31T11:54:41.94114Z\", \"duration\": \"0:00:54\", \"iteration\": \"16\", \"goal\": \"accuracy_max\", \"run_name\": \"StandardScalerWrapper, LogisticRegression\", \"run_properties\": \"<azureml.automl.runtime.shared.model_wrappers.StandardScalerWrapper object at 0x7f18446e6748\", \"primary_metric\": 0.84102564, \"best_metric\": 0.96410256}, {\"run_id\": \"AutoML_77352c12-d25b-4d39-8406-3436e020c60e_17\", \"run_number\": 23, \"metric\": null, \"status\": \"Completed\", \"run_type\": \"azureml.scriptrun\", \"training_percent\": \"100\", \"start_time\": \"2020-12-31T11:55:03.901595Z\", \"end_time\": \"2020-12-31T11:55:48.136902Z\", \"created_time\": \"2020-12-31T11:54:52.539966Z\", \"created_time_dt\": \"2020-12-31T11:54:52.539966Z\", \"duration\": \"0:00:55\", \"iteration\": \"17\", \"goal\": \"accuracy_max\", \"run_name\": \"MinMaxScaler, LightGBM\", \"run_properties\": \"copy=True, feature_range=(0, 1\", \"primary_metric\": 0.93333333, \"best_metric\": 0.96410256}, {\"run_id\": \"AutoML_77352c12-d25b-4d39-8406-3436e020c60e_18\", \"run_number\": 24, \"metric\": null, \"status\": \"Completed\", \"run_type\": \"azureml.scriptrun\", \"training_percent\": \"100\", \"start_time\": \"2020-12-31T11:55:21.952472Z\", \"end_time\": \"2020-12-31T11:55:58.81554Z\", \"created_time\": \"2020-12-31T11:55:11.357635Z\", \"created_time_dt\": \"2020-12-31T11:55:11.357635Z\", \"duration\": \"0:00:47\", \"iteration\": \"18\", \"goal\": \"accuracy_max\", \"run_name\": \"SparseNormalizer, XGBoostClassifier\", \"run_properties\": \"<azureml.automl.runtime.shared.model_wrappers.SparseNormalizer object at 0x7f943594ab38\", \"primary_metric\": 0.89230769, \"best_metric\": 0.96410256}, {\"run_id\": \"AutoML_77352c12-d25b-4d39-8406-3436e020c60e_19\", \"run_number\": 25, \"metric\": null, \"status\": \"Completed\", \"run_type\": \"azureml.scriptrun\", \"training_percent\": \"100\", \"start_time\": \"2020-12-31T11:55:28.373439Z\", \"end_time\": \"2020-12-31T11:56:11.780075Z\", \"created_time\": \"2020-12-31T11:55:15.357592Z\", \"created_time_dt\": \"2020-12-31T11:55:15.357592Z\", \"duration\": \"0:00:56\", \"iteration\": \"19\", \"goal\": \"accuracy_max\", \"run_name\": \"SparseNormalizer, XGBoostClassifier\", \"run_properties\": \"<azureml.automl.runtime.shared.model_wrappers.SparseNormalizer object at 0x7efd59b13898\", \"primary_metric\": 0.86153846, \"best_metric\": 0.96410256}, {\"run_id\": \"AutoML_77352c12-d25b-4d39-8406-3436e020c60e_20\", \"run_number\": 26, \"metric\": null, \"status\": \"Completed\", \"run_type\": \"azureml.scriptrun\", \"training_percent\": \"100\", \"start_time\": \"2020-12-31T11:55:51.705049Z\", \"end_time\": \"2020-12-31T11:56:34.467533Z\", \"created_time\": \"2020-12-31T11:55:39.333888Z\", \"created_time_dt\": \"2020-12-31T11:55:39.333888Z\", \"duration\": \"0:00:55\", \"iteration\": \"20\", \"goal\": \"accuracy_max\", \"run_name\": \"SparseNormalizer, XGBoostClassifier\", \"run_properties\": \"<azureml.automl.runtime.shared.model_wrappers.SparseNormalizer object at 0x7fdc98063240\", \"primary_metric\": 0.92307692, \"best_metric\": 0.96410256}, {\"run_id\": \"AutoML_77352c12-d25b-4d39-8406-3436e020c60e_21\", \"run_number\": 27, \"metric\": null, \"status\": \"Completed\", \"run_type\": \"azureml.scriptrun\", \"training_percent\": \"100\", \"start_time\": \"2020-12-31T11:56:02.336572Z\", \"end_time\": \"2020-12-31T11:56:39.932265Z\", \"created_time\": \"2020-12-31T11:55:50.387141Z\", \"created_time_dt\": \"2020-12-31T11:55:50.387141Z\", \"duration\": \"0:00:49\", \"iteration\": \"21\", \"goal\": \"accuracy_max\", \"run_name\": \"SparseNormalizer, XGBoostClassifier\", \"run_properties\": \"<azureml.automl.runtime.shared.model_wrappers.SparseNormalizer object at 0x7fa549467ef0\", \"primary_metric\": 0.94358974, \"best_metric\": 0.96410256}, {\"run_id\": \"AutoML_77352c12-d25b-4d39-8406-3436e020c60e_22\", \"run_number\": 28, \"metric\": null, \"status\": \"Completed\", \"run_type\": \"azureml.scriptrun\", \"training_percent\": \"100\", \"start_time\": \"2020-12-31T11:56:13.029382Z\", \"end_time\": \"2020-12-31T11:56:58.785306Z\", \"created_time\": \"2020-12-31T11:56:00.833927Z\", \"created_time_dt\": \"2020-12-31T11:56:00.833927Z\", \"duration\": \"0:00:57\", \"iteration\": \"22\", \"goal\": \"accuracy_max\", \"run_name\": \"SparseNormalizer, XGBoostClassifier\", \"run_properties\": \"<azureml.automl.runtime.shared.model_wrappers.SparseNormalizer object at 0x7f0b58659860\", \"primary_metric\": 0.95384615, \"best_metric\": 0.96410256}, {\"run_id\": \"AutoML_77352c12-d25b-4d39-8406-3436e020c60e_23\", \"run_number\": 29, \"metric\": null, \"status\": \"Completed\", \"run_type\": \"azureml.scriptrun\", \"training_percent\": \"100\", \"start_time\": \"2020-12-31T11:56:25.958704Z\", \"end_time\": \"2020-12-31T11:57:11.417233Z\", \"created_time\": \"2020-12-31T11:56:14.447122Z\", \"created_time_dt\": \"2020-12-31T11:56:14.447122Z\", \"duration\": \"0:00:56\", \"iteration\": \"23\", \"goal\": \"accuracy_max\", \"run_name\": \"StandardScalerWrapper, XGBoostClassifier\", \"run_properties\": \"<azureml.automl.runtime.shared.model_wrappers.StandardScalerWrapper object at 0x7fd2d61eca58\", \"primary_metric\": 0.90769231, \"best_metric\": 0.96410256}, {\"run_id\": \"AutoML_77352c12-d25b-4d39-8406-3436e020c60e_24\", \"run_number\": 30, \"metric\": null, \"status\": \"Completed\", \"run_type\": \"azureml.scriptrun\", \"training_percent\": \"100\", \"start_time\": \"2020-12-31T11:56:47.217856Z\", \"end_time\": \"2020-12-31T11:57:27.706519Z\", \"created_time\": \"2020-12-31T11:56:36.745435Z\", \"created_time_dt\": \"2020-12-31T11:56:36.745435Z\", \"duration\": \"0:00:50\", \"iteration\": \"24\", \"goal\": \"accuracy_max\", \"run_name\": \"StandardScalerWrapper, LightGBM\", \"run_properties\": \"<azureml.automl.runtime.shared.model_wrappers.StandardScalerWrapper object at 0x7f511c177978\", \"primary_metric\": 0.87179487, \"best_metric\": 0.96410256}, {\"run_id\": \"AutoML_77352c12-d25b-4d39-8406-3436e020c60e_25\", \"run_number\": 31, \"metric\": null, \"status\": \"Completed\", \"run_type\": \"azureml.scriptrun\", \"training_percent\": \"100\", \"start_time\": \"2020-12-31T11:56:54.253625Z\", \"end_time\": \"2020-12-31T11:57:33.33187Z\", \"created_time\": \"2020-12-31T11:56:42.883408Z\", \"created_time_dt\": \"2020-12-31T11:56:42.883408Z\", \"duration\": \"0:00:50\", \"iteration\": \"25\", \"goal\": \"accuracy_max\", \"run_name\": \"TruncatedSVDWrapper, LightGBM\", \"run_properties\": \"n_components=0.7521052631578947, random_state=None\", \"primary_metric\": 0.88717949, \"best_metric\": 0.96410256}, {\"run_id\": \"AutoML_77352c12-d25b-4d39-8406-3436e020c60e_26\", \"run_number\": 32, \"metric\": null, \"status\": \"Completed\", \"run_type\": \"azureml.scriptrun\", \"training_percent\": \"100\", \"start_time\": \"2020-12-31T11:57:13.34042Z\", \"end_time\": \"2020-12-31T11:57:50.469089Z\", \"created_time\": \"2020-12-31T11:57:01.01048Z\", \"created_time_dt\": \"2020-12-31T11:57:01.01048Z\", \"duration\": \"0:00:49\", \"iteration\": \"26\", \"goal\": \"accuracy_max\", \"run_name\": \"SparseNormalizer, XGBoostClassifier\", \"run_properties\": \"<azureml.automl.runtime.shared.model_wrappers.SparseNormalizer object at 0x7f53992d4c88\", \"primary_metric\": 0.91282051, \"best_metric\": 0.96410256}, {\"run_id\": \"AutoML_77352c12-d25b-4d39-8406-3436e020c60e_27\", \"run_number\": 33, \"metric\": null, \"status\": \"Completed\", \"run_type\": \"azureml.scriptrun\", \"training_percent\": \"100\", \"start_time\": \"2020-12-31T11:57:27.017007Z\", \"end_time\": \"2020-12-31T11:58:11.280473Z\", \"created_time\": \"2020-12-31T11:57:14.069704Z\", \"created_time_dt\": \"2020-12-31T11:57:14.069704Z\", \"duration\": \"0:00:57\", \"iteration\": \"27\", \"goal\": \"accuracy_max\", \"run_name\": \"SparseNormalizer, ExtremeRandomTrees\", \"run_properties\": \"<azureml.automl.runtime.shared.model_wrappers.SparseNormalizer object at 0x7f6494a88358\", \"primary_metric\": 0.86153846, \"best_metric\": 0.96410256}, {\"run_id\": \"AutoML_77352c12-d25b-4d39-8406-3436e020c60e_28\", \"run_number\": 34, \"metric\": null, \"status\": \"Completed\", \"run_type\": \"azureml.scriptrun\", \"training_percent\": \"100\", \"start_time\": \"2020-12-31T11:57:42.714169Z\", \"end_time\": \"2020-12-31T11:58:22.55377Z\", \"created_time\": \"2020-12-31T11:57:29.966626Z\", \"created_time_dt\": \"2020-12-31T11:57:29.966626Z\", \"duration\": \"0:00:52\", \"iteration\": \"28\", \"goal\": \"accuracy_max\", \"run_name\": \"MaxAbsScaler, ExtremeRandomTrees\", \"run_properties\": \"copy=True\", \"primary_metric\": 0.84102564, \"best_metric\": 0.96410256}, {\"run_id\": \"AutoML_77352c12-d25b-4d39-8406-3436e020c60e_29\", \"run_number\": 35, \"metric\": null, \"status\": \"Completed\", \"run_type\": \"azureml.scriptrun\", \"training_percent\": \"100\", \"start_time\": \"2020-12-31T11:57:49.976073Z\", \"end_time\": \"2020-12-31T11:58:31.555699Z\", \"created_time\": \"2020-12-31T11:57:35.963228Z\", \"created_time_dt\": \"2020-12-31T11:57:35.963228Z\", \"duration\": \"0:00:55\", \"iteration\": \"29\", \"goal\": \"accuracy_max\", \"run_name\": \"StandardScalerWrapper, RandomForest\", \"run_properties\": \"<azureml.automl.runtime.shared.model_wrappers.StandardScalerWrapper object at 0x7f2f21119ba8\", \"primary_metric\": 0.84615385, \"best_metric\": 0.96410256}, {\"run_id\": \"AutoML_77352c12-d25b-4d39-8406-3436e020c60e_30\", \"run_number\": 36, \"metric\": null, \"status\": \"Completed\", \"run_type\": \"azureml.scriptrun\", \"training_percent\": \"100\", \"start_time\": \"2020-12-31T11:58:06.644217Z\", \"end_time\": \"2020-12-31T11:58:55.667547Z\", \"created_time\": \"2020-12-31T11:57:53.711469Z\", \"created_time_dt\": \"2020-12-31T11:57:53.711469Z\", \"duration\": \"0:01:01\", \"iteration\": \"30\", \"goal\": \"accuracy_max\", \"run_name\": \"StandardScalerWrapper, LightGBM\", \"run_properties\": \"<azureml.automl.runtime.shared.model_wrappers.StandardScalerWrapper object at 0x7f2754fc5da0\", \"primary_metric\": 0.84102564, \"best_metric\": 0.96410256}, {\"run_id\": \"AutoML_77352c12-d25b-4d39-8406-3436e020c60e_31\", \"run_number\": 37, \"metric\": null, \"status\": \"Completed\", \"run_type\": \"azureml.scriptrun\", \"training_percent\": \"100\", \"start_time\": \"2020-12-31T11:58:24.287741Z\", \"end_time\": \"2020-12-31T11:59:08.909899Z\", \"created_time\": \"2020-12-31T11:58:13.634954Z\", \"created_time_dt\": \"2020-12-31T11:58:13.634954Z\", \"duration\": \"0:00:55\", \"iteration\": \"31\", \"goal\": \"accuracy_max\", \"run_name\": \"RobustScaler, ExtremeRandomTrees\", \"run_properties\": \"copy=True, quantile_range=[10, 90], with_centering=True,\\n             with_scaling=False\", \"primary_metric\": 0.88717949, \"best_metric\": 0.96410256}, {\"run_id\": \"AutoML_77352c12-d25b-4d39-8406-3436e020c60e_32\", \"run_number\": 38, \"metric\": null, \"status\": \"Completed\", \"run_type\": \"azureml.scriptrun\", \"training_percent\": \"100\", \"start_time\": \"2020-12-31T11:58:37.043082Z\", \"end_time\": \"2020-12-31T11:59:17.080892Z\", \"created_time\": \"2020-12-31T11:58:24.714038Z\", \"created_time_dt\": \"2020-12-31T11:58:24.714038Z\", \"duration\": \"0:00:52\", \"iteration\": \"32\", \"goal\": \"accuracy_max\", \"run_name\": \"SparseNormalizer, XGBoostClassifier\", \"run_properties\": \"<azureml.automl.runtime.shared.model_wrappers.SparseNormalizer object at 0x7f59c03772b0\", \"primary_metric\": 0.89230769, \"best_metric\": 0.96410256}, {\"run_id\": \"AutoML_77352c12-d25b-4d39-8406-3436e020c60e_33\", \"run_number\": 39, \"metric\": null, \"status\": \"Completed\", \"run_type\": \"azureml.scriptrun\", \"training_percent\": \"100\", \"start_time\": \"2020-12-31T11:58:45.638532Z\", \"end_time\": \"2020-12-31T11:59:25.5801Z\", \"created_time\": \"2020-12-31T11:58:33.83288Z\", \"created_time_dt\": \"2020-12-31T11:58:33.83288Z\", \"duration\": \"0:00:51\", \"iteration\": \"33\", \"goal\": \"accuracy_max\", \"run_name\": \"SparseNormalizer, XGBoostClassifier\", \"run_properties\": \"<azureml.automl.runtime.shared.model_wrappers.SparseNormalizer object at 0x7fe754084160\", \"primary_metric\": 0.93846154, \"best_metric\": 0.96410256}, {\"run_id\": \"AutoML_77352c12-d25b-4d39-8406-3436e020c60e_34\", \"run_number\": 40, \"metric\": null, \"status\": \"Completed\", \"run_type\": \"azureml.scriptrun\", \"training_percent\": \"100\", \"start_time\": \"2020-12-31T11:59:10.016281Z\", \"end_time\": \"2020-12-31T11:59:44.767069Z\", \"created_time\": \"2020-12-31T11:58:57.930924Z\", \"created_time_dt\": \"2020-12-31T11:58:57.930924Z\", \"duration\": \"0:00:46\", \"iteration\": \"34\", \"goal\": \"accuracy_max\", \"run_name\": \"SparseNormalizer, XGBoostClassifier\", \"run_properties\": \"<azureml.automl.runtime.shared.model_wrappers.SparseNormalizer object at 0x7fb2b1744da0\", \"primary_metric\": 0.93333333, \"best_metric\": 0.96410256}, {\"run_id\": \"AutoML_77352c12-d25b-4d39-8406-3436e020c60e_35\", \"run_number\": 41, \"metric\": null, \"status\": \"Completed\", \"run_type\": \"azureml.scriptrun\", \"training_percent\": \"100\", \"start_time\": \"2020-12-31T11:59:24.379807Z\", \"end_time\": \"2020-12-31T12:00:07.189542Z\", \"created_time\": \"2020-12-31T11:59:12.078255Z\", \"created_time_dt\": \"2020-12-31T11:59:12.078255Z\", \"duration\": \"0:00:55\", \"iteration\": \"35\", \"goal\": \"accuracy_max\", \"run_name\": \"SparseNormalizer, LightGBM\", \"run_properties\": \"<azureml.automl.runtime.shared.model_wrappers.SparseNormalizer object at 0x7f7c111afe48\", \"primary_metric\": 0.88717949, \"best_metric\": 0.96410256}, {\"run_id\": \"AutoML_77352c12-d25b-4d39-8406-3436e020c60e_36\", \"run_number\": 42, \"metric\": null, \"status\": \"Completed\", \"run_type\": \"azureml.scriptrun\", \"training_percent\": \"100\", \"start_time\": \"2020-12-31T11:59:30.748324Z\", \"end_time\": \"2020-12-31T12:00:13.177077Z\", \"created_time\": \"2020-12-31T11:59:19.25603Z\", \"created_time_dt\": \"2020-12-31T11:59:19.25603Z\", \"duration\": \"0:00:53\", \"iteration\": \"36\", \"goal\": \"accuracy_max\", \"run_name\": \"SparseNormalizer, XGBoostClassifier\", \"run_properties\": \"<azureml.automl.runtime.shared.model_wrappers.SparseNormalizer object at 0x7f64e247de48\", \"primary_metric\": 0.93333333, \"best_metric\": 0.96410256}, {\"run_id\": \"AutoML_77352c12-d25b-4d39-8406-3436e020c60e_37\", \"run_number\": 43, \"metric\": null, \"status\": \"Completed\", \"run_type\": \"azureml.scriptrun\", \"training_percent\": \"100\", \"start_time\": \"2020-12-31T11:59:39.932497Z\", \"end_time\": \"2020-12-31T12:00:25.390986Z\", \"created_time\": \"2020-12-31T11:59:27.8326Z\", \"created_time_dt\": \"2020-12-31T11:59:27.8326Z\", \"duration\": \"0:00:57\", \"iteration\": \"37\", \"goal\": \"accuracy_max\", \"run_name\": \"SparseNormalizer, XGBoostClassifier\", \"run_properties\": \"<azureml.automl.runtime.shared.model_wrappers.SparseNormalizer object at 0x7fbb9cb41b70\", \"primary_metric\": 0.93846154, \"best_metric\": 0.96410256}, {\"run_id\": \"AutoML_77352c12-d25b-4d39-8406-3436e020c60e_38\", \"run_number\": 44, \"metric\": null, \"status\": \"Completed\", \"run_type\": \"azureml.scriptrun\", \"training_percent\": \"100\", \"start_time\": \"2020-12-31T12:00:02.58344Z\", \"end_time\": \"2020-12-31T12:00:57.439162Z\", \"created_time\": \"2020-12-31T11:59:49.107432Z\", \"created_time_dt\": \"2020-12-31T11:59:49.107432Z\", \"duration\": \"0:01:08\", \"iteration\": \"38\", \"goal\": \"accuracy_max\", \"run_name\": \"MinMaxScaler, ExtremeRandomTrees\", \"run_properties\": \"copy=True, feature_range=(0, 1\", \"primary_metric\": 0.94871795, \"best_metric\": 0.96410256}, {\"run_id\": \"AutoML_77352c12-d25b-4d39-8406-3436e020c60e_39\", \"run_number\": 45, \"metric\": null, \"status\": \"Completed\", \"run_type\": \"azureml.scriptrun\", \"training_percent\": \"100\", \"start_time\": \"2020-12-31T12:00:20.513011Z\", \"end_time\": \"2020-12-31T12:01:11.850372Z\", \"created_time\": \"2020-12-31T12:00:09.402906Z\", \"created_time_dt\": \"2020-12-31T12:00:09.402906Z\", \"duration\": \"0:01:02\", \"iteration\": \"39\", \"goal\": \"accuracy_max\", \"run_name\": \"SparseNormalizer, XGBoostClassifier\", \"run_properties\": \"<azureml.automl.runtime.shared.model_wrappers.SparseNormalizer object at 0x7fe9046285f8\", \"primary_metric\": 0.9025641, \"best_metric\": 0.96410256}, {\"run_id\": \"AutoML_77352c12-d25b-4d39-8406-3436e020c60e_40\", \"run_number\": 46, \"metric\": null, \"status\": \"Completed\", \"run_type\": \"azureml.scriptrun\", \"training_percent\": \"100\", \"start_time\": \"2020-12-31T12:00:28.390454Z\", \"end_time\": \"2020-12-31T12:01:18.914069Z\", \"created_time\": \"2020-12-31T12:00:17.072718Z\", \"created_time_dt\": \"2020-12-31T12:00:17.072718Z\", \"duration\": \"0:01:01\", \"iteration\": \"40\", \"goal\": \"accuracy_max\", \"run_name\": \"RobustScaler, LightGBM\", \"run_properties\": \"copy=True, quantile_range=[25, 75], with_centering=True,\\n             with_scaling=True\", \"primary_metric\": 0.93846154, \"best_metric\": 0.96410256}, {\"run_id\": \"AutoML_77352c12-d25b-4d39-8406-3436e020c60e_41\", \"run_number\": 47, \"metric\": null, \"status\": \"Completed\", \"run_type\": \"azureml.scriptrun\", \"training_percent\": \"100\", \"start_time\": \"2020-12-31T12:00:44.474059Z\", \"end_time\": \"2020-12-31T12:01:36.33941Z\", \"created_time\": \"2020-12-31T12:00:29.449972Z\", \"created_time_dt\": \"2020-12-31T12:00:29.449972Z\", \"duration\": \"0:01:06\", \"iteration\": \"41\", \"goal\": \"accuracy_max\", \"run_name\": \"SparseNormalizer, XGBoostClassifier\", \"run_properties\": \"<azureml.automl.runtime.shared.model_wrappers.SparseNormalizer object at 0x7fab273ca4a8\", \"primary_metric\": 0.93333333, \"best_metric\": 0.96410256}, {\"run_id\": \"AutoML_77352c12-d25b-4d39-8406-3436e020c60e_42\", \"run_number\": 48, \"metric\": null, \"status\": \"Completed\", \"run_type\": \"azureml.scriptrun\", \"training_percent\": \"100\", \"start_time\": \"2020-12-31T12:01:11.725902Z\", \"end_time\": \"2020-12-31T12:01:51.675776Z\", \"created_time\": \"2020-12-31T12:00:59.610941Z\", \"created_time_dt\": \"2020-12-31T12:00:59.610941Z\", \"duration\": \"0:00:52\", \"iteration\": \"42\", \"goal\": \"accuracy_max\", \"run_name\": \"SparseNormalizer, XGBoostClassifier\", \"run_properties\": \"<azureml.automl.runtime.shared.model_wrappers.SparseNormalizer object at 0x7f432c0e1ba8\", \"primary_metric\": 0.94358974, \"best_metric\": 0.96410256}, {\"run_id\": \"AutoML_77352c12-d25b-4d39-8406-3436e020c60e_43\", \"run_number\": 49, \"metric\": null, \"status\": \"Completed\", \"run_type\": \"azureml.scriptrun\", \"training_percent\": \"100\", \"start_time\": \"2020-12-31T12:01:25.308471Z\", \"end_time\": \"2020-12-31T12:02:10.109492Z\", \"created_time\": \"2020-12-31T12:01:14.399469Z\", \"created_time_dt\": \"2020-12-31T12:01:14.399469Z\", \"duration\": \"0:00:55\", \"iteration\": \"43\", \"goal\": \"accuracy_max\", \"run_name\": \"SparseNormalizer, XGBoostClassifier\", \"run_properties\": \"<azureml.automl.runtime.shared.model_wrappers.SparseNormalizer object at 0x7f9085a3c470\", \"primary_metric\": 0.92307692, \"best_metric\": 0.96410256}, {\"run_id\": \"AutoML_77352c12-d25b-4d39-8406-3436e020c60e_44\", \"run_number\": 50, \"metric\": null, \"status\": \"Completed\", \"run_type\": \"azureml.scriptrun\", \"training_percent\": \"100\", \"start_time\": \"2020-12-31T12:01:32.806267Z\", \"end_time\": \"2020-12-31T12:02:13.041295Z\", \"created_time\": \"2020-12-31T12:01:21.134515Z\", \"created_time_dt\": \"2020-12-31T12:01:21.134515Z\", \"duration\": \"0:00:51\", \"iteration\": \"44\", \"goal\": \"accuracy_max\", \"run_name\": \"StandardScalerWrapper, LightGBM\", \"run_properties\": \"<azureml.automl.runtime.shared.model_wrappers.StandardScalerWrapper object at 0x7ff784c3a748\", \"primary_metric\": 0.92307692, \"best_metric\": 0.96410256}, {\"run_id\": \"AutoML_77352c12-d25b-4d39-8406-3436e020c60e_45\", \"run_number\": 51, \"metric\": null, \"status\": \"Completed\", \"run_type\": \"azureml.scriptrun\", \"training_percent\": \"100\", \"start_time\": \"2020-12-31T12:01:51.602784Z\", \"end_time\": \"2020-12-31T12:02:31.314759Z\", \"created_time\": \"2020-12-31T12:01:39.498707Z\", \"created_time_dt\": \"2020-12-31T12:01:39.498707Z\", \"duration\": \"0:00:51\", \"iteration\": \"45\", \"goal\": \"accuracy_max\", \"run_name\": \"PCA, LightGBM\", \"run_properties\": \"copy=True, iterated_power='auto', n_components=0.10894736842105263,\\n    random_state=None, svd_solver='auto', tol=0.0, whiten=True\", \"primary_metric\": 0.74358974, \"best_metric\": 0.96410256}, {\"run_id\": \"AutoML_77352c12-d25b-4d39-8406-3436e020c60e_46\", \"run_number\": 52, \"metric\": null, \"status\": \"Completed\", \"run_type\": \"azureml.scriptrun\", \"training_percent\": \"100\", \"start_time\": \"2020-12-31T12:02:06.0142Z\", \"end_time\": \"2020-12-31T12:02:44.344671Z\", \"created_time\": \"2020-12-31T12:01:53.990981Z\", \"created_time_dt\": \"2020-12-31T12:01:53.990981Z\", \"duration\": \"0:00:50\", \"iteration\": \"46\", \"goal\": \"accuracy_max\", \"run_name\": \"SparseNormalizer, XGBoostClassifier\", \"run_properties\": \"<azureml.automl.runtime.shared.model_wrappers.SparseNormalizer object at 0x7fb6218fc208\", \"primary_metric\": 0.92820513, \"best_metric\": 0.96410256}, {\"run_id\": \"AutoML_77352c12-d25b-4d39-8406-3436e020c60e_47\", \"run_number\": 53, \"metric\": null, \"status\": \"Completed\", \"run_type\": \"azureml.scriptrun\", \"training_percent\": \"100\", \"start_time\": \"2020-12-31T12:02:23.842811Z\", \"end_time\": \"2020-12-31T12:03:02.322164Z\", \"created_time\": \"2020-12-31T12:02:12.590906Z\", \"created_time_dt\": \"2020-12-31T12:02:12.590906Z\", \"duration\": \"0:00:49\", \"iteration\": \"47\", \"goal\": \"accuracy_max\", \"run_name\": \"SparseNormalizer, XGBoostClassifier\", \"run_properties\": \"<azureml.automl.runtime.shared.model_wrappers.SparseNormalizer object at 0x7f26c00e9828\", \"primary_metric\": 0.92307692, \"best_metric\": 0.96410256}, {\"run_id\": \"AutoML_77352c12-d25b-4d39-8406-3436e020c60e_48\", \"run_number\": 54, \"metric\": null, \"status\": \"Completed\", \"run_type\": \"azureml.scriptrun\", \"training_percent\": \"100\", \"start_time\": \"2020-12-31T12:02:27.76444Z\", \"end_time\": \"2020-12-31T12:03:06.746951Z\", \"created_time\": \"2020-12-31T12:02:16.969663Z\", \"created_time_dt\": \"2020-12-31T12:02:16.969663Z\", \"duration\": \"0:00:49\", \"iteration\": \"48\", \"goal\": \"accuracy_max\", \"run_name\": \"SparseNormalizer, XGBoostClassifier\", \"run_properties\": \"<azureml.automl.runtime.shared.model_wrappers.SparseNormalizer object at 0x7fa718da67b8\", \"primary_metric\": 0.92307692, \"best_metric\": 0.96410256}, {\"run_id\": \"AutoML_77352c12-d25b-4d39-8406-3436e020c60e_49\", \"run_number\": 55, \"metric\": null, \"status\": \"Completed\", \"run_type\": \"azureml.scriptrun\", \"training_percent\": \"100\", \"start_time\": \"2020-12-31T12:02:46.397327Z\", \"end_time\": \"2020-12-31T12:03:29.042575Z\", \"created_time\": \"2020-12-31T12:02:34.643062Z\", \"created_time_dt\": \"2020-12-31T12:02:34.643062Z\", \"duration\": \"0:00:54\", \"iteration\": \"49\", \"goal\": \"accuracy_max\", \"run_name\": \"RobustScaler, ExtremeRandomTrees\", \"run_properties\": \"copy=True, quantile_range=[25, 75], with_centering=True,\\n             with_scaling=False\", \"primary_metric\": 0.88205128, \"best_metric\": 0.96410256}, {\"run_id\": \"AutoML_77352c12-d25b-4d39-8406-3436e020c60e_50\", \"run_number\": 56, \"metric\": null, \"status\": \"Canceled\", \"run_type\": \"azureml.scriptrun\", \"training_percent\": \"100\", \"start_time\": \"2020-12-31T12:03:00.262018Z\", \"end_time\": \"2020-12-31T12:03:38.069739Z\", \"created_time\": \"2020-12-31T12:02:48.713946Z\", \"created_time_dt\": \"2020-12-31T12:02:48.713946Z\", \"duration\": \"0:00:49\", \"iteration\": \"50\", \"goal\": \"accuracy_max\", \"run_name\": \"TruncatedSVDWrapper, LightGBM\", \"run_properties\": \"n_components=0.95, random_state=None\", \"primary_metric\": 0.89230769, \"best_metric\": 0.96410256}, {\"run_id\": \"AutoML_77352c12-d25b-4d39-8406-3436e020c60e_51\", \"run_number\": 57, \"metric\": null, \"status\": \"Canceled\", \"run_type\": \"azureml.scriptrun\", \"training_percent\": \"100\", \"start_time\": \"2020-12-31T12:03:16.942323Z\", \"end_time\": \"2020-12-31T12:03:39.473376Z\", \"created_time\": \"2020-12-31T12:03:05.591665Z\", \"created_time_dt\": \"2020-12-31T12:03:05.591665Z\", \"duration\": \"0:00:33\", \"iteration\": \"51\", \"goal\": null, \"run_name\": \"Canceled\", \"run_properties\": null}, {\"run_id\": \"AutoML_77352c12-d25b-4d39-8406-3436e020c60e_52\", \"run_number\": 58, \"metric\": null, \"status\": \"Canceled\", \"run_type\": \"azureml.scriptrun\", \"training_percent\": \"100\", \"start_time\": \"2020-12-31T12:03:26.137338Z\", \"end_time\": \"2020-12-31T12:03:38.604157Z\", \"created_time\": \"2020-12-31T12:03:10.880616Z\", \"created_time_dt\": \"2020-12-31T12:03:10.880616Z\", \"duration\": \"0:00:27\", \"iteration\": \"52\", \"goal\": null, \"run_name\": \"Canceled\", \"run_properties\": null}, {\"run_id\": \"AutoML_77352c12-d25b-4d39-8406-3436e020c60e_54\", \"run_number\": 59, \"metric\": null, \"status\": \"Completed\", \"run_type\": \"azureml.scriptrun\", \"training_percent\": \"100\", \"start_time\": \"2020-12-31T12:03:54.284742Z\", \"end_time\": \"2020-12-31T12:05:31.801727Z\", \"created_time\": \"2020-12-31T12:03:42.135926Z\", \"created_time_dt\": \"2020-12-31T12:03:42.135926Z\", \"duration\": \"0:01:49\", \"iteration\": \"54\", \"goal\": \"accuracy_max\", \"run_name\": \"StackEnsemble\", \"run_properties\": \"base_learners=[('7',\\n                                        Pipeline(memory=None,\\n                                                 steps=[('minmaxscaler',\\n                                                         MinMaxScaler(copy=True,\\n                                                                      feature_range=(0,\\n                                                                                     1\", \"primary_metric\": 0.95384615, \"best_metric\": 0.97435897}, {\"run_id\": \"AutoML_77352c12-d25b-4d39-8406-3436e020c60e_53\", \"run_number\": 60, \"metric\": null, \"status\": \"Completed\", \"run_type\": \"azureml.scriptrun\", \"training_percent\": \"100\", \"start_time\": \"2020-12-31T12:03:54.534793Z\", \"end_time\": \"2020-12-31T12:05:33.096943Z\", \"created_time\": \"2020-12-31T12:03:42.251011Z\", \"created_time_dt\": \"2020-12-31T12:03:42.251011Z\", \"duration\": \"0:01:50\", \"iteration\": \"53\", \"goal\": \"accuracy_max\", \"run_name\": \"VotingEnsemble\", \"run_properties\": \"classification_labels=None,\\n                              estimators=[('7',\\n                                           Pipeline(memory=None,\\n                                                    steps=[('minmaxscaler',\\n                                                            MinMaxScaler(copy=True,\\n                                                                         feature_range=(0,\\n                                                                                        1\", \"primary_metric\": 0.97435897, \"best_metric\": 0.97435897}], \"children_metrics\": {\"categories\": [0], \"series\": {\"average_precision_score_weighted\": [{\"categories\": [\"0\", \"1\", \"2\", \"3\", \"4\", \"5\", \"6\", \"7\", \"8\", \"9\", \"10\", \"11\", \"12\", \"13\", \"14\", \"15\", \"16\", \"17\", \"18\", \"19\", \"20\", \"21\", \"22\", \"23\", \"24\", \"25\", \"26\", \"27\", \"28\", \"29\", \"30\", \"31\", \"32\", \"33\", \"34\", \"35\", \"36\", \"37\", \"38\", \"39\", \"40\", \"41\", \"42\", \"43\", \"44\", \"45\", \"46\", \"47\", \"48\", \"49\", \"50\", \"53\", \"54\"], \"mode\": \"markers\", \"name\": \"average_precision_score_weighted\", \"stepped\": false, \"type\": \"scatter\", \"data\": [0.9950476709071372, 0.9958508468385183, 0.9721742074250483, 0.951087417156689, 0.9790763018279414, 0.9815192051666239, 0.9872962431490425, 0.9889112217717863, 0.9732545863272797, 0.9815555433300706, 0.9616617539016111, 0.967763072620143, 0.9693987421441351, 0.933905536431654, 0.9696363180721723, 0.9683395703468884, 0.933445624237866, 0.9804991226172894, 0.9601495123584197, 0.9214261282926841, 0.9579440072441263, 0.983950288852823, 0.970104078302127, 0.969103585996753, 0.9572863907140908, 0.9514526160140446, 0.9754101268138149, 0.9608804795472597, 0.9404032013651087, 0.9450972543137807, 0.9692500672784196, 0.965284318715186, 0.9547252655297875, 0.969629473552191, 0.967860706218352, 0.9457698083318284, 0.9786533061972014, 0.966872062610611, 0.9887753427399586, 0.9669382696729478, 0.9850541295112756, 0.9677527019626613, 0.9745516938751612, 0.9664317509994202, 0.9794774754370529, 0.807255614370278, 0.9705133736582227, 0.9702178915788849, 0.9652968189864817, 0.9562251942533943, 0.9711245243521265, 0.9980011759447244, 0.9967427688798655]}, {\"categories\": [\"0\", \"1\", \"2\", \"3\", \"4\", \"5\", \"6\", \"7\", \"8\", \"9\", \"10\", \"11\", \"12\", \"13\", \"14\", \"15\", \"16\", \"17\", \"18\", \"19\", \"20\", \"21\", \"22\", \"23\", \"24\", \"25\", \"26\", \"27\", \"28\", \"29\", \"30\", \"31\", \"32\", \"33\", \"34\", \"35\", \"36\", \"37\", \"38\", \"39\", \"40\", \"41\", \"42\", \"43\", \"44\", \"45\", \"46\", \"47\", \"48\", \"49\", \"50\", \"53\", \"54\"], \"mode\": \"lines\", \"name\": \"average_precision_score_weighted_max\", \"stepped\": true, \"type\": \"scatter\", \"data\": [0.9950476709071372, 0.9958508468385183, 0.9958508468385183, 0.9958508468385183, 0.9958508468385183, 0.9958508468385183, 0.9958508468385183, 0.9958508468385183, 0.9958508468385183, 0.9958508468385183, 0.9958508468385183, 0.9958508468385183, 0.9958508468385183, 0.9958508468385183, 0.9958508468385183, 0.9958508468385183, 0.9958508468385183, 0.9958508468385183, 0.9958508468385183, 0.9958508468385183, 0.9958508468385183, 0.9958508468385183, 0.9958508468385183, 0.9958508468385183, 0.9958508468385183, 0.9958508468385183, 0.9958508468385183, 0.9958508468385183, 0.9958508468385183, 0.9958508468385183, 0.9958508468385183, 0.9958508468385183, 0.9958508468385183, 0.9958508468385183, 0.9958508468385183, 0.9958508468385183, 0.9958508468385183, 0.9958508468385183, 0.9958508468385183, 0.9958508468385183, 0.9958508468385183, 0.9958508468385183, 0.9958508468385183, 0.9958508468385183, 0.9958508468385183, 0.9958508468385183, 0.9958508468385183, 0.9958508468385183, 0.9958508468385183, 0.9958508468385183, 0.9958508468385183, 0.9980011759447244, 0.9980011759447244]}], \"log_loss\": [{\"categories\": [\"0\", \"1\", \"2\", \"3\", \"4\", \"5\", \"6\", \"7\", \"8\", \"9\", \"10\", \"11\", \"12\", \"13\", \"14\", \"15\", \"16\", \"17\", \"18\", \"19\", \"20\", \"21\", \"22\", \"23\", \"24\", \"25\", \"26\", \"27\", \"28\", \"29\", \"30\", \"31\", \"32\", \"33\", \"34\", \"35\", \"36\", \"37\", \"38\", \"39\", \"40\", \"41\", \"42\", \"43\", \"44\", \"45\", \"46\", \"47\", \"48\", \"49\", \"50\", \"53\", \"54\"], \"mode\": \"markers\", \"name\": \"log_loss\", \"stepped\": false, \"type\": \"scatter\", \"data\": [0.09697701271279814, 0.1254761327246973, 0.23654611661560815, 0.2661235873950755, 0.21405463846632214, 0.2181325448061339, 0.18071026256385508, 0.12730365938797214, 0.18944367561705783, 0.17069630858165902, 0.24551761768669236, 0.2598973459766741, 0.3823605385555826, 0.3157952292861249, 0.2900093626109266, 0.2979152450927026, 0.31792395930042006, 0.23665734921247045, 0.3960233046090945, 0.407662728191286, 0.3674592770456023, 0.3202055996853156, 0.18745247979300236, 0.36618167598794893, 0.35278693463079985, 0.31783637041247803, 0.22115290630162496, 0.3065575229075095, 0.36553727380096956, 0.33915481054509977, 0.3332116865000398, 0.2811717312918848, 0.2850550111999877, 0.2188002188388393, 0.20536412515879493, 0.27261847894980795, 0.18874612146008998, 0.2174354387223052, 0.2093344537210573, 0.2496695855356157, 0.17969068112848904, 0.20893664580303128, 0.18153763888831378, 0.23474177500720464, 0.20035315457276984, 0.4714950323573407, 0.19597826751263472, 0.19677748676782247, 0.22245705549967595, 0.28840575708229776, 0.27421951761641117, 0.13622604664445498, 0.13163881923383425]}, {\"categories\": [\"0\", \"1\", \"2\", \"3\", \"4\", \"5\", \"6\", \"7\", \"8\", \"9\", \"10\", \"11\", \"12\", \"13\", \"14\", \"15\", \"16\", \"17\", \"18\", \"19\", \"20\", \"21\", \"22\", \"23\", \"24\", \"25\", \"26\", \"27\", \"28\", \"29\", \"30\", \"31\", \"32\", \"33\", \"34\", \"35\", \"36\", \"37\", \"38\", \"39\", \"40\", \"41\", \"42\", \"43\", \"44\", \"45\", \"46\", \"47\", \"48\", \"49\", \"50\", \"53\", \"54\"], \"mode\": \"lines\", \"name\": \"log_loss_min\", \"stepped\": true, \"type\": \"scatter\", \"data\": [0.09697701271279814, 0.09697701271279814, 0.09697701271279814, 0.09697701271279814, 0.09697701271279814, 0.09697701271279814, 0.09697701271279814, 0.09697701271279814, 0.09697701271279814, 0.09697701271279814, 0.09697701271279814, 0.09697701271279814, 0.09697701271279814, 0.09697701271279814, 0.09697701271279814, 0.09697701271279814, 0.09697701271279814, 0.09697701271279814, 0.09697701271279814, 0.09697701271279814, 0.09697701271279814, 0.09697701271279814, 0.09697701271279814, 0.09697701271279814, 0.09697701271279814, 0.09697701271279814, 0.09697701271279814, 0.09697701271279814, 0.09697701271279814, 0.09697701271279814, 0.09697701271279814, 0.09697701271279814, 0.09697701271279814, 0.09697701271279814, 0.09697701271279814, 0.09697701271279814, 0.09697701271279814, 0.09697701271279814, 0.09697701271279814, 0.09697701271279814, 0.09697701271279814, 0.09697701271279814, 0.09697701271279814, 0.09697701271279814, 0.09697701271279814, 0.09697701271279814, 0.09697701271279814, 0.09697701271279814, 0.09697701271279814, 0.09697701271279814, 0.09697701271279814, 0.09697701271279814, 0.09697701271279814]}], \"AUC_micro\": [{\"categories\": [\"0\", \"1\", \"2\", \"3\", \"4\", \"5\", \"6\", \"7\", \"8\", \"9\", \"10\", \"11\", \"12\", \"13\", \"14\", \"15\", \"16\", \"17\", \"18\", \"19\", \"20\", \"21\", \"22\", \"23\", \"24\", \"25\", \"26\", \"27\", \"28\", \"29\", \"30\", \"31\", \"32\", \"33\", \"34\", \"35\", \"36\", \"37\", \"38\", \"39\", \"40\", \"41\", \"42\", \"43\", \"44\", \"45\", \"46\", \"47\", \"48\", \"49\", \"50\", \"53\", \"54\"], \"mode\": \"markers\", \"name\": \"AUC_micro\", \"stepped\": false, \"type\": \"scatter\", \"data\": [0.9935568704799473, 0.9914529914529915, 0.9704142011834319, 0.9543721236028928, 0.9819855358316897, 0.9777777777777776, 0.9868507560815253, 0.9874424720578567, 0.9769888231426693, 0.9817225509533202, 0.9675213675213674, 0.967258382642998, 0.9278106508875739, 0.9372781065088756, 0.9663379355687048, 0.9635765943458251, 0.9357001972386587, 0.9777777777777779, 0.9621301775147929, 0.9333333333333333, 0.9623931623931623, 0.9846153846153847, 0.9748849441157134, 0.9679158448389218, 0.9401709401709402, 0.951084812623274, 0.9743589743589742, 0.9522682445759368, 0.9267587113740958, 0.9324128862590401, 0.9487179487179487, 0.9650230111768574, 0.9559500328731098, 0.9731755424063117, 0.9722550953320184, 0.9529257067718605, 0.9777777777777776, 0.9702827087442472, 0.9860618014464169, 0.9688362919132152, 0.9852728468113083, 0.9733070348454964, 0.9796186719263643, 0.968310322156476, 0.9780407626561474, 0.8472057856673242, 0.9752794214332676, 0.9743589743589745, 0.9677843523997371, 0.9580539119000658, 0.967258382642998, 0.9946088099934254, 0.9925049309664695]}, {\"categories\": [\"0\", \"1\", \"2\", \"3\", \"4\", \"5\", \"6\", \"7\", \"8\", \"9\", \"10\", \"11\", \"12\", \"13\", \"14\", \"15\", \"16\", \"17\", \"18\", \"19\", \"20\", \"21\", \"22\", \"23\", \"24\", \"25\", \"26\", \"27\", \"28\", \"29\", \"30\", \"31\", \"32\", \"33\", \"34\", \"35\", \"36\", \"37\", \"38\", \"39\", \"40\", \"41\", \"42\", \"43\", \"44\", \"45\", \"46\", \"47\", \"48\", \"49\", \"50\", \"53\", \"54\"], \"mode\": \"lines\", \"name\": \"AUC_micro_max\", \"stepped\": true, \"type\": \"scatter\", \"data\": [0.9935568704799473, 0.9935568704799473, 0.9935568704799473, 0.9935568704799473, 0.9935568704799473, 0.9935568704799473, 0.9935568704799473, 0.9935568704799473, 0.9935568704799473, 0.9935568704799473, 0.9935568704799473, 0.9935568704799473, 0.9935568704799473, 0.9935568704799473, 0.9935568704799473, 0.9935568704799473, 0.9935568704799473, 0.9935568704799473, 0.9935568704799473, 0.9935568704799473, 0.9935568704799473, 0.9935568704799473, 0.9935568704799473, 0.9935568704799473, 0.9935568704799473, 0.9935568704799473, 0.9935568704799473, 0.9935568704799473, 0.9935568704799473, 0.9935568704799473, 0.9935568704799473, 0.9935568704799473, 0.9935568704799473, 0.9935568704799473, 0.9935568704799473, 0.9935568704799473, 0.9935568704799473, 0.9935568704799473, 0.9935568704799473, 0.9935568704799473, 0.9935568704799473, 0.9935568704799473, 0.9935568704799473, 0.9935568704799473, 0.9935568704799473, 0.9935568704799473, 0.9935568704799473, 0.9935568704799473, 0.9935568704799473, 0.9935568704799473, 0.9935568704799473, 0.9946088099934254, 0.9946088099934254]}], \"precision_score_micro\": [{\"categories\": [\"0\", \"1\", \"2\", \"3\", \"4\", \"5\", \"6\", \"7\", \"8\", \"9\", \"10\", \"11\", \"12\", \"13\", \"14\", \"15\", \"16\", \"17\", \"18\", \"19\", \"20\", \"21\", \"22\", \"23\", \"24\", \"25\", \"26\", \"27\", \"28\", \"29\", \"30\", \"31\", \"32\", \"33\", \"34\", \"35\", \"36\", \"37\", \"38\", \"39\", \"40\", \"41\", \"42\", \"43\", \"44\", \"45\", \"46\", \"47\", \"48\", \"49\", \"50\", \"53\", \"54\"], \"mode\": \"markers\", \"name\": \"precision_score_micro\", \"stepped\": false, \"type\": \"scatter\", \"data\": [0.964102564102564, 0.964102564102564, 0.9230769230769231, 0.8615384615384615, 0.9333333333333333, 0.9128205128205129, 0.9384615384615385, 0.964102564102564, 0.9333333333333333, 0.9435897435897436, 0.9025641025641026, 0.8820512820512821, 0.8205128205128206, 0.8410256410256409, 0.8974358974358975, 0.9025641025641026, 0.841025641025641, 0.9333333333333333, 0.8923076923076924, 0.8615384615384615, 0.9230769230769231, 0.9435897435897436, 0.9538461538461538, 0.9076923076923077, 0.8717948717948717, 0.8871794871794872, 0.9128205128205128, 0.8615384615384615, 0.841025641025641, 0.8461538461538461, 0.841025641025641, 0.8871794871794872, 0.8923076923076924, 0.9384615384615385, 0.9333333333333333, 0.8871794871794872, 0.9333333333333333, 0.9384615384615385, 0.9487179487179487, 0.9025641025641026, 0.9384615384615385, 0.9333333333333333, 0.9435897435897436, 0.9230769230769231, 0.923076923076923, 0.7435897435897436, 0.9282051282051282, 0.9230769230769231, 0.9230769230769231, 0.8820512820512821, 0.8923076923076924, 0.9743589743589745, 0.9538461538461538]}, {\"categories\": [\"0\", \"1\", \"2\", \"3\", \"4\", \"5\", \"6\", \"7\", \"8\", \"9\", \"10\", \"11\", \"12\", \"13\", \"14\", \"15\", \"16\", \"17\", \"18\", \"19\", \"20\", \"21\", \"22\", \"23\", \"24\", \"25\", \"26\", \"27\", \"28\", \"29\", \"30\", \"31\", \"32\", \"33\", \"34\", \"35\", \"36\", \"37\", \"38\", \"39\", \"40\", \"41\", \"42\", \"43\", \"44\", \"45\", \"46\", \"47\", \"48\", \"49\", \"50\", \"53\", \"54\"], \"mode\": \"lines\", \"name\": \"precision_score_micro_max\", \"stepped\": true, \"type\": \"scatter\", \"data\": [0.964102564102564, 0.964102564102564, 0.964102564102564, 0.964102564102564, 0.964102564102564, 0.964102564102564, 0.964102564102564, 0.964102564102564, 0.964102564102564, 0.964102564102564, 0.964102564102564, 0.964102564102564, 0.964102564102564, 0.964102564102564, 0.964102564102564, 0.964102564102564, 0.964102564102564, 0.964102564102564, 0.964102564102564, 0.964102564102564, 0.964102564102564, 0.964102564102564, 0.964102564102564, 0.964102564102564, 0.964102564102564, 0.964102564102564, 0.964102564102564, 0.964102564102564, 0.964102564102564, 0.964102564102564, 0.964102564102564, 0.964102564102564, 0.964102564102564, 0.964102564102564, 0.964102564102564, 0.964102564102564, 0.964102564102564, 0.964102564102564, 0.964102564102564, 0.964102564102564, 0.964102564102564, 0.964102564102564, 0.964102564102564, 0.964102564102564, 0.964102564102564, 0.964102564102564, 0.964102564102564, 0.964102564102564, 0.964102564102564, 0.964102564102564, 0.964102564102564, 0.9743589743589745, 0.9743589743589745]}], \"precision_score_macro\": [{\"categories\": [\"0\", \"1\", \"2\", \"3\", \"4\", \"5\", \"6\", \"7\", \"8\", \"9\", \"10\", \"11\", \"12\", \"13\", \"14\", \"15\", \"16\", \"17\", \"18\", \"19\", \"20\", \"21\", \"22\", \"23\", \"24\", \"25\", \"26\", \"27\", \"28\", \"29\", \"30\", \"31\", \"32\", \"33\", \"34\", \"35\", \"36\", \"37\", \"38\", \"39\", \"40\", \"41\", \"42\", \"43\", \"44\", \"45\", \"46\", \"47\", \"48\", \"49\", \"50\", \"53\", \"54\"], \"mode\": \"markers\", \"name\": \"precision_score_macro\", \"stepped\": false, \"type\": \"scatter\", \"data\": [0.9647653116257121, 0.9719507575757576, 0.9346479500891265, 0.8328977375407641, 0.9228049504259183, 0.907711038961039, 0.929230903505097, 0.9696513282732446, 0.9239853896103897, 0.9635335497835499, 0.8817565536315538, 0.8438455860400585, 0.8039560439560439, 0.800623004446534, 0.927667996491526, 0.9284889228418642, 0.817625466853408, 0.9546122994652407, 0.8836580086580087, 0.8507936507936508, 0.9150340909090909, 0.9486816610808546, 0.9497429653679654, 0.9260205380191898, 0.9150124494242142, 0.8859464391817333, 0.905058091988832, 0.8076463351463351, 0.7916786916786916, 0.7957389162561576, 0.8908301850237335, 0.9171312662996234, 0.908003034547152, 0.9395521145521146, 0.9302471372713308, 0.8848243207941483, 0.9452002164502165, 0.913536866359447, 0.9582521645021647, 0.9124968169085816, 0.9455627705627705, 0.9085043988269795, 0.9386814574314574, 0.91051267281106, 0.9299101953034178, 0.5873356146541631, 0.9048380696364567, 0.9093241435983372, 0.932535764888706, 0.907795962207727, 0.8927196538439421, 0.9841733870967742, 0.9660037878787879]}, {\"categories\": [\"0\", \"1\", \"2\", \"3\", \"4\", \"5\", \"6\", \"7\", \"8\", \"9\", \"10\", \"11\", \"12\", \"13\", \"14\", \"15\", \"16\", \"17\", \"18\", \"19\", \"20\", \"21\", \"22\", \"23\", \"24\", \"25\", \"26\", \"27\", \"28\", \"29\", \"30\", \"31\", \"32\", \"33\", \"34\", \"35\", \"36\", \"37\", \"38\", \"39\", \"40\", \"41\", \"42\", \"43\", \"44\", \"45\", \"46\", \"47\", \"48\", \"49\", \"50\", \"53\", \"54\"], \"mode\": \"lines\", \"name\": \"precision_score_macro_max\", \"stepped\": true, \"type\": \"scatter\", \"data\": [0.9647653116257121, 0.9719507575757576, 0.9719507575757576, 0.9719507575757576, 0.9719507575757576, 0.9719507575757576, 0.9719507575757576, 0.9719507575757576, 0.9719507575757576, 0.9719507575757576, 0.9719507575757576, 0.9719507575757576, 0.9719507575757576, 0.9719507575757576, 0.9719507575757576, 0.9719507575757576, 0.9719507575757576, 0.9719507575757576, 0.9719507575757576, 0.9719507575757576, 0.9719507575757576, 0.9719507575757576, 0.9719507575757576, 0.9719507575757576, 0.9719507575757576, 0.9719507575757576, 0.9719507575757576, 0.9719507575757576, 0.9719507575757576, 0.9719507575757576, 0.9719507575757576, 0.9719507575757576, 0.9719507575757576, 0.9719507575757576, 0.9719507575757576, 0.9719507575757576, 0.9719507575757576, 0.9719507575757576, 0.9719507575757576, 0.9719507575757576, 0.9719507575757576, 0.9719507575757576, 0.9719507575757576, 0.9719507575757576, 0.9719507575757576, 0.9719507575757576, 0.9719507575757576, 0.9719507575757576, 0.9719507575757576, 0.9719507575757576, 0.9719507575757576, 0.9841733870967742, 0.9841733870967742]}], \"recall_score_micro\": [{\"categories\": [\"0\", \"1\", \"2\", \"3\", \"4\", \"5\", \"6\", \"7\", \"8\", \"9\", \"10\", \"11\", \"12\", \"13\", \"14\", \"15\", \"16\", \"17\", \"18\", \"19\", \"20\", \"21\", \"22\", \"23\", \"24\", \"25\", \"26\", \"27\", \"28\", \"29\", \"30\", \"31\", \"32\", \"33\", \"34\", \"35\", \"36\", \"37\", \"38\", \"39\", \"40\", \"41\", \"42\", \"43\", \"44\", \"45\", \"46\", \"47\", \"48\", \"49\", \"50\", \"53\", \"54\"], \"mode\": \"markers\", \"name\": \"recall_score_micro\", \"stepped\": false, \"type\": \"scatter\", \"data\": [0.964102564102564, 0.964102564102564, 0.9230769230769231, 0.8615384615384615, 0.9333333333333333, 0.9128205128205129, 0.9384615384615385, 0.964102564102564, 0.9333333333333333, 0.9435897435897436, 0.9025641025641026, 0.8820512820512821, 0.8205128205128206, 0.8410256410256409, 0.8974358974358975, 0.9025641025641026, 0.841025641025641, 0.9333333333333333, 0.8923076923076924, 0.8615384615384615, 0.9230769230769231, 0.9435897435897436, 0.9538461538461538, 0.9076923076923077, 0.8717948717948717, 0.8871794871794872, 0.9128205128205128, 0.8615384615384615, 0.841025641025641, 0.8461538461538461, 0.841025641025641, 0.8871794871794872, 0.8923076923076924, 0.9384615384615385, 0.9333333333333333, 0.8871794871794872, 0.9333333333333333, 0.9384615384615385, 0.9487179487179487, 0.9025641025641026, 0.9384615384615385, 0.9333333333333333, 0.9435897435897436, 0.9230769230769231, 0.923076923076923, 0.7435897435897436, 0.9282051282051282, 0.9230769230769231, 0.9230769230769231, 0.8820512820512821, 0.8923076923076924, 0.9743589743589745, 0.9538461538461538]}, {\"categories\": [\"0\", \"1\", \"2\", \"3\", \"4\", \"5\", \"6\", \"7\", \"8\", \"9\", \"10\", \"11\", \"12\", \"13\", \"14\", \"15\", \"16\", \"17\", \"18\", \"19\", \"20\", \"21\", \"22\", \"23\", \"24\", \"25\", \"26\", \"27\", \"28\", \"29\", \"30\", \"31\", \"32\", \"33\", \"34\", \"35\", \"36\", \"37\", \"38\", \"39\", \"40\", \"41\", \"42\", \"43\", \"44\", \"45\", \"46\", \"47\", \"48\", \"49\", \"50\", \"53\", \"54\"], \"mode\": \"lines\", \"name\": \"recall_score_micro_max\", \"stepped\": true, \"type\": \"scatter\", \"data\": [0.964102564102564, 0.964102564102564, 0.964102564102564, 0.964102564102564, 0.964102564102564, 0.964102564102564, 0.964102564102564, 0.964102564102564, 0.964102564102564, 0.964102564102564, 0.964102564102564, 0.964102564102564, 0.964102564102564, 0.964102564102564, 0.964102564102564, 0.964102564102564, 0.964102564102564, 0.964102564102564, 0.964102564102564, 0.964102564102564, 0.964102564102564, 0.964102564102564, 0.964102564102564, 0.964102564102564, 0.964102564102564, 0.964102564102564, 0.964102564102564, 0.964102564102564, 0.964102564102564, 0.964102564102564, 0.964102564102564, 0.964102564102564, 0.964102564102564, 0.964102564102564, 0.964102564102564, 0.964102564102564, 0.964102564102564, 0.964102564102564, 0.964102564102564, 0.964102564102564, 0.964102564102564, 0.964102564102564, 0.964102564102564, 0.964102564102564, 0.964102564102564, 0.964102564102564, 0.964102564102564, 0.964102564102564, 0.964102564102564, 0.964102564102564, 0.964102564102564, 0.9743589743589745, 0.9743589743589745]}], \"AUC_weighted\": [{\"categories\": [\"0\", \"1\", \"2\", \"3\", \"4\", \"5\", \"6\", \"7\", \"8\", \"9\", \"10\", \"11\", \"12\", \"13\", \"14\", \"15\", \"16\", \"17\", \"18\", \"19\", \"20\", \"21\", \"22\", \"23\", \"24\", \"25\", \"26\", \"27\", \"28\", \"29\", \"30\", \"31\", \"32\", \"33\", \"34\", \"35\", \"36\", \"37\", \"38\", \"39\", \"40\", \"41\", \"42\", \"43\", \"44\", \"45\", \"46\", \"47\", \"48\", \"49\", \"50\", \"53\", \"54\"], \"mode\": \"markers\", \"name\": \"AUC_weighted\", \"stepped\": false, \"type\": \"scatter\", \"data\": [0.9929244427965228, 0.9948905956647891, 0.962501628793898, 0.9407436628587907, 0.975079612267599, 0.9773463519136488, 0.9846935969419285, 0.9843714650611203, 0.9617171489779943, 0.9751130650752453, 0.9473825149637163, 0.9627665954529135, 0.9636583711472477, 0.9167131704245165, 0.9642316698153739, 0.9607172431449407, 0.9151716987128555, 0.976475619589079, 0.9456758597147917, 0.8912259094467103, 0.9344476152220869, 0.9796200143016052, 0.9579695693627841, 0.966264813637728, 0.9466717222545921, 0.9261353267298762, 0.9714501121175203, 0.9443423630606611, 0.9281955082366652, 0.927456833283307, 0.9674937908669833, 0.9567433950715374, 0.93463374649081, 0.9571777430537163, 0.9531780947084062, 0.9242078853046596, 0.9690649987346316, 0.9527355792150007, 0.9863929056976888, 0.9530447469557591, 0.9824293659621801, 0.9536173128873351, 0.9652311357122259, 0.9506362227872238, 0.9771625056647304, 0.7686766498343249, 0.9597477870767637, 0.9561727316065468, 0.9491844936466738, 0.9454248268211003, 0.9632928783304202, 0.9977120669056152, 0.9962159601202982]}, {\"categories\": [\"0\", \"1\", \"2\", \"3\", \"4\", \"5\", \"6\", \"7\", \"8\", \"9\", \"10\", \"11\", \"12\", \"13\", \"14\", \"15\", \"16\", \"17\", \"18\", \"19\", \"20\", \"21\", \"22\", \"23\", \"24\", \"25\", \"26\", \"27\", \"28\", \"29\", \"30\", \"31\", \"32\", \"33\", \"34\", \"35\", \"36\", \"37\", \"38\", \"39\", \"40\", \"41\", \"42\", \"43\", \"44\", \"45\", \"46\", \"47\", \"48\", \"49\", \"50\", \"53\", \"54\"], \"mode\": \"lines\", \"name\": \"AUC_weighted_max\", \"stepped\": true, \"type\": \"scatter\", \"data\": [0.9929244427965228, 0.9948905956647891, 0.9948905956647891, 0.9948905956647891, 0.9948905956647891, 0.9948905956647891, 0.9948905956647891, 0.9948905956647891, 0.9948905956647891, 0.9948905956647891, 0.9948905956647891, 0.9948905956647891, 0.9948905956647891, 0.9948905956647891, 0.9948905956647891, 0.9948905956647891, 0.9948905956647891, 0.9948905956647891, 0.9948905956647891, 0.9948905956647891, 0.9948905956647891, 0.9948905956647891, 0.9948905956647891, 0.9948905956647891, 0.9948905956647891, 0.9948905956647891, 0.9948905956647891, 0.9948905956647891, 0.9948905956647891, 0.9948905956647891, 0.9948905956647891, 0.9948905956647891, 0.9948905956647891, 0.9948905956647891, 0.9948905956647891, 0.9948905956647891, 0.9948905956647891, 0.9948905956647891, 0.9948905956647891, 0.9948905956647891, 0.9948905956647891, 0.9948905956647891, 0.9948905956647891, 0.9948905956647891, 0.9948905956647891, 0.9948905956647891, 0.9948905956647891, 0.9948905956647891, 0.9948905956647891, 0.9948905956647891, 0.9948905956647891, 0.9977120669056152, 0.9977120669056152]}], \"precision_score_weighted\": [{\"categories\": [\"0\", \"1\", \"2\", \"3\", \"4\", \"5\", \"6\", \"7\", \"8\", \"9\", \"10\", \"11\", \"12\", \"13\", \"14\", \"15\", \"16\", \"17\", \"18\", \"19\", \"20\", \"21\", \"22\", \"23\", \"24\", \"25\", \"26\", \"27\", \"28\", \"29\", \"30\", \"31\", \"32\", \"33\", \"34\", \"35\", \"36\", \"37\", \"38\", \"39\", \"40\", \"41\", \"42\", \"43\", \"44\", \"45\", \"46\", \"47\", \"48\", \"49\", \"50\", \"53\", \"54\"], \"mode\": \"markers\", \"name\": \"precision_score_weighted\", \"stepped\": false, \"type\": \"scatter\", \"data\": [0.9661716419780937, 0.9671144133644134, 0.9266716943187532, 0.8616517785398241, 0.9332834280414926, 0.9149725274725273, 0.9405683205683205, 0.9681202257577969, 0.9332514707514707, 0.9494033744033743, 0.9020972854306188, 0.8906797580377702, 0.8227475658244888, 0.8450450504749147, 0.9061588810608419, 0.9107748460689636, 0.8505364325217266, 0.9405617258558434, 0.8974227161727162, 0.8683575683575684, 0.9237887112887112, 0.9481452239516756, 0.9541930291930292, 0.9222833444505272, 0.8863893477618967, 0.8981094939918469, 0.9163237452453139, 0.8839841544969751, 0.874487857821191, 0.8736856247201075, 0.8587082474179247, 0.8982829205952937, 0.9016380569321745, 0.9387683897299283, 0.9350291733356249, 0.8940029032270411, 0.9407281607281606, 0.9393034384969869, 0.9521908646908648, 0.9095131992190815, 0.9426143301143302, 0.9341391583327067, 0.9468568468568467, 0.9253205128205128, 0.9280260056794584, 0.6862295789404971, 0.9298292239421272, 0.9243089244640113, 0.9311470664411841, 0.8933106695550134, 0.9007264293791808, 0.9758219602977667, 0.9584158896658896]}, {\"categories\": [\"0\", \"1\", \"2\", \"3\", \"4\", \"5\", \"6\", \"7\", \"8\", \"9\", \"10\", \"11\", \"12\", \"13\", \"14\", \"15\", \"16\", \"17\", \"18\", \"19\", \"20\", \"21\", \"22\", \"23\", \"24\", \"25\", \"26\", \"27\", \"28\", \"29\", \"30\", \"31\", \"32\", \"33\", \"34\", \"35\", \"36\", \"37\", \"38\", \"39\", \"40\", \"41\", \"42\", \"43\", \"44\", \"45\", \"46\", \"47\", \"48\", \"49\", \"50\", \"53\", \"54\"], \"mode\": \"lines\", \"name\": \"precision_score_weighted_max\", \"stepped\": true, \"type\": \"scatter\", \"data\": [0.9661716419780937, 0.9671144133644134, 0.9671144133644134, 0.9671144133644134, 0.9671144133644134, 0.9671144133644134, 0.9671144133644134, 0.9681202257577969, 0.9681202257577969, 0.9681202257577969, 0.9681202257577969, 0.9681202257577969, 0.9681202257577969, 0.9681202257577969, 0.9681202257577969, 0.9681202257577969, 0.9681202257577969, 0.9681202257577969, 0.9681202257577969, 0.9681202257577969, 0.9681202257577969, 0.9681202257577969, 0.9681202257577969, 0.9681202257577969, 0.9681202257577969, 0.9681202257577969, 0.9681202257577969, 0.9681202257577969, 0.9681202257577969, 0.9681202257577969, 0.9681202257577969, 0.9681202257577969, 0.9681202257577969, 0.9681202257577969, 0.9681202257577969, 0.9681202257577969, 0.9681202257577969, 0.9681202257577969, 0.9681202257577969, 0.9681202257577969, 0.9681202257577969, 0.9681202257577969, 0.9681202257577969, 0.9681202257577969, 0.9681202257577969, 0.9681202257577969, 0.9681202257577969, 0.9681202257577969, 0.9681202257577969, 0.9681202257577969, 0.9681202257577969, 0.9758219602977667, 0.9758219602977667]}], \"f1_score_macro\": [{\"categories\": [\"0\", \"1\", \"2\", \"3\", \"4\", \"5\", \"6\", \"7\", \"8\", \"9\", \"10\", \"11\", \"12\", \"13\", \"14\", \"15\", \"16\", \"17\", \"18\", \"19\", \"20\", \"21\", \"22\", \"23\", \"24\", \"25\", \"26\", \"27\", \"28\", \"29\", \"30\", \"31\", \"32\", \"33\", \"34\", \"35\", \"36\", \"37\", \"38\", \"39\", \"40\", \"41\", \"42\", \"43\", \"44\", \"45\", \"46\", \"47\", \"48\", \"49\", \"50\", \"53\", \"54\"], \"mode\": \"markers\", \"name\": \"f1_score_macro\", \"stepped\": false, \"type\": \"scatter\", \"data\": [0.9507859793154119, 0.9491927205018195, 0.8801196585672393, 0.812042180061226, 0.9043189621371879, 0.8751797739407134, 0.9081607423265566, 0.9537693510256997, 0.8949241551459293, 0.9079395490626222, 0.8502491728701408, 0.8465784152078616, 0.6443019427320024, 0.7666382664176782, 0.8412233599733601, 0.8525062576312576, 0.7562815665825955, 0.8964934371184372, 0.8242177826653633, 0.7820137427439321, 0.8843141330302613, 0.9153719279885408, 0.9275700854112137, 0.8617272266264202, 0.7822356747729883, 0.8242495048739723, 0.866757109378077, 0.8232179743461604, 0.8048426640605729, 0.8068144499178981, 0.7268445236355683, 0.811689121064121, 0.8273557692307693, 0.9070085455209261, 0.8974296202962332, 0.8225993130227, 0.8943413396639203, 0.9061779963175116, 0.9190245775729646, 0.8370826561737845, 0.907996573319154, 0.8966090629800307, 0.9135291867937021, 0.8876856298968707, 0.8850005372052141, 0.5917175006892749, 0.8938496189701104, 0.8819084766523098, 0.8838382691786393, 0.805523713759008, 0.8387193362193361, 0.9615757808499744, 0.9337352790578596]}, {\"categories\": [\"0\", \"1\", \"2\", \"3\", \"4\", \"5\", \"6\", \"7\", \"8\", \"9\", \"10\", \"11\", \"12\", \"13\", \"14\", \"15\", \"16\", \"17\", \"18\", \"19\", \"20\", \"21\", \"22\", \"23\", \"24\", \"25\", \"26\", \"27\", \"28\", \"29\", \"30\", \"31\", \"32\", \"33\", \"34\", \"35\", \"36\", \"37\", \"38\", \"39\", \"40\", \"41\", \"42\", \"43\", \"44\", \"45\", \"46\", \"47\", \"48\", \"49\", \"50\", \"53\", \"54\"], \"mode\": \"lines\", \"name\": \"f1_score_macro_max\", \"stepped\": true, \"type\": \"scatter\", \"data\": [0.9507859793154119, 0.9507859793154119, 0.9507859793154119, 0.9507859793154119, 0.9507859793154119, 0.9507859793154119, 0.9507859793154119, 0.9537693510256997, 0.9537693510256997, 0.9537693510256997, 0.9537693510256997, 0.9537693510256997, 0.9537693510256997, 0.9537693510256997, 0.9537693510256997, 0.9537693510256997, 0.9537693510256997, 0.9537693510256997, 0.9537693510256997, 0.9537693510256997, 0.9537693510256997, 0.9537693510256997, 0.9537693510256997, 0.9537693510256997, 0.9537693510256997, 0.9537693510256997, 0.9537693510256997, 0.9537693510256997, 0.9537693510256997, 0.9537693510256997, 0.9537693510256997, 0.9537693510256997, 0.9537693510256997, 0.9537693510256997, 0.9537693510256997, 0.9537693510256997, 0.9537693510256997, 0.9537693510256997, 0.9537693510256997, 0.9537693510256997, 0.9537693510256997, 0.9537693510256997, 0.9537693510256997, 0.9537693510256997, 0.9537693510256997, 0.9537693510256997, 0.9537693510256997, 0.9537693510256997, 0.9537693510256997, 0.9537693510256997, 0.9537693510256997, 0.9615757808499744, 0.9615757808499744]}], \"recall_score_weighted\": [{\"categories\": [\"0\", \"1\", \"2\", \"3\", \"4\", \"5\", \"6\", \"7\", \"8\", \"9\", \"10\", \"11\", \"12\", \"13\", \"14\", \"15\", \"16\", \"17\", \"18\", \"19\", \"20\", \"21\", \"22\", \"23\", \"24\", \"25\", \"26\", \"27\", \"28\", \"29\", \"30\", \"31\", \"32\", \"33\", \"34\", \"35\", \"36\", \"37\", \"38\", \"39\", \"40\", \"41\", \"42\", \"43\", \"44\", \"45\", \"46\", \"47\", \"48\", \"49\", \"50\", \"53\", \"54\"], \"mode\": \"markers\", \"name\": \"recall_score_weighted\", \"stepped\": false, \"type\": \"scatter\", \"data\": [0.964102564102564, 0.964102564102564, 0.9230769230769231, 0.8615384615384615, 0.9333333333333333, 0.9128205128205129, 0.9384615384615385, 0.964102564102564, 0.9333333333333333, 0.9435897435897436, 0.9025641025641026, 0.8820512820512821, 0.8205128205128206, 0.8410256410256409, 0.8974358974358975, 0.9025641025641026, 0.841025641025641, 0.9333333333333333, 0.8923076923076924, 0.8615384615384615, 0.9230769230769231, 0.9435897435897436, 0.9538461538461538, 0.9076923076923077, 0.8717948717948717, 0.8871794871794872, 0.9128205128205128, 0.8615384615384615, 0.841025641025641, 0.8461538461538461, 0.841025641025641, 0.8871794871794872, 0.8923076923076924, 0.9384615384615385, 0.9333333333333333, 0.8871794871794872, 0.9333333333333333, 0.9384615384615385, 0.9487179487179487, 0.9025641025641026, 0.9384615384615385, 0.9333333333333333, 0.9435897435897436, 0.9230769230769231, 0.923076923076923, 0.7435897435897436, 0.9282051282051282, 0.9230769230769231, 0.9230769230769231, 0.8820512820512821, 0.8923076923076924, 0.9743589743589745, 0.9538461538461538]}, {\"categories\": [\"0\", \"1\", \"2\", \"3\", \"4\", \"5\", \"6\", \"7\", \"8\", \"9\", \"10\", \"11\", \"12\", \"13\", \"14\", \"15\", \"16\", \"17\", \"18\", \"19\", \"20\", \"21\", \"22\", \"23\", \"24\", \"25\", \"26\", \"27\", \"28\", \"29\", \"30\", \"31\", \"32\", \"33\", \"34\", \"35\", \"36\", \"37\", \"38\", \"39\", \"40\", \"41\", \"42\", \"43\", \"44\", \"45\", \"46\", \"47\", \"48\", \"49\", \"50\", \"53\", \"54\"], \"mode\": \"lines\", \"name\": \"recall_score_weighted_max\", \"stepped\": true, \"type\": \"scatter\", \"data\": [0.964102564102564, 0.964102564102564, 0.964102564102564, 0.964102564102564, 0.964102564102564, 0.964102564102564, 0.964102564102564, 0.964102564102564, 0.964102564102564, 0.964102564102564, 0.964102564102564, 0.964102564102564, 0.964102564102564, 0.964102564102564, 0.964102564102564, 0.964102564102564, 0.964102564102564, 0.964102564102564, 0.964102564102564, 0.964102564102564, 0.964102564102564, 0.964102564102564, 0.964102564102564, 0.964102564102564, 0.964102564102564, 0.964102564102564, 0.964102564102564, 0.964102564102564, 0.964102564102564, 0.964102564102564, 0.964102564102564, 0.964102564102564, 0.964102564102564, 0.964102564102564, 0.964102564102564, 0.964102564102564, 0.964102564102564, 0.964102564102564, 0.964102564102564, 0.964102564102564, 0.964102564102564, 0.964102564102564, 0.964102564102564, 0.964102564102564, 0.964102564102564, 0.964102564102564, 0.964102564102564, 0.964102564102564, 0.964102564102564, 0.964102564102564, 0.964102564102564, 0.9743589743589745, 0.9743589743589745]}], \"f1_score_micro\": [{\"categories\": [\"0\", \"1\", \"2\", \"3\", \"4\", \"5\", \"6\", \"7\", \"8\", \"9\", \"10\", \"11\", \"12\", \"13\", \"14\", \"15\", \"16\", \"17\", \"18\", \"19\", \"20\", \"21\", \"22\", \"23\", \"24\", \"25\", \"26\", \"27\", \"28\", \"29\", \"30\", \"31\", \"32\", \"33\", \"34\", \"35\", \"36\", \"37\", \"38\", \"39\", \"40\", \"41\", \"42\", \"43\", \"44\", \"45\", \"46\", \"47\", \"48\", \"49\", \"50\", \"53\", \"54\"], \"mode\": \"markers\", \"name\": \"f1_score_micro\", \"stepped\": false, \"type\": \"scatter\", \"data\": [0.964102564102564, 0.964102564102564, 0.9230769230769231, 0.8615384615384615, 0.9333333333333333, 0.9128205128205129, 0.9384615384615385, 0.964102564102564, 0.9333333333333333, 0.9435897435897436, 0.9025641025641026, 0.8820512820512821, 0.8205128205128206, 0.8410256410256409, 0.8974358974358975, 0.9025641025641026, 0.841025641025641, 0.9333333333333333, 0.8923076923076924, 0.8615384615384615, 0.9230769230769231, 0.9435897435897436, 0.9538461538461538, 0.9076923076923077, 0.8717948717948717, 0.8871794871794872, 0.9128205128205128, 0.8615384615384615, 0.841025641025641, 0.8461538461538461, 0.841025641025641, 0.8871794871794872, 0.8923076923076924, 0.9384615384615385, 0.9333333333333333, 0.8871794871794872, 0.9333333333333333, 0.9384615384615385, 0.9487179487179487, 0.9025641025641026, 0.9384615384615385, 0.9333333333333333, 0.9435897435897436, 0.9230769230769231, 0.923076923076923, 0.7435897435897436, 0.9282051282051282, 0.9230769230769231, 0.9230769230769231, 0.8820512820512821, 0.8923076923076924, 0.9743589743589745, 0.9538461538461538]}, {\"categories\": [\"0\", \"1\", \"2\", \"3\", \"4\", \"5\", \"6\", \"7\", \"8\", \"9\", \"10\", \"11\", \"12\", \"13\", \"14\", \"15\", \"16\", \"17\", \"18\", \"19\", \"20\", \"21\", \"22\", \"23\", \"24\", \"25\", \"26\", \"27\", \"28\", \"29\", \"30\", \"31\", \"32\", \"33\", \"34\", \"35\", \"36\", \"37\", \"38\", \"39\", \"40\", \"41\", \"42\", \"43\", \"44\", \"45\", \"46\", \"47\", \"48\", \"49\", \"50\", \"53\", \"54\"], \"mode\": \"lines\", \"name\": \"f1_score_micro_max\", \"stepped\": true, \"type\": \"scatter\", \"data\": [0.964102564102564, 0.964102564102564, 0.964102564102564, 0.964102564102564, 0.964102564102564, 0.964102564102564, 0.964102564102564, 0.964102564102564, 0.964102564102564, 0.964102564102564, 0.964102564102564, 0.964102564102564, 0.964102564102564, 0.964102564102564, 0.964102564102564, 0.964102564102564, 0.964102564102564, 0.964102564102564, 0.964102564102564, 0.964102564102564, 0.964102564102564, 0.964102564102564, 0.964102564102564, 0.964102564102564, 0.964102564102564, 0.964102564102564, 0.964102564102564, 0.964102564102564, 0.964102564102564, 0.964102564102564, 0.964102564102564, 0.964102564102564, 0.964102564102564, 0.964102564102564, 0.964102564102564, 0.964102564102564, 0.964102564102564, 0.964102564102564, 0.964102564102564, 0.964102564102564, 0.964102564102564, 0.964102564102564, 0.964102564102564, 0.964102564102564, 0.964102564102564, 0.964102564102564, 0.964102564102564, 0.964102564102564, 0.964102564102564, 0.964102564102564, 0.964102564102564, 0.9743589743589745, 0.9743589743589745]}], \"AUC_macro\": [{\"categories\": [\"0\", \"1\", \"2\", \"3\", \"4\", \"5\", \"6\", \"7\", \"8\", \"9\", \"10\", \"11\", \"12\", \"13\", \"14\", \"15\", \"16\", \"17\", \"18\", \"19\", \"20\", \"21\", \"22\", \"23\", \"24\", \"25\", \"26\", \"27\", \"28\", \"29\", \"30\", \"31\", \"32\", \"33\", \"34\", \"35\", \"36\", \"37\", \"38\", \"39\", \"40\", \"41\", \"42\", \"43\", \"44\", \"45\", \"46\", \"47\", \"48\", \"49\", \"50\", \"53\", \"54\"], \"mode\": \"markers\", \"name\": \"AUC_macro\", \"stepped\": false, \"type\": \"scatter\", \"data\": [0.9929244427965228, 0.9948905956647891, 0.962501628793898, 0.9407436628587907, 0.975079612267599, 0.9773463519136488, 0.9846935969419285, 0.9843714650611203, 0.9617171489779943, 0.9751130650752453, 0.9473825149637163, 0.9627665954529135, 0.9636583711472477, 0.9167131704245165, 0.9642316698153739, 0.9607172431449407, 0.9151716987128555, 0.976475619589079, 0.9456758597147917, 0.8912259094467103, 0.9344476152220869, 0.9796200143016052, 0.9579695693627841, 0.966264813637728, 0.9466717222545921, 0.9261353267298762, 0.9714501121175203, 0.9443423630606613, 0.9281955082366652, 0.927456833283307, 0.9674937908669833, 0.9567433950715374, 0.93463374649081, 0.9571777430537164, 0.9531780947084062, 0.9242078853046596, 0.9690649987346316, 0.9527355792150007, 0.9863929056976888, 0.9530447469557591, 0.9824293659621801, 0.9536173128873351, 0.9652311357122259, 0.9506362227872238, 0.9771625056647304, 0.768676649834325, 0.9597477870767637, 0.9561727316065468, 0.9491844936466738, 0.9454248268211003, 0.9632928783304202, 0.9977120669056152, 0.9962159601202982]}, {\"categories\": [\"0\", \"1\", \"2\", \"3\", \"4\", \"5\", \"6\", \"7\", \"8\", \"9\", \"10\", \"11\", \"12\", \"13\", \"14\", \"15\", \"16\", \"17\", \"18\", \"19\", \"20\", \"21\", \"22\", \"23\", \"24\", \"25\", \"26\", \"27\", \"28\", \"29\", \"30\", \"31\", \"32\", \"33\", \"34\", \"35\", \"36\", \"37\", \"38\", \"39\", \"40\", \"41\", \"42\", \"43\", \"44\", \"45\", \"46\", \"47\", \"48\", \"49\", \"50\", \"53\", \"54\"], \"mode\": \"lines\", \"name\": \"AUC_macro_max\", \"stepped\": true, \"type\": \"scatter\", \"data\": [0.9929244427965228, 0.9948905956647891, 0.9948905956647891, 0.9948905956647891, 0.9948905956647891, 0.9948905956647891, 0.9948905956647891, 0.9948905956647891, 0.9948905956647891, 0.9948905956647891, 0.9948905956647891, 0.9948905956647891, 0.9948905956647891, 0.9948905956647891, 0.9948905956647891, 0.9948905956647891, 0.9948905956647891, 0.9948905956647891, 0.9948905956647891, 0.9948905956647891, 0.9948905956647891, 0.9948905956647891, 0.9948905956647891, 0.9948905956647891, 0.9948905956647891, 0.9948905956647891, 0.9948905956647891, 0.9948905956647891, 0.9948905956647891, 0.9948905956647891, 0.9948905956647891, 0.9948905956647891, 0.9948905956647891, 0.9948905956647891, 0.9948905956647891, 0.9948905956647891, 0.9948905956647891, 0.9948905956647891, 0.9948905956647891, 0.9948905956647891, 0.9948905956647891, 0.9948905956647891, 0.9948905956647891, 0.9948905956647891, 0.9948905956647891, 0.9948905956647891, 0.9948905956647891, 0.9948905956647891, 0.9948905956647891, 0.9948905956647891, 0.9948905956647891, 0.9977120669056152, 0.9977120669056152]}], \"balanced_accuracy\": [{\"categories\": [\"0\", \"1\", \"2\", \"3\", \"4\", \"5\", \"6\", \"7\", \"8\", \"9\", \"10\", \"11\", \"12\", \"13\", \"14\", \"15\", \"16\", \"17\", \"18\", \"19\", \"20\", \"21\", \"22\", \"23\", \"24\", \"25\", \"26\", \"27\", \"28\", \"29\", \"30\", \"31\", \"32\", \"33\", \"34\", \"35\", \"36\", \"37\", \"38\", \"39\", \"40\", \"41\", \"42\", \"43\", \"44\", \"45\", \"46\", \"47\", \"48\", \"49\", \"50\", \"53\", \"54\"], \"mode\": \"markers\", \"name\": \"balanced_accuracy\", \"stepped\": false, \"type\": \"scatter\", \"data\": [0.9424406130268199, 0.9361666666666666, 0.851646962233169, 0.8007047755883964, 0.8914808164274237, 0.8592961557815562, 0.9003675843529848, 0.9457777777777778, 0.8786929811783816, 0.8837777777777778, 0.8325521081625087, 0.85861835240214, 0.6347619047619047, 0.7631215526069532, 0.8054126984126985, 0.8217301587301588, 0.7486594982078854, 0.8693809523809524, 0.8105227302823244, 0.7645941588537528, 0.8664390129244135, 0.8984781746031747, 0.9141410098522167, 0.8455440348182284, 0.7464047619047618, 0.8023297491039425, 0.8532449525045465, 0.8578441478185639, 0.8482960079100235, 0.8449700902237055, 0.6942222222222222, 0.7740757808499745, 0.7978055555555555, 0.8846751240355244, 0.8778237967229903, 0.7992146697388633, 0.8766527777777778, 0.9045643969489909, 0.8984408602150538, 0.8126886288998356, 0.8872662570404506, 0.8945643969489909, 0.9030795019157087, 0.8752505208609213, 0.8622162698412698, 0.6075595127743348, 0.8925203621307626, 0.8684251240355245, 0.8671309523809523, 0.7758194444444444, 0.8179886160990165, 0.9452777777777778, 0.9172777777777779]}, {\"categories\": [\"0\", \"1\", \"2\", \"3\", \"4\", \"5\", \"6\", \"7\", \"8\", \"9\", \"10\", \"11\", \"12\", \"13\", \"14\", \"15\", \"16\", \"17\", \"18\", \"19\", \"20\", \"21\", \"22\", \"23\", \"24\", \"25\", \"26\", \"27\", \"28\", \"29\", \"30\", \"31\", \"32\", \"33\", \"34\", \"35\", \"36\", \"37\", \"38\", \"39\", \"40\", \"41\", \"42\", \"43\", \"44\", \"45\", \"46\", \"47\", \"48\", \"49\", \"50\", \"53\", \"54\"], \"mode\": \"lines\", \"name\": \"balanced_accuracy_max\", \"stepped\": true, \"type\": \"scatter\", \"data\": [0.9424406130268199, 0.9424406130268199, 0.9424406130268199, 0.9424406130268199, 0.9424406130268199, 0.9424406130268199, 0.9424406130268199, 0.9457777777777778, 0.9457777777777778, 0.9457777777777778, 0.9457777777777778, 0.9457777777777778, 0.9457777777777778, 0.9457777777777778, 0.9457777777777778, 0.9457777777777778, 0.9457777777777778, 0.9457777777777778, 0.9457777777777778, 0.9457777777777778, 0.9457777777777778, 0.9457777777777778, 0.9457777777777778, 0.9457777777777778, 0.9457777777777778, 0.9457777777777778, 0.9457777777777778, 0.9457777777777778, 0.9457777777777778, 0.9457777777777778, 0.9457777777777778, 0.9457777777777778, 0.9457777777777778, 0.9457777777777778, 0.9457777777777778, 0.9457777777777778, 0.9457777777777778, 0.9457777777777778, 0.9457777777777778, 0.9457777777777778, 0.9457777777777778, 0.9457777777777778, 0.9457777777777778, 0.9457777777777778, 0.9457777777777778, 0.9457777777777778, 0.9457777777777778, 0.9457777777777778, 0.9457777777777778, 0.9457777777777778, 0.9457777777777778, 0.9457777777777778, 0.9457777777777778]}], \"norm_macro_recall\": [{\"categories\": [\"0\", \"1\", \"2\", \"3\", \"4\", \"5\", \"6\", \"7\", \"8\", \"9\", \"10\", \"11\", \"12\", \"13\", \"14\", \"15\", \"16\", \"17\", \"18\", \"19\", \"20\", \"21\", \"22\", \"23\", \"24\", \"25\", \"26\", \"27\", \"28\", \"29\", \"30\", \"31\", \"32\", \"33\", \"34\", \"35\", \"36\", \"37\", \"38\", \"39\", \"40\", \"41\", \"42\", \"43\", \"44\", \"45\", \"46\", \"47\", \"48\", \"49\", \"50\", \"53\", \"54\"], \"mode\": \"markers\", \"name\": \"norm_macro_recall\", \"stepped\": false, \"type\": \"scatter\", \"data\": [0.8848812260536398, 0.8723333333333333, 0.7032939244663383, 0.6014095511767926, 0.7829616328548475, 0.7185923115631125, 0.8007351687059696, 0.8915555555555554, 0.7573859623567633, 0.7675555555555555, 0.6651042163250173, 0.7172367048042799, 0.2695238095238095, 0.5262431052139062, 0.6108253968253969, 0.6434603174603175, 0.4973189964157706, 0.7387619047619047, 0.6210454605646485, 0.5291883177075057, 0.7328780258488268, 0.7969563492063492, 0.8282820197044334, 0.6910880696364567, 0.49280952380952386, 0.6046594982078852, 0.7064899050090931, 0.7156882956371277, 0.696592015820047, 0.6899401804474107, 0.3884444444444445, 0.5481515616999488, 0.5956111111111111, 0.769350248071049, 0.7556475934459805, 0.5984293394777266, 0.7533055555555556, 0.8091287938979818, 0.7968817204301075, 0.6253772577996715, 0.7745325140809012, 0.789128793897982, 0.8061590038314176, 0.7505010417218425, 0.7244325396825397, 0.21649833589349723, 0.7850407242615252, 0.736850248071049, 0.7342619047619048, 0.5516388888888889, 0.635977232198033, 0.8905555555555555, 0.8345555555555556]}, {\"categories\": [\"0\", \"1\", \"2\", \"3\", \"4\", \"5\", \"6\", \"7\", \"8\", \"9\", \"10\", \"11\", \"12\", \"13\", \"14\", \"15\", \"16\", \"17\", \"18\", \"19\", \"20\", \"21\", \"22\", \"23\", \"24\", \"25\", \"26\", \"27\", \"28\", \"29\", \"30\", \"31\", \"32\", \"33\", \"34\", \"35\", \"36\", \"37\", \"38\", \"39\", \"40\", \"41\", \"42\", \"43\", \"44\", \"45\", \"46\", \"47\", \"48\", \"49\", \"50\", \"53\", \"54\"], \"mode\": \"lines\", \"name\": \"norm_macro_recall_max\", \"stepped\": true, \"type\": \"scatter\", \"data\": [0.8848812260536398, 0.8848812260536398, 0.8848812260536398, 0.8848812260536398, 0.8848812260536398, 0.8848812260536398, 0.8848812260536398, 0.8915555555555554, 0.8915555555555554, 0.8915555555555554, 0.8915555555555554, 0.8915555555555554, 0.8915555555555554, 0.8915555555555554, 0.8915555555555554, 0.8915555555555554, 0.8915555555555554, 0.8915555555555554, 0.8915555555555554, 0.8915555555555554, 0.8915555555555554, 0.8915555555555554, 0.8915555555555554, 0.8915555555555554, 0.8915555555555554, 0.8915555555555554, 0.8915555555555554, 0.8915555555555554, 0.8915555555555554, 0.8915555555555554, 0.8915555555555554, 0.8915555555555554, 0.8915555555555554, 0.8915555555555554, 0.8915555555555554, 0.8915555555555554, 0.8915555555555554, 0.8915555555555554, 0.8915555555555554, 0.8915555555555554, 0.8915555555555554, 0.8915555555555554, 0.8915555555555554, 0.8915555555555554, 0.8915555555555554, 0.8915555555555554, 0.8915555555555554, 0.8915555555555554, 0.8915555555555554, 0.8915555555555554, 0.8915555555555554, 0.8915555555555554, 0.8915555555555554]}], \"accuracy\": [{\"categories\": [\"0\", \"1\", \"2\", \"3\", \"4\", \"5\", \"6\", \"7\", \"8\", \"9\", \"10\", \"11\", \"12\", \"13\", \"14\", \"15\", \"16\", \"17\", \"18\", \"19\", \"20\", \"21\", \"22\", \"23\", \"24\", \"25\", \"26\", \"27\", \"28\", \"29\", \"30\", \"31\", \"32\", \"33\", \"34\", \"35\", \"36\", \"37\", \"38\", \"39\", \"40\", \"41\", \"42\", \"43\", \"44\", \"45\", \"46\", \"47\", \"48\", \"49\", \"50\", \"53\", \"54\"], \"mode\": \"markers\", \"name\": \"accuracy\", \"stepped\": false, \"type\": \"scatter\", \"data\": [0.964102564102564, 0.964102564102564, 0.9230769230769231, 0.8615384615384615, 0.9333333333333333, 0.9128205128205129, 0.9384615384615385, 0.964102564102564, 0.9333333333333333, 0.9435897435897436, 0.9025641025641026, 0.8820512820512821, 0.8205128205128206, 0.8410256410256409, 0.8974358974358975, 0.9025641025641026, 0.841025641025641, 0.9333333333333333, 0.8923076923076924, 0.8615384615384615, 0.9230769230769231, 0.9435897435897436, 0.9538461538461538, 0.9076923076923077, 0.8717948717948717, 0.8871794871794872, 0.9128205128205128, 0.8615384615384615, 0.841025641025641, 0.8461538461538461, 0.841025641025641, 0.8871794871794872, 0.8923076923076924, 0.9384615384615385, 0.9333333333333333, 0.8871794871794872, 0.9333333333333333, 0.9384615384615385, 0.9487179487179487, 0.9025641025641026, 0.9384615384615385, 0.9333333333333333, 0.9435897435897436, 0.9230769230769231, 0.923076923076923, 0.7435897435897436, 0.9282051282051282, 0.9230769230769231, 0.9230769230769231, 0.8820512820512821, 0.8923076923076924, 0.9743589743589745, 0.9538461538461538]}, {\"categories\": [\"0\", \"1\", \"2\", \"3\", \"4\", \"5\", \"6\", \"7\", \"8\", \"9\", \"10\", \"11\", \"12\", \"13\", \"14\", \"15\", \"16\", \"17\", \"18\", \"19\", \"20\", \"21\", \"22\", \"23\", \"24\", \"25\", \"26\", \"27\", \"28\", \"29\", \"30\", \"31\", \"32\", \"33\", \"34\", \"35\", \"36\", \"37\", \"38\", \"39\", \"40\", \"41\", \"42\", \"43\", \"44\", \"45\", \"46\", \"47\", \"48\", \"49\", \"50\", \"53\", \"54\"], \"mode\": \"lines\", \"name\": \"accuracy_max\", \"stepped\": true, \"type\": \"scatter\", \"data\": [0.964102564102564, 0.964102564102564, 0.964102564102564, 0.964102564102564, 0.964102564102564, 0.964102564102564, 0.964102564102564, 0.964102564102564, 0.964102564102564, 0.964102564102564, 0.964102564102564, 0.964102564102564, 0.964102564102564, 0.964102564102564, 0.964102564102564, 0.964102564102564, 0.964102564102564, 0.964102564102564, 0.964102564102564, 0.964102564102564, 0.964102564102564, 0.964102564102564, 0.964102564102564, 0.964102564102564, 0.964102564102564, 0.964102564102564, 0.964102564102564, 0.964102564102564, 0.964102564102564, 0.964102564102564, 0.964102564102564, 0.964102564102564, 0.964102564102564, 0.964102564102564, 0.964102564102564, 0.964102564102564, 0.964102564102564, 0.964102564102564, 0.964102564102564, 0.964102564102564, 0.964102564102564, 0.964102564102564, 0.964102564102564, 0.964102564102564, 0.964102564102564, 0.964102564102564, 0.964102564102564, 0.964102564102564, 0.964102564102564, 0.964102564102564, 0.964102564102564, 0.9743589743589745, 0.9743589743589745]}], \"weighted_accuracy\": [{\"categories\": [\"0\", \"1\", \"2\", \"3\", \"4\", \"5\", \"6\", \"7\", \"8\", \"9\", \"10\", \"11\", \"12\", \"13\", \"14\", \"15\", \"16\", \"17\", \"18\", \"19\", \"20\", \"21\", \"22\", \"23\", \"24\", \"25\", \"26\", \"27\", \"28\", \"29\", \"30\", \"31\", \"32\", \"33\", \"34\", \"35\", \"36\", \"37\", \"38\", \"39\", \"40\", \"41\", \"42\", \"43\", \"44\", \"45\", \"46\", \"47\", \"48\", \"49\", \"50\", \"53\", \"54\"], \"mode\": \"markers\", \"name\": \"weighted_accuracy\", \"stepped\": false, \"type\": \"scatter\", \"data\": [0.9745738642316095, 0.9786287707561643, 0.9597930393543012, 0.8941466564267758, 0.9546804794928094, 0.944962812022714, 0.9601656877542728, 0.9738090762560729, 0.9630995569716735, 0.9754946447585017, 0.9410581982705597, 0.8944120957794146, 0.9212206371263078, 0.8859055366212264, 0.9483545340203973, 0.9472701642236914, 0.8919913945512541, 0.9672614480686331, 0.9359700833669329, 0.9114234777489922, 0.9538894840851752, 0.9670919860765663, 0.9749434607423415, 0.9405429803441991, 0.9396936820988872, 0.9346025783316831, 0.9478648546812162, 0.8646071883658497, 0.8359974750756607, 0.8460845127366856, 0.9226559439820072, 0.9495292078936544, 0.9443649968741795, 0.967779065728374, 0.9624181115123674, 0.9367145297731222, 0.9634399255006239, 0.9568813144918018, 0.9768230870878355, 0.9488882898258728, 0.9651729284783703, 0.9547559159795806, 0.9666139037256603, 0.9508638075029335, 0.9544684110002908, 0.8232422797406667, 0.9483587813038374, 0.9537244966662927, 0.9559062144697101, 0.9402791872686198, 0.9356922181580833, 0.9905185025951596, 0.9740874376048222]}, {\"categories\": [\"0\", \"1\", \"2\", \"3\", \"4\", \"5\", \"6\", \"7\", \"8\", \"9\", \"10\", \"11\", \"12\", \"13\", \"14\", \"15\", \"16\", \"17\", \"18\", \"19\", \"20\", \"21\", \"22\", \"23\", \"24\", \"25\", \"26\", \"27\", \"28\", \"29\", \"30\", \"31\", \"32\", \"33\", \"34\", \"35\", \"36\", \"37\", \"38\", \"39\", \"40\", \"41\", \"42\", \"43\", \"44\", \"45\", \"46\", \"47\", \"48\", \"49\", \"50\", \"53\", \"54\"], \"mode\": \"lines\", \"name\": \"weighted_accuracy_max\", \"stepped\": true, \"type\": \"scatter\", \"data\": [0.9745738642316095, 0.9786287707561643, 0.9786287707561643, 0.9786287707561643, 0.9786287707561643, 0.9786287707561643, 0.9786287707561643, 0.9786287707561643, 0.9786287707561643, 0.9786287707561643, 0.9786287707561643, 0.9786287707561643, 0.9786287707561643, 0.9786287707561643, 0.9786287707561643, 0.9786287707561643, 0.9786287707561643, 0.9786287707561643, 0.9786287707561643, 0.9786287707561643, 0.9786287707561643, 0.9786287707561643, 0.9786287707561643, 0.9786287707561643, 0.9786287707561643, 0.9786287707561643, 0.9786287707561643, 0.9786287707561643, 0.9786287707561643, 0.9786287707561643, 0.9786287707561643, 0.9786287707561643, 0.9786287707561643, 0.9786287707561643, 0.9786287707561643, 0.9786287707561643, 0.9786287707561643, 0.9786287707561643, 0.9786287707561643, 0.9786287707561643, 0.9786287707561643, 0.9786287707561643, 0.9786287707561643, 0.9786287707561643, 0.9786287707561643, 0.9786287707561643, 0.9786287707561643, 0.9786287707561643, 0.9786287707561643, 0.9786287707561643, 0.9786287707561643, 0.9905185025951596, 0.9905185025951596]}], \"average_precision_score_macro\": [{\"categories\": [\"0\", \"1\", \"2\", \"3\", \"4\", \"5\", \"6\", \"7\", \"8\", \"9\", \"10\", \"11\", \"12\", \"13\", \"14\", \"15\", \"16\", \"17\", \"18\", \"19\", \"20\", \"21\", \"22\", \"23\", \"24\", \"25\", \"26\", \"27\", \"28\", \"29\", \"30\", \"31\", \"32\", \"33\", \"34\", \"35\", \"36\", \"37\", \"38\", \"39\", \"40\", \"41\", \"42\", \"43\", \"44\", \"45\", \"46\", \"47\", \"48\", \"49\", \"50\", \"53\", \"54\"], \"mode\": \"markers\", \"name\": \"average_precision_score_macro\", \"stepped\": false, \"type\": \"scatter\", \"data\": [0.9911416177596116, 0.9929083781751883, 0.95587297579643, 0.9252991755861334, 0.967875923308041, 0.9711290725465546, 0.9779835667195055, 0.9845373971656045, 0.9586747378360126, 0.9714146798905586, 0.9356562984613236, 0.9480786272004798, 0.952987993882512, 0.8955009080159618, 0.9541697288220095, 0.9513657563274499, 0.8936295458414227, 0.9696406878359178, 0.935680312267773, 0.8884679997032838, 0.9380415662734146, 0.9730556705527814, 0.9530313875648604, 0.9529928137913257, 0.9347420009760123, 0.921918899470106, 0.9584343932473267, 0.9374609208893, 0.9008369025893168, 0.9140475728100158, 0.9498605947930295, 0.9440484128886822, 0.9287777681747581, 0.951702564506047, 0.9501793870553519, 0.9131512864788129, 0.9662025531956552, 0.9477706003011029, 0.9811750474792056, 0.9466034573037765, 0.9770192664084318, 0.948368794568346, 0.9592423875145834, 0.9484355713981983, 0.9680679161813975, 0.694276743460113, 0.9515640213773858, 0.9524390900585085, 0.9450512465772585, 0.930219552862247, 0.9483163999439664, 0.9962714646464645, 0.9940322618248943]}, {\"categories\": [\"0\", \"1\", \"2\", \"3\", \"4\", \"5\", \"6\", \"7\", \"8\", \"9\", \"10\", \"11\", \"12\", \"13\", \"14\", \"15\", \"16\", \"17\", \"18\", \"19\", \"20\", \"21\", \"22\", \"23\", \"24\", \"25\", \"26\", \"27\", \"28\", \"29\", \"30\", \"31\", \"32\", \"33\", \"34\", \"35\", \"36\", \"37\", \"38\", \"39\", \"40\", \"41\", \"42\", \"43\", \"44\", \"45\", \"46\", \"47\", \"48\", \"49\", \"50\", \"53\", \"54\"], \"mode\": \"lines\", \"name\": \"average_precision_score_macro_max\", \"stepped\": true, \"type\": \"scatter\", \"data\": [0.9911416177596116, 0.9929083781751883, 0.9929083781751883, 0.9929083781751883, 0.9929083781751883, 0.9929083781751883, 0.9929083781751883, 0.9929083781751883, 0.9929083781751883, 0.9929083781751883, 0.9929083781751883, 0.9929083781751883, 0.9929083781751883, 0.9929083781751883, 0.9929083781751883, 0.9929083781751883, 0.9929083781751883, 0.9929083781751883, 0.9929083781751883, 0.9929083781751883, 0.9929083781751883, 0.9929083781751883, 0.9929083781751883, 0.9929083781751883, 0.9929083781751883, 0.9929083781751883, 0.9929083781751883, 0.9929083781751883, 0.9929083781751883, 0.9929083781751883, 0.9929083781751883, 0.9929083781751883, 0.9929083781751883, 0.9929083781751883, 0.9929083781751883, 0.9929083781751883, 0.9929083781751883, 0.9929083781751883, 0.9929083781751883, 0.9929083781751883, 0.9929083781751883, 0.9929083781751883, 0.9929083781751883, 0.9929083781751883, 0.9929083781751883, 0.9929083781751883, 0.9929083781751883, 0.9929083781751883, 0.9929083781751883, 0.9929083781751883, 0.9929083781751883, 0.9962714646464645, 0.9962714646464645]}], \"matthews_correlation\": [{\"categories\": [\"0\", \"1\", \"2\", \"3\", \"4\", \"5\", \"6\", \"7\", \"8\", \"9\", \"10\", \"11\", \"12\", \"13\", \"14\", \"15\", \"16\", \"17\", \"18\", \"19\", \"20\", \"21\", \"22\", \"23\", \"24\", \"25\", \"26\", \"27\", \"28\", \"29\", \"30\", \"31\", \"32\", \"33\", \"34\", \"35\", \"36\", \"37\", \"38\", \"39\", \"40\", \"41\", \"42\", \"43\", \"44\", \"45\", \"46\", \"47\", \"48\", \"49\", \"50\", \"53\", \"54\"], \"mode\": \"markers\", \"name\": \"matthews_correlation\", \"stepped\": false, \"type\": \"scatter\", \"data\": [0.9059170029620965, 0.9058274526265475, 0.7796779918657595, 0.6317484788387292, 0.8131675523798643, 0.7633291145570411, 0.82639101548921, 0.9140605690520474, 0.799680120417419, 0.8384191858473985, 0.7113161007501129, 0.7007515496343583, 0.4139751634747479, 0.5568781355610115, 0.7188749787579527, 0.737406302623058, 0.5506306489940375, 0.8159641387920955, 0.6806567910661564, 0.6010742864346083, 0.7783272761026265, 0.8432192210072849, 0.8617447715792157, 0.7596073637656067, 0.6311158162041557, 0.6781762346975663, 0.7521116364676321, 0.6622261502202591, 0.6367855108146179, 0.6379798952563978, 0.5436897660780579, 0.6724969593384913, 0.6915135473416674, 0.8218363017334923, 0.8047795158065945, 0.674178713599624, 0.8126847155206773, 0.8168314043210131, 0.8519697256345076, 0.7098215720238781, 0.8288329563528807, 0.8008158104164027, 0.8381312256826309, 0.7837878789063786, 0.7864692990516071, 0.23022160425444244, 0.7951842260323022, 0.7745266274031853, 0.7912705128974644, 0.6616653317561252, 0.7034483273750652, 0.9279377495458334, 0.8795896903909387]}, {\"categories\": [\"0\", \"1\", \"2\", \"3\", \"4\", \"5\", \"6\", \"7\", \"8\", \"9\", \"10\", \"11\", \"12\", \"13\", \"14\", \"15\", \"16\", \"17\", \"18\", \"19\", \"20\", \"21\", \"22\", \"23\", \"24\", \"25\", \"26\", \"27\", \"28\", \"29\", \"30\", \"31\", \"32\", \"33\", \"34\", \"35\", \"36\", \"37\", \"38\", \"39\", \"40\", \"41\", \"42\", \"43\", \"44\", \"45\", \"46\", \"47\", \"48\", \"49\", \"50\", \"53\", \"54\"], \"mode\": \"lines\", \"name\": \"matthews_correlation_max\", \"stepped\": true, \"type\": \"scatter\", \"data\": [0.9059170029620965, 0.9059170029620965, 0.9059170029620965, 0.9059170029620965, 0.9059170029620965, 0.9059170029620965, 0.9059170029620965, 0.9140605690520474, 0.9140605690520474, 0.9140605690520474, 0.9140605690520474, 0.9140605690520474, 0.9140605690520474, 0.9140605690520474, 0.9140605690520474, 0.9140605690520474, 0.9140605690520474, 0.9140605690520474, 0.9140605690520474, 0.9140605690520474, 0.9140605690520474, 0.9140605690520474, 0.9140605690520474, 0.9140605690520474, 0.9140605690520474, 0.9140605690520474, 0.9140605690520474, 0.9140605690520474, 0.9140605690520474, 0.9140605690520474, 0.9140605690520474, 0.9140605690520474, 0.9140605690520474, 0.9140605690520474, 0.9140605690520474, 0.9140605690520474, 0.9140605690520474, 0.9140605690520474, 0.9140605690520474, 0.9140605690520474, 0.9140605690520474, 0.9140605690520474, 0.9140605690520474, 0.9140605690520474, 0.9140605690520474, 0.9140605690520474, 0.9140605690520474, 0.9140605690520474, 0.9140605690520474, 0.9140605690520474, 0.9140605690520474, 0.9279377495458334, 0.9279377495458334]}], \"recall_score_macro\": [{\"categories\": [\"0\", \"1\", \"2\", \"3\", \"4\", \"5\", \"6\", \"7\", \"8\", \"9\", \"10\", \"11\", \"12\", \"13\", \"14\", \"15\", \"16\", \"17\", \"18\", \"19\", \"20\", \"21\", \"22\", \"23\", \"24\", \"25\", \"26\", \"27\", \"28\", \"29\", \"30\", \"31\", \"32\", \"33\", \"34\", \"35\", \"36\", \"37\", \"38\", \"39\", \"40\", \"41\", \"42\", \"43\", \"44\", \"45\", \"46\", \"47\", \"48\", \"49\", \"50\", \"53\", \"54\"], \"mode\": \"markers\", \"name\": \"recall_score_macro\", \"stepped\": false, \"type\": \"scatter\", \"data\": [0.9424406130268199, 0.9361666666666666, 0.851646962233169, 0.8007047755883964, 0.8914808164274237, 0.8592961557815562, 0.9003675843529848, 0.9457777777777778, 0.8786929811783816, 0.8837777777777778, 0.8325521081625087, 0.85861835240214, 0.6347619047619047, 0.7631215526069532, 0.8054126984126985, 0.8217301587301588, 0.7486594982078854, 0.8693809523809524, 0.8105227302823244, 0.7645941588537528, 0.8664390129244135, 0.8984781746031747, 0.9141410098522167, 0.8455440348182284, 0.7464047619047618, 0.8023297491039425, 0.8532449525045465, 0.8578441478185639, 0.8482960079100235, 0.8449700902237055, 0.6942222222222222, 0.7740757808499745, 0.7978055555555555, 0.8846751240355244, 0.8778237967229903, 0.7992146697388633, 0.8766527777777778, 0.9045643969489909, 0.8984408602150538, 0.8126886288998356, 0.8872662570404506, 0.8945643969489909, 0.9030795019157087, 0.8752505208609213, 0.8622162698412698, 0.6075595127743348, 0.8925203621307626, 0.8684251240355245, 0.8671309523809523, 0.7758194444444444, 0.8179886160990165, 0.9452777777777778, 0.9172777777777779]}, {\"categories\": [\"0\", \"1\", \"2\", \"3\", \"4\", \"5\", \"6\", \"7\", \"8\", \"9\", \"10\", \"11\", \"12\", \"13\", \"14\", \"15\", \"16\", \"17\", \"18\", \"19\", \"20\", \"21\", \"22\", \"23\", \"24\", \"25\", \"26\", \"27\", \"28\", \"29\", \"30\", \"31\", \"32\", \"33\", \"34\", \"35\", \"36\", \"37\", \"38\", \"39\", \"40\", \"41\", \"42\", \"43\", \"44\", \"45\", \"46\", \"47\", \"48\", \"49\", \"50\", \"53\", \"54\"], \"mode\": \"lines\", \"name\": \"recall_score_macro_max\", \"stepped\": true, \"type\": \"scatter\", \"data\": [0.9424406130268199, 0.9424406130268199, 0.9424406130268199, 0.9424406130268199, 0.9424406130268199, 0.9424406130268199, 0.9424406130268199, 0.9457777777777778, 0.9457777777777778, 0.9457777777777778, 0.9457777777777778, 0.9457777777777778, 0.9457777777777778, 0.9457777777777778, 0.9457777777777778, 0.9457777777777778, 0.9457777777777778, 0.9457777777777778, 0.9457777777777778, 0.9457777777777778, 0.9457777777777778, 0.9457777777777778, 0.9457777777777778, 0.9457777777777778, 0.9457777777777778, 0.9457777777777778, 0.9457777777777778, 0.9457777777777778, 0.9457777777777778, 0.9457777777777778, 0.9457777777777778, 0.9457777777777778, 0.9457777777777778, 0.9457777777777778, 0.9457777777777778, 0.9457777777777778, 0.9457777777777778, 0.9457777777777778, 0.9457777777777778, 0.9457777777777778, 0.9457777777777778, 0.9457777777777778, 0.9457777777777778, 0.9457777777777778, 0.9457777777777778, 0.9457777777777778, 0.9457777777777778, 0.9457777777777778, 0.9457777777777778, 0.9457777777777778, 0.9457777777777778, 0.9457777777777778, 0.9457777777777778]}], \"f1_score_weighted\": [{\"categories\": [\"0\", \"1\", \"2\", \"3\", \"4\", \"5\", \"6\", \"7\", \"8\", \"9\", \"10\", \"11\", \"12\", \"13\", \"14\", \"15\", \"16\", \"17\", \"18\", \"19\", \"20\", \"21\", \"22\", \"23\", \"24\", \"25\", \"26\", \"27\", \"28\", \"29\", \"30\", \"31\", \"32\", \"33\", \"34\", \"35\", \"36\", \"37\", \"38\", \"39\", \"40\", \"41\", \"42\", \"43\", \"44\", \"45\", \"46\", \"47\", \"48\", \"49\", \"50\", \"53\", \"54\"], \"mode\": \"markers\", \"name\": \"f1_score_weighted\", \"stepped\": false, \"type\": \"scatter\", \"data\": [0.9635496298140946, 0.9628368745273296, 0.9179077239964337, 0.8587041321435626, 0.931607650852885, 0.9089431728393903, 0.9358237797107026, 0.963481522544666, 0.9296134152585764, 0.93845063115284, 0.8981713461614207, 0.8836092583793338, 0.7743468235456019, 0.8346678357952866, 0.8881320602474447, 0.8946331908831908, 0.8308880389660317, 0.928303238784008, 0.8826373924761022, 0.8507860357627053, 0.9198821150990872, 0.941134410624682, 0.9516418831088552, 0.9006120410928103, 0.8540041053473889, 0.8814285537167461, 0.9076105389877102, 0.8674184916088965, 0.8467319074095659, 0.8498701809046636, 0.8149507859151948, 0.8740677828818855, 0.8830526204564666, 0.9357608108189253, 0.9304580463906253, 0.8789828326790692, 0.9284165774488355, 0.9372203324373045, 0.9452526684784749, 0.8928731838593867, 0.9356632339262612, 0.9308704557091654, 0.941385472852445, 0.9208485382875224, 0.9194611872836782, 0.708834232925424, 0.92636778449165, 0.919703035152118, 0.9184179432732564, 0.8682578111235728, 0.8859191734191734, 0.9733542741607257, 0.9514661204983785]}, {\"categories\": [\"0\", \"1\", \"2\", \"3\", \"4\", \"5\", \"6\", \"7\", \"8\", \"9\", \"10\", \"11\", \"12\", \"13\", \"14\", \"15\", \"16\", \"17\", \"18\", \"19\", \"20\", \"21\", \"22\", \"23\", \"24\", \"25\", \"26\", \"27\", \"28\", \"29\", \"30\", \"31\", \"32\", \"33\", \"34\", \"35\", \"36\", \"37\", \"38\", \"39\", \"40\", \"41\", \"42\", \"43\", \"44\", \"45\", \"46\", \"47\", \"48\", \"49\", \"50\", \"53\", \"54\"], \"mode\": \"lines\", \"name\": \"f1_score_weighted_max\", \"stepped\": true, \"type\": \"scatter\", \"data\": [0.9635496298140946, 0.9635496298140946, 0.9635496298140946, 0.9635496298140946, 0.9635496298140946, 0.9635496298140946, 0.9635496298140946, 0.9635496298140946, 0.9635496298140946, 0.9635496298140946, 0.9635496298140946, 0.9635496298140946, 0.9635496298140946, 0.9635496298140946, 0.9635496298140946, 0.9635496298140946, 0.9635496298140946, 0.9635496298140946, 0.9635496298140946, 0.9635496298140946, 0.9635496298140946, 0.9635496298140946, 0.9635496298140946, 0.9635496298140946, 0.9635496298140946, 0.9635496298140946, 0.9635496298140946, 0.9635496298140946, 0.9635496298140946, 0.9635496298140946, 0.9635496298140946, 0.9635496298140946, 0.9635496298140946, 0.9635496298140946, 0.9635496298140946, 0.9635496298140946, 0.9635496298140946, 0.9635496298140946, 0.9635496298140946, 0.9635496298140946, 0.9635496298140946, 0.9635496298140946, 0.9635496298140946, 0.9635496298140946, 0.9635496298140946, 0.9635496298140946, 0.9635496298140946, 0.9635496298140946, 0.9635496298140946, 0.9635496298140946, 0.9635496298140946, 0.9733542741607257, 0.9733542741607257]}], \"average_precision_score_micro\": [{\"categories\": [\"0\", \"1\", \"2\", \"3\", \"4\", \"5\", \"6\", \"7\", \"8\", \"9\", \"10\", \"11\", \"12\", \"13\", \"14\", \"15\", \"16\", \"17\", \"18\", \"19\", \"20\", \"21\", \"22\", \"23\", \"24\", \"25\", \"26\", \"27\", \"28\", \"29\", \"30\", \"31\", \"32\", \"33\", \"34\", \"35\", \"36\", \"37\", \"38\", \"39\", \"40\", \"41\", \"42\", \"43\", \"44\", \"45\", \"46\", \"47\", \"48\", \"49\", \"50\", \"53\", \"54\"], \"mode\": \"markers\", \"name\": \"average_precision_score_micro\", \"stepped\": false, \"type\": \"scatter\", \"data\": [0.993843075058092, 0.9918968830352352, 0.9722131544222934, 0.9589324387670823, 0.9833909622872978, 0.9791981990621869, 0.9876853592861135, 0.9878690630815072, 0.9781276121522892, 0.9822594259925612, 0.969768219914464, 0.9699755083605837, 0.9355526630819988, 0.9412179724570973, 0.9688631036079464, 0.9661399061080518, 0.9406823220713416, 0.9790584590284087, 0.9638320113099039, 0.9277433029023692, 0.9619283873490614, 0.985549419743079, 0.9763272378326295, 0.9697592987132057, 0.9442631722323149, 0.952135504739276, 0.9762915561392124, 0.9562763942026598, 0.9323123785511154, 0.9387140981203818, 0.9533130933574316, 0.9676277215018642, 0.9573220687109185, 0.9747609414292544, 0.9735874277618974, 0.9555858318220422, 0.9787838386747698, 0.9718922664456553, 0.9869018927589834, 0.969760563278709, 0.986163530903432, 0.9750696119398714, 0.9810993243355691, 0.969566614631525, 0.9793440441303064, 0.8419103391542961, 0.9771001825794656, 0.9756019580711917, 0.9691279768458841, 0.9611976495178199, 0.9694419876762315, 0.9948842958174099, 0.9929056634118558]}, {\"categories\": [\"0\", \"1\", \"2\", \"3\", \"4\", \"5\", \"6\", \"7\", \"8\", \"9\", \"10\", \"11\", \"12\", \"13\", \"14\", \"15\", \"16\", \"17\", \"18\", \"19\", \"20\", \"21\", \"22\", \"23\", \"24\", \"25\", \"26\", \"27\", \"28\", \"29\", \"30\", \"31\", \"32\", \"33\", \"34\", \"35\", \"36\", \"37\", \"38\", \"39\", \"40\", \"41\", \"42\", \"43\", \"44\", \"45\", \"46\", \"47\", \"48\", \"49\", \"50\", \"53\", \"54\"], \"mode\": \"lines\", \"name\": \"average_precision_score_micro_max\", \"stepped\": true, \"type\": \"scatter\", \"data\": [0.993843075058092, 0.993843075058092, 0.993843075058092, 0.993843075058092, 0.993843075058092, 0.993843075058092, 0.993843075058092, 0.993843075058092, 0.993843075058092, 0.993843075058092, 0.993843075058092, 0.993843075058092, 0.993843075058092, 0.993843075058092, 0.993843075058092, 0.993843075058092, 0.993843075058092, 0.993843075058092, 0.993843075058092, 0.993843075058092, 0.993843075058092, 0.993843075058092, 0.993843075058092, 0.993843075058092, 0.993843075058092, 0.993843075058092, 0.993843075058092, 0.993843075058092, 0.993843075058092, 0.993843075058092, 0.993843075058092, 0.993843075058092, 0.993843075058092, 0.993843075058092, 0.993843075058092, 0.993843075058092, 0.993843075058092, 0.993843075058092, 0.993843075058092, 0.993843075058092, 0.993843075058092, 0.993843075058092, 0.993843075058092, 0.993843075058092, 0.993843075058092, 0.993843075058092, 0.993843075058092, 0.993843075058092, 0.993843075058092, 0.993843075058092, 0.993843075058092, 0.9948842958174099, 0.9948842958174099]}]}, \"metricName\": null, \"primaryMetricName\": \"accuracy\", \"showLegend\": false}, \"run_metrics\": [{\"name\": \"experiment_status\", \"run_id\": \"AutoML_77352c12-d25b-4d39-8406-3436e020c60e\", \"categories\": [0, 1, 2, 3, 4, 5, 6, 7, 8, 9, 10, 11, 12, 13], \"series\": [{\"data\": [\"DatasetEvaluation\", \"FeaturesGeneration\", \"DatasetFeaturization\", \"DatasetFeaturizationCompleted\", \"DatasetCrossValidationSplit\", \"ModelSelection\", \"BestRunExplainModel\", \"ModelExplanationDataSetSetup\", \"PickSurrogateModel\", \"EngineeredFeatureExplanations\", \"EngineeredFeatureExplanations\", \"RawFeaturesExplanations\", \"RawFeaturesExplanations\", \"BestRunExplainModel\"]}]}, {\"name\": \"experiment_status_description\", \"run_id\": \"AutoML_77352c12-d25b-4d39-8406-3436e020c60e\", \"categories\": [0, 1, 2, 3, 4, 5, 6, 7, 8, 9, 10, 11, 12, 13], \"series\": [{\"data\": [\"Gathering dataset statistics.\", \"Generating features for the dataset.\", \"Beginning to fit featurizers and featurize the dataset.\", \"Completed fit featurizers and featurizing the dataset.\", \"Generating individually featurized CV splits.\", \"Beginning model selection.\", \"Best run model explanations started\", \"Model explanations data setup completed\", \"Choosing LightGBM as the surrogate model for explanations\", \"Computation of engineered features started\", \"Computation of engineered features completed\", \"Computation of raw features started\", \"Computation of raw features completed\", \"Best run model explanations completed\"]}]}, {\"name\": \"precision_score_weighted\", \"run_id\": \"AutoML_77352c12-d25b-4d39-8406-3436e020c60e\", \"categories\": [0], \"series\": [{\"data\": [0.9758219602977667]}]}, {\"name\": \"AUC_micro\", \"run_id\": \"AutoML_77352c12-d25b-4d39-8406-3436e020c60e\", \"categories\": [0], \"series\": [{\"data\": [0.9946088099934254]}]}, {\"name\": \"recall_score_micro\", \"run_id\": \"AutoML_77352c12-d25b-4d39-8406-3436e020c60e\", \"categories\": [0], \"series\": [{\"data\": [0.9743589743589745]}]}, {\"name\": \"accuracy\", \"run_id\": \"AutoML_77352c12-d25b-4d39-8406-3436e020c60e\", \"categories\": [0], \"series\": [{\"data\": [0.9743589743589745]}]}, {\"name\": \"matthews_correlation\", \"run_id\": \"AutoML_77352c12-d25b-4d39-8406-3436e020c60e\", \"categories\": [0], \"series\": [{\"data\": [0.9279377495458334]}]}, {\"name\": \"f1_score_weighted\", \"run_id\": \"AutoML_77352c12-d25b-4d39-8406-3436e020c60e\", \"categories\": [0], \"series\": [{\"data\": [0.9733542741607257]}]}, {\"name\": \"recall_score_macro\", \"run_id\": \"AutoML_77352c12-d25b-4d39-8406-3436e020c60e\", \"categories\": [0], \"series\": [{\"data\": [0.9452777777777778]}]}, {\"name\": \"AUC_macro\", \"run_id\": \"AutoML_77352c12-d25b-4d39-8406-3436e020c60e\", \"categories\": [0], \"series\": [{\"data\": [0.9977120669056152]}]}, {\"name\": \"log_loss\", \"run_id\": \"AutoML_77352c12-d25b-4d39-8406-3436e020c60e\", \"categories\": [0], \"series\": [{\"data\": [0.13622604664445498]}]}, {\"name\": \"average_precision_score_weighted\", \"run_id\": \"AutoML_77352c12-d25b-4d39-8406-3436e020c60e\", \"categories\": [0], \"series\": [{\"data\": [0.9980011759447244]}]}, {\"name\": \"weighted_accuracy\", \"run_id\": \"AutoML_77352c12-d25b-4d39-8406-3436e020c60e\", \"categories\": [0], \"series\": [{\"data\": [0.9905185025951596]}]}, {\"name\": \"f1_score_macro\", \"run_id\": \"AutoML_77352c12-d25b-4d39-8406-3436e020c60e\", \"categories\": [0], \"series\": [{\"data\": [0.9615757808499744]}]}, {\"name\": \"f1_score_micro\", \"run_id\": \"AutoML_77352c12-d25b-4d39-8406-3436e020c60e\", \"categories\": [0], \"series\": [{\"data\": [0.9743589743589745]}]}, {\"name\": \"balanced_accuracy\", \"run_id\": \"AutoML_77352c12-d25b-4d39-8406-3436e020c60e\", \"categories\": [0], \"series\": [{\"data\": [0.9452777777777778]}]}, {\"name\": \"norm_macro_recall\", \"run_id\": \"AutoML_77352c12-d25b-4d39-8406-3436e020c60e\", \"categories\": [0], \"series\": [{\"data\": [0.8905555555555555]}]}, {\"name\": \"AUC_weighted\", \"run_id\": \"AutoML_77352c12-d25b-4d39-8406-3436e020c60e\", \"categories\": [0], \"series\": [{\"data\": [0.9977120669056152]}]}, {\"name\": \"precision_score_micro\", \"run_id\": \"AutoML_77352c12-d25b-4d39-8406-3436e020c60e\", \"categories\": [0], \"series\": [{\"data\": [0.9743589743589745]}]}, {\"name\": \"average_precision_score_macro\", \"run_id\": \"AutoML_77352c12-d25b-4d39-8406-3436e020c60e\", \"categories\": [0], \"series\": [{\"data\": [0.9962714646464645]}]}, {\"name\": \"average_precision_score_micro\", \"run_id\": \"AutoML_77352c12-d25b-4d39-8406-3436e020c60e\", \"categories\": [0], \"series\": [{\"data\": [0.9948842958174099]}]}, {\"name\": \"precision_score_macro\", \"run_id\": \"AutoML_77352c12-d25b-4d39-8406-3436e020c60e\", \"categories\": [0], \"series\": [{\"data\": [0.9841733870967742]}]}, {\"name\": \"recall_score_weighted\", \"run_id\": \"AutoML_77352c12-d25b-4d39-8406-3436e020c60e\", \"categories\": [0], \"series\": [{\"data\": [0.9743589743589745]}]}], \"run_logs\": \"\\nRun is completed.\", \"graph\": {}, \"widget_settings\": {\"childWidgetDisplay\": \"popup\", \"send_telemetry\": false, \"log_level\": \"INFO\", \"sdk_version\": \"1.19.0\"}, \"loading\": false}"
     },
     "metadata": {},
     "output_type": "display_data"
    },
    {
     "name": "stdout",
     "output_type": "stream",
     "text": [
      "\n",
      "\n",
      "****************************************************************************************************\n",
      "DATA GUARDRAILS: \n",
      "\n",
      "TYPE:         Class balancing detection\n",
      "STATUS:       PASSED\n",
      "DESCRIPTION:  Your inputs were analyzed, and all classes are balanced in your training data.\n",
      "              Learn more about imbalanced data: https://aka.ms/AutomatedMLImbalancedData\n",
      "\n",
      "****************************************************************************************************\n",
      "\n",
      "TYPE:         Missing feature values imputation\n",
      "STATUS:       PASSED\n",
      "DESCRIPTION:  No feature missing values were detected in the training data.\n",
      "              Learn more about missing value imputation: https://aka.ms/AutomatedMLFeaturization\n",
      "\n",
      "****************************************************************************************************\n",
      "\n",
      "TYPE:         High cardinality feature detection\n",
      "STATUS:       PASSED\n",
      "DESCRIPTION:  Your inputs were analyzed, and no high cardinality features were detected.\n",
      "              Learn more about high cardinality feature handling: https://aka.ms/AutomatedMLFeaturization\n",
      "\n",
      "****************************************************************************************************\n",
      "\n",
      "****************************************************************************************************\n",
      "ITERATION: The iteration being evaluated.\n",
      "PIPELINE: A summary description of the pipeline being evaluated.\n",
      "DURATION: Time taken for the current iteration.\n",
      "METRIC: The result of computing score on the fitted pipeline.\n",
      "BEST: The best observed score thus far.\n",
      "****************************************************************************************************\n",
      "\n",
      " ITERATION   PIPELINE                                       DURATION      METRIC      BEST\n",
      "         0   MaxAbsScaler LightGBM                          0:00:43       0.9641    0.9641\n",
      "         1   MaxAbsScaler XGBoostClassifier                 0:00:53       0.9641    0.9641\n",
      "         2   MinMaxScaler RandomForest                      0:00:49       0.9231    0.9641\n",
      "         3   MinMaxScaler RandomForest                      0:01:44       0.8615    0.9641\n",
      "         4   MinMaxScaler RandomForest                      0:01:50       0.9333    0.9641\n",
      "         5   RobustScaler LightGBM                          0:02:00       0.9128    0.9641\n",
      "         6   RobustScaler LightGBM                          0:00:44       0.9385    0.9641\n",
      "         7   MinMaxScaler SVM                               0:00:48       0.9641    0.9641\n",
      "        10   SparseNormalizer LightGBM                      0:00:42       0.9026    0.9641\n",
      "        11   RobustScaler RandomForest                      0:00:39       0.8821    0.9641\n",
      "         8   SparseNormalizer XGBoostClassifier             0:00:39       0.9333    0.9641\n",
      "         9   SparseNormalizer XGBoostClassifier             0:00:40       0.9436    0.9641\n",
      "        12   StandardScalerWrapper LightGBM                 0:00:39       0.8205    0.9641\n",
      "        13   StandardScalerWrapper LogisticRegression       0:00:40       0.8410    0.9641\n",
      "        14   MaxAbsScaler LightGBM                          0:00:51       0.8974    0.9641\n",
      "        15   MaxAbsScaler LightGBM                          0:00:49       0.9026    0.9641\n",
      "        16   StandardScalerWrapper LogisticRegression       0:00:43       0.8410    0.9641\n",
      "        17   MinMaxScaler LightGBM                          0:00:44       0.9333    0.9641\n",
      "        18   SparseNormalizer XGBoostClassifier             0:00:37       0.8923    0.9641\n",
      "        19   SparseNormalizer XGBoostClassifier             0:00:43       0.8615    0.9641\n",
      "        20   SparseNormalizer XGBoostClassifier             0:00:43       0.9231    0.9641\n",
      "        21   SparseNormalizer XGBoostClassifier             0:00:38       0.9436    0.9641\n",
      "        22   SparseNormalizer XGBoostClassifier             0:00:46       0.9538    0.9641\n",
      "        23   StandardScalerWrapper XGBoostClassifier        0:00:45       0.9077    0.9641\n",
      "        24   StandardScalerWrapper LightGBM                 0:00:40       0.8718    0.9641\n",
      "        25   TruncatedSVDWrapper LightGBM                   0:00:39       0.8872    0.9641\n",
      "        26   SparseNormalizer XGBoostClassifier             0:00:37       0.9128    0.9641\n",
      "        27   SparseNormalizer ExtremeRandomTrees            0:00:44       0.8615    0.9641\n",
      "        28   MaxAbsScaler ExtremeRandomTrees                0:00:40       0.8410    0.9641\n",
      "        29   StandardScalerWrapper RandomForest             0:00:42       0.8462    0.9641\n",
      "        30   StandardScalerWrapper LightGBM                 0:00:49       0.8410    0.9641\n",
      "        31   RobustScaler ExtremeRandomTrees                0:00:45       0.8872    0.9641\n",
      "        32   SparseNormalizer XGBoostClassifier             0:00:40       0.8923    0.9641\n",
      "        33   SparseNormalizer XGBoostClassifier             0:00:40       0.9385    0.9641\n",
      "        34   SparseNormalizer XGBoostClassifier             0:00:35       0.9333    0.9641\n",
      "        35   SparseNormalizer LightGBM                      0:00:43       0.8872    0.9641\n",
      "        36   SparseNormalizer XGBoostClassifier             0:00:42       0.9333    0.9641\n",
      "        37   SparseNormalizer XGBoostClassifier             0:00:45       0.9385    0.9641\n",
      "        38   MinMaxScaler ExtremeRandomTrees                0:00:55       0.9487    0.9641\n",
      "        39   SparseNormalizer XGBoostClassifier             0:00:51       0.9026    0.9641\n",
      "        40   RobustScaler LightGBM                          0:00:51       0.9385    0.9641\n",
      "        41   SparseNormalizer XGBoostClassifier             0:00:52       0.9333    0.9641\n",
      "        42   SparseNormalizer XGBoostClassifier             0:00:40       0.9436    0.9641\n",
      "        43   SparseNormalizer XGBoostClassifier             0:00:45       0.9231    0.9641\n",
      "        44   StandardScalerWrapper LightGBM                 0:00:40       0.9231    0.9641\n",
      "        45   PCA LightGBM                                   0:00:40       0.7436    0.9641\n",
      "        46   SparseNormalizer XGBoostClassifier             0:00:38       0.9282    0.9641\n",
      "        47   SparseNormalizer XGBoostClassifier             0:00:38       0.9231    0.9641\n",
      "        48   SparseNormalizer XGBoostClassifier             0:00:39       0.9231    0.9641\n",
      "        49   RobustScaler ExtremeRandomTrees                0:00:43       0.8821    0.9641\n",
      "        50   TruncatedSVDWrapper LightGBM                   0:00:38       0.8923    0.9641\n",
      "        51                                                  0:00:23          nan    0.9641\n",
      "        52                                                  0:00:12          nan    0.9641\n",
      "        53    VotingEnsemble                                0:01:39       0.9744    0.9744\n",
      "        54    StackEnsemble                                 0:01:38       0.9538    0.9744\n"
     ]
    },
    {
     "data": {
      "text/plain": [
       "{'runId': 'AutoML_77352c12-d25b-4d39-8406-3436e020c60e',\n",
       " 'target': 'cpu-cluster',\n",
       " 'status': 'Completed',\n",
       " 'startTimeUtc': '2020-12-31T11:41:41.509751Z',\n",
       " 'endTimeUtc': '2020-12-31T12:05:42.331564Z',\n",
       " 'properties': {'num_iterations': '1000',\n",
       "  'training_type': 'TrainFull',\n",
       "  'acquisition_function': 'EI',\n",
       "  'primary_metric': 'accuracy',\n",
       "  'train_split': '0',\n",
       "  'acquisition_parameter': '0',\n",
       "  'num_cross_validation': '5',\n",
       "  'target': 'cpu-cluster',\n",
       "  'AMLSettingsJsonString': '{\"path\":null,\"name\":\"Parkinson-classification-AutoML\",\"subscription_id\":\"976ee174-3882-4721-b90a-b5fef6b72f24\",\"resource_group\":\"aml-quickstarts-132622\",\"workspace_name\":\"quick-starts-ws-132622\",\"region\":\"southcentralus\",\"compute_target\":\"cpu-cluster\",\"spark_service\":null,\"azure_service\":\"remote\",\"many_models\":false,\"pipeline_fetch_max_batch_size\":1,\"iterations\":1000,\"primary_metric\":\"accuracy\",\"task_type\":\"classification\",\"data_script\":null,\"validation_size\":0.0,\"n_cross_validations\":5,\"y_min\":null,\"y_max\":null,\"num_classes\":null,\"featurization\":\"auto\",\"_ignore_package_version_incompatibilities\":false,\"is_timeseries\":false,\"max_cores_per_iteration\":1,\"max_concurrent_iterations\":4,\"iteration_timeout_minutes\":null,\"mem_in_mb\":null,\"enforce_time_on_windows\":false,\"experiment_timeout_minutes\":15,\"experiment_exit_score\":null,\"whitelist_models\":null,\"blacklist_algos\":[\"TensorFlowLinearClassifier\",\"TensorFlowDNN\"],\"supported_models\":[\"SVM\",\"TensorFlowDNN\",\"XGBoostClassifier\",\"ExtremeRandomTrees\",\"RandomForest\",\"SGD\",\"KNN\",\"DecisionTree\",\"LogisticRegression\",\"MultinomialNaiveBayes\",\"LightGBM\",\"GradientBoosting\",\"LinearSVM\",\"TensorFlowLinearClassifier\",\"AveragedPerceptronClassifier\",\"BernoulliNaiveBayes\"],\"auto_blacklist\":true,\"blacklist_samples_reached\":false,\"exclude_nan_labels\":true,\"verbosity\":20,\"_debug_log\":\"azureml_automl.log\",\"show_warnings\":false,\"model_explainability\":true,\"service_url\":null,\"sdk_url\":null,\"sdk_packages\":null,\"enable_onnx_compatible_models\":false,\"enable_split_onnx_featurizer_estimator_models\":false,\"vm_type\":\"STANDARD_DS3_V2\",\"telemetry_verbosity\":20,\"send_telemetry\":true,\"enable_dnn\":false,\"scenario\":\"SDK-1.13.0\",\"environment_label\":null,\"force_text_dnn\":false,\"enable_feature_sweeping\":true,\"enable_early_stopping\":false,\"early_stopping_n_iters\":10,\"metrics\":null,\"enable_ensembling\":true,\"enable_stack_ensembling\":true,\"ensemble_iterations\":15,\"enable_tf\":false,\"enable_subsampling\":null,\"subsample_seed\":null,\"enable_nimbusml\":false,\"enable_streaming\":false,\"force_streaming\":false,\"track_child_runs\":true,\"allowed_private_models\":[],\"label_column_name\":\"status\",\"weight_column_name\":null,\"cv_split_column_names\":null,\"enable_local_managed\":false,\"_local_managed_run_id\":null,\"cost_mode\":1,\"lag_length\":0,\"metric_operation\":\"maximize\",\"preprocess\":true}',\n",
       "  'DataPrepJsonString': '{\\\\\"training_data\\\\\": \\\\\"{\\\\\\\\\\\\\"blocks\\\\\\\\\\\\\": [{\\\\\\\\\\\\\"id\\\\\\\\\\\\\": \\\\\\\\\\\\\"20943a77-c44e-4e56-83e3-ab0845b6b2e7\\\\\\\\\\\\\", \\\\\\\\\\\\\"type\\\\\\\\\\\\\": \\\\\\\\\\\\\"Microsoft.DPrep.GetDatastoreFilesBlock\\\\\\\\\\\\\", \\\\\\\\\\\\\"arguments\\\\\\\\\\\\\": {\\\\\\\\\\\\\"datastores\\\\\\\\\\\\\": [{\\\\\\\\\\\\\"datastoreName\\\\\\\\\\\\\": \\\\\\\\\\\\\"workspaceblobstore\\\\\\\\\\\\\", \\\\\\\\\\\\\"path\\\\\\\\\\\\\": \\\\\\\\\\\\\"data/training_dataset.csv\\\\\\\\\\\\\", \\\\\\\\\\\\\"resourceGroup\\\\\\\\\\\\\": \\\\\\\\\\\\\"aml-quickstarts-132622\\\\\\\\\\\\\", \\\\\\\\\\\\\"subscription\\\\\\\\\\\\\": \\\\\\\\\\\\\"976ee174-3882-4721-b90a-b5fef6b72f24\\\\\\\\\\\\\", \\\\\\\\\\\\\"workspaceName\\\\\\\\\\\\\": \\\\\\\\\\\\\"quick-starts-ws-132622\\\\\\\\\\\\\"}]}, \\\\\\\\\\\\\"localData\\\\\\\\\\\\\": {}, \\\\\\\\\\\\\"isEnabled\\\\\\\\\\\\\": true, \\\\\\\\\\\\\"name\\\\\\\\\\\\\": null, \\\\\\\\\\\\\"annotation\\\\\\\\\\\\\": null}, {\\\\\\\\\\\\\"id\\\\\\\\\\\\\": \\\\\\\\\\\\\"c81ad372-7de5-4fdd-a5cd-4d312e15b379\\\\\\\\\\\\\", \\\\\\\\\\\\\"type\\\\\\\\\\\\\": \\\\\\\\\\\\\"Microsoft.DPrep.ParseDelimitedBlock\\\\\\\\\\\\\", \\\\\\\\\\\\\"arguments\\\\\\\\\\\\\": {\\\\\\\\\\\\\"columnHeadersMode\\\\\\\\\\\\\": 3, \\\\\\\\\\\\\"fileEncoding\\\\\\\\\\\\\": 0, \\\\\\\\\\\\\"handleQuotedLineBreaks\\\\\\\\\\\\\": false, \\\\\\\\\\\\\"preview\\\\\\\\\\\\\": false, \\\\\\\\\\\\\"separator\\\\\\\\\\\\\": \\\\\\\\\\\\\",\\\\\\\\\\\\\", \\\\\\\\\\\\\"skipRows\\\\\\\\\\\\\": 0, \\\\\\\\\\\\\"skipRowsMode\\\\\\\\\\\\\": 0}, \\\\\\\\\\\\\"localData\\\\\\\\\\\\\": {}, \\\\\\\\\\\\\"isEnabled\\\\\\\\\\\\\": true, \\\\\\\\\\\\\"name\\\\\\\\\\\\\": null, \\\\\\\\\\\\\"annotation\\\\\\\\\\\\\": null}, {\\\\\\\\\\\\\"id\\\\\\\\\\\\\": \\\\\\\\\\\\\"d5397071-725f-4797-9330-197de0ca8246\\\\\\\\\\\\\", \\\\\\\\\\\\\"type\\\\\\\\\\\\\": \\\\\\\\\\\\\"Microsoft.DPrep.DropColumnsBlock\\\\\\\\\\\\\", \\\\\\\\\\\\\"arguments\\\\\\\\\\\\\": {\\\\\\\\\\\\\"columns\\\\\\\\\\\\\": {\\\\\\\\\\\\\"type\\\\\\\\\\\\\": 0, \\\\\\\\\\\\\"details\\\\\\\\\\\\\": {\\\\\\\\\\\\\"selectedColumns\\\\\\\\\\\\\": [\\\\\\\\\\\\\"Path\\\\\\\\\\\\\"]}}}, \\\\\\\\\\\\\"localData\\\\\\\\\\\\\": {}, \\\\\\\\\\\\\"isEnabled\\\\\\\\\\\\\": true, \\\\\\\\\\\\\"name\\\\\\\\\\\\\": null, \\\\\\\\\\\\\"annotation\\\\\\\\\\\\\": null}, {\\\\\\\\\\\\\"id\\\\\\\\\\\\\": \\\\\\\\\\\\\"70bdf349-e367-47b8-8328-ba0fe65d9315\\\\\\\\\\\\\", \\\\\\\\\\\\\"type\\\\\\\\\\\\\": \\\\\\\\\\\\\"Microsoft.DPrep.SetColumnTypesBlock\\\\\\\\\\\\\", \\\\\\\\\\\\\"arguments\\\\\\\\\\\\\": {\\\\\\\\\\\\\"columnConversion\\\\\\\\\\\\\": [{\\\\\\\\\\\\\"column\\\\\\\\\\\\\": {\\\\\\\\\\\\\"type\\\\\\\\\\\\\": 2, \\\\\\\\\\\\\"details\\\\\\\\\\\\\": {\\\\\\\\\\\\\"selectedColumn\\\\\\\\\\\\\": \\\\\\\\\\\\\"Column1\\\\\\\\\\\\\"}}, \\\\\\\\\\\\\"typeProperty\\\\\\\\\\\\\": 2}, {\\\\\\\\\\\\\"column\\\\\\\\\\\\\": {\\\\\\\\\\\\\"type\\\\\\\\\\\\\": 2, \\\\\\\\\\\\\"details\\\\\\\\\\\\\": {\\\\\\\\\\\\\"selectedColumn\\\\\\\\\\\\\": \\\\\\\\\\\\\"name\\\\\\\\\\\\\"}}, \\\\\\\\\\\\\"typeProperty\\\\\\\\\\\\\": 0}, {\\\\\\\\\\\\\"column\\\\\\\\\\\\\": {\\\\\\\\\\\\\"type\\\\\\\\\\\\\": 2, \\\\\\\\\\\\\"details\\\\\\\\\\\\\": {\\\\\\\\\\\\\"selectedColumn\\\\\\\\\\\\\": \\\\\\\\\\\\\"MDVP:Fo(Hz)\\\\\\\\\\\\\"}}, \\\\\\\\\\\\\"typeProperty\\\\\\\\\\\\\": 3}, {\\\\\\\\\\\\\"column\\\\\\\\\\\\\": {\\\\\\\\\\\\\"type\\\\\\\\\\\\\": 2, \\\\\\\\\\\\\"details\\\\\\\\\\\\\": {\\\\\\\\\\\\\"selectedColumn\\\\\\\\\\\\\": \\\\\\\\\\\\\"MDVP:Fhi(Hz)\\\\\\\\\\\\\"}}, \\\\\\\\\\\\\"typeProperty\\\\\\\\\\\\\": 3}, {\\\\\\\\\\\\\"column\\\\\\\\\\\\\": {\\\\\\\\\\\\\"type\\\\\\\\\\\\\": 2, \\\\\\\\\\\\\"details\\\\\\\\\\\\\": {\\\\\\\\\\\\\"selectedColumn\\\\\\\\\\\\\": \\\\\\\\\\\\\"MDVP:Flo(Hz)\\\\\\\\\\\\\"}}, \\\\\\\\\\\\\"typeProperty\\\\\\\\\\\\\": 3}, {\\\\\\\\\\\\\"column\\\\\\\\\\\\\": {\\\\\\\\\\\\\"type\\\\\\\\\\\\\": 2, \\\\\\\\\\\\\"details\\\\\\\\\\\\\": {\\\\\\\\\\\\\"selectedColumn\\\\\\\\\\\\\": \\\\\\\\\\\\\"MDVP:Jitter(%)\\\\\\\\\\\\\"}}, \\\\\\\\\\\\\"typeProperty\\\\\\\\\\\\\": 3}, {\\\\\\\\\\\\\"column\\\\\\\\\\\\\": {\\\\\\\\\\\\\"type\\\\\\\\\\\\\": 2, \\\\\\\\\\\\\"details\\\\\\\\\\\\\": {\\\\\\\\\\\\\"selectedColumn\\\\\\\\\\\\\": \\\\\\\\\\\\\"MDVP:Jitter(Abs)\\\\\\\\\\\\\"}}, \\\\\\\\\\\\\"typeProperty\\\\\\\\\\\\\": 3}, {\\\\\\\\\\\\\"column\\\\\\\\\\\\\": {\\\\\\\\\\\\\"type\\\\\\\\\\\\\": 2, \\\\\\\\\\\\\"details\\\\\\\\\\\\\": {\\\\\\\\\\\\\"selectedColumn\\\\\\\\\\\\\": \\\\\\\\\\\\\"MDVP:RAP\\\\\\\\\\\\\"}}, \\\\\\\\\\\\\"typeProperty\\\\\\\\\\\\\": 3}, {\\\\\\\\\\\\\"column\\\\\\\\\\\\\": {\\\\\\\\\\\\\"type\\\\\\\\\\\\\": 2, \\\\\\\\\\\\\"details\\\\\\\\\\\\\": {\\\\\\\\\\\\\"selectedColumn\\\\\\\\\\\\\": \\\\\\\\\\\\\"MDVP:PPQ\\\\\\\\\\\\\"}}, \\\\\\\\\\\\\"typeProperty\\\\\\\\\\\\\": 3}, {\\\\\\\\\\\\\"column\\\\\\\\\\\\\": {\\\\\\\\\\\\\"type\\\\\\\\\\\\\": 2, \\\\\\\\\\\\\"details\\\\\\\\\\\\\": {\\\\\\\\\\\\\"selectedColumn\\\\\\\\\\\\\": \\\\\\\\\\\\\"Jitter:DDP\\\\\\\\\\\\\"}}, \\\\\\\\\\\\\"typeProperty\\\\\\\\\\\\\": 3}, {\\\\\\\\\\\\\"column\\\\\\\\\\\\\": {\\\\\\\\\\\\\"type\\\\\\\\\\\\\": 2, \\\\\\\\\\\\\"details\\\\\\\\\\\\\": {\\\\\\\\\\\\\"selectedColumn\\\\\\\\\\\\\": \\\\\\\\\\\\\"MDVP:Shimmer\\\\\\\\\\\\\"}}, \\\\\\\\\\\\\"typeProperty\\\\\\\\\\\\\": 3}, {\\\\\\\\\\\\\"column\\\\\\\\\\\\\": {\\\\\\\\\\\\\"type\\\\\\\\\\\\\": 2, \\\\\\\\\\\\\"details\\\\\\\\\\\\\": {\\\\\\\\\\\\\"selectedColumn\\\\\\\\\\\\\": \\\\\\\\\\\\\"MDVP:Shimmer(dB)\\\\\\\\\\\\\"}}, \\\\\\\\\\\\\"typeProperty\\\\\\\\\\\\\": 3}, {\\\\\\\\\\\\\"column\\\\\\\\\\\\\": {\\\\\\\\\\\\\"type\\\\\\\\\\\\\": 2, \\\\\\\\\\\\\"details\\\\\\\\\\\\\": {\\\\\\\\\\\\\"selectedColumn\\\\\\\\\\\\\": \\\\\\\\\\\\\"Shimmer:APQ3\\\\\\\\\\\\\"}}, \\\\\\\\\\\\\"typeProperty\\\\\\\\\\\\\": 3}, {\\\\\\\\\\\\\"column\\\\\\\\\\\\\": {\\\\\\\\\\\\\"type\\\\\\\\\\\\\": 2, \\\\\\\\\\\\\"details\\\\\\\\\\\\\": {\\\\\\\\\\\\\"selectedColumn\\\\\\\\\\\\\": \\\\\\\\\\\\\"Shimmer:APQ5\\\\\\\\\\\\\"}}, \\\\\\\\\\\\\"typeProperty\\\\\\\\\\\\\": 3}, {\\\\\\\\\\\\\"column\\\\\\\\\\\\\": {\\\\\\\\\\\\\"type\\\\\\\\\\\\\": 2, \\\\\\\\\\\\\"details\\\\\\\\\\\\\": {\\\\\\\\\\\\\"selectedColumn\\\\\\\\\\\\\": \\\\\\\\\\\\\"MDVP:APQ\\\\\\\\\\\\\"}}, \\\\\\\\\\\\\"typeProperty\\\\\\\\\\\\\": 3}, {\\\\\\\\\\\\\"column\\\\\\\\\\\\\": {\\\\\\\\\\\\\"type\\\\\\\\\\\\\": 2, \\\\\\\\\\\\\"details\\\\\\\\\\\\\": {\\\\\\\\\\\\\"selectedColumn\\\\\\\\\\\\\": \\\\\\\\\\\\\"Shimmer:DDA\\\\\\\\\\\\\"}}, \\\\\\\\\\\\\"typeProperty\\\\\\\\\\\\\": 3}, {\\\\\\\\\\\\\"column\\\\\\\\\\\\\": {\\\\\\\\\\\\\"type\\\\\\\\\\\\\": 2, \\\\\\\\\\\\\"details\\\\\\\\\\\\\": {\\\\\\\\\\\\\"selectedColumn\\\\\\\\\\\\\": \\\\\\\\\\\\\"NHR\\\\\\\\\\\\\"}}, \\\\\\\\\\\\\"typeProperty\\\\\\\\\\\\\": 3}, {\\\\\\\\\\\\\"column\\\\\\\\\\\\\": {\\\\\\\\\\\\\"type\\\\\\\\\\\\\": 2, \\\\\\\\\\\\\"details\\\\\\\\\\\\\": {\\\\\\\\\\\\\"selectedColumn\\\\\\\\\\\\\": \\\\\\\\\\\\\"HNR\\\\\\\\\\\\\"}}, \\\\\\\\\\\\\"typeProperty\\\\\\\\\\\\\": 3}, {\\\\\\\\\\\\\"column\\\\\\\\\\\\\": {\\\\\\\\\\\\\"type\\\\\\\\\\\\\": 2, \\\\\\\\\\\\\"details\\\\\\\\\\\\\": {\\\\\\\\\\\\\"selectedColumn\\\\\\\\\\\\\": \\\\\\\\\\\\\"status\\\\\\\\\\\\\"}}, \\\\\\\\\\\\\"typeProperty\\\\\\\\\\\\\": 2}, {\\\\\\\\\\\\\"column\\\\\\\\\\\\\": {\\\\\\\\\\\\\"type\\\\\\\\\\\\\": 2, \\\\\\\\\\\\\"details\\\\\\\\\\\\\": {\\\\\\\\\\\\\"selectedColumn\\\\\\\\\\\\\": \\\\\\\\\\\\\"RPDE\\\\\\\\\\\\\"}}, \\\\\\\\\\\\\"typeProperty\\\\\\\\\\\\\": 3}, {\\\\\\\\\\\\\"column\\\\\\\\\\\\\": {\\\\\\\\\\\\\"type\\\\\\\\\\\\\": 2, \\\\\\\\\\\\\"details\\\\\\\\\\\\\": {\\\\\\\\\\\\\"selectedColumn\\\\\\\\\\\\\": \\\\\\\\\\\\\"DFA\\\\\\\\\\\\\"}}, \\\\\\\\\\\\\"typeProperty\\\\\\\\\\\\\": 3}, {\\\\\\\\\\\\\"column\\\\\\\\\\\\\": {\\\\\\\\\\\\\"type\\\\\\\\\\\\\": 2, \\\\\\\\\\\\\"details\\\\\\\\\\\\\": {\\\\\\\\\\\\\"selectedColumn\\\\\\\\\\\\\": \\\\\\\\\\\\\"spread1\\\\\\\\\\\\\"}}, \\\\\\\\\\\\\"typeProperty\\\\\\\\\\\\\": 3}, {\\\\\\\\\\\\\"column\\\\\\\\\\\\\": {\\\\\\\\\\\\\"type\\\\\\\\\\\\\": 2, \\\\\\\\\\\\\"details\\\\\\\\\\\\\": {\\\\\\\\\\\\\"selectedColumn\\\\\\\\\\\\\": \\\\\\\\\\\\\"spread2\\\\\\\\\\\\\"}}, \\\\\\\\\\\\\"typeProperty\\\\\\\\\\\\\": 3}, {\\\\\\\\\\\\\"column\\\\\\\\\\\\\": {\\\\\\\\\\\\\"type\\\\\\\\\\\\\": 2, \\\\\\\\\\\\\"details\\\\\\\\\\\\\": {\\\\\\\\\\\\\"selectedColumn\\\\\\\\\\\\\": \\\\\\\\\\\\\"D2\\\\\\\\\\\\\"}}, \\\\\\\\\\\\\"typeProperty\\\\\\\\\\\\\": 3}, {\\\\\\\\\\\\\"column\\\\\\\\\\\\\": {\\\\\\\\\\\\\"type\\\\\\\\\\\\\": 2, \\\\\\\\\\\\\"details\\\\\\\\\\\\\": {\\\\\\\\\\\\\"selectedColumn\\\\\\\\\\\\\": \\\\\\\\\\\\\"PPE\\\\\\\\\\\\\"}}, \\\\\\\\\\\\\"typeProperty\\\\\\\\\\\\\": 3}]}, \\\\\\\\\\\\\"localData\\\\\\\\\\\\\": {}, \\\\\\\\\\\\\"isEnabled\\\\\\\\\\\\\": true, \\\\\\\\\\\\\"name\\\\\\\\\\\\\": null, \\\\\\\\\\\\\"annotation\\\\\\\\\\\\\": null}], \\\\\\\\\\\\\"inspectors\\\\\\\\\\\\\": [], \\\\\\\\\\\\\"meta\\\\\\\\\\\\\": {\\\\\\\\\\\\\"savedDatasetId\\\\\\\\\\\\\": \\\\\\\\\\\\\"15204659-1a91-473e-981f-7850f248422f\\\\\\\\\\\\\", \\\\\\\\\\\\\"datasetType\\\\\\\\\\\\\": \\\\\\\\\\\\\"tabular\\\\\\\\\\\\\", \\\\\\\\\\\\\"subscriptionId\\\\\\\\\\\\\": \\\\\\\\\\\\\"976ee174-3882-4721-b90a-b5fef6b72f24\\\\\\\\\\\\\", \\\\\\\\\\\\\"workspaceId\\\\\\\\\\\\\": \\\\\\\\\\\\\"b31c461b-0287-44c7-ab7a-600be87db9ad\\\\\\\\\\\\\", \\\\\\\\\\\\\"workspaceLocation\\\\\\\\\\\\\": \\\\\\\\\\\\\"southcentralus\\\\\\\\\\\\\"}}\\\\\", \\\\\"activities\\\\\": 0}',\n",
       "  'EnableSubsampling': None,\n",
       "  'runTemplate': 'AutoML',\n",
       "  'azureml.runsource': 'automl',\n",
       "  'display_task_type': 'classification',\n",
       "  'dependencies_versions': '{\"azureml-widgets\": \"1.19.0\", \"azureml-train\": \"1.19.0\", \"azureml-train-restclients-hyperdrive\": \"1.19.0\", \"azureml-train-core\": \"1.19.0\", \"azureml-train-automl\": \"1.19.0\", \"azureml-train-automl-runtime\": \"1.19.0\", \"azureml-train-automl-client\": \"1.19.0\", \"azureml-tensorboard\": \"1.19.0\", \"azureml-telemetry\": \"1.19.0\", \"azureml-sdk\": \"1.19.0\", \"azureml-samples\": \"0+unknown\", \"azureml-pipeline\": \"1.19.0\", \"azureml-pipeline-steps\": \"1.19.0\", \"azureml-pipeline-core\": \"1.19.0\", \"azureml-opendatasets\": \"1.19.0\", \"azureml-model-management-sdk\": \"1.0.1b6.post1\", \"azureml-mlflow\": \"1.19.0\", \"azureml-interpret\": \"1.19.0\", \"azureml-explain-model\": \"1.19.0\", \"azureml-defaults\": \"1.19.0\", \"azureml-dataset-runtime\": \"1.19.0\", \"azureml-dataprep\": \"2.6.1\", \"azureml-dataprep-rslex\": \"1.4.0\", \"azureml-dataprep-native\": \"26.0.0\", \"azureml-datadrift\": \"1.19.0\", \"azureml-core\": \"1.19.0\", \"azureml-contrib-services\": \"1.19.0\", \"azureml-contrib-server\": \"1.19.0\", \"azureml-contrib-reinforcementlearning\": \"1.19.0\", \"azureml-contrib-pipeline-steps\": \"1.19.0\", \"azureml-contrib-notebook\": \"1.19.0\", \"azureml-contrib-interpret\": \"1.19.0\", \"azureml-contrib-gbdt\": \"1.19.0\", \"azureml-contrib-fairness\": \"1.19.0\", \"azureml-contrib-dataset\": \"1.19.0\", \"azureml-cli-common\": \"1.19.0\", \"azureml-automl-runtime\": \"1.19.0\", \"azureml-automl-core\": \"1.19.0\", \"azureml-accel-models\": \"1.19.0\"}',\n",
       "  '_aml_system_scenario_identification': 'Remote.Parent',\n",
       "  'ClientType': 'SDK',\n",
       "  'environment_cpu_name': 'AzureML-AutoML',\n",
       "  'environment_cpu_label': 'prod',\n",
       "  'environment_gpu_name': 'AzureML-AutoML-GPU',\n",
       "  'environment_gpu_label': 'prod',\n",
       "  'root_attribution': 'automl',\n",
       "  'attribution': 'AutoML',\n",
       "  'Orchestrator': 'AutoML',\n",
       "  'CancelUri': 'https://southcentralus.experiments.azureml.net/jasmine/v1.0/subscriptions/976ee174-3882-4721-b90a-b5fef6b72f24/resourceGroups/aml-quickstarts-132622/providers/Microsoft.MachineLearningServices/workspaces/quick-starts-ws-132622/experimentids/a2931fd3-61ba-4e29-b9af-980296b38162/cancel/AutoML_77352c12-d25b-4d39-8406-3436e020c60e',\n",
       "  'ClientSdkVersion': '1.19.0',\n",
       "  'snapshotId': '00000000-0000-0000-0000-000000000000',\n",
       "  'SetupRunId': 'AutoML_77352c12-d25b-4d39-8406-3436e020c60e_setup',\n",
       "  'SetupRunContainerId': 'dcid.AutoML_77352c12-d25b-4d39-8406-3436e020c60e_setup',\n",
       "  'FeaturizationRunJsonPath': 'featurizer_container.json',\n",
       "  'FeaturizationRunId': 'AutoML_77352c12-d25b-4d39-8406-3436e020c60e_featurize',\n",
       "  'ProblemInfoJsonString': '{\"dataset_num_categorical\": 0, \"is_sparse\": false, \"subsampling\": false, \"dataset_classes\": 2, \"dataset_features\": 23, \"dataset_samples\": 195, \"single_frequency_class_detected\": false}',\n",
       "  'ModelExplainRunId': 'AutoML_77352c12-d25b-4d39-8406-3436e020c60e_ModelExplain'},\n",
       " 'inputDatasets': [{'dataset': {'id': '15204659-1a91-473e-981f-7850f248422f'}, 'consumptionDetails': {'type': 'RunInput', 'inputName': 'training_data', 'mechanism': 'Direct'}}],\n",
       " 'outputDatasets': [],\n",
       " 'logFiles': {}}"
      ]
     },
     "execution_count": 8,
     "metadata": {},
     "output_type": "execute_result"
    }
   ],
   "source": [
    "RunDetails(auto_ml_run).show()\n",
    "auto_ml_run.wait_for_completion(show_output=True)"
   ]
  },
  {
   "cell_type": "markdown",
   "metadata": {},
   "source": [
    "## Best Model\n",
    "\n",
    "The best model from the automl experiments is retrieved and  all the properties of the model are displayed\n",
    "\n"
   ]
  },
  {
   "cell_type": "code",
   "execution_count": 26,
   "metadata": {
    "gather": {
     "logged": 1598431425670
    },
    "jupyter": {
     "outputs_hidden": false,
     "source_hidden": false
    },
    "nteract": {
     "transient": {
      "deleting": false
     }
    }
   },
   "outputs": [
    {
     "name": "stdout",
     "output_type": "stream",
     "text": [
      "Run(Experiment: Parkinson-classification-AutoML,\n",
      "Id: AutoML_77352c12-d25b-4d39-8406-3436e020c60e_53,\n",
      "Type: azureml.scriptrun,\n",
      "Status: Completed)\n",
      "Pipeline(memory=None,\n",
      "         steps=[('datatransformer',\n",
      "                 DataTransformer(enable_dnn=None, enable_feature_sweeping=None,\n",
      "                                 feature_sweeping_config=None,\n",
      "                                 feature_sweeping_timeout=None,\n",
      "                                 featurization_config=None, force_text_dnn=None,\n",
      "                                 is_cross_validation=None,\n",
      "                                 is_onnx_compatible=None, logger=None,\n",
      "                                 observer=None, task=None, working_dir=None)),\n",
      "                ('prefittedsoftvotingclassifier',...\n",
      "                                                                                               objective='reg:logistic',\n",
      "                                                                                               random_state=0,\n",
      "                                                                                               reg_alpha=1.9791666666666667,\n",
      "                                                                                               reg_lambda=1.875,\n",
      "                                                                                               scale_pos_weight=1,\n",
      "                                                                                               seed=None,\n",
      "                                                                                               silent=None,\n",
      "                                                                                               subsample=0.8,\n",
      "                                                                                               tree_method='hist',\n",
      "                                                                                               verbose=-10,\n",
      "                                                                                               verbosity=0))],\n",
      "                                                                     verbose=False))],\n",
      "                                               flatten_transform=None,\n",
      "                                               weights=[0.25,\n",
      "                                                        0.08333333333333333,\n",
      "                                                        0.25,\n",
      "                                                        0.08333333333333333,\n",
      "                                                        0.08333333333333333,\n",
      "                                                        0.08333333333333333,\n",
      "                                                        0.16666666666666666]))],\n",
      "         verbose=False)\n"
     ]
    },
    {
     "data": {
      "text/plain": [
       "['best-trained-model-pakinson.pkl']"
      ]
     },
     "execution_count": 26,
     "metadata": {},
     "output_type": "execute_result"
    }
   ],
   "source": [
    "# Retrieve and save  the best automl model.\n",
    "best_run, fitted_model = auto_ml_run.get_output()\n",
    "print(best_run)\n",
    "print(fitted_model)\n",
    "\n",
    "\n",
    "#TODO: Save the best model\n",
    "import joblib\n",
    "\n",
    "joblib.dump(value=fitted_model, filename=\"best-trained-model-pakinson.pkl\")"
   ]
  },
  {
   "cell_type": "markdown",
   "metadata": {},
   "source": [
    "## Model Deployment\n",
    "\n",
    "\n",
    "In the cell below we first  register the model, then develope the scoring script to finally  create the inference config and deploy the model as a web service."
   ]
  },
  {
   "cell_type": "code",
   "execution_count": 27,
   "metadata": {
    "gather": {
     "logged": 1598431435189
    },
    "jupyter": {
     "outputs_hidden": false,
     "source_hidden": false
    },
    "nteract": {
     "transient": {
      "deleting": false
     }
    }
   },
   "outputs": [
    {
     "name": "stdout",
     "output_type": "stream",
     "text": [
      "Parkinson-detection-automl\n"
     ]
    }
   ],
   "source": [
    "#Register the model\n",
    "description ='Parkinson detection classification '\n",
    "model_name='Parkinson-detection-automl'\n",
    "model_path='./'\n",
    "tags = None\n",
    "model = auto_ml_run.register_model(model_name = model_name, description = description , tags = tags)\n",
    "print(auto_ml_run.model_id)"
   ]
  },
  {
   "cell_type": "code",
   "execution_count": 34,
   "metadata": {},
   "outputs": [
    {
     "name": "stdout",
     "output_type": "stream",
     "text": [
      "Registering model best-trained-model-pakinson\n",
      "Downloading model best-trained-model-pakinson:1 to /tmp/azureml_xt4p4xqu/best-trained-model-pakinson/1\n",
      "Generating Docker build context.\n",
      "Package creation Succeeded\n",
      "Logging into Docker registry viennaglobal.azurecr.io\n",
      "Logging into Docker registry viennaglobal.azurecr.io\n",
      "Building Docker image from Dockerfile...\n",
      "Step 1/5 : FROM viennaglobal.azurecr.io/azureml/azureml_4f3cee89203e005745d1830c04fe722a\n",
      " ---> c354c32ff2d1\n",
      "Step 2/5 : COPY azureml-app /var/azureml-app\n",
      " ---> 6cfc1e6ff15a\n",
      "Step 3/5 : RUN mkdir -p '/var/azureml-app' && echo eyJhY2NvdW50Q29udGV4dCI6eyJzdWJzY3JpcHRpb25JZCI6Ijk3NmVlMTc0LTM4ODItNDcyMS1iOTBhLWI1ZmVmNmI3MmYyNCIsInJlc291cmNlR3JvdXBOYW1lIjoiYW1sLXF1aWNrc3RhcnRzLTEzMjYyMiIsImFjY291bnROYW1lIjoicXVpY2stc3RhcnRzLXdzLTEzMjYyMiIsIndvcmtzcGFjZUlkIjoiYjMxYzQ2MWItMDI4Ny00NGM3LWFiN2EtNjAwYmU4N2RiOWFkIn0sIm1vZGVscyI6e30sIm1vZGVsc0luZm8iOnt9fQ== | base64 --decode > /var/azureml-app/model_config_map.json\n",
      " ---> Running in c48a6eba4d63\n",
      " ---> 9a86eb4b2562\n",
      "Step 4/5 : RUN mv '/var/azureml-app/tmp398dake4.py' /var/azureml-app/main.py\n",
      " ---> Running in b8179708e3c6\n",
      " ---> 661f34c980ac\n",
      "Step 5/5 : CMD [\"runsvdir\",\"/var/runit\"]\n",
      " ---> Running in 9e3578e85cc5\n",
      " ---> 32c1a6c6a76a\n",
      "Successfully built 32c1a6c6a76a\n",
      "Successfully tagged automl-cla-parkinson-03:latest\n",
      "Starting Docker container...\n",
      "Docker container running.\n",
      "Checking container health...\n",
      "Local webservice is running at http://localhost:8080\n",
      "running\n",
      "scoring URI: http://localhost:8080/score\n"
     ]
    }
   ],
   "source": [
    "from azureml.core.model import Model\n",
    "from azureml.core.model import InferenceConfig\n",
    "#from azureml.core.webservice import AciWebservice\n",
    "from azureml.core import Workspace, Environment\n",
    "from azureml.core.webservice import LocalWebservice\n",
    "from azureml.core.conda_dependencies import CondaDependencies\n",
    "\n",
    "\n",
    "model = Model.register(model_path=\"best-trained-model-pakinson.pkl\",\n",
    "                       model_name=\"best-trained-model-pakinson\",\n",
    "                       workspace = ws)\n",
    "\n",
    "\n",
    "\n",
    "service_name = 'automl-cla-parkinson-03'\n",
    "\n",
    "env = Environment.get(workspace=ws, name=\"AzureML-AutoML\")\n",
    "\n",
    "\n",
    "inference_config = InferenceConfig(entry_script='score.py', environment=env)\n",
    "deployment_conf = LocalWebservice.deploy_configuration(port=8080)\n",
    "\n",
    "\n",
    "service = Model.deploy(workspace=ws,\n",
    "                          name=service_name,\n",
    "                          models=[model],\n",
    "                          inference_config=inference_config,\n",
    "                          \n",
    "                          deployment_config=deployment_conf)\n",
    "                       \n",
    "service.wait_for_deployment(show_output=True)\n",
    "\n",
    "\n",
    "print(service.state)\n",
    "print(\"scoring URI: \" + service.scoring_uri)"
   ]
  },
  {
   "cell_type": "markdown",
   "metadata": {
    "collapsed": true,
    "gather": {
     "logged": 1598431657736
    },
    "jupyter": {
     "outputs_hidden": false,
     "source_hidden": false
    },
    "nteract": {
     "transient": {
      "deleting": false
     }
    }
   },
   "source": [
    "Send a request to the web deployed service  to test it."
   ]
  },
  {
   "cell_type": "code",
   "execution_count": 73,
   "metadata": {
    "gather": {
     "logged": 1598432707604
    },
    "jupyter": {
     "outputs_hidden": false,
     "source_hidden": false
    },
    "nteract": {
     "transient": {
      "deleting": false
     }
    }
   },
   "outputs": [
    {
     "name": "stdout",
     "output_type": "stream",
     "text": [
      "               name  MDVP:Fo(Hz)  MDVP:Fhi(Hz)  MDVP:Flo(Hz)  MDVP:Jitter(%)  \\\n",
      "100  phon_R01_S24_4       125.64        141.07        116.35            0.03   \n",
      "\n",
      "     MDVP:Jitter(Abs)  MDVP:RAP  MDVP:PPQ  Jitter:DDP  MDVP:Shimmer  ...  \\\n",
      "100              0.00      0.02      0.02        0.06          0.09  ...   \n",
      "\n",
      "     MDVP:APQ  Shimmer:DDA  NHR  HNR  RPDE  DFA  spread1  spread2   D2  PPE  \n",
      "100      0.06         0.16 0.31 8.87  0.67 0.66    -3.70     0.26 2.99 0.37  \n",
      "\n",
      "[1 rows x 23 columns]\n",
      "100    1\n",
      "Name: status, dtype: int64\n",
      "Prediction for the parkinson case=>\n",
      "{\"error\": \"list indices must be integers or slices, not str\"}\n",
      "Expectation for the parkinson case=>\n",
      "100    1\n",
      "Name: status, dtype: int64\n"
     ]
    }
   ],
   "source": [
    "#choose a line to test with it \n",
    "x_ds = ds.to_pandas_dataframe().iloc[[100]]\n",
    "y_ds = x_ds.pop(\"status\")\n",
    "print(x_ds)\n",
    "print(y_ds)\n",
    "\n",
    "\n",
    "input_parkinson_case = json.dumps([x_ds.values.tolist()])\n",
    "output = service.run(input_parkinson_case)\n",
    "print(\"Prediction for the parkinson case=>\")\n",
    "print(output)\n",
    "print(\"Expectation for the parkinson case=>\")\n",
    "print(y_ds)\n"
   ]
  },
  {
   "cell_type": "markdown",
   "metadata": {
    "collapsed": true,
    "gather": {
     "logged": 1598432765711
    },
    "jupyter": {
     "outputs_hidden": false,
     "source_hidden": false
    },
    "nteract": {
     "transient": {
      "deleting": false
     }
    }
   },
   "source": [
    "In the cell below, the logs of the web service are printed once over the service is deleted"
   ]
  },
  {
   "cell_type": "code",
   "execution_count": null,
   "metadata": {
    "jupyter": {
     "outputs_hidden": false,
     "source_hidden": false
    },
    "nteract": {
     "transient": {
      "deleting": false
     }
    }
   },
   "outputs": [],
   "source": [
    "print(aci_service.get_logs())\n"
   ]
  },
  {
   "cell_type": "code",
   "execution_count": null,
   "metadata": {},
   "outputs": [],
   "source": [
    "aci_service.delete()\n",
    "aml_compute.delete()"
   ]
  }
 ],
 "metadata": {
  "kernel_info": {
   "name": "python3"
  },
  "kernelspec": {
   "display_name": "Python 3",
   "language": "python",
   "name": "python3"
  },
  "language_info": {
   "codemirror_mode": {
    "name": "ipython",
    "version": 3
   },
   "file_extension": ".py",
   "mimetype": "text/x-python",
   "name": "python",
   "nbconvert_exporter": "python",
   "pygments_lexer": "ipython3",
   "version": "3.6.9"
  },
  "nteract": {
   "version": "nteract-front-end@1.0.0"
  }
 },
 "nbformat": 4,
 "nbformat_minor": 2
}
