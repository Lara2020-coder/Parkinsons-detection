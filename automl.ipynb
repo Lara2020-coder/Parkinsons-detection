{
 "cells": [
  {
   "cell_type": "markdown",
   "metadata": {},
   "source": [
    "# Automated ML\n",
    "\n",
    "we start by importing all the dependencies that we will need to complete the project."
   ]
  },
  {
   "cell_type": "code",
   "execution_count": 1,
   "metadata": {
    "gather": {
     "logged": 1598423888013
    },
    "jupyter": {
     "outputs_hidden": false,
     "source_hidden": false
    },
    "nteract": {
     "transient": {
      "deleting": false
     }
    }
   },
   "outputs": [],
   "source": [
    "from azureml.core import Workspace, Experiment\n",
    "from azureml.core.compute import ComputeTarget, AmlCompute\n",
    "from azureml.core.compute_target import ComputeTargetException\n",
    "from azureml.data.dataset_factory import TabularDatasetFactory\n",
    "import pandas as pd\n",
    "from azureml.train.automl import AutoMLConfig\n",
    "from azureml.widgets import RunDetails\n",
    "from azureml.core.model import Model\n",
    "from azureml.core.model import InferenceConfig\n",
    "from azureml.core import Workspace, Environment\n",
    "from azureml.core import Model\n",
    "from azureml.core.webservice import AciWebservice, Webservice\n",
    "import json\n",
    "import joblib\n"
   ]
  },
  {
   "cell_type": "markdown",
   "metadata": {},
   "source": [
    "## Dataset\n",
    "\n",
    "### Overview\n",
    "We first of all define the workspace and create the experiment 'Parkinson-classification-AutoML' \n",
    "\n",
    "We then access to the dataset from the external link (placed in the github)\n",
    "\n",
    "We move then to prepare the data(read the data using TabularDatasetFactory  then transforme it to a dataframe then store it in a csv file ) and send it to the default datastore so that we can use it in the Automl Config \n",
    "\n",
    "To finally create the compute cluster \n",
    "\n",
    "The dataset used in this notebook  is composed of a range of biomedical voice measurements from 31 people, 23 with Parkinson's disease (PD). Each column in the data is a particular voice measure, and each row corresponds one of 195 voice recording from these individuals (\"name\" column)"
   ]
  },
  {
   "cell_type": "code",
   "execution_count": 2,
   "metadata": {
    "gather": {
     "logged": 1598423890461
    },
    "jupyter": {
     "outputs_hidden": false,
     "source_hidden": false
    },
    "nteract": {
     "transient": {
      "deleting": false
     }
    },
    "scrolled": true
   },
   "outputs": [
    {
     "name": "stdout",
     "output_type": "stream",
     "text": [
      "Workspace name: quick-starts-ws-132680\n",
      "Azure region: southcentralus\n",
      "Subscription id: 3d1a56d2-7c81-4118-9790-f85d1acf0c77\n",
      "Resource group: aml-quickstarts-132680\n"
     ]
    }
   ],
   "source": [
    "#Connection to the workspace and definition of the experiment \n",
    "ws = Workspace.from_config()\n",
    "experiment_name = 'Parkinson-classification-AutoML'\n",
    "\n",
    "experiment=Experiment(workspace=ws, name=experiment_name)\n",
    "\n",
    "print('Workspace name: ' + ws.name, \n",
    "      'Azure region: ' + ws.location, \n",
    "      'Subscription id: ' + ws.subscription_id, \n",
    "      'Resource group: ' + ws.resource_group, sep = '\\n')\n",
    "\n",
    "run = experiment.start_logging()"
   ]
  },
  {
   "cell_type": "code",
   "execution_count": 3,
   "metadata": {},
   "outputs": [
    {
     "data": {
      "text/html": [
       "<div>\n",
       "<style scoped>\n",
       "    .dataframe tbody tr th:only-of-type {\n",
       "        vertical-align: middle;\n",
       "    }\n",
       "\n",
       "    .dataframe tbody tr th {\n",
       "        vertical-align: top;\n",
       "    }\n",
       "\n",
       "    .dataframe thead th {\n",
       "        text-align: right;\n",
       "    }\n",
       "</style>\n",
       "<table border=\"1\" class=\"dataframe\">\n",
       "  <thead>\n",
       "    <tr style=\"text-align: right;\">\n",
       "      <th></th>\n",
       "      <th>name</th>\n",
       "      <th>MDVP:Fo(Hz)</th>\n",
       "      <th>MDVP:Fhi(Hz)</th>\n",
       "      <th>MDVP:Flo(Hz)</th>\n",
       "      <th>MDVP:Jitter(%)</th>\n",
       "      <th>MDVP:Jitter(Abs)</th>\n",
       "      <th>MDVP:RAP</th>\n",
       "      <th>MDVP:PPQ</th>\n",
       "      <th>Jitter:DDP</th>\n",
       "      <th>MDVP:Shimmer</th>\n",
       "      <th>...</th>\n",
       "      <th>Shimmer:DDA</th>\n",
       "      <th>NHR</th>\n",
       "      <th>HNR</th>\n",
       "      <th>status</th>\n",
       "      <th>RPDE</th>\n",
       "      <th>DFA</th>\n",
       "      <th>spread1</th>\n",
       "      <th>spread2</th>\n",
       "      <th>D2</th>\n",
       "      <th>PPE</th>\n",
       "    </tr>\n",
       "  </thead>\n",
       "  <tbody>\n",
       "    <tr>\n",
       "      <th>0</th>\n",
       "      <td>phon_R01_S01_1</td>\n",
       "      <td>119.992</td>\n",
       "      <td>157.302</td>\n",
       "      <td>74.997</td>\n",
       "      <td>0.00784</td>\n",
       "      <td>0.00007</td>\n",
       "      <td>0.00370</td>\n",
       "      <td>0.00554</td>\n",
       "      <td>0.01109</td>\n",
       "      <td>0.04374</td>\n",
       "      <td>...</td>\n",
       "      <td>0.06545</td>\n",
       "      <td>0.02211</td>\n",
       "      <td>21.033</td>\n",
       "      <td>1</td>\n",
       "      <td>0.414783</td>\n",
       "      <td>0.815285</td>\n",
       "      <td>-4.813031</td>\n",
       "      <td>0.266482</td>\n",
       "      <td>2.301442</td>\n",
       "      <td>0.284654</td>\n",
       "    </tr>\n",
       "    <tr>\n",
       "      <th>1</th>\n",
       "      <td>phon_R01_S01_2</td>\n",
       "      <td>122.400</td>\n",
       "      <td>148.650</td>\n",
       "      <td>113.819</td>\n",
       "      <td>0.00968</td>\n",
       "      <td>0.00008</td>\n",
       "      <td>0.00465</td>\n",
       "      <td>0.00696</td>\n",
       "      <td>0.01394</td>\n",
       "      <td>0.06134</td>\n",
       "      <td>...</td>\n",
       "      <td>0.09403</td>\n",
       "      <td>0.01929</td>\n",
       "      <td>19.085</td>\n",
       "      <td>1</td>\n",
       "      <td>0.458359</td>\n",
       "      <td>0.819521</td>\n",
       "      <td>-4.075192</td>\n",
       "      <td>0.335590</td>\n",
       "      <td>2.486855</td>\n",
       "      <td>0.368674</td>\n",
       "    </tr>\n",
       "    <tr>\n",
       "      <th>2</th>\n",
       "      <td>phon_R01_S01_3</td>\n",
       "      <td>116.682</td>\n",
       "      <td>131.111</td>\n",
       "      <td>111.555</td>\n",
       "      <td>0.01050</td>\n",
       "      <td>0.00009</td>\n",
       "      <td>0.00544</td>\n",
       "      <td>0.00781</td>\n",
       "      <td>0.01633</td>\n",
       "      <td>0.05233</td>\n",
       "      <td>...</td>\n",
       "      <td>0.08270</td>\n",
       "      <td>0.01309</td>\n",
       "      <td>20.651</td>\n",
       "      <td>1</td>\n",
       "      <td>0.429895</td>\n",
       "      <td>0.825288</td>\n",
       "      <td>-4.443179</td>\n",
       "      <td>0.311173</td>\n",
       "      <td>2.342259</td>\n",
       "      <td>0.332634</td>\n",
       "    </tr>\n",
       "    <tr>\n",
       "      <th>3</th>\n",
       "      <td>phon_R01_S01_4</td>\n",
       "      <td>116.676</td>\n",
       "      <td>137.871</td>\n",
       "      <td>111.366</td>\n",
       "      <td>0.00997</td>\n",
       "      <td>0.00009</td>\n",
       "      <td>0.00502</td>\n",
       "      <td>0.00698</td>\n",
       "      <td>0.01505</td>\n",
       "      <td>0.05492</td>\n",
       "      <td>...</td>\n",
       "      <td>0.08771</td>\n",
       "      <td>0.01353</td>\n",
       "      <td>20.644</td>\n",
       "      <td>1</td>\n",
       "      <td>0.434969</td>\n",
       "      <td>0.819235</td>\n",
       "      <td>-4.117501</td>\n",
       "      <td>0.334147</td>\n",
       "      <td>2.405554</td>\n",
       "      <td>0.368975</td>\n",
       "    </tr>\n",
       "    <tr>\n",
       "      <th>4</th>\n",
       "      <td>phon_R01_S01_5</td>\n",
       "      <td>116.014</td>\n",
       "      <td>141.781</td>\n",
       "      <td>110.655</td>\n",
       "      <td>0.01284</td>\n",
       "      <td>0.00011</td>\n",
       "      <td>0.00655</td>\n",
       "      <td>0.00908</td>\n",
       "      <td>0.01966</td>\n",
       "      <td>0.06425</td>\n",
       "      <td>...</td>\n",
       "      <td>0.10470</td>\n",
       "      <td>0.01767</td>\n",
       "      <td>19.649</td>\n",
       "      <td>1</td>\n",
       "      <td>0.417356</td>\n",
       "      <td>0.823484</td>\n",
       "      <td>-3.747787</td>\n",
       "      <td>0.234513</td>\n",
       "      <td>2.332180</td>\n",
       "      <td>0.410335</td>\n",
       "    </tr>\n",
       "  </tbody>\n",
       "</table>\n",
       "<p>5 rows × 24 columns</p>\n",
       "</div>"
      ],
      "text/plain": [
       "             name  MDVP:Fo(Hz)  MDVP:Fhi(Hz)  MDVP:Flo(Hz)  MDVP:Jitter(%)  \\\n",
       "0  phon_R01_S01_1      119.992       157.302        74.997         0.00784   \n",
       "1  phon_R01_S01_2      122.400       148.650       113.819         0.00968   \n",
       "2  phon_R01_S01_3      116.682       131.111       111.555         0.01050   \n",
       "3  phon_R01_S01_4      116.676       137.871       111.366         0.00997   \n",
       "4  phon_R01_S01_5      116.014       141.781       110.655         0.01284   \n",
       "\n",
       "   MDVP:Jitter(Abs)  MDVP:RAP  MDVP:PPQ  Jitter:DDP  MDVP:Shimmer  ...  \\\n",
       "0           0.00007   0.00370   0.00554     0.01109       0.04374  ...   \n",
       "1           0.00008   0.00465   0.00696     0.01394       0.06134  ...   \n",
       "2           0.00009   0.00544   0.00781     0.01633       0.05233  ...   \n",
       "3           0.00009   0.00502   0.00698     0.01505       0.05492  ...   \n",
       "4           0.00011   0.00655   0.00908     0.01966       0.06425  ...   \n",
       "\n",
       "   Shimmer:DDA      NHR     HNR  status      RPDE       DFA   spread1  \\\n",
       "0      0.06545  0.02211  21.033       1  0.414783  0.815285 -4.813031   \n",
       "1      0.09403  0.01929  19.085       1  0.458359  0.819521 -4.075192   \n",
       "2      0.08270  0.01309  20.651       1  0.429895  0.825288 -4.443179   \n",
       "3      0.08771  0.01353  20.644       1  0.434969  0.819235 -4.117501   \n",
       "4      0.10470  0.01767  19.649       1  0.417356  0.823484 -3.747787   \n",
       "\n",
       "    spread2        D2       PPE  \n",
       "0  0.266482  2.301442  0.284654  \n",
       "1  0.335590  2.486855  0.368674  \n",
       "2  0.311173  2.342259  0.332634  \n",
       "3  0.334147  2.405554  0.368975  \n",
       "4  0.234513  2.332180  0.410335  \n",
       "\n",
       "[5 rows x 24 columns]"
      ]
     },
     "execution_count": 3,
     "metadata": {},
     "output_type": "execute_result"
    }
   ],
   "source": [
    "#Get the data from github\n",
    "path_url = 'https://raw.githubusercontent.com/hananeouhammouch/Parkinsons-detection/master/parkinsons.data'\n",
    "ds = TabularDatasetFactory.from_delimited_files(path = path_url)\n",
    "ds.to_pandas_dataframe().head()"
   ]
  },
  {
   "cell_type": "code",
   "execution_count": 4,
   "metadata": {},
   "outputs": [
    {
     "name": "stdout",
     "output_type": "stream",
     "text": [
      "Uploading an estimated of 11 files\n",
      "Target already exists. Skipping upload for data/automl.ipynb\n",
      "Target already exists. Skipping upload for data/automl.log\n",
      "Target already exists. Skipping upload for data/azureml_automl.log\n",
      "Target already exists. Skipping upload for data/hyperparam_tuning.ipynb\n",
      "Target already exists. Skipping upload for data/train.py\n",
      "Target already exists. Skipping upload for data/training_dataset.csv\n",
      "Target already exists. Skipping upload for data/.ipynb_aml_checkpoints/automl-checkpoint2020-11-31-18-35-47.ipynb\n",
      "Target already exists. Skipping upload for data/.ipynb_aml_checkpoints/hyperparam_tuning-checkpoint2020-11-31-18-33-20.ipynb\n",
      "Target already exists. Skipping upload for data/.ipynb_checkpoints/automl-checkpoint.ipynb\n",
      "Target already exists. Skipping upload for data/.ipynb_checkpoints/hyperparam_tuning-checkpoint.ipynb\n",
      "Uploading ./training_data.csv\n",
      "Uploaded ./training_data.csv, 1 files out of an estimated total of 6\n",
      "Uploaded 1 files\n"
     ]
    }
   ],
   "source": [
    "#Prepare the data and send it to the datastore\n",
    "ds.to_pandas_dataframe().drop(\"name\", inplace=True, axis=1)\n",
    "ds.to_pandas_dataframe().to_csv(\"./training_data.csv\")\n",
    "datastore = ws.get_default_datastore()\n",
    "datastore.upload(src_dir = \"./\", target_path = \"data/\")\n",
    "training_data = TabularDatasetFactory.from_delimited_files(path = [(datastore, (\"data/training_data.csv\"))])\n"
   ]
  },
  {
   "cell_type": "code",
   "execution_count": 5,
   "metadata": {},
   "outputs": [
    {
     "name": "stdout",
     "output_type": "stream",
     "text": [
      "Creating\n",
      "Succeeded....................\n",
      "AmlCompute wait for completion finished\n",
      "\n",
      "Wait timeout has been reached\n",
      "Current provisioning state of AmlCompute is \"Succeeded\" and current node count is \"0\"\n"
     ]
    }
   ],
   "source": [
    "#Creation of the compute-cluster\n",
    "amlcompute_cluster_name = \"cpu-cluster\"\n",
    "\n",
    "try:\n",
    "    aml_compute = ComputeTarget(workspace=ws, name=amlcompute_cluster_name)\n",
    "    print('Found existing cluster, use it.')\n",
    "except ComputeTargetException:\n",
    "    compute_config = AmlCompute.provisioning_configuration(vm_size='STANDARD_DS3_V2',\n",
    "                                                           max_nodes=5)\n",
    "    aml_compute = ComputeTarget.create(ws, amlcompute_cluster_name, compute_config)\n",
    "\n",
    "aml_compute.wait_for_completion(show_output=True , min_node_count = 1, timeout_in_minutes = 2)"
   ]
  },
  {
   "cell_type": "markdown",
   "metadata": {},
   "source": [
    "## AutoML Configuration\n",
    "\n",
    "In this section we configure the automnl setting and submit the experiment \n",
    "\n",
    "And Bellow is the description/Reason for the configuration used in Automl\n",
    "\n",
    "|Setting |Reasons ?|\n",
    "|-|-|\n",
    "|**experiment_timeout_minutes**|Maximum amount of time in minutes that all iterations combined can take before the experiment terminates (15 minute because the dataset include only 195 lines)|\n",
    "|**max_concurrent_iterations**|To help manage child runs  in parallele mode and when they can be performed, we create a dedicated cluster per experiment, and match the number of this setting (4) to the number of nodes in the cluster(5-1))|\n",
    "|**n_cross_validations**|Number of cross validation (5) splits to ensure that they will be no overfiting |\n",
    "|**primary_metric**|This is the metric that we want to optimize (accuracy) |\n",
    "|**task**|classification |\n",
    "|**compute_target**|To define the compute cluster we will be using |\n",
    "|**training_data**|To specify the training dataset stored in the datastore  |\n",
    "|**label_column_name**|To specify the dependent variable that we are trying to classify |"
   ]
  },
  {
   "cell_type": "code",
   "execution_count": 6,
   "metadata": {
    "gather": {
     "logged": 1598429217746
    },
    "jupyter": {
     "outputs_hidden": false,
     "source_hidden": false
    },
    "nteract": {
     "transient": {
      "deleting": false
     }
    }
   },
   "outputs": [],
   "source": [
    "# Automl settings \n",
    "automl_settings = {\n",
    "    \"experiment_timeout_minutes\" :15,\n",
    "    \"max_concurrent_iterations\": 4,\n",
    "    \"n_cross_validations\": 5,\n",
    "    \"primary_metric\": 'accuracy',\n",
    "}\n",
    "\n",
    "# Automl config \n",
    "automl_config = AutoMLConfig(\n",
    "    task=\"classification\",\n",
    "    compute_target=aml_compute,\n",
    "    training_data=training_data,\n",
    "    label_column_name=\"status\",\n",
    "    **automl_settings\n",
    ")"
   ]
  },
  {
   "cell_type": "code",
   "execution_count": 7,
   "metadata": {
    "gather": {
     "logged": 1598431107951
    },
    "jupyter": {
     "outputs_hidden": false,
     "source_hidden": false
    },
    "nteract": {
     "transient": {
      "deleting": false
     }
    }
   },
   "outputs": [
    {
     "name": "stdout",
     "output_type": "stream",
     "text": [
      "Running on remote.\n",
      "No run_configuration provided, running on cpu-cluster with default configuration\n",
      "Running on remote compute: cpu-cluster\n",
      "Parent Run ID: AutoML_d641fccc-1da4-4006-977e-0584f94ac0d7\n",
      "\n",
      "Current status: FeaturesGeneration. Generating features for the dataset.\n",
      "Current status: ModelSelection. Beginning model selection.\n",
      "\n",
      "****************************************************************************************************\n",
      "DATA GUARDRAILS: \n",
      "\n",
      "TYPE:         Class balancing detection\n",
      "STATUS:       PASSED\n",
      "DESCRIPTION:  Your inputs were analyzed, and all classes are balanced in your training data.\n",
      "              Learn more about imbalanced data: https://aka.ms/AutomatedMLImbalancedData\n",
      "\n",
      "****************************************************************************************************\n",
      "\n",
      "TYPE:         Missing feature values imputation\n",
      "STATUS:       PASSED\n",
      "DESCRIPTION:  No feature missing values were detected in the training data.\n",
      "              Learn more about missing value imputation: https://aka.ms/AutomatedMLFeaturization\n",
      "\n",
      "****************************************************************************************************\n",
      "\n",
      "TYPE:         High cardinality feature detection\n",
      "STATUS:       PASSED\n",
      "DESCRIPTION:  Your inputs were analyzed, and no high cardinality features were detected.\n",
      "              Learn more about high cardinality feature handling: https://aka.ms/AutomatedMLFeaturization\n",
      "\n",
      "****************************************************************************************************\n",
      "\n",
      "****************************************************************************************************\n",
      "ITERATION: The iteration being evaluated.\n",
      "PIPELINE: A summary description of the pipeline being evaluated.\n",
      "DURATION: Time taken for the current iteration.\n",
      "METRIC: The result of computing score on the fitted pipeline.\n",
      "BEST: The best observed score thus far.\n",
      "****************************************************************************************************\n",
      "\n",
      " ITERATION   PIPELINE                                       DURATION      METRIC      BEST\n",
      "         2   MinMaxScaler RandomForest                      0:00:36       0.9436    0.9436\n",
      "         3   MinMaxScaler RandomForest                      0:00:41       0.8769    0.9436\n",
      "         0   MaxAbsScaler LightGBM                          0:00:50       0.9641    0.9641\n",
      "         1   MaxAbsScaler XGBoostClassifier                 0:00:42       0.9641    0.9641\n",
      "         7   MinMaxScaler SVM                               0:00:44       0.9538    0.9641\n",
      "         4   MinMaxScaler RandomForest                      0:02:00       0.8821    0.9641\n",
      "         6   SparseNormalizer XGBoostClassifier             0:01:52       0.9333    0.9641\n",
      "         5   MinMaxScaler SVM                               0:02:09       0.9487    0.9641\n",
      "         8   SparseNormalizer XGBoostClassifier             0:00:37       0.9436    0.9641\n",
      "        10   StandardScalerWrapper RandomForest             0:00:43       0.9282    0.9641\n",
      "         9   MaxAbsScaler LightGBM                          0:00:37       0.9026    0.9641\n",
      "        11   SparseNormalizer XGBoostClassifier             0:00:43       0.9538    0.9641\n",
      "        12   StandardScalerWrapper LightGBM                 0:00:42       0.8205    0.9641\n",
      "        13   SparseNormalizer XGBoostClassifier             0:00:43       0.9333    0.9641\n",
      "        14   SparseNormalizer XGBoostClassifier             0:00:39       0.9231    0.9641\n",
      "        15   RobustScaler KNN                               0:00:41       0.9692    0.9692\n",
      "        16   StandardScalerWrapper LogisticRegression       0:00:37       0.8308    0.9692\n",
      "        17   StandardScalerWrapper LogisticRegression       0:00:42       0.8308    0.9692\n",
      "        18   MinMaxScaler LightGBM                          0:00:41       0.9538    0.9692\n",
      "        19   MinMaxScaler LogisticRegression                0:00:40       0.8462    0.9692\n",
      "        20   SparseNormalizer XGBoostClassifier             0:00:43       0.8513    0.9692\n",
      "        21   StandardScalerWrapper ExtremeRandomTrees       0:00:42       0.8872    0.9692\n",
      "        22   RobustScaler ExtremeRandomTrees                0:00:36       0.8923    0.9692\n",
      "        23   StandardScalerWrapper LightGBM                 0:00:37       0.9385    0.9692\n",
      "        24   StandardScalerWrapper LightGBM                 0:00:41       0.9333    0.9692\n",
      "        26   SparseNormalizer ExtremeRandomTrees            0:00:41       0.8615    0.9692\n",
      "        25   TruncatedSVDWrapper KNN                        0:00:47       0.9641    0.9692\n",
      "        27   SparseNormalizer LightGBM                      0:00:39       0.9590    0.9692\n",
      "        28   SparseNormalizer RandomForest                  0:00:45       0.9077    0.9692\n",
      "        29   MinMaxScaler LightGBM                          0:00:40       0.8769    0.9692\n",
      "        30   TruncatedSVDWrapper KNN                        0:00:36       0.7949    0.9692\n",
      "        31   MinMaxScaler LightGBM                          0:00:40       0.9590    0.9692\n",
      "        32   MaxAbsScaler LightGBM                          0:00:46       0.9333    0.9692\n",
      "        33   StandardScalerWrapper LightGBM                 0:00:35       0.9179    0.9692\n",
      "        34   SparseNormalizer XGBoostClassifier             0:00:40       0.8769    0.9692\n",
      "        35   TruncatedSVDWrapper KNN                        0:00:43       0.8103    0.9692\n",
      "        36   RobustScaler RandomForest                      0:00:45       0.8667    0.9692\n",
      "        37   SparseNormalizer XGBoostClassifier             0:00:36       0.8923    0.9692\n",
      "        38   StandardScalerWrapper SVM                      0:00:54       0.9590    0.9692\n",
      "        39   SparseNormalizer LightGBM                      0:00:45       0.9026    0.9692\n",
      "        40   PCA KNN                                        0:00:36       0.7846    0.9692\n",
      "        41   SparseNormalizer XGBoostClassifier             0:00:42       0.8923    0.9692\n",
      "        42   SparseNormalizer XGBoostClassifier             0:00:36       0.9282    0.9692\n",
      "        43   SparseNormalizer XGBoostClassifier             0:00:38       0.9179    0.9692\n",
      "        44   SparseNormalizer LightGBM                      0:00:36       0.9333    0.9692\n",
      "        45   SparseNormalizer KNN                           0:00:46       0.8359    0.9692\n",
      "        46   SparseNormalizer XGBoostClassifier             0:00:35       0.9333    0.9692\n",
      "        47   SparseNormalizer XGBoostClassifier             0:00:37       0.9487    0.9692\n",
      "        48   RobustScaler LightGBM                          0:00:41       0.9179    0.9692\n",
      "        49   SparseNormalizer XGBoostClassifier             0:00:37       0.9487    0.9692\n",
      "        50   SparseNormalizer KNN                           0:00:40       0.8103    0.9692\n",
      "        51   SparseNormalizer XGBoostClassifier             0:00:46       0.9385    0.9692\n",
      "        52   SparseNormalizer XGBoostClassifier             0:00:40       0.9026    0.9692\n",
      "        53                                                  0:00:19          nan    0.9692\n",
      "        54                                                  0:00:08          nan    0.9692\n",
      "        55    VotingEnsemble                                0:01:29       0.9846    0.9846\n",
      "        56    StackEnsemble                                 0:02:34       0.9744    0.9846\n"
     ]
    }
   ],
   "source": [
    "# Submit experiment\n",
    "auto_ml_run = experiment.submit(config = automl_config, show_output = True)\n"
   ]
  },
  {
   "cell_type": "markdown",
   "metadata": {},
   "source": [
    "## Run Details\n",
    "\n",
    "`RunDetails` widgets used here to show the different experiments."
   ]
  },
  {
   "cell_type": "code",
   "execution_count": 8,
   "metadata": {
    "gather": {
     "logged": 1598431121770
    },
    "jupyter": {
     "outputs_hidden": false,
     "source_hidden": false
    },
    "nteract": {
     "transient": {
      "deleting": false
     }
    }
   },
   "outputs": [
    {
     "data": {
      "application/vnd.jupyter.widget-view+json": {
       "model_id": "b617432c611f45a5b09caf60d0781cd4",
       "version_major": 2,
       "version_minor": 0
      },
      "text/plain": [
       "_AutoMLWidget(widget_settings={'childWidgetDisplay': 'popup', 'send_telemetry': False, 'log_level': 'INFO', 's…"
      ]
     },
     "metadata": {},
     "output_type": "display_data"
    },
    {
     "data": {
      "application/aml.mini.widget.v1": "{\"status\": \"Completed\", \"workbench_run_details_uri\": \"https://ml.azure.com/experiments/Parkinson-classification-AutoML/runs/AutoML_d641fccc-1da4-4006-977e-0584f94ac0d7?wsid=/subscriptions/3d1a56d2-7c81-4118-9790-f85d1acf0c77/resourcegroups/aml-quickstarts-132680/workspaces/quick-starts-ws-132680\", \"run_id\": \"AutoML_d641fccc-1da4-4006-977e-0584f94ac0d7\", \"run_properties\": {\"run_id\": \"AutoML_d641fccc-1da4-4006-977e-0584f94ac0d7\", \"created_utc\": \"2020-12-31T18:51:55.378945Z\", \"properties\": {\"num_iterations\": \"1000\", \"training_type\": \"TrainFull\", \"acquisition_function\": \"EI\", \"primary_metric\": \"accuracy\", \"train_split\": \"0\", \"acquisition_parameter\": \"0\", \"num_cross_validation\": \"5\", \"target\": \"cpu-cluster\", \"AMLSettingsJsonString\": \"{\\\"path\\\":null,\\\"name\\\":\\\"Parkinson-classification-AutoML\\\",\\\"subscription_id\\\":\\\"3d1a56d2-7c81-4118-9790-f85d1acf0c77\\\",\\\"resource_group\\\":\\\"aml-quickstarts-132680\\\",\\\"workspace_name\\\":\\\"quick-starts-ws-132680\\\",\\\"region\\\":\\\"southcentralus\\\",\\\"compute_target\\\":\\\"cpu-cluster\\\",\\\"spark_service\\\":null,\\\"azure_service\\\":\\\"remote\\\",\\\"many_models\\\":false,\\\"pipeline_fetch_max_batch_size\\\":1,\\\"iterations\\\":1000,\\\"primary_metric\\\":\\\"accuracy\\\",\\\"task_type\\\":\\\"classification\\\",\\\"data_script\\\":null,\\\"validation_size\\\":0.0,\\\"n_cross_validations\\\":5,\\\"y_min\\\":null,\\\"y_max\\\":null,\\\"num_classes\\\":null,\\\"featurization\\\":\\\"auto\\\",\\\"_ignore_package_version_incompatibilities\\\":false,\\\"is_timeseries\\\":false,\\\"max_cores_per_iteration\\\":1,\\\"max_concurrent_iterations\\\":4,\\\"iteration_timeout_minutes\\\":null,\\\"mem_in_mb\\\":null,\\\"enforce_time_on_windows\\\":false,\\\"experiment_timeout_minutes\\\":15,\\\"experiment_exit_score\\\":null,\\\"whitelist_models\\\":null,\\\"blacklist_algos\\\":[\\\"TensorFlowLinearClassifier\\\",\\\"TensorFlowDNN\\\"],\\\"supported_models\\\":[\\\"LinearSVM\\\",\\\"TensorFlowDNN\\\",\\\"MultinomialNaiveBayes\\\",\\\"LightGBM\\\",\\\"RandomForest\\\",\\\"SGD\\\",\\\"AveragedPerceptronClassifier\\\",\\\"BernoulliNaiveBayes\\\",\\\"SVM\\\",\\\"LogisticRegression\\\",\\\"KNN\\\",\\\"XGBoostClassifier\\\",\\\"DecisionTree\\\",\\\"TensorFlowLinearClassifier\\\",\\\"ExtremeRandomTrees\\\",\\\"GradientBoosting\\\"],\\\"auto_blacklist\\\":true,\\\"blacklist_samples_reached\\\":false,\\\"exclude_nan_labels\\\":true,\\\"verbosity\\\":20,\\\"_debug_log\\\":\\\"azureml_automl.log\\\",\\\"show_warnings\\\":false,\\\"model_explainability\\\":true,\\\"service_url\\\":null,\\\"sdk_url\\\":null,\\\"sdk_packages\\\":null,\\\"enable_onnx_compatible_models\\\":false,\\\"enable_split_onnx_featurizer_estimator_models\\\":false,\\\"vm_type\\\":\\\"STANDARD_DS3_V2\\\",\\\"telemetry_verbosity\\\":20,\\\"send_telemetry\\\":true,\\\"enable_dnn\\\":false,\\\"scenario\\\":\\\"SDK-1.13.0\\\",\\\"environment_label\\\":null,\\\"force_text_dnn\\\":false,\\\"enable_feature_sweeping\\\":true,\\\"enable_early_stopping\\\":false,\\\"early_stopping_n_iters\\\":10,\\\"metrics\\\":null,\\\"enable_ensembling\\\":true,\\\"enable_stack_ensembling\\\":true,\\\"ensemble_iterations\\\":15,\\\"enable_tf\\\":false,\\\"enable_subsampling\\\":null,\\\"subsample_seed\\\":null,\\\"enable_nimbusml\\\":false,\\\"enable_streaming\\\":false,\\\"force_streaming\\\":false,\\\"track_child_runs\\\":true,\\\"allowed_private_models\\\":[],\\\"label_column_name\\\":\\\"status\\\",\\\"weight_column_name\\\":null,\\\"cv_split_column_names\\\":null,\\\"enable_local_managed\\\":false,\\\"_local_managed_run_id\\\":null,\\\"cost_mode\\\":1,\\\"lag_length\\\":0,\\\"metric_operation\\\":\\\"maximize\\\",\\\"preprocess\\\":true}\", \"DataPrepJsonString\": \"{\\\\\\\"training_data\\\\\\\": \\\\\\\"{\\\\\\\\\\\\\\\"blocks\\\\\\\\\\\\\\\": [{\\\\\\\\\\\\\\\"id\\\\\\\\\\\\\\\": \\\\\\\\\\\\\\\"1c40873b-6008-4051-93db-db69ff0f833d\\\\\\\\\\\\\\\", \\\\\\\\\\\\\\\"type\\\\\\\\\\\\\\\": \\\\\\\\\\\\\\\"Microsoft.DPrep.GetDatastoreFilesBlock\\\\\\\\\\\\\\\", \\\\\\\\\\\\\\\"arguments\\\\\\\\\\\\\\\": {\\\\\\\\\\\\\\\"datastores\\\\\\\\\\\\\\\": [{\\\\\\\\\\\\\\\"datastoreName\\\\\\\\\\\\\\\": \\\\\\\\\\\\\\\"workspaceblobstore\\\\\\\\\\\\\\\", \\\\\\\\\\\\\\\"path\\\\\\\\\\\\\\\": \\\\\\\\\\\\\\\"data/training_data.csv\\\\\\\\\\\\\\\", \\\\\\\\\\\\\\\"resourceGroup\\\\\\\\\\\\\\\": \\\\\\\\\\\\\\\"aml-quickstarts-132680\\\\\\\\\\\\\\\", \\\\\\\\\\\\\\\"subscription\\\\\\\\\\\\\\\": \\\\\\\\\\\\\\\"3d1a56d2-7c81-4118-9790-f85d1acf0c77\\\\\\\\\\\\\\\", \\\\\\\\\\\\\\\"workspaceName\\\\\\\\\\\\\\\": \\\\\\\\\\\\\\\"quick-starts-ws-132680\\\\\\\\\\\\\\\"}]}, \\\\\\\\\\\\\\\"localData\\\\\\\\\\\\\\\": {}, \\\\\\\\\\\\\\\"isEnabled\\\\\\\\\\\\\\\": true, \\\\\\\\\\\\\\\"name\\\\\\\\\\\\\\\": null, \\\\\\\\\\\\\\\"annotation\\\\\\\\\\\\\\\": null}, {\\\\\\\\\\\\\\\"id\\\\\\\\\\\\\\\": \\\\\\\\\\\\\\\"ce20a126-a079-48a8-bf68-049168ab8ea0\\\\\\\\\\\\\\\", \\\\\\\\\\\\\\\"type\\\\\\\\\\\\\\\": \\\\\\\\\\\\\\\"Microsoft.DPrep.ParseDelimitedBlock\\\\\\\\\\\\\\\", \\\\\\\\\\\\\\\"arguments\\\\\\\\\\\\\\\": {\\\\\\\\\\\\\\\"columnHeadersMode\\\\\\\\\\\\\\\": 3, \\\\\\\\\\\\\\\"fileEncoding\\\\\\\\\\\\\\\": 0, \\\\\\\\\\\\\\\"handleQuotedLineBreaks\\\\\\\\\\\\\\\": false, \\\\\\\\\\\\\\\"preview\\\\\\\\\\\\\\\": false, \\\\\\\\\\\\\\\"separator\\\\\\\\\\\\\\\": \\\\\\\\\\\\\\\",\\\\\\\\\\\\\\\", \\\\\\\\\\\\\\\"skipRows\\\\\\\\\\\\\\\": 0, \\\\\\\\\\\\\\\"skipRowsMode\\\\\\\\\\\\\\\": 0}, \\\\\\\\\\\\\\\"localData\\\\\\\\\\\\\\\": {}, \\\\\\\\\\\\\\\"isEnabled\\\\\\\\\\\\\\\": true, \\\\\\\\\\\\\\\"name\\\\\\\\\\\\\\\": null, \\\\\\\\\\\\\\\"annotation\\\\\\\\\\\\\\\": null}, {\\\\\\\\\\\\\\\"id\\\\\\\\\\\\\\\": \\\\\\\\\\\\\\\"13b963ad-72eb-4087-92ba-5d7473da8b3b\\\\\\\\\\\\\\\", \\\\\\\\\\\\\\\"type\\\\\\\\\\\\\\\": \\\\\\\\\\\\\\\"Microsoft.DPrep.DropColumnsBlock\\\\\\\\\\\\\\\", \\\\\\\\\\\\\\\"arguments\\\\\\\\\\\\\\\": {\\\\\\\\\\\\\\\"columns\\\\\\\\\\\\\\\": {\\\\\\\\\\\\\\\"type\\\\\\\\\\\\\\\": 0, \\\\\\\\\\\\\\\"details\\\\\\\\\\\\\\\": {\\\\\\\\\\\\\\\"selectedColumns\\\\\\\\\\\\\\\": [\\\\\\\\\\\\\\\"Path\\\\\\\\\\\\\\\"]}}}, \\\\\\\\\\\\\\\"localData\\\\\\\\\\\\\\\": {}, \\\\\\\\\\\\\\\"isEnabled\\\\\\\\\\\\\\\": true, \\\\\\\\\\\\\\\"name\\\\\\\\\\\\\\\": null, \\\\\\\\\\\\\\\"annotation\\\\\\\\\\\\\\\": null}, {\\\\\\\\\\\\\\\"id\\\\\\\\\\\\\\\": \\\\\\\\\\\\\\\"5c72a65e-2a63-47f1-b605-5050ca44761f\\\\\\\\\\\\\\\", \\\\\\\\\\\\\\\"type\\\\\\\\\\\\\\\": \\\\\\\\\\\\\\\"Microsoft.DPrep.SetColumnTypesBlock\\\\\\\\\\\\\\\", \\\\\\\\\\\\\\\"arguments\\\\\\\\\\\\\\\": {\\\\\\\\\\\\\\\"columnConversion\\\\\\\\\\\\\\\": [{\\\\\\\\\\\\\\\"column\\\\\\\\\\\\\\\": {\\\\\\\\\\\\\\\"type\\\\\\\\\\\\\\\": 2, \\\\\\\\\\\\\\\"details\\\\\\\\\\\\\\\": {\\\\\\\\\\\\\\\"selectedColumn\\\\\\\\\\\\\\\": \\\\\\\\\\\\\\\"Column1\\\\\\\\\\\\\\\"}}, \\\\\\\\\\\\\\\"typeProperty\\\\\\\\\\\\\\\": 2}, {\\\\\\\\\\\\\\\"column\\\\\\\\\\\\\\\": {\\\\\\\\\\\\\\\"type\\\\\\\\\\\\\\\": 2, \\\\\\\\\\\\\\\"details\\\\\\\\\\\\\\\": {\\\\\\\\\\\\\\\"selectedColumn\\\\\\\\\\\\\\\": \\\\\\\\\\\\\\\"name\\\\\\\\\\\\\\\"}}, \\\\\\\\\\\\\\\"typeProperty\\\\\\\\\\\\\\\": 0}, {\\\\\\\\\\\\\\\"column\\\\\\\\\\\\\\\": {\\\\\\\\\\\\\\\"type\\\\\\\\\\\\\\\": 2, \\\\\\\\\\\\\\\"details\\\\\\\\\\\\\\\": {\\\\\\\\\\\\\\\"selectedColumn\\\\\\\\\\\\\\\": \\\\\\\\\\\\\\\"MDVP:Fo(Hz)\\\\\\\\\\\\\\\"}}, \\\\\\\\\\\\\\\"typeProperty\\\\\\\\\\\\\\\": 3}, {\\\\\\\\\\\\\\\"column\\\\\\\\\\\\\\\": {\\\\\\\\\\\\\\\"type\\\\\\\\\\\\\\\": 2, \\\\\\\\\\\\\\\"details\\\\\\\\\\\\\\\": {\\\\\\\\\\\\\\\"selectedColumn\\\\\\\\\\\\\\\": \\\\\\\\\\\\\\\"MDVP:Fhi(Hz)\\\\\\\\\\\\\\\"}}, \\\\\\\\\\\\\\\"typeProperty\\\\\\\\\\\\\\\": 3}, {\\\\\\\\\\\\\\\"column\\\\\\\\\\\\\\\": {\\\\\\\\\\\\\\\"type\\\\\\\\\\\\\\\": 2, \\\\\\\\\\\\\\\"details\\\\\\\\\\\\\\\": {\\\\\\\\\\\\\\\"selectedColumn\\\\\\\\\\\\\\\": \\\\\\\\\\\\\\\"MDVP:Flo(Hz)\\\\\\\\\\\\\\\"}}, \\\\\\\\\\\\\\\"typeProperty\\\\\\\\\\\\\\\": 3}, {\\\\\\\\\\\\\\\"column\\\\\\\\\\\\\\\": {\\\\\\\\\\\\\\\"type\\\\\\\\\\\\\\\": 2, \\\\\\\\\\\\\\\"details\\\\\\\\\\\\\\\": {\\\\\\\\\\\\\\\"selectedColumn\\\\\\\\\\\\\\\": \\\\\\\\\\\\\\\"MDVP:Jitter(%)\\\\\\\\\\\\\\\"}}, \\\\\\\\\\\\\\\"typeProperty\\\\\\\\\\\\\\\": 3}, {\\\\\\\\\\\\\\\"column\\\\\\\\\\\\\\\": {\\\\\\\\\\\\\\\"type\\\\\\\\\\\\\\\": 2, \\\\\\\\\\\\\\\"details\\\\\\\\\\\\\\\": {\\\\\\\\\\\\\\\"selectedColumn\\\\\\\\\\\\\\\": \\\\\\\\\\\\\\\"MDVP:Jitter(Abs)\\\\\\\\\\\\\\\"}}, \\\\\\\\\\\\\\\"typeProperty\\\\\\\\\\\\\\\": 3}, {\\\\\\\\\\\\\\\"column\\\\\\\\\\\\\\\": {\\\\\\\\\\\\\\\"type\\\\\\\\\\\\\\\": 2, \\\\\\\\\\\\\\\"details\\\\\\\\\\\\\\\": {\\\\\\\\\\\\\\\"selectedColumn\\\\\\\\\\\\\\\": \\\\\\\\\\\\\\\"MDVP:RAP\\\\\\\\\\\\\\\"}}, \\\\\\\\\\\\\\\"typeProperty\\\\\\\\\\\\\\\": 3}, {\\\\\\\\\\\\\\\"column\\\\\\\\\\\\\\\": {\\\\\\\\\\\\\\\"type\\\\\\\\\\\\\\\": 2, \\\\\\\\\\\\\\\"details\\\\\\\\\\\\\\\": {\\\\\\\\\\\\\\\"selectedColumn\\\\\\\\\\\\\\\": \\\\\\\\\\\\\\\"MDVP:PPQ\\\\\\\\\\\\\\\"}}, \\\\\\\\\\\\\\\"typeProperty\\\\\\\\\\\\\\\": 3}, {\\\\\\\\\\\\\\\"column\\\\\\\\\\\\\\\": {\\\\\\\\\\\\\\\"type\\\\\\\\\\\\\\\": 2, \\\\\\\\\\\\\\\"details\\\\\\\\\\\\\\\": {\\\\\\\\\\\\\\\"selectedColumn\\\\\\\\\\\\\\\": \\\\\\\\\\\\\\\"Jitter:DDP\\\\\\\\\\\\\\\"}}, \\\\\\\\\\\\\\\"typeProperty\\\\\\\\\\\\\\\": 3}, {\\\\\\\\\\\\\\\"column\\\\\\\\\\\\\\\": {\\\\\\\\\\\\\\\"type\\\\\\\\\\\\\\\": 2, \\\\\\\\\\\\\\\"details\\\\\\\\\\\\\\\": {\\\\\\\\\\\\\\\"selectedColumn\\\\\\\\\\\\\\\": \\\\\\\\\\\\\\\"MDVP:Shimmer\\\\\\\\\\\\\\\"}}, \\\\\\\\\\\\\\\"typeProperty\\\\\\\\\\\\\\\": 3}, {\\\\\\\\\\\\\\\"column\\\\\\\\\\\\\\\": {\\\\\\\\\\\\\\\"type\\\\\\\\\\\\\\\": 2, \\\\\\\\\\\\\\\"details\\\\\\\\\\\\\\\": {\\\\\\\\\\\\\\\"selectedColumn\\\\\\\\\\\\\\\": \\\\\\\\\\\\\\\"MDVP:Shimmer(dB)\\\\\\\\\\\\\\\"}}, \\\\\\\\\\\\\\\"typeProperty\\\\\\\\\\\\\\\": 3}, {\\\\\\\\\\\\\\\"column\\\\\\\\\\\\\\\": {\\\\\\\\\\\\\\\"type\\\\\\\\\\\\\\\": 2, \\\\\\\\\\\\\\\"details\\\\\\\\\\\\\\\": {\\\\\\\\\\\\\\\"selectedColumn\\\\\\\\\\\\\\\": \\\\\\\\\\\\\\\"Shimmer:APQ3\\\\\\\\\\\\\\\"}}, \\\\\\\\\\\\\\\"typeProperty\\\\\\\\\\\\\\\": 3}, {\\\\\\\\\\\\\\\"column\\\\\\\\\\\\\\\": {\\\\\\\\\\\\\\\"type\\\\\\\\\\\\\\\": 2, \\\\\\\\\\\\\\\"details\\\\\\\\\\\\\\\": {\\\\\\\\\\\\\\\"selectedColumn\\\\\\\\\\\\\\\": \\\\\\\\\\\\\\\"Shimmer:APQ5\\\\\\\\\\\\\\\"}}, \\\\\\\\\\\\\\\"typeProperty\\\\\\\\\\\\\\\": 3}, {\\\\\\\\\\\\\\\"column\\\\\\\\\\\\\\\": {\\\\\\\\\\\\\\\"type\\\\\\\\\\\\\\\": 2, \\\\\\\\\\\\\\\"details\\\\\\\\\\\\\\\": {\\\\\\\\\\\\\\\"selectedColumn\\\\\\\\\\\\\\\": \\\\\\\\\\\\\\\"MDVP:APQ\\\\\\\\\\\\\\\"}}, \\\\\\\\\\\\\\\"typeProperty\\\\\\\\\\\\\\\": 3}, {\\\\\\\\\\\\\\\"column\\\\\\\\\\\\\\\": {\\\\\\\\\\\\\\\"type\\\\\\\\\\\\\\\": 2, \\\\\\\\\\\\\\\"details\\\\\\\\\\\\\\\": {\\\\\\\\\\\\\\\"selectedColumn\\\\\\\\\\\\\\\": \\\\\\\\\\\\\\\"Shimmer:DDA\\\\\\\\\\\\\\\"}}, \\\\\\\\\\\\\\\"typeProperty\\\\\\\\\\\\\\\": 3}, {\\\\\\\\\\\\\\\"column\\\\\\\\\\\\\\\": {\\\\\\\\\\\\\\\"type\\\\\\\\\\\\\\\": 2, \\\\\\\\\\\\\\\"details\\\\\\\\\\\\\\\": {\\\\\\\\\\\\\\\"selectedColumn\\\\\\\\\\\\\\\": \\\\\\\\\\\\\\\"NHR\\\\\\\\\\\\\\\"}}, \\\\\\\\\\\\\\\"typeProperty\\\\\\\\\\\\\\\": 3}, {\\\\\\\\\\\\\\\"column\\\\\\\\\\\\\\\": {\\\\\\\\\\\\\\\"type\\\\\\\\\\\\\\\": 2, \\\\\\\\\\\\\\\"details\\\\\\\\\\\\\\\": {\\\\\\\\\\\\\\\"selectedColumn\\\\\\\\\\\\\\\": \\\\\\\\\\\\\\\"HNR\\\\\\\\\\\\\\\"}}, \\\\\\\\\\\\\\\"typeProperty\\\\\\\\\\\\\\\": 3}, {\\\\\\\\\\\\\\\"column\\\\\\\\\\\\\\\": {\\\\\\\\\\\\\\\"type\\\\\\\\\\\\\\\": 2, \\\\\\\\\\\\\\\"details\\\\\\\\\\\\\\\": {\\\\\\\\\\\\\\\"selectedColumn\\\\\\\\\\\\\\\": \\\\\\\\\\\\\\\"status\\\\\\\\\\\\\\\"}}, \\\\\\\\\\\\\\\"typeProperty\\\\\\\\\\\\\\\": 2}, {\\\\\\\\\\\\\\\"column\\\\\\\\\\\\\\\": {\\\\\\\\\\\\\\\"type\\\\\\\\\\\\\\\": 2, \\\\\\\\\\\\\\\"details\\\\\\\\\\\\\\\": {\\\\\\\\\\\\\\\"selectedColumn\\\\\\\\\\\\\\\": \\\\\\\\\\\\\\\"RPDE\\\\\\\\\\\\\\\"}}, \\\\\\\\\\\\\\\"typeProperty\\\\\\\\\\\\\\\": 3}, {\\\\\\\\\\\\\\\"column\\\\\\\\\\\\\\\": {\\\\\\\\\\\\\\\"type\\\\\\\\\\\\\\\": 2, \\\\\\\\\\\\\\\"details\\\\\\\\\\\\\\\": {\\\\\\\\\\\\\\\"selectedColumn\\\\\\\\\\\\\\\": \\\\\\\\\\\\\\\"DFA\\\\\\\\\\\\\\\"}}, \\\\\\\\\\\\\\\"typeProperty\\\\\\\\\\\\\\\": 3}, {\\\\\\\\\\\\\\\"column\\\\\\\\\\\\\\\": {\\\\\\\\\\\\\\\"type\\\\\\\\\\\\\\\": 2, \\\\\\\\\\\\\\\"details\\\\\\\\\\\\\\\": {\\\\\\\\\\\\\\\"selectedColumn\\\\\\\\\\\\\\\": \\\\\\\\\\\\\\\"spread1\\\\\\\\\\\\\\\"}}, \\\\\\\\\\\\\\\"typeProperty\\\\\\\\\\\\\\\": 3}, {\\\\\\\\\\\\\\\"column\\\\\\\\\\\\\\\": {\\\\\\\\\\\\\\\"type\\\\\\\\\\\\\\\": 2, \\\\\\\\\\\\\\\"details\\\\\\\\\\\\\\\": {\\\\\\\\\\\\\\\"selectedColumn\\\\\\\\\\\\\\\": \\\\\\\\\\\\\\\"spread2\\\\\\\\\\\\\\\"}}, \\\\\\\\\\\\\\\"typeProperty\\\\\\\\\\\\\\\": 3}, {\\\\\\\\\\\\\\\"column\\\\\\\\\\\\\\\": {\\\\\\\\\\\\\\\"type\\\\\\\\\\\\\\\": 2, \\\\\\\\\\\\\\\"details\\\\\\\\\\\\\\\": {\\\\\\\\\\\\\\\"selectedColumn\\\\\\\\\\\\\\\": \\\\\\\\\\\\\\\"D2\\\\\\\\\\\\\\\"}}, \\\\\\\\\\\\\\\"typeProperty\\\\\\\\\\\\\\\": 3}, {\\\\\\\\\\\\\\\"column\\\\\\\\\\\\\\\": {\\\\\\\\\\\\\\\"type\\\\\\\\\\\\\\\": 2, \\\\\\\\\\\\\\\"details\\\\\\\\\\\\\\\": {\\\\\\\\\\\\\\\"selectedColumn\\\\\\\\\\\\\\\": \\\\\\\\\\\\\\\"PPE\\\\\\\\\\\\\\\"}}, \\\\\\\\\\\\\\\"typeProperty\\\\\\\\\\\\\\\": 3}]}, \\\\\\\\\\\\\\\"localData\\\\\\\\\\\\\\\": {}, \\\\\\\\\\\\\\\"isEnabled\\\\\\\\\\\\\\\": true, \\\\\\\\\\\\\\\"name\\\\\\\\\\\\\\\": null, \\\\\\\\\\\\\\\"annotation\\\\\\\\\\\\\\\": null}], \\\\\\\\\\\\\\\"inspectors\\\\\\\\\\\\\\\": [], \\\\\\\\\\\\\\\"meta\\\\\\\\\\\\\\\": {\\\\\\\\\\\\\\\"savedDatasetId\\\\\\\\\\\\\\\": \\\\\\\\\\\\\\\"96bc2903-c61e-4872-8a98-9383d0042e17\\\\\\\\\\\\\\\", \\\\\\\\\\\\\\\"datasetType\\\\\\\\\\\\\\\": \\\\\\\\\\\\\\\"tabular\\\\\\\\\\\\\\\", \\\\\\\\\\\\\\\"subscriptionId\\\\\\\\\\\\\\\": \\\\\\\\\\\\\\\"3d1a56d2-7c81-4118-9790-f85d1acf0c77\\\\\\\\\\\\\\\", \\\\\\\\\\\\\\\"workspaceId\\\\\\\\\\\\\\\": \\\\\\\\\\\\\\\"1d1119b6-5109-4d56-a9ab-e90fbaadfba2\\\\\\\\\\\\\\\", \\\\\\\\\\\\\\\"workspaceLocation\\\\\\\\\\\\\\\": \\\\\\\\\\\\\\\"southcentralus\\\\\\\\\\\\\\\"}}\\\\\\\", \\\\\\\"activities\\\\\\\": 0}\", \"EnableSubsampling\": null, \"runTemplate\": \"AutoML\", \"azureml.runsource\": \"automl\", \"display_task_type\": \"classification\", \"dependencies_versions\": \"{\\\"azureml-widgets\\\": \\\"1.19.0\\\", \\\"azureml-train\\\": \\\"1.19.0\\\", \\\"azureml-train-restclients-hyperdrive\\\": \\\"1.19.0\\\", \\\"azureml-train-core\\\": \\\"1.19.0\\\", \\\"azureml-train-automl\\\": \\\"1.19.0\\\", \\\"azureml-train-automl-runtime\\\": \\\"1.19.0\\\", \\\"azureml-train-automl-client\\\": \\\"1.19.0\\\", \\\"azureml-tensorboard\\\": \\\"1.19.0\\\", \\\"azureml-telemetry\\\": \\\"1.19.0\\\", \\\"azureml-sdk\\\": \\\"1.19.0\\\", \\\"azureml-samples\\\": \\\"0+unknown\\\", \\\"azureml-pipeline\\\": \\\"1.19.0\\\", \\\"azureml-pipeline-steps\\\": \\\"1.19.0\\\", \\\"azureml-pipeline-core\\\": \\\"1.19.0\\\", \\\"azureml-opendatasets\\\": \\\"1.19.0\\\", \\\"azureml-model-management-sdk\\\": \\\"1.0.1b6.post1\\\", \\\"azureml-mlflow\\\": \\\"1.19.0\\\", \\\"azureml-interpret\\\": \\\"1.19.0\\\", \\\"azureml-explain-model\\\": \\\"1.19.0\\\", \\\"azureml-defaults\\\": \\\"1.19.0\\\", \\\"azureml-dataset-runtime\\\": \\\"1.19.0\\\", \\\"azureml-dataprep\\\": \\\"2.6.1\\\", \\\"azureml-dataprep-rslex\\\": \\\"1.4.0\\\", \\\"azureml-dataprep-native\\\": \\\"26.0.0\\\", \\\"azureml-datadrift\\\": \\\"1.19.0\\\", \\\"azureml-core\\\": \\\"1.19.0\\\", \\\"azureml-contrib-services\\\": \\\"1.19.0\\\", \\\"azureml-contrib-server\\\": \\\"1.19.0\\\", \\\"azureml-contrib-reinforcementlearning\\\": \\\"1.19.0\\\", \\\"azureml-contrib-pipeline-steps\\\": \\\"1.19.0\\\", \\\"azureml-contrib-notebook\\\": \\\"1.19.0\\\", \\\"azureml-contrib-interpret\\\": \\\"1.19.0\\\", \\\"azureml-contrib-gbdt\\\": \\\"1.19.0\\\", \\\"azureml-contrib-fairness\\\": \\\"1.19.0\\\", \\\"azureml-contrib-dataset\\\": \\\"1.19.0\\\", \\\"azureml-cli-common\\\": \\\"1.19.0\\\", \\\"azureml-automl-runtime\\\": \\\"1.19.0\\\", \\\"azureml-automl-core\\\": \\\"1.19.0\\\", \\\"azureml-accel-models\\\": \\\"1.19.0\\\"}\", \"_aml_system_scenario_identification\": \"Remote.Parent\", \"ClientType\": \"SDK\", \"environment_cpu_name\": \"AzureML-AutoML\", \"environment_cpu_label\": \"prod\", \"environment_gpu_name\": \"AzureML-AutoML-GPU\", \"environment_gpu_label\": \"prod\", \"root_attribution\": \"automl\", \"attribution\": \"AutoML\", \"Orchestrator\": \"AutoML\", \"CancelUri\": \"https://southcentralus.experiments.azureml.net/jasmine/v1.0/subscriptions/3d1a56d2-7c81-4118-9790-f85d1acf0c77/resourceGroups/aml-quickstarts-132680/providers/Microsoft.MachineLearningServices/workspaces/quick-starts-ws-132680/experimentids/1dcd2ee7-77b0-454e-a990-5ce53b73b69d/cancel/AutoML_d641fccc-1da4-4006-977e-0584f94ac0d7\", \"ClientSdkVersion\": \"1.19.0\", \"snapshotId\": \"00000000-0000-0000-0000-000000000000\", \"SetupRunId\": \"AutoML_d641fccc-1da4-4006-977e-0584f94ac0d7_setup\", \"SetupRunContainerId\": \"dcid.AutoML_d641fccc-1da4-4006-977e-0584f94ac0d7_setup\", \"FeaturizationRunJsonPath\": \"featurizer_container.json\", \"FeaturizationRunId\": \"AutoML_d641fccc-1da4-4006-977e-0584f94ac0d7_featurize\", \"ProblemInfoJsonString\": \"{\\\"dataset_num_categorical\\\": 0, \\\"is_sparse\\\": false, \\\"subsampling\\\": false, \\\"dataset_classes\\\": 2, \\\"dataset_features\\\": 23, \\\"dataset_samples\\\": 195, \\\"single_frequency_class_detected\\\": false}\", \"ModelExplainRunId\": \"AutoML_d641fccc-1da4-4006-977e-0584f94ac0d7_ModelExplain\"}, \"tags\": {\"model_explain_run\": \"best_run\", \"_aml_system_azureml.automlComponent\": \"AutoML\", \"pipeline_id\": \"\", \"score\": \"\", \"predicted_cost\": \"\", \"fit_time\": \"\", \"training_percent\": \"\", \"iteration\": \"\", \"run_preprocessor\": \"\", \"run_algorithm\": \"\", \"dynamic_whitelisting_iterations\": \"<25>;<30>;<35>;<40>;<45>;<50>;\", \"automl_best_child_run_id\": \"AutoML_d641fccc-1da4-4006-977e-0584f94ac0d7_55\", \"model_explain_best_run_child_id\": \"AutoML_d641fccc-1da4-4006-977e-0584f94ac0d7_55\"}, \"end_time_utc\": \"2020-12-31T19:17:48.295891Z\", \"status\": \"Completed\", \"log_files\": {}, \"log_groups\": [], \"run_duration\": \"0:25:52\"}, \"child_runs\": [{\"run_id\": \"AutoML_d641fccc-1da4-4006-977e-0584f94ac0d7_0\", \"run_number\": 11, \"metric\": null, \"status\": \"Completed\", \"run_type\": \"azureml.scriptrun\", \"training_percent\": \"100\", \"start_time\": \"2020-12-31T19:00:58.846871Z\", \"end_time\": \"2020-12-31T19:01:49.145203Z\", \"created_time\": \"2020-12-31T18:59:21.687099Z\", \"created_time_dt\": \"2020-12-31T18:59:21.687099Z\", \"duration\": \"0:02:27\", \"iteration\": \"0\", \"goal\": \"accuracy_max\", \"run_name\": \"MaxAbsScaler, LightGBM\", \"run_properties\": \"copy=True\", \"primary_metric\": 0.96410256, \"best_metric\": 0.96410256}, {\"run_id\": \"AutoML_d641fccc-1da4-4006-977e-0584f94ac0d7_2\", \"run_number\": 12, \"metric\": null, \"status\": \"Completed\", \"run_type\": \"azureml.scriptrun\", \"training_percent\": \"100\", \"start_time\": \"2020-12-31T18:59:33.090299Z\", \"end_time\": \"2020-12-31T19:00:09.40441Z\", \"created_time\": \"2020-12-31T18:59:21.820802Z\", \"created_time_dt\": \"2020-12-31T18:59:21.820802Z\", \"duration\": \"0:00:47\", \"iteration\": \"2\", \"goal\": \"accuracy_max\", \"run_name\": \"MinMaxScaler, RandomForest\", \"run_properties\": \"copy=True, feature_range=(0, 1\", \"primary_metric\": 0.94358974, \"best_metric\": 0.96410256}, {\"run_id\": \"AutoML_d641fccc-1da4-4006-977e-0584f94ac0d7_3\", \"run_number\": 13, \"metric\": null, \"status\": \"Completed\", \"run_type\": \"azureml.scriptrun\", \"training_percent\": \"100\", \"start_time\": \"2020-12-31T19:00:14.687617Z\", \"end_time\": \"2020-12-31T19:00:55.445858Z\", \"created_time\": \"2020-12-31T18:59:21.828523Z\", \"created_time_dt\": \"2020-12-31T18:59:21.828523Z\", \"duration\": \"0:01:33\", \"iteration\": \"3\", \"goal\": \"accuracy_max\", \"run_name\": \"MinMaxScaler, RandomForest\", \"run_properties\": \"copy=True, feature_range=(0, 1\", \"primary_metric\": 0.87692308, \"best_metric\": 0.96410256}, {\"run_id\": \"AutoML_d641fccc-1da4-4006-977e-0584f94ac0d7_1\", \"run_number\": 14, \"metric\": null, \"status\": \"Completed\", \"run_type\": \"azureml.scriptrun\", \"training_percent\": \"100\", \"start_time\": \"2020-12-31T19:01:56.00396Z\", \"end_time\": \"2020-12-31T19:02:38.053615Z\", \"created_time\": \"2020-12-31T18:59:21.838403Z\", \"created_time_dt\": \"2020-12-31T18:59:21.838403Z\", \"duration\": \"0:03:16\", \"iteration\": \"1\", \"goal\": \"accuracy_max\", \"run_name\": \"MaxAbsScaler, XGBoostClassifier\", \"run_properties\": \"copy=True\", \"primary_metric\": 0.96410256, \"best_metric\": 0.96410256}, {\"run_id\": \"AutoML_d641fccc-1da4-4006-977e-0584f94ac0d7_4\", \"run_number\": 15, \"metric\": null, \"status\": \"Completed\", \"run_type\": \"azureml.scriptrun\", \"training_percent\": \"100\", \"start_time\": \"2020-12-31T19:01:53.408126Z\", \"end_time\": \"2020-12-31T19:03:53.295585Z\", \"created_time\": \"2020-12-31T19:00:12.853504Z\", \"created_time_dt\": \"2020-12-31T19:00:12.853504Z\", \"duration\": \"0:03:40\", \"iteration\": \"4\", \"goal\": \"accuracy_max\", \"run_name\": \"MinMaxScaler, RandomForest\", \"run_properties\": \"copy=True, feature_range=(0, 1\", \"primary_metric\": 0.88205128, \"best_metric\": 0.96410256}, {\"run_id\": \"AutoML_d641fccc-1da4-4006-977e-0584f94ac0d7_5\", \"run_number\": 16, \"metric\": null, \"status\": \"Completed\", \"run_type\": \"azureml.scriptrun\", \"training_percent\": \"100\", \"start_time\": \"2020-12-31T19:01:54.260031Z\", \"end_time\": \"2020-12-31T19:04:03.251106Z\", \"created_time\": \"2020-12-31T19:00:57.921272Z\", \"created_time_dt\": \"2020-12-31T19:00:57.921272Z\", \"duration\": \"0:03:05\", \"iteration\": \"5\", \"goal\": \"accuracy_max\", \"run_name\": \"MinMaxScaler, SVM\", \"run_properties\": \"copy=True, feature_range=(0, 1\", \"primary_metric\": 0.94871795, \"best_metric\": 0.96410256}, {\"run_id\": \"AutoML_d641fccc-1da4-4006-977e-0584f94ac0d7_6\", \"run_number\": 17, \"metric\": null, \"status\": \"Completed\", \"run_type\": \"azureml.scriptrun\", \"training_percent\": \"100\", \"start_time\": \"2020-12-31T19:02:01.683738Z\", \"end_time\": \"2020-12-31T19:03:53.457056Z\", \"created_time\": \"2020-12-31T19:01:51.422689Z\", \"created_time_dt\": \"2020-12-31T19:01:51.422689Z\", \"duration\": \"0:02:02\", \"iteration\": \"6\", \"goal\": \"accuracy_max\", \"run_name\": \"SparseNormalizer, XGBoostClassifier\", \"run_properties\": \"<azureml.automl.runtime.shared.model_wrappers.SparseNormalizer object at 0x7f989947b128\", \"primary_metric\": 0.93333333, \"best_metric\": 0.96410256}, {\"run_id\": \"AutoML_d641fccc-1da4-4006-977e-0584f94ac0d7_7\", \"run_number\": 18, \"metric\": null, \"status\": \"Completed\", \"run_type\": \"azureml.scriptrun\", \"training_percent\": \"100\", \"start_time\": \"2020-12-31T19:02:55.392533Z\", \"end_time\": \"2020-12-31T19:03:39.880198Z\", \"created_time\": \"2020-12-31T19:02:44.538474Z\", \"created_time_dt\": \"2020-12-31T19:02:44.538474Z\", \"duration\": \"0:00:55\", \"iteration\": \"7\", \"goal\": \"accuracy_max\", \"run_name\": \"MinMaxScaler, SVM\", \"run_properties\": \"copy=True, feature_range=(0, 1\", \"primary_metric\": 0.95384615, \"best_metric\": 0.96410256}, {\"run_id\": \"AutoML_d641fccc-1da4-4006-977e-0584f94ac0d7_8\", \"run_number\": 19, \"metric\": null, \"status\": \"Completed\", \"run_type\": \"azureml.scriptrun\", \"training_percent\": \"100\", \"start_time\": \"2020-12-31T19:03:54.317537Z\", \"end_time\": \"2020-12-31T19:04:31.591258Z\", \"created_time\": \"2020-12-31T19:03:42.380196Z\", \"created_time_dt\": \"2020-12-31T19:03:42.380196Z\", \"duration\": \"0:00:49\", \"iteration\": \"8\", \"goal\": \"accuracy_max\", \"run_name\": \"SparseNormalizer, XGBoostClassifier\", \"run_properties\": \"<azureml.automl.runtime.shared.model_wrappers.SparseNormalizer object at 0x7fa47873f518\", \"primary_metric\": 0.94358974, \"best_metric\": 0.96410256}, {\"run_id\": \"AutoML_d641fccc-1da4-4006-977e-0584f94ac0d7_9\", \"run_number\": 20, \"metric\": null, \"status\": \"Completed\", \"run_type\": \"azureml.scriptrun\", \"training_percent\": \"100\", \"start_time\": \"2020-12-31T19:04:06.678322Z\", \"end_time\": \"2020-12-31T19:04:43.660Z\", \"created_time\": \"2020-12-31T19:03:55.872003Z\", \"created_time_dt\": \"2020-12-31T19:03:55.872003Z\", \"duration\": \"0:00:47\", \"iteration\": \"9\", \"goal\": \"accuracy_max\", \"run_name\": \"MaxAbsScaler, LightGBM\", \"run_properties\": \"copy=True\", \"primary_metric\": 0.9025641, \"best_metric\": 0.96410256}, {\"run_id\": \"AutoML_d641fccc-1da4-4006-977e-0584f94ac0d7_10\", \"run_number\": 21, \"metric\": null, \"status\": \"Completed\", \"run_type\": \"azureml.scriptrun\", \"training_percent\": \"100\", \"start_time\": \"2020-12-31T19:04:07.055564Z\", \"end_time\": \"2020-12-31T19:04:50.363948Z\", \"created_time\": \"2020-12-31T19:03:55.898727Z\", \"created_time_dt\": \"2020-12-31T19:03:55.898727Z\", \"duration\": \"0:00:54\", \"iteration\": \"10\", \"goal\": \"accuracy_max\", \"run_name\": \"StandardScalerWrapper, RandomForest\", \"run_properties\": \"<azureml.automl.runtime.shared.model_wrappers.StandardScalerWrapper object at 0x7fafc4f98978\", \"primary_metric\": 0.92820513, \"best_metric\": 0.96410256}, {\"run_id\": \"AutoML_d641fccc-1da4-4006-977e-0584f94ac0d7_11\", \"run_number\": 22, \"metric\": null, \"status\": \"Completed\", \"run_type\": \"azureml.scriptrun\", \"training_percent\": \"100\", \"start_time\": \"2020-12-31T19:04:17.04359Z\", \"end_time\": \"2020-12-31T19:04:59.759927Z\", \"created_time\": \"2020-12-31T19:04:05.400192Z\", \"created_time_dt\": \"2020-12-31T19:04:05.400192Z\", \"duration\": \"0:00:54\", \"iteration\": \"11\", \"goal\": \"accuracy_max\", \"run_name\": \"SparseNormalizer, XGBoostClassifier\", \"run_properties\": \"<azureml.automl.runtime.shared.model_wrappers.SparseNormalizer object at 0x7f2f0c4d1898\", \"primary_metric\": 0.95384615, \"best_metric\": 0.96410256}, {\"run_id\": \"AutoML_d641fccc-1da4-4006-977e-0584f94ac0d7_12\", \"run_number\": 23, \"metric\": null, \"status\": \"Completed\", \"run_type\": \"azureml.scriptrun\", \"training_percent\": \"100\", \"start_time\": \"2020-12-31T19:04:44.268032Z\", \"end_time\": \"2020-12-31T19:05:26.486108Z\", \"created_time\": \"2020-12-31T19:04:33.827071Z\", \"created_time_dt\": \"2020-12-31T19:04:33.827071Z\", \"duration\": \"0:00:52\", \"iteration\": \"12\", \"goal\": \"accuracy_max\", \"run_name\": \"StandardScalerWrapper, LightGBM\", \"run_properties\": \"<azureml.automl.runtime.shared.model_wrappers.StandardScalerWrapper object at 0x7fe663b18f98\", \"primary_metric\": 0.82051282, \"best_metric\": 0.96410256}, {\"run_id\": \"AutoML_d641fccc-1da4-4006-977e-0584f94ac0d7_13\", \"run_number\": 24, \"metric\": null, \"status\": \"Completed\", \"run_type\": \"azureml.scriptrun\", \"training_percent\": \"100\", \"start_time\": \"2020-12-31T19:04:58.867119Z\", \"end_time\": \"2020-12-31T19:05:41.996918Z\", \"created_time\": \"2020-12-31T19:04:47.780211Z\", \"created_time_dt\": \"2020-12-31T19:04:47.780211Z\", \"duration\": \"0:00:54\", \"iteration\": \"13\", \"goal\": \"accuracy_max\", \"run_name\": \"SparseNormalizer, XGBoostClassifier\", \"run_properties\": \"<azureml.automl.runtime.shared.model_wrappers.SparseNormalizer object at 0x7fd1a1bc0860\", \"primary_metric\": 0.93333333, \"best_metric\": 0.96410256}, {\"run_id\": \"AutoML_d641fccc-1da4-4006-977e-0584f94ac0d7_14\", \"run_number\": 25, \"metric\": null, \"status\": \"Completed\", \"run_type\": \"azureml.scriptrun\", \"training_percent\": \"100\", \"start_time\": \"2020-12-31T19:05:03.954706Z\", \"end_time\": \"2020-12-31T19:05:43.136972Z\", \"created_time\": \"2020-12-31T19:04:52.596203Z\", \"created_time_dt\": \"2020-12-31T19:04:52.596203Z\", \"duration\": \"0:00:50\", \"iteration\": \"14\", \"goal\": \"accuracy_max\", \"run_name\": \"SparseNormalizer, XGBoostClassifier\", \"run_properties\": \"<azureml.automl.runtime.shared.model_wrappers.SparseNormalizer object at 0x7fc4845397f0\", \"primary_metric\": 0.92307692, \"best_metric\": 0.96410256}, {\"run_id\": \"AutoML_d641fccc-1da4-4006-977e-0584f94ac0d7_15\", \"run_number\": 26, \"metric\": null, \"status\": \"Completed\", \"run_type\": \"azureml.scriptrun\", \"training_percent\": \"100\", \"start_time\": \"2020-12-31T19:05:13.897415Z\", \"end_time\": \"2020-12-31T19:05:54.398739Z\", \"created_time\": \"2020-12-31T19:05:01.962475Z\", \"created_time_dt\": \"2020-12-31T19:05:01.962475Z\", \"duration\": \"0:00:52\", \"iteration\": \"15\", \"goal\": \"accuracy_max\", \"run_name\": \"RobustScaler, KNN\", \"run_properties\": \"copy=True, quantile_range=[25, 75], with_centering=True,\\n             with_scaling=False\", \"primary_metric\": 0.96923077, \"best_metric\": 0.96923077}, {\"run_id\": \"AutoML_d641fccc-1da4-4006-977e-0584f94ac0d7_16\", \"run_number\": 27, \"metric\": null, \"status\": \"Completed\", \"run_type\": \"azureml.scriptrun\", \"training_percent\": \"100\", \"start_time\": \"2020-12-31T19:05:40.653127Z\", \"end_time\": \"2020-12-31T19:06:17.872357Z\", \"created_time\": \"2020-12-31T19:05:28.658941Z\", \"created_time_dt\": \"2020-12-31T19:05:28.658941Z\", \"duration\": \"0:00:49\", \"iteration\": \"16\", \"goal\": \"accuracy_max\", \"run_name\": \"StandardScalerWrapper, LogisticRegression\", \"run_properties\": \"<azureml.automl.runtime.shared.model_wrappers.StandardScalerWrapper object at 0x7f30012d5fd0\", \"primary_metric\": 0.83076923, \"best_metric\": 0.96923077}, {\"run_id\": \"AutoML_d641fccc-1da4-4006-977e-0584f94ac0d7_17\", \"run_number\": 28, \"metric\": null, \"status\": \"Completed\", \"run_type\": \"azureml.scriptrun\", \"training_percent\": \"100\", \"start_time\": \"2020-12-31T19:05:54.447073Z\", \"end_time\": \"2020-12-31T19:06:36.302337Z\", \"created_time\": \"2020-12-31T19:05:44.706058Z\", \"created_time_dt\": \"2020-12-31T19:05:44.706058Z\", \"duration\": \"0:00:51\", \"iteration\": \"17\", \"goal\": \"accuracy_max\", \"run_name\": \"StandardScalerWrapper, LogisticRegression\", \"run_properties\": \"<azureml.automl.runtime.shared.model_wrappers.StandardScalerWrapper object at 0x7fb2d8974ac8\", \"primary_metric\": 0.83076923, \"best_metric\": 0.96923077}, {\"run_id\": \"AutoML_d641fccc-1da4-4006-977e-0584f94ac0d7_18\", \"run_number\": 29, \"metric\": null, \"status\": \"Completed\", \"run_type\": \"azureml.scriptrun\", \"training_percent\": \"100\", \"start_time\": \"2020-12-31T19:06:00.184105Z\", \"end_time\": \"2020-12-31T19:06:40.730912Z\", \"created_time\": \"2020-12-31T19:05:48.397301Z\", \"created_time_dt\": \"2020-12-31T19:05:48.397301Z\", \"duration\": \"0:00:52\", \"iteration\": \"18\", \"goal\": \"accuracy_max\", \"run_name\": \"MinMaxScaler, LightGBM\", \"run_properties\": \"copy=True, feature_range=(0, 1\", \"primary_metric\": 0.95384615, \"best_metric\": 0.96923077}, {\"run_id\": \"AutoML_d641fccc-1da4-4006-977e-0584f94ac0d7_19\", \"run_number\": 30, \"metric\": null, \"status\": \"Completed\", \"run_type\": \"azureml.scriptrun\", \"training_percent\": \"100\", \"start_time\": \"2020-12-31T19:06:11.11574Z\", \"end_time\": \"2020-12-31T19:06:51.306592Z\", \"created_time\": \"2020-12-31T19:05:59.059542Z\", \"created_time_dt\": \"2020-12-31T19:05:59.059542Z\", \"duration\": \"0:00:52\", \"iteration\": \"19\", \"goal\": \"accuracy_max\", \"run_name\": \"MinMaxScaler, LogisticRegression\", \"run_properties\": \"copy=True, feature_range=(0, 1\", \"primary_metric\": 0.84615385, \"best_metric\": 0.96923077}, {\"run_id\": \"AutoML_d641fccc-1da4-4006-977e-0584f94ac0d7_20\", \"run_number\": 31, \"metric\": null, \"status\": \"Completed\", \"run_type\": \"azureml.scriptrun\", \"training_percent\": \"100\", \"start_time\": \"2020-12-31T19:06:31.008121Z\", \"end_time\": \"2020-12-31T19:07:13.53395Z\", \"created_time\": \"2020-12-31T19:06:20.085853Z\", \"created_time_dt\": \"2020-12-31T19:06:20.085853Z\", \"duration\": \"0:00:53\", \"iteration\": \"20\", \"goal\": \"accuracy_max\", \"run_name\": \"SparseNormalizer, XGBoostClassifier\", \"run_properties\": \"<azureml.automl.runtime.shared.model_wrappers.SparseNormalizer object at 0x7ff2f027dac8\", \"primary_metric\": 0.85128205, \"best_metric\": 0.96923077}, {\"run_id\": \"AutoML_d641fccc-1da4-4006-977e-0584f94ac0d7_21\", \"run_number\": 32, \"metric\": null, \"status\": \"Completed\", \"run_type\": \"azureml.scriptrun\", \"training_percent\": \"100\", \"start_time\": \"2020-12-31T19:06:50.498212Z\", \"end_time\": \"2020-12-31T19:07:32.415103Z\", \"created_time\": \"2020-12-31T19:06:38.897592Z\", \"created_time_dt\": \"2020-12-31T19:06:38.897592Z\", \"duration\": \"0:00:53\", \"iteration\": \"21\", \"goal\": \"accuracy_max\", \"run_name\": \"StandardScalerWrapper, ExtremeRandomTrees\", \"run_properties\": \"<azureml.automl.runtime.shared.model_wrappers.StandardScalerWrapper object at 0x7f76210453c8\", \"primary_metric\": 0.88717949, \"best_metric\": 0.96923077}, {\"run_id\": \"AutoML_d641fccc-1da4-4006-977e-0584f94ac0d7_22\", \"run_number\": 33, \"metric\": null, \"status\": \"Completed\", \"run_type\": \"azureml.scriptrun\", \"training_percent\": \"100\", \"start_time\": \"2020-12-31T19:06:53.676408Z\", \"end_time\": \"2020-12-31T19:07:30.100161Z\", \"created_time\": \"2020-12-31T19:06:43.671994Z\", \"created_time_dt\": \"2020-12-31T19:06:43.671994Z\", \"duration\": \"0:00:46\", \"iteration\": \"22\", \"goal\": \"accuracy_max\", \"run_name\": \"RobustScaler, ExtremeRandomTrees\", \"run_properties\": \"copy=True, quantile_range=[10, 90], with_centering=True,\\n             with_scaling=False\", \"primary_metric\": 0.89230769, \"best_metric\": 0.96923077}, {\"run_id\": \"AutoML_d641fccc-1da4-4006-977e-0584f94ac0d7_23\", \"run_number\": 34, \"metric\": null, \"status\": \"Completed\", \"run_type\": \"azureml.scriptrun\", \"training_percent\": \"100\", \"start_time\": \"2020-12-31T19:07:04.787514Z\", \"end_time\": \"2020-12-31T19:07:41.696701Z\", \"created_time\": \"2020-12-31T19:06:53.495346Z\", \"created_time_dt\": \"2020-12-31T19:06:53.495346Z\", \"duration\": \"0:00:48\", \"iteration\": \"23\", \"goal\": \"accuracy_max\", \"run_name\": \"StandardScalerWrapper, LightGBM\", \"run_properties\": \"<azureml.automl.runtime.shared.model_wrappers.StandardScalerWrapper object at 0x7f3454033cf8\", \"primary_metric\": 0.93846154, \"best_metric\": 0.96923077}, {\"run_id\": \"AutoML_d641fccc-1da4-4006-977e-0584f94ac0d7_24\", \"run_number\": 35, \"metric\": null, \"status\": \"Completed\", \"run_type\": \"azureml.scriptrun\", \"training_percent\": \"100\", \"start_time\": \"2020-12-31T19:07:28.581384Z\", \"end_time\": \"2020-12-31T19:08:09.170375Z\", \"created_time\": \"2020-12-31T19:07:16.118799Z\", \"created_time_dt\": \"2020-12-31T19:07:16.118799Z\", \"duration\": \"0:00:53\", \"iteration\": \"24\", \"goal\": \"accuracy_max\", \"run_name\": \"StandardScalerWrapper, LightGBM\", \"run_properties\": \"<azureml.automl.runtime.shared.model_wrappers.StandardScalerWrapper object at 0x7f0c1afa4128\", \"primary_metric\": 0.93333333, \"best_metric\": 0.96923077}, {\"run_id\": \"AutoML_d641fccc-1da4-4006-977e-0584f94ac0d7_25\", \"run_number\": 36, \"metric\": null, \"status\": \"Completed\", \"run_type\": \"azureml.scriptrun\", \"training_percent\": \"100\", \"start_time\": \"2020-12-31T19:07:45.159438Z\", \"end_time\": \"2020-12-31T19:08:31.896006Z\", \"created_time\": \"2020-12-31T19:07:33.175701Z\", \"created_time_dt\": \"2020-12-31T19:07:33.175701Z\", \"duration\": \"0:00:58\", \"iteration\": \"25\", \"goal\": \"accuracy_max\", \"run_name\": \"TruncatedSVDWrapper, KNN\", \"run_properties\": \"n_components=0.95, random_state=None\", \"primary_metric\": 0.96410256, \"best_metric\": 0.96923077}, {\"run_id\": \"AutoML_d641fccc-1da4-4006-977e-0584f94ac0d7_26\", \"run_number\": 37, \"metric\": null, \"status\": \"Completed\", \"run_type\": \"azureml.scriptrun\", \"training_percent\": \"100\", \"start_time\": \"2020-12-31T19:07:50.450843Z\", \"end_time\": \"2020-12-31T19:08:31.009603Z\", \"created_time\": \"2020-12-31T19:07:37.492848Z\", \"created_time_dt\": \"2020-12-31T19:07:37.492848Z\", \"duration\": \"0:00:53\", \"iteration\": \"26\", \"goal\": \"accuracy_max\", \"run_name\": \"SparseNormalizer, ExtremeRandomTrees\", \"run_properties\": \"<azureml.automl.runtime.shared.model_wrappers.SparseNormalizer object at 0x7f4bcc3c0ac8\", \"primary_metric\": 0.86153846, \"best_metric\": 0.96923077}, {\"run_id\": \"AutoML_d641fccc-1da4-4006-977e-0584f94ac0d7_27\", \"run_number\": 38, \"metric\": null, \"status\": \"Completed\", \"run_type\": \"azureml.scriptrun\", \"training_percent\": \"100\", \"start_time\": \"2020-12-31T19:07:54.239478Z\", \"end_time\": \"2020-12-31T19:08:33.38358Z\", \"created_time\": \"2020-12-31T19:07:43.785336Z\", \"created_time_dt\": \"2020-12-31T19:07:43.785336Z\", \"duration\": \"0:00:49\", \"iteration\": \"27\", \"goal\": \"accuracy_max\", \"run_name\": \"SparseNormalizer, LightGBM\", \"run_properties\": \"<azureml.automl.runtime.shared.model_wrappers.SparseNormalizer object at 0x7fa98ad22160\", \"primary_metric\": 0.95897436, \"best_metric\": 0.96923077}, {\"run_id\": \"AutoML_d641fccc-1da4-4006-977e-0584f94ac0d7_28\", \"run_number\": 39, \"metric\": null, \"status\": \"Completed\", \"run_type\": \"azureml.scriptrun\", \"training_percent\": \"100\", \"start_time\": \"2020-12-31T19:08:22.024255Z\", \"end_time\": \"2020-12-31T19:09:06.58197Z\", \"created_time\": \"2020-12-31T19:08:11.440571Z\", \"created_time_dt\": \"2020-12-31T19:08:11.440571Z\", \"duration\": \"0:00:55\", \"iteration\": \"28\", \"goal\": \"accuracy_max\", \"run_name\": \"SparseNormalizer, RandomForest\", \"run_properties\": \"<azureml.automl.runtime.shared.model_wrappers.SparseNormalizer object at 0x7f0a08620278\", \"primary_metric\": 0.90769231, \"best_metric\": 0.96923077}, {\"run_id\": \"AutoML_d641fccc-1da4-4006-977e-0584f94ac0d7_29\", \"run_number\": 40, \"metric\": null, \"status\": \"Completed\", \"run_type\": \"azureml.scriptrun\", \"training_percent\": \"100\", \"start_time\": \"2020-12-31T19:08:45.939917Z\", \"end_time\": \"2020-12-31T19:09:26.037768Z\", \"created_time\": \"2020-12-31T19:08:33.205347Z\", \"created_time_dt\": \"2020-12-31T19:08:33.205347Z\", \"duration\": \"0:00:52\", \"iteration\": \"29\", \"goal\": \"accuracy_max\", \"run_name\": \"MinMaxScaler, LightGBM\", \"run_properties\": \"copy=True, feature_range=(0, 1\", \"primary_metric\": 0.87692308, \"best_metric\": 0.96923077}, {\"run_id\": \"AutoML_d641fccc-1da4-4006-977e-0584f94ac0d7_30\", \"run_number\": 41, \"metric\": null, \"status\": \"Completed\", \"run_type\": \"azureml.scriptrun\", \"training_percent\": \"100\", \"start_time\": \"2020-12-31T19:08:49.00704Z\", \"end_time\": \"2020-12-31T19:09:25.471696Z\", \"created_time\": \"2020-12-31T19:08:38.627371Z\", \"created_time_dt\": \"2020-12-31T19:08:38.627371Z\", \"duration\": \"0:00:46\", \"iteration\": \"30\", \"goal\": \"accuracy_max\", \"run_name\": \"TruncatedSVDWrapper, KNN\", \"run_properties\": \"n_components=0.9005263157894737, random_state=None\", \"primary_metric\": 0.79487179, \"best_metric\": 0.96923077}, {\"run_id\": \"AutoML_d641fccc-1da4-4006-977e-0584f94ac0d7_31\", \"run_number\": 42, \"metric\": null, \"status\": \"Completed\", \"run_type\": \"azureml.scriptrun\", \"training_percent\": \"100\", \"start_time\": \"2020-12-31T19:08:50.355375Z\", \"end_time\": \"2020-12-31T19:09:30.561848Z\", \"created_time\": \"2020-12-31T19:08:38.651787Z\", \"created_time_dt\": \"2020-12-31T19:08:38.651787Z\", \"duration\": \"0:00:51\", \"iteration\": \"31\", \"goal\": \"accuracy_max\", \"run_name\": \"MinMaxScaler, LightGBM\", \"run_properties\": \"copy=True, feature_range=(0, 1\", \"primary_metric\": 0.95897436, \"best_metric\": 0.96923077}, {\"run_id\": \"AutoML_d641fccc-1da4-4006-977e-0584f94ac0d7_32\", \"run_number\": 43, \"metric\": null, \"status\": \"Completed\", \"run_type\": \"azureml.scriptrun\", \"training_percent\": \"100\", \"start_time\": \"2020-12-31T19:09:21.471387Z\", \"end_time\": \"2020-12-31T19:10:07.158617Z\", \"created_time\": \"2020-12-31T19:09:09.732947Z\", \"created_time_dt\": \"2020-12-31T19:09:09.732947Z\", \"duration\": \"0:00:57\", \"iteration\": \"32\", \"goal\": \"accuracy_max\", \"run_name\": \"MaxAbsScaler, LightGBM\", \"run_properties\": \"copy=True\", \"primary_metric\": 0.93333333, \"best_metric\": 0.96923077}, {\"run_id\": \"AutoML_d641fccc-1da4-4006-977e-0584f94ac0d7_33\", \"run_number\": 44, \"metric\": null, \"status\": \"Completed\", \"run_type\": \"azureml.scriptrun\", \"training_percent\": \"100\", \"start_time\": \"2020-12-31T19:09:40.856285Z\", \"end_time\": \"2020-12-31T19:10:15.910754Z\", \"created_time\": \"2020-12-31T19:09:27.72453Z\", \"created_time_dt\": \"2020-12-31T19:09:27.72453Z\", \"duration\": \"0:00:48\", \"iteration\": \"33\", \"goal\": \"accuracy_max\", \"run_name\": \"StandardScalerWrapper, LightGBM\", \"run_properties\": \"<azureml.automl.runtime.shared.model_wrappers.StandardScalerWrapper object at 0x7f803405c940\", \"primary_metric\": 0.91794872, \"best_metric\": 0.96923077}, {\"run_id\": \"AutoML_d641fccc-1da4-4006-977e-0584f94ac0d7_34\", \"run_number\": 45, \"metric\": null, \"status\": \"Completed\", \"run_type\": \"azureml.scriptrun\", \"training_percent\": \"100\", \"start_time\": \"2020-12-31T19:09:44.266386Z\", \"end_time\": \"2020-12-31T19:10:24.494596Z\", \"created_time\": \"2020-12-31T19:09:32.227982Z\", \"created_time_dt\": \"2020-12-31T19:09:32.227982Z\", \"duration\": \"0:00:52\", \"iteration\": \"34\", \"goal\": \"accuracy_max\", \"run_name\": \"SparseNormalizer, XGBoostClassifier\", \"run_properties\": \"<azureml.automl.runtime.shared.model_wrappers.SparseNormalizer object at 0x7f3e2b1320b8\", \"primary_metric\": 0.87692308, \"best_metric\": 0.96923077}, {\"run_id\": \"AutoML_d641fccc-1da4-4006-977e-0584f94ac0d7_35\", \"run_number\": 46, \"metric\": null, \"status\": \"Completed\", \"run_type\": \"azureml.scriptrun\", \"training_percent\": \"100\", \"start_time\": \"2020-12-31T19:09:48.544334Z\", \"end_time\": \"2020-12-31T19:10:31.811812Z\", \"created_time\": \"2020-12-31T19:09:37.153138Z\", \"created_time_dt\": \"2020-12-31T19:09:37.153138Z\", \"duration\": \"0:00:54\", \"iteration\": \"35\", \"goal\": \"accuracy_max\", \"run_name\": \"TruncatedSVDWrapper, KNN\", \"run_properties\": \"n_components=0.8015789473684211, random_state=None\", \"primary_metric\": 0.81025641, \"best_metric\": 0.96923077}, {\"run_id\": \"AutoML_d641fccc-1da4-4006-977e-0584f94ac0d7_36\", \"run_number\": 47, \"metric\": null, \"status\": \"Completed\", \"run_type\": \"azureml.scriptrun\", \"training_percent\": \"100\", \"start_time\": \"2020-12-31T19:10:20.67265Z\", \"end_time\": \"2020-12-31T19:11:05.340976Z\", \"created_time\": \"2020-12-31T19:10:09.3043Z\", \"created_time_dt\": \"2020-12-31T19:10:09.3043Z\", \"duration\": \"0:00:56\", \"iteration\": \"36\", \"goal\": \"accuracy_max\", \"run_name\": \"RobustScaler, RandomForest\", \"run_properties\": \"copy=True, quantile_range=[25, 75], with_centering=True,\\n             with_scaling=True\", \"primary_metric\": 0.86666667, \"best_metric\": 0.96923077}, {\"run_id\": \"AutoML_d641fccc-1da4-4006-977e-0584f94ac0d7_37\", \"run_number\": 48, \"metric\": null, \"status\": \"Completed\", \"run_type\": \"azureml.scriptrun\", \"training_percent\": \"100\", \"start_time\": \"2020-12-31T19:10:30.041373Z\", \"end_time\": \"2020-12-31T19:11:06.438868Z\", \"created_time\": \"2020-12-31T19:10:18.859075Z\", \"created_time_dt\": \"2020-12-31T19:10:18.859075Z\", \"duration\": \"0:00:47\", \"iteration\": \"37\", \"goal\": \"accuracy_max\", \"run_name\": \"SparseNormalizer, XGBoostClassifier\", \"run_properties\": \"<azureml.automl.runtime.shared.model_wrappers.SparseNormalizer object at 0x7f68d927aba8\", \"primary_metric\": 0.89230769, \"best_metric\": 0.96923077}, {\"run_id\": \"AutoML_d641fccc-1da4-4006-977e-0584f94ac0d7_38\", \"run_number\": 49, \"metric\": null, \"status\": \"Completed\", \"run_type\": \"azureml.scriptrun\", \"training_percent\": \"100\", \"start_time\": \"2020-12-31T19:10:54.949631Z\", \"end_time\": \"2020-12-31T19:11:48.488736Z\", \"created_time\": \"2020-12-31T19:10:44.359356Z\", \"created_time_dt\": \"2020-12-31T19:10:44.359356Z\", \"duration\": \"0:01:04\", \"iteration\": \"38\", \"goal\": \"accuracy_max\", \"run_name\": \"StandardScalerWrapper, SVM\", \"run_properties\": \"<azureml.automl.runtime.shared.model_wrappers.StandardScalerWrapper object at 0x7f6d35712dd8\", \"primary_metric\": 0.95897436, \"best_metric\": 0.96923077}, {\"run_id\": \"AutoML_d641fccc-1da4-4006-977e-0584f94ac0d7_39\", \"run_number\": 50, \"metric\": null, \"status\": \"Completed\", \"run_type\": \"azureml.scriptrun\", \"training_percent\": \"100\", \"start_time\": \"2020-12-31T19:11:00.422035Z\", \"end_time\": \"2020-12-31T19:11:45.573042Z\", \"created_time\": \"2020-12-31T19:10:48.676651Z\", \"created_time_dt\": \"2020-12-31T19:10:48.676651Z\", \"duration\": \"0:00:56\", \"iteration\": \"39\", \"goal\": \"accuracy_max\", \"run_name\": \"SparseNormalizer, LightGBM\", \"run_properties\": \"<azureml.automl.runtime.shared.model_wrappers.SparseNormalizer object at 0x7f935cd824a8\", \"primary_metric\": 0.9025641, \"best_metric\": 0.96923077}, {\"run_id\": \"AutoML_d641fccc-1da4-4006-977e-0584f94ac0d7_40\", \"run_number\": 51, \"metric\": null, \"status\": \"Completed\", \"run_type\": \"azureml.scriptrun\", \"training_percent\": \"100\", \"start_time\": \"2020-12-31T19:11:19.784704Z\", \"end_time\": \"2020-12-31T19:11:56.235883Z\", \"created_time\": \"2020-12-31T19:11:08.488645Z\", \"created_time_dt\": \"2020-12-31T19:11:08.488645Z\", \"duration\": \"0:00:47\", \"iteration\": \"40\", \"goal\": \"accuracy_max\", \"run_name\": \"PCA, KNN\", \"run_properties\": \"copy=True, iterated_power='auto', n_components=0.05947368421052632,\\n    random_state=None, svd_solver='auto', tol=0.0, whiten=True\", \"primary_metric\": 0.78461538, \"best_metric\": 0.96923077}, {\"run_id\": \"AutoML_d641fccc-1da4-4006-977e-0584f94ac0d7_41\", \"run_number\": 52, \"metric\": null, \"status\": \"Completed\", \"run_type\": \"azureml.scriptrun\", \"training_percent\": \"100\", \"start_time\": \"2020-12-31T19:11:33.881014Z\", \"end_time\": \"2020-12-31T19:12:16.178173Z\", \"created_time\": \"2020-12-31T19:11:23.75557Z\", \"created_time_dt\": \"2020-12-31T19:11:23.75557Z\", \"duration\": \"0:00:52\", \"iteration\": \"41\", \"goal\": \"accuracy_max\", \"run_name\": \"SparseNormalizer, XGBoostClassifier\", \"run_properties\": \"<azureml.automl.runtime.shared.model_wrappers.SparseNormalizer object at 0x7f30009fabe0\", \"primary_metric\": 0.89230769, \"best_metric\": 0.96923077}, {\"run_id\": \"AutoML_d641fccc-1da4-4006-977e-0584f94ac0d7_42\", \"run_number\": 53, \"metric\": null, \"status\": \"Completed\", \"run_type\": \"azureml.scriptrun\", \"training_percent\": \"100\", \"start_time\": \"2020-12-31T19:11:58.310023Z\", \"end_time\": \"2020-12-31T19:12:34.743733Z\", \"created_time\": \"2020-12-31T19:11:47.710964Z\", \"created_time_dt\": \"2020-12-31T19:11:47.710964Z\", \"duration\": \"0:00:47\", \"iteration\": \"42\", \"goal\": \"accuracy_max\", \"run_name\": \"SparseNormalizer, XGBoostClassifier\", \"run_properties\": \"<azureml.automl.runtime.shared.model_wrappers.SparseNormalizer object at 0x7f1e1e6b56a0\", \"primary_metric\": 0.92820513, \"best_metric\": 0.96923077}, {\"run_id\": \"AutoML_d641fccc-1da4-4006-977e-0584f94ac0d7_43\", \"run_number\": 54, \"metric\": null, \"status\": \"Completed\", \"run_type\": \"azureml.scriptrun\", \"training_percent\": \"100\", \"start_time\": \"2020-12-31T19:12:04.272839Z\", \"end_time\": \"2020-12-31T19:12:41.907281Z\", \"created_time\": \"2020-12-31T19:11:51.786434Z\", \"created_time_dt\": \"2020-12-31T19:11:51.786434Z\", \"duration\": \"0:00:50\", \"iteration\": \"43\", \"goal\": \"accuracy_max\", \"run_name\": \"SparseNormalizer, XGBoostClassifier\", \"run_properties\": \"<azureml.automl.runtime.shared.model_wrappers.SparseNormalizer object at 0x7f176c0a02e8\", \"primary_metric\": 0.91794872, \"best_metric\": 0.96923077}, {\"run_id\": \"AutoML_d641fccc-1da4-4006-977e-0584f94ac0d7_44\", \"run_number\": 55, \"metric\": null, \"status\": \"Completed\", \"run_type\": \"azureml.scriptrun\", \"training_percent\": \"100\", \"start_time\": \"2020-12-31T19:12:09.415385Z\", \"end_time\": \"2020-12-31T19:12:45.84317Z\", \"created_time\": \"2020-12-31T19:11:58.486144Z\", \"created_time_dt\": \"2020-12-31T19:11:58.486144Z\", \"duration\": \"0:00:47\", \"iteration\": \"44\", \"goal\": \"accuracy_max\", \"run_name\": \"SparseNormalizer, LightGBM\", \"run_properties\": \"<azureml.automl.runtime.shared.model_wrappers.SparseNormalizer object at 0x7fb7ba064630\", \"primary_metric\": 0.93333333, \"best_metric\": 0.96923077}, {\"run_id\": \"AutoML_d641fccc-1da4-4006-977e-0584f94ac0d7_45\", \"run_number\": 56, \"metric\": null, \"status\": \"Completed\", \"run_type\": \"azureml.scriptrun\", \"training_percent\": \"100\", \"start_time\": \"2020-12-31T19:12:32.039764Z\", \"end_time\": \"2020-12-31T19:13:17.987792Z\", \"created_time\": \"2020-12-31T19:12:19.414776Z\", \"created_time_dt\": \"2020-12-31T19:12:19.414776Z\", \"duration\": \"0:00:58\", \"iteration\": \"45\", \"goal\": \"accuracy_max\", \"run_name\": \"SparseNormalizer, KNN\", \"run_properties\": \"<azureml.automl.runtime.shared.model_wrappers.SparseNormalizer object at 0x7f52ed17bc88\", \"primary_metric\": 0.83589744, \"best_metric\": 0.96923077}, {\"run_id\": \"AutoML_d641fccc-1da4-4006-977e-0584f94ac0d7_46\", \"run_number\": 57, \"metric\": null, \"status\": \"Completed\", \"run_type\": \"azureml.scriptrun\", \"training_percent\": \"100\", \"start_time\": \"2020-12-31T19:12:48.825088Z\", \"end_time\": \"2020-12-31T19:13:23.355883Z\", \"created_time\": \"2020-12-31T19:12:36.770381Z\", \"created_time_dt\": \"2020-12-31T19:12:36.770381Z\", \"duration\": \"0:00:46\", \"iteration\": \"46\", \"goal\": \"accuracy_max\", \"run_name\": \"SparseNormalizer, XGBoostClassifier\", \"run_properties\": \"<azureml.automl.runtime.shared.model_wrappers.SparseNormalizer object at 0x7f4478071470\", \"primary_metric\": 0.93333333, \"best_metric\": 0.96923077}, {\"run_id\": \"AutoML_d641fccc-1da4-4006-977e-0584f94ac0d7_47\", \"run_number\": 58, \"metric\": null, \"status\": \"Completed\", \"run_type\": \"azureml.scriptrun\", \"training_percent\": \"100\", \"start_time\": \"2020-12-31T19:12:55.357481Z\", \"end_time\": \"2020-12-31T19:13:31.868826Z\", \"created_time\": \"2020-12-31T19:12:44.134399Z\", \"created_time_dt\": \"2020-12-31T19:12:44.134399Z\", \"duration\": \"0:00:47\", \"iteration\": \"47\", \"goal\": \"accuracy_max\", \"run_name\": \"SparseNormalizer, XGBoostClassifier\", \"run_properties\": \"<azureml.automl.runtime.shared.model_wrappers.SparseNormalizer object at 0x7f627b463438\", \"primary_metric\": 0.94871795, \"best_metric\": 0.96923077}, {\"run_id\": \"AutoML_d641fccc-1da4-4006-977e-0584f94ac0d7_48\", \"run_number\": 59, \"metric\": null, \"status\": \"Completed\", \"run_type\": \"azureml.scriptrun\", \"training_percent\": \"100\", \"start_time\": \"2020-12-31T19:13:04.668486Z\", \"end_time\": \"2020-12-31T19:13:46.121125Z\", \"created_time\": \"2020-12-31T19:12:48.134765Z\", \"created_time_dt\": \"2020-12-31T19:12:48.134765Z\", \"duration\": \"0:00:57\", \"iteration\": \"48\", \"goal\": \"accuracy_max\", \"run_name\": \"RobustScaler, LightGBM\", \"run_properties\": \"copy=True, quantile_range=[25, 75], with_centering=False,\\n             with_scaling=False\", \"primary_metric\": 0.91794872, \"best_metric\": 0.96923077}, {\"run_id\": \"AutoML_d641fccc-1da4-4006-977e-0584f94ac0d7_49\", \"run_number\": 60, \"metric\": null, \"status\": \"Completed\", \"run_type\": \"azureml.scriptrun\", \"training_percent\": \"100\", \"start_time\": \"2020-12-31T19:13:31.276259Z\", \"end_time\": \"2020-12-31T19:14:08.649669Z\", \"created_time\": \"2020-12-31T19:13:20.212125Z\", \"created_time_dt\": \"2020-12-31T19:13:20.212125Z\", \"duration\": \"0:00:48\", \"iteration\": \"49\", \"goal\": \"accuracy_max\", \"run_name\": \"SparseNormalizer, XGBoostClassifier\", \"run_properties\": \"<azureml.automl.runtime.shared.model_wrappers.SparseNormalizer object at 0x7fa2c1d20eb8\", \"primary_metric\": 0.94871795, \"best_metric\": 0.96923077}, {\"run_id\": \"AutoML_d641fccc-1da4-4006-977e-0584f94ac0d7_50\", \"run_number\": 61, \"metric\": null, \"status\": \"Completed\", \"run_type\": \"azureml.scriptrun\", \"training_percent\": \"100\", \"start_time\": \"2020-12-31T19:13:38.21599Z\", \"end_time\": \"2020-12-31T19:14:18.382535Z\", \"created_time\": \"2020-12-31T19:13:26.600224Z\", \"created_time_dt\": \"2020-12-31T19:13:26.600224Z\", \"duration\": \"0:00:51\", \"iteration\": \"50\", \"goal\": \"accuracy_max\", \"run_name\": \"SparseNormalizer, KNN\", \"run_properties\": \"<azureml.automl.runtime.shared.model_wrappers.SparseNormalizer object at 0x7fc094579748\", \"primary_metric\": 0.81025641, \"best_metric\": 0.96923077}, {\"run_id\": \"AutoML_d641fccc-1da4-4006-977e-0584f94ac0d7_51\", \"run_number\": 62, \"metric\": null, \"status\": \"Completed\", \"run_type\": \"azureml.scriptrun\", \"training_percent\": \"100\", \"start_time\": \"2020-12-31T19:13:46.243938Z\", \"end_time\": \"2020-12-31T19:14:31.847129Z\", \"created_time\": \"2020-12-31T19:13:34.05661Z\", \"created_time_dt\": \"2020-12-31T19:13:34.05661Z\", \"duration\": \"0:00:57\", \"iteration\": \"51\", \"goal\": \"accuracy_max\", \"run_name\": \"SparseNormalizer, XGBoostClassifier\", \"run_properties\": \"<azureml.automl.runtime.shared.model_wrappers.SparseNormalizer object at 0x7f39c733ac18\", \"primary_metric\": 0.93846154, \"best_metric\": 0.96923077}, {\"run_id\": \"AutoML_d641fccc-1da4-4006-977e-0584f94ac0d7_52\", \"run_number\": 63, \"metric\": null, \"status\": \"Canceled\", \"run_type\": \"azureml.scriptrun\", \"training_percent\": \"100\", \"start_time\": \"2020-12-31T19:14:00.384998Z\", \"end_time\": \"2020-12-31T19:14:40.238666Z\", \"created_time\": \"2020-12-31T19:13:48.34009Z\", \"created_time_dt\": \"2020-12-31T19:13:48.34009Z\", \"duration\": \"0:00:51\", \"iteration\": \"52\", \"goal\": \"accuracy_max\", \"run_name\": \"SparseNormalizer, XGBoostClassifier\", \"run_properties\": \"<azureml.automl.runtime.shared.model_wrappers.SparseNormalizer object at 0x7ff98e9cc278\", \"primary_metric\": 0.9025641, \"best_metric\": 0.96923077}, {\"run_id\": \"AutoML_d641fccc-1da4-4006-977e-0584f94ac0d7_53\", \"run_number\": 64, \"metric\": null, \"status\": \"Canceled\", \"run_type\": \"azureml.scriptrun\", \"training_percent\": \"100\", \"start_time\": \"2020-12-31T19:14:22.086575Z\", \"end_time\": \"2020-12-31T19:14:41.336169Z\", \"created_time\": \"2020-12-31T19:14:10.795817Z\", \"created_time_dt\": \"2020-12-31T19:14:10.795817Z\", \"duration\": \"0:00:30\", \"iteration\": \"53\", \"goal\": null, \"run_name\": \"Canceled\", \"run_properties\": null}, {\"run_id\": \"AutoML_d641fccc-1da4-4006-977e-0584f94ac0d7_54\", \"run_number\": 65, \"metric\": null, \"status\": \"Canceled\", \"run_type\": \"azureml.scriptrun\", \"training_percent\": \"100\", \"start_time\": \"2020-12-31T19:14:32.862929Z\", \"end_time\": \"2020-12-31T19:14:40.601278Z\", \"created_time\": \"2020-12-31T19:14:20.719775Z\", \"created_time_dt\": \"2020-12-31T19:14:20.719775Z\", \"duration\": \"0:00:19\", \"iteration\": \"54\", \"goal\": null, \"run_name\": \"Canceled\", \"run_properties\": null}, {\"run_id\": \"AutoML_d641fccc-1da4-4006-977e-0584f94ac0d7_55\", \"run_number\": 66, \"metric\": null, \"status\": \"Completed\", \"run_type\": \"azureml.scriptrun\", \"training_percent\": \"100\", \"start_time\": \"2020-12-31T19:14:54.635054Z\", \"end_time\": \"2020-12-31T19:16:24.116769Z\", \"created_time\": \"2020-12-31T19:14:43.717291Z\", \"created_time_dt\": \"2020-12-31T19:14:43.717291Z\", \"duration\": \"0:01:40\", \"iteration\": \"55\", \"goal\": \"accuracy_max\", \"run_name\": \"VotingEnsemble\", \"run_properties\": \"classification_labels=None,\\n                              estimators=[('15',\\n                                           Pipeline(memory=None,\\n                                                    steps=[('robustscaler',\\n                                                            RobustScaler(copy=True,\\n                                                                         quantile_range=[25,\\n                                                                                         75],\\n                                                                         with_centering=True,\\n                                                                         with_scaling=False\", \"primary_metric\": 0.98461538, \"best_metric\": 0.98461538}, {\"run_id\": \"AutoML_d641fccc-1da4-4006-977e-0584f94ac0d7_56\", \"run_number\": 67, \"metric\": null, \"status\": \"Completed\", \"run_type\": \"azureml.scriptrun\", \"training_percent\": \"100\", \"start_time\": \"2020-12-31T19:14:58.082155Z\", \"end_time\": \"2020-12-31T19:17:32.369496Z\", \"created_time\": \"2020-12-31T19:14:43.871374Z\", \"created_time_dt\": \"2020-12-31T19:14:43.871374Z\", \"duration\": \"0:02:48\", \"iteration\": \"56\", \"goal\": \"accuracy_max\", \"run_name\": \"StackEnsemble\", \"run_properties\": \"base_learners=[('15',\\n                                        Pipeline(memory=None,\\n                                                 steps=[('robustscaler',\\n                                                         RobustScaler(copy=True,\\n                                                                      quantile_range=[25,\\n                                                                                      75],\\n                                                                      with_centering=True,\\n                                                                      with_scaling=False\", \"primary_metric\": 0.97435897, \"best_metric\": 0.98461538}], \"children_metrics\": {\"categories\": [0], \"series\": {\"weighted_accuracy\": [{\"categories\": [\"0\", \"1\", \"2\", \"3\", \"4\", \"5\", \"6\", \"7\", \"8\", \"9\", \"10\", \"11\", \"12\", \"13\", \"14\", \"15\", \"16\", \"17\", \"18\", \"19\", \"20\", \"21\", \"22\", \"23\", \"24\", \"25\", \"26\", \"27\", \"28\", \"29\", \"30\", \"31\", \"32\", \"33\", \"34\", \"35\", \"36\", \"37\", \"38\", \"39\", \"40\", \"41\", \"42\", \"43\", \"44\", \"45\", \"46\", \"47\", \"48\", \"49\", \"50\", \"51\", \"52\", \"55\", \"56\"], \"mode\": \"markers\", \"name\": \"weighted_accuracy\", \"stepped\": false, \"type\": \"scatter\", \"data\": [0.9745738642316095, 0.9786287707561643, 0.9624621679246044, 0.9288228778764903, 0.9120381556808927, 0.9595447632730993, 0.9630995569716735, 0.9656348972560469, 0.9670919860765663, 0.9472701642236914, 0.9628564326468527, 0.9786165959780139, 0.9212206371263078, 0.9632073922202016, 0.9537244966662927, 0.9741382970156842, 0.8738921708584915, 0.8738921708584915, 0.9783427092024489, 0.8889580480615118, 0.9122607515958864, 0.9403581612883194, 0.9521356867921099, 0.9736421181784808, 0.9588195812302391, 0.9761660308743192, 0.8607098803583886, 0.9852368393173915, 0.9383982158287241, 0.9167218134226148, 0.8874156801537598, 0.9852368393173915, 0.9541077219786759, 0.9496905317787452, 0.9302916243474897, 0.9177767850043999, 0.8835824089107375, 0.9361863433009688, 0.9744888854043664, 0.9410581982705597, 0.8425851455219924, 0.9354724430610479, 0.9542329290382414, 0.9357883815404262, 0.9589698340820645, 0.8901440244089546, 0.957394221436935, 0.9685222878134747, 0.9426238373506548, 0.9731821200595139, 0.8874390815022537, 0.9610952325942854, 0.9462195357701617, 0.9939143405902369, 0.9822984955268066]}, {\"categories\": [\"0\", \"1\", \"2\", \"3\", \"4\", \"5\", \"6\", \"7\", \"8\", \"9\", \"10\", \"11\", \"12\", \"13\", \"14\", \"15\", \"16\", \"17\", \"18\", \"19\", \"20\", \"21\", \"22\", \"23\", \"24\", \"25\", \"26\", \"27\", \"28\", \"29\", \"30\", \"31\", \"32\", \"33\", \"34\", \"35\", \"36\", \"37\", \"38\", \"39\", \"40\", \"41\", \"42\", \"43\", \"44\", \"45\", \"46\", \"47\", \"48\", \"49\", \"50\", \"51\", \"52\", \"55\", \"56\"], \"mode\": \"lines\", \"name\": \"weighted_accuracy_max\", \"stepped\": true, \"type\": \"scatter\", \"data\": [0.9745738642316095, 0.9786287707561643, 0.9786287707561643, 0.9786287707561643, 0.9786287707561643, 0.9786287707561643, 0.9786287707561643, 0.9786287707561643, 0.9786287707561643, 0.9786287707561643, 0.9786287707561643, 0.9786287707561643, 0.9786287707561643, 0.9786287707561643, 0.9786287707561643, 0.9786287707561643, 0.9786287707561643, 0.9786287707561643, 0.9786287707561643, 0.9786287707561643, 0.9786287707561643, 0.9786287707561643, 0.9786287707561643, 0.9786287707561643, 0.9786287707561643, 0.9786287707561643, 0.9786287707561643, 0.9852368393173915, 0.9852368393173915, 0.9852368393173915, 0.9852368393173915, 0.9852368393173915, 0.9852368393173915, 0.9852368393173915, 0.9852368393173915, 0.9852368393173915, 0.9852368393173915, 0.9852368393173915, 0.9852368393173915, 0.9852368393173915, 0.9852368393173915, 0.9852368393173915, 0.9852368393173915, 0.9852368393173915, 0.9852368393173915, 0.9852368393173915, 0.9852368393173915, 0.9852368393173915, 0.9852368393173915, 0.9852368393173915, 0.9852368393173915, 0.9852368393173915, 0.9852368393173915, 0.9939143405902369, 0.9939143405902369]}], \"norm_macro_recall\": [{\"categories\": [\"0\", \"1\", \"2\", \"3\", \"4\", \"5\", \"6\", \"7\", \"8\", \"9\", \"10\", \"11\", \"12\", \"13\", \"14\", \"15\", \"16\", \"17\", \"18\", \"19\", \"20\", \"21\", \"22\", \"23\", \"24\", \"25\", \"26\", \"27\", \"28\", \"29\", \"30\", \"31\", \"32\", \"33\", \"34\", \"35\", \"36\", \"37\", \"38\", \"39\", \"40\", \"41\", \"42\", \"43\", \"44\", \"45\", \"46\", \"47\", \"48\", \"49\", \"50\", \"51\", \"52\", \"55\", \"56\"], \"mode\": \"markers\", \"name\": \"norm_macro_recall\", \"stepped\": false, \"type\": \"scatter\", \"data\": [0.8848812260536398, 0.8723333333333333, 0.8154444444444444, 0.5638033970725852, 0.6473518371382665, 0.8571039426523297, 0.7573859623567633, 0.8651039426523297, 0.7969563492063492, 0.6434603174603175, 0.7279682539682539, 0.8175555555555555, 0.2695238095238095, 0.7576317204301075, 0.736850248071049, 0.9228024083196498, 0.5135414923106804, 0.5135414923106804, 0.8203333333333334, 0.5425359879584017, 0.49004469251549343, 0.5857076646008793, 0.5715642601126472, 0.7445396825396826, 0.7706153530377667, 0.8901438988646998, 0.7279033494005684, 0.8192063492063493, 0.7056756448964459, 0.6131677083885093, 0.2608038914490528, 0.8192063492063493, 0.7900833333333332, 0.7245119047619047, 0.5613740575948585, 0.23230158730158731, 0.6771342982502604, 0.6233817204301075, 0.8670198412698411, 0.6651042163250173, 0.35942116019563186, 0.6319660954852835, 0.7632383689107828, 0.7736997280929427, 0.7733581845789855, 0.47536555167116906, 0.7812946925154935, 0.8272777777777778, 0.7501084582516728, 0.8049563492063492, 0.3371264147112312, 0.7933581845789854, 0.6521190476190476, 0.9377777777777776, 0.9167777777777777]}, {\"categories\": [\"0\", \"1\", \"2\", \"3\", \"4\", \"5\", \"6\", \"7\", \"8\", \"9\", \"10\", \"11\", \"12\", \"13\", \"14\", \"15\", \"16\", \"17\", \"18\", \"19\", \"20\", \"21\", \"22\", \"23\", \"24\", \"25\", \"26\", \"27\", \"28\", \"29\", \"30\", \"31\", \"32\", \"33\", \"34\", \"35\", \"36\", \"37\", \"38\", \"39\", \"40\", \"41\", \"42\", \"43\", \"44\", \"45\", \"46\", \"47\", \"48\", \"49\", \"50\", \"51\", \"52\", \"55\", \"56\"], \"mode\": \"lines\", \"name\": \"norm_macro_recall_max\", \"stepped\": true, \"type\": \"scatter\", \"data\": [0.8848812260536398, 0.8848812260536398, 0.8848812260536398, 0.8848812260536398, 0.8848812260536398, 0.8848812260536398, 0.8848812260536398, 0.8848812260536398, 0.8848812260536398, 0.8848812260536398, 0.8848812260536398, 0.8848812260536398, 0.8848812260536398, 0.8848812260536398, 0.8848812260536398, 0.9228024083196498, 0.9228024083196498, 0.9228024083196498, 0.9228024083196498, 0.9228024083196498, 0.9228024083196498, 0.9228024083196498, 0.9228024083196498, 0.9228024083196498, 0.9228024083196498, 0.9228024083196498, 0.9228024083196498, 0.9228024083196498, 0.9228024083196498, 0.9228024083196498, 0.9228024083196498, 0.9228024083196498, 0.9228024083196498, 0.9228024083196498, 0.9228024083196498, 0.9228024083196498, 0.9228024083196498, 0.9228024083196498, 0.9228024083196498, 0.9228024083196498, 0.9228024083196498, 0.9228024083196498, 0.9228024083196498, 0.9228024083196498, 0.9228024083196498, 0.9228024083196498, 0.9228024083196498, 0.9228024083196498, 0.9228024083196498, 0.9228024083196498, 0.9228024083196498, 0.9228024083196498, 0.9228024083196498, 0.9377777777777776, 0.9377777777777776]}], \"matthews_correlation\": [{\"categories\": [\"0\", \"1\", \"2\", \"3\", \"4\", \"5\", \"6\", \"7\", \"8\", \"9\", \"10\", \"11\", \"12\", \"13\", \"14\", \"15\", \"16\", \"17\", \"18\", \"19\", \"20\", \"21\", \"22\", \"23\", \"24\", \"25\", \"26\", \"27\", \"28\", \"29\", \"30\", \"31\", \"32\", \"33\", \"34\", \"35\", \"36\", \"37\", \"38\", \"39\", \"40\", \"41\", \"42\", \"43\", \"44\", \"45\", \"46\", \"47\", \"48\", \"49\", \"50\", \"51\", \"52\", \"55\", \"56\"], \"mode\": \"markers\", \"name\": \"matthews_correlation\", \"stepped\": false, \"type\": \"scatter\", \"data\": [0.9059170029620965, 0.9058274526265475, 0.8493793891545623, 0.6499009515006693, 0.6828870606047309, 0.8772314696638958, 0.799680120417419, 0.8858327120802173, 0.8432192210072849, 0.737406302623058, 0.8049632373204366, 0.8731985726505634, 0.4139751634747479, 0.8070528735302753, 0.7745266274031853, 0.925197651150788, 0.5339665460458889, 0.5339665460458889, 0.8743779350671742, 0.5751601439064528, 0.5651967776508438, 0.6754505744957953, 0.6825616480998742, 0.824780990622792, 0.8131502312110831, 0.9039070450517611, 0.6750885167717922, 0.8809339874648705, 0.7361476005564147, 0.6526733735591521, 0.36796772821337953, 0.8809339874648705, 0.8308579556642848, 0.783686662103919, 0.6296476541149808, 0.4178060047669592, 0.6646520594455569, 0.6929678011382581, 0.8919286199842219, 0.7113161007501129, 0.40581067063368287, 0.6852836344283746, 0.7994089684884955, 0.7679008161056401, 0.8002574364366456, 0.5368480447434221, 0.803744114637192, 0.8586941309546308, 0.7663344092016106, 0.853090189617209, 0.4316108302692204, 0.8162730303412561, 0.7320874683301898, 0.9585142968007044, 0.9356232220983103]}, {\"categories\": [\"0\", \"1\", \"2\", \"3\", \"4\", \"5\", \"6\", \"7\", \"8\", \"9\", \"10\", \"11\", \"12\", \"13\", \"14\", \"15\", \"16\", \"17\", \"18\", \"19\", \"20\", \"21\", \"22\", \"23\", \"24\", \"25\", \"26\", \"27\", \"28\", \"29\", \"30\", \"31\", \"32\", \"33\", \"34\", \"35\", \"36\", \"37\", \"38\", \"39\", \"40\", \"41\", \"42\", \"43\", \"44\", \"45\", \"46\", \"47\", \"48\", \"49\", \"50\", \"51\", \"52\", \"55\", \"56\"], \"mode\": \"lines\", \"name\": \"matthews_correlation_max\", \"stepped\": true, \"type\": \"scatter\", \"data\": [0.9059170029620965, 0.9059170029620965, 0.9059170029620965, 0.9059170029620965, 0.9059170029620965, 0.9059170029620965, 0.9059170029620965, 0.9059170029620965, 0.9059170029620965, 0.9059170029620965, 0.9059170029620965, 0.9059170029620965, 0.9059170029620965, 0.9059170029620965, 0.9059170029620965, 0.925197651150788, 0.925197651150788, 0.925197651150788, 0.925197651150788, 0.925197651150788, 0.925197651150788, 0.925197651150788, 0.925197651150788, 0.925197651150788, 0.925197651150788, 0.925197651150788, 0.925197651150788, 0.925197651150788, 0.925197651150788, 0.925197651150788, 0.925197651150788, 0.925197651150788, 0.925197651150788, 0.925197651150788, 0.925197651150788, 0.925197651150788, 0.925197651150788, 0.925197651150788, 0.925197651150788, 0.925197651150788, 0.925197651150788, 0.925197651150788, 0.925197651150788, 0.925197651150788, 0.925197651150788, 0.925197651150788, 0.925197651150788, 0.925197651150788, 0.925197651150788, 0.925197651150788, 0.925197651150788, 0.925197651150788, 0.925197651150788, 0.9585142968007044, 0.9585142968007044]}], \"AUC_micro\": [{\"categories\": [\"0\", \"1\", \"2\", \"3\", \"4\", \"5\", \"6\", \"7\", \"8\", \"9\", \"10\", \"11\", \"12\", \"13\", \"14\", \"15\", \"16\", \"17\", \"18\", \"19\", \"20\", \"21\", \"22\", \"23\", \"24\", \"25\", \"26\", \"27\", \"28\", \"29\", \"30\", \"31\", \"32\", \"33\", \"34\", \"35\", \"36\", \"37\", \"38\", \"39\", \"40\", \"41\", \"42\", \"43\", \"44\", \"45\", \"46\", \"47\", \"48\", \"49\", \"50\", \"51\", \"52\", \"55\", \"56\"], \"mode\": \"markers\", \"name\": \"AUC_micro\", \"stepped\": false, \"type\": \"scatter\", \"data\": [0.9935568704799473, 0.9914529914529915, 0.985930309007232, 0.9529257067718607, 0.9701512163050625, 0.9863247863247864, 0.9769888231426693, 0.9859960552268244, 0.9846153846153847, 0.9635765943458251, 0.9813280736357658, 0.9819855358316897, 0.9278106508875739, 0.9730440499671269, 0.9701512163050625, 0.9950032873109796, 0.9378040762656147, 0.9380670611439843, 0.9848783694937542, 0.9363576594345824, 0.9370151216305063, 0.961604207758054, 0.9667324128862591, 0.978698224852071, 0.9809335963182116, 0.992767915844839, 0.9551610782380013, 0.977646285338593, 0.9726495726495725, 0.9484549638395793, 0.9075608152531229, 0.9923734385272847, 0.9793556870479947, 0.9723865877712031, 0.9374095989480604, 0.9236028928336621, 0.9629191321499014, 0.9564760026298487, 0.9864562787639711, 0.9675213675213674, 0.8389217619986852, 0.9531886916502301, 0.9747534516765285, 0.9694937541091388, 0.9712031558185406, 0.9084155161078238, 0.9727810650887575, 0.9763313609467454, 0.9750164365548981, 0.9805391190006574, 0.9042735042735043, 0.9723865877712031, 0.9638395792241946, 0.996975673898751, 0.9975016436554899]}, {\"categories\": [\"0\", \"1\", \"2\", \"3\", \"4\", \"5\", \"6\", \"7\", \"8\", \"9\", \"10\", \"11\", \"12\", \"13\", \"14\", \"15\", \"16\", \"17\", \"18\", \"19\", \"20\", \"21\", \"22\", \"23\", \"24\", \"25\", \"26\", \"27\", \"28\", \"29\", \"30\", \"31\", \"32\", \"33\", \"34\", \"35\", \"36\", \"37\", \"38\", \"39\", \"40\", \"41\", \"42\", \"43\", \"44\", \"45\", \"46\", \"47\", \"48\", \"49\", \"50\", \"51\", \"52\", \"55\", \"56\"], \"mode\": \"lines\", \"name\": \"AUC_micro_max\", \"stepped\": true, \"type\": \"scatter\", \"data\": [0.9935568704799473, 0.9935568704799473, 0.9935568704799473, 0.9935568704799473, 0.9935568704799473, 0.9935568704799473, 0.9935568704799473, 0.9935568704799473, 0.9935568704799473, 0.9935568704799473, 0.9935568704799473, 0.9935568704799473, 0.9935568704799473, 0.9935568704799473, 0.9935568704799473, 0.9950032873109796, 0.9950032873109796, 0.9950032873109796, 0.9950032873109796, 0.9950032873109796, 0.9950032873109796, 0.9950032873109796, 0.9950032873109796, 0.9950032873109796, 0.9950032873109796, 0.9950032873109796, 0.9950032873109796, 0.9950032873109796, 0.9950032873109796, 0.9950032873109796, 0.9950032873109796, 0.9950032873109796, 0.9950032873109796, 0.9950032873109796, 0.9950032873109796, 0.9950032873109796, 0.9950032873109796, 0.9950032873109796, 0.9950032873109796, 0.9950032873109796, 0.9950032873109796, 0.9950032873109796, 0.9950032873109796, 0.9950032873109796, 0.9950032873109796, 0.9950032873109796, 0.9950032873109796, 0.9950032873109796, 0.9950032873109796, 0.9950032873109796, 0.9950032873109796, 0.9950032873109796, 0.9950032873109796, 0.996975673898751, 0.9975016436554899]}], \"log_loss\": [{\"categories\": [\"0\", \"1\", \"2\", \"3\", \"4\", \"5\", \"6\", \"7\", \"8\", \"9\", \"10\", \"11\", \"12\", \"13\", \"14\", \"15\", \"16\", \"17\", \"18\", \"19\", \"20\", \"21\", \"22\", \"23\", \"24\", \"25\", \"26\", \"27\", \"28\", \"29\", \"30\", \"31\", \"32\", \"33\", \"34\", \"35\", \"36\", \"37\", \"38\", \"39\", \"40\", \"41\", \"42\", \"43\", \"44\", \"45\", \"46\", \"47\", \"48\", \"49\", \"50\", \"51\", \"52\", \"55\", \"56\"], \"mode\": \"markers\", \"name\": \"log_loss\", \"stepped\": false, \"type\": \"scatter\", \"data\": [0.09697701271279814, 0.1254761327246973, 0.19621405746321954, 0.2834465941937149, 0.24544597731069823, 0.1365194516097531, 0.18944367561705783, 0.13123390381917743, 0.3202055996853156, 0.2979152450927026, 0.21265703904463126, 0.1635776035655999, 0.3823605385555826, 0.21497969789440124, 0.20546162674573748, 0.14369953048828513, 0.31582385119518347, 0.31587062115428777, 0.15246332475886332, 0.32382167802184897, 0.4460187536190334, 0.283363945811557, 0.2832293884350493, 0.24448526147865937, 0.1901634617328507, 0.13583285624302216, 0.31083187970276915, 0.18171225432619761, 0.2236725068229533, 0.27334049081152684, 0.3518022535852229, 0.12274853396778922, 0.198953948014226, 0.22780575213797943, 0.36818370669205736, 0.3825103570883662, 0.25715512484211034, 0.2647914516975295, 0.1606056807128784, 0.24551761768669236, 0.6446575939502648, 0.4089979873158792, 0.19893405214104912, 0.22591844653989787, 0.21202913359137546, 0.3665135111101194, 0.2058471817314788, 0.18101475210138435, 0.2014879638966939, 0.17335576870313782, 0.385513336439154, 0.2023718430779445, 0.2370557761380677, 0.11664322843869879, 0.073058876531301]}, {\"categories\": [\"0\", \"1\", \"2\", \"3\", \"4\", \"5\", \"6\", \"7\", \"8\", \"9\", \"10\", \"11\", \"12\", \"13\", \"14\", \"15\", \"16\", \"17\", \"18\", \"19\", \"20\", \"21\", \"22\", \"23\", \"24\", \"25\", \"26\", \"27\", \"28\", \"29\", \"30\", \"31\", \"32\", \"33\", \"34\", \"35\", \"36\", \"37\", \"38\", \"39\", \"40\", \"41\", \"42\", \"43\", \"44\", \"45\", \"46\", \"47\", \"48\", \"49\", \"50\", \"51\", \"52\", \"55\", \"56\"], \"mode\": \"lines\", \"name\": \"log_loss_min\", \"stepped\": true, \"type\": \"scatter\", \"data\": [0.09697701271279814, 0.09697701271279814, 0.09697701271279814, 0.09697701271279814, 0.09697701271279814, 0.09697701271279814, 0.09697701271279814, 0.09697701271279814, 0.09697701271279814, 0.09697701271279814, 0.09697701271279814, 0.09697701271279814, 0.09697701271279814, 0.09697701271279814, 0.09697701271279814, 0.09697701271279814, 0.09697701271279814, 0.09697701271279814, 0.09697701271279814, 0.09697701271279814, 0.09697701271279814, 0.09697701271279814, 0.09697701271279814, 0.09697701271279814, 0.09697701271279814, 0.09697701271279814, 0.09697701271279814, 0.09697701271279814, 0.09697701271279814, 0.09697701271279814, 0.09697701271279814, 0.09697701271279814, 0.09697701271279814, 0.09697701271279814, 0.09697701271279814, 0.09697701271279814, 0.09697701271279814, 0.09697701271279814, 0.09697701271279814, 0.09697701271279814, 0.09697701271279814, 0.09697701271279814, 0.09697701271279814, 0.09697701271279814, 0.09697701271279814, 0.09697701271279814, 0.09697701271279814, 0.09697701271279814, 0.09697701271279814, 0.09697701271279814, 0.09697701271279814, 0.09697701271279814, 0.09697701271279814, 0.09697701271279814, 0.073058876531301]}], \"precision_score_micro\": [{\"categories\": [\"0\", \"1\", \"2\", \"3\", \"4\", \"5\", \"6\", \"7\", \"8\", \"9\", \"10\", \"11\", \"12\", \"13\", \"14\", \"15\", \"16\", \"17\", \"18\", \"19\", \"20\", \"21\", \"22\", \"23\", \"24\", \"25\", \"26\", \"27\", \"28\", \"29\", \"30\", \"31\", \"32\", \"33\", \"34\", \"35\", \"36\", \"37\", \"38\", \"39\", \"40\", \"41\", \"42\", \"43\", \"44\", \"45\", \"46\", \"47\", \"48\", \"49\", \"50\", \"51\", \"52\", \"55\", \"56\"], \"mode\": \"markers\", \"name\": \"precision_score_micro\", \"stepped\": false, \"type\": \"scatter\", \"data\": [0.964102564102564, 0.964102564102564, 0.9435897435897435, 0.876923076923077, 0.8820512820512821, 0.9487179487179487, 0.9333333333333333, 0.9538461538461538, 0.9435897435897436, 0.9025641025641026, 0.9282051282051281, 0.9538461538461538, 0.8205128205128206, 0.9333333333333333, 0.9230769230769231, 0.9692307692307693, 0.8307692307692307, 0.8307692307692307, 0.9538461538461538, 0.846153846153846, 0.8512820512820511, 0.8871794871794872, 0.8923076923076924, 0.9384615384615383, 0.9333333333333333, 0.9641025641025642, 0.8615384615384617, 0.9589743589743589, 0.9076923076923077, 0.8769230769230768, 0.7948717948717949, 0.9589743589743589, 0.9333333333333333, 0.917948717948718, 0.876923076923077, 0.8102564102564104, 0.8666666666666666, 0.8923076923076924, 0.9589743589743589, 0.9025641025641026, 0.7846153846153845, 0.8923076923076924, 0.9282051282051282, 0.917948717948718, 0.9333333333333333, 0.8358974358974359, 0.9333333333333333, 0.9487179487179487, 0.917948717948718, 0.9487179487179487, 0.8102564102564103, 0.9384615384615385, 0.9025641025641027, 0.9846153846153847, 0.9743589743589745]}, {\"categories\": [\"0\", \"1\", \"2\", \"3\", \"4\", \"5\", \"6\", \"7\", \"8\", \"9\", \"10\", \"11\", \"12\", \"13\", \"14\", \"15\", \"16\", \"17\", \"18\", \"19\", \"20\", \"21\", \"22\", \"23\", \"24\", \"25\", \"26\", \"27\", \"28\", \"29\", \"30\", \"31\", \"32\", \"33\", \"34\", \"35\", \"36\", \"37\", \"38\", \"39\", \"40\", \"41\", \"42\", \"43\", \"44\", \"45\", \"46\", \"47\", \"48\", \"49\", \"50\", \"51\", \"52\", \"55\", \"56\"], \"mode\": \"lines\", \"name\": \"precision_score_micro_max\", \"stepped\": true, \"type\": \"scatter\", \"data\": [0.964102564102564, 0.964102564102564, 0.964102564102564, 0.964102564102564, 0.964102564102564, 0.964102564102564, 0.964102564102564, 0.964102564102564, 0.964102564102564, 0.964102564102564, 0.964102564102564, 0.964102564102564, 0.964102564102564, 0.964102564102564, 0.964102564102564, 0.9692307692307693, 0.9692307692307693, 0.9692307692307693, 0.9692307692307693, 0.9692307692307693, 0.9692307692307693, 0.9692307692307693, 0.9692307692307693, 0.9692307692307693, 0.9692307692307693, 0.9692307692307693, 0.9692307692307693, 0.9692307692307693, 0.9692307692307693, 0.9692307692307693, 0.9692307692307693, 0.9692307692307693, 0.9692307692307693, 0.9692307692307693, 0.9692307692307693, 0.9692307692307693, 0.9692307692307693, 0.9692307692307693, 0.9692307692307693, 0.9692307692307693, 0.9692307692307693, 0.9692307692307693, 0.9692307692307693, 0.9692307692307693, 0.9692307692307693, 0.9692307692307693, 0.9692307692307693, 0.9692307692307693, 0.9692307692307693, 0.9692307692307693, 0.9692307692307693, 0.9692307692307693, 0.9692307692307693, 0.9846153846153847, 0.9846153846153847]}], \"recall_score_micro\": [{\"categories\": [\"0\", \"1\", \"2\", \"3\", \"4\", \"5\", \"6\", \"7\", \"8\", \"9\", \"10\", \"11\", \"12\", \"13\", \"14\", \"15\", \"16\", \"17\", \"18\", \"19\", \"20\", \"21\", \"22\", \"23\", \"24\", \"25\", \"26\", \"27\", \"28\", \"29\", \"30\", \"31\", \"32\", \"33\", \"34\", \"35\", \"36\", \"37\", \"38\", \"39\", \"40\", \"41\", \"42\", \"43\", \"44\", \"45\", \"46\", \"47\", \"48\", \"49\", \"50\", \"51\", \"52\", \"55\", \"56\"], \"mode\": \"markers\", \"name\": \"recall_score_micro\", \"stepped\": false, \"type\": \"scatter\", \"data\": [0.964102564102564, 0.964102564102564, 0.9435897435897435, 0.876923076923077, 0.8820512820512821, 0.9487179487179487, 0.9333333333333333, 0.9538461538461538, 0.9435897435897436, 0.9025641025641026, 0.9282051282051281, 0.9538461538461538, 0.8205128205128206, 0.9333333333333333, 0.9230769230769231, 0.9692307692307693, 0.8307692307692307, 0.8307692307692307, 0.9538461538461538, 0.846153846153846, 0.8512820512820511, 0.8871794871794872, 0.8923076923076924, 0.9384615384615383, 0.9333333333333333, 0.9641025641025642, 0.8615384615384617, 0.9589743589743589, 0.9076923076923077, 0.8769230769230768, 0.7948717948717949, 0.9589743589743589, 0.9333333333333333, 0.917948717948718, 0.876923076923077, 0.8102564102564104, 0.8666666666666666, 0.8923076923076924, 0.9589743589743589, 0.9025641025641026, 0.7846153846153845, 0.8923076923076924, 0.9282051282051282, 0.917948717948718, 0.9333333333333333, 0.8358974358974359, 0.9333333333333333, 0.9487179487179487, 0.917948717948718, 0.9487179487179487, 0.8102564102564103, 0.9384615384615385, 0.9025641025641027, 0.9846153846153847, 0.9743589743589745]}, {\"categories\": [\"0\", \"1\", \"2\", \"3\", \"4\", \"5\", \"6\", \"7\", \"8\", \"9\", \"10\", \"11\", \"12\", \"13\", \"14\", \"15\", \"16\", \"17\", \"18\", \"19\", \"20\", \"21\", \"22\", \"23\", \"24\", \"25\", \"26\", \"27\", \"28\", \"29\", \"30\", \"31\", \"32\", \"33\", \"34\", \"35\", \"36\", \"37\", \"38\", \"39\", \"40\", \"41\", \"42\", \"43\", \"44\", \"45\", \"46\", \"47\", \"48\", \"49\", \"50\", \"51\", \"52\", \"55\", \"56\"], \"mode\": \"lines\", \"name\": \"recall_score_micro_max\", \"stepped\": true, \"type\": \"scatter\", \"data\": [0.964102564102564, 0.964102564102564, 0.964102564102564, 0.964102564102564, 0.964102564102564, 0.964102564102564, 0.964102564102564, 0.964102564102564, 0.964102564102564, 0.964102564102564, 0.964102564102564, 0.964102564102564, 0.964102564102564, 0.964102564102564, 0.964102564102564, 0.9692307692307693, 0.9692307692307693, 0.9692307692307693, 0.9692307692307693, 0.9692307692307693, 0.9692307692307693, 0.9692307692307693, 0.9692307692307693, 0.9692307692307693, 0.9692307692307693, 0.9692307692307693, 0.9692307692307693, 0.9692307692307693, 0.9692307692307693, 0.9692307692307693, 0.9692307692307693, 0.9692307692307693, 0.9692307692307693, 0.9692307692307693, 0.9692307692307693, 0.9692307692307693, 0.9692307692307693, 0.9692307692307693, 0.9692307692307693, 0.9692307692307693, 0.9692307692307693, 0.9692307692307693, 0.9692307692307693, 0.9692307692307693, 0.9692307692307693, 0.9692307692307693, 0.9692307692307693, 0.9692307692307693, 0.9692307692307693, 0.9692307692307693, 0.9692307692307693, 0.9692307692307693, 0.9692307692307693, 0.9846153846153847, 0.9846153846153847]}], \"f1_score_weighted\": [{\"categories\": [\"0\", \"1\", \"2\", \"3\", \"4\", \"5\", \"6\", \"7\", \"8\", \"9\", \"10\", \"11\", \"12\", \"13\", \"14\", \"15\", \"16\", \"17\", \"18\", \"19\", \"20\", \"21\", \"22\", \"23\", \"24\", \"25\", \"26\", \"27\", \"28\", \"29\", \"30\", \"31\", \"32\", \"33\", \"34\", \"35\", \"36\", \"37\", \"38\", \"39\", \"40\", \"41\", \"42\", \"43\", \"44\", \"45\", \"46\", \"47\", \"48\", \"49\", \"50\", \"51\", \"52\", \"55\", \"56\"], \"mode\": \"markers\", \"name\": \"f1_score_weighted\", \"stepped\": false, \"type\": \"scatter\", \"data\": [0.9635496298140946, 0.9628368745273296, 0.9413604596171513, 0.8681824884058134, 0.8804375564581027, 0.9477621778147827, 0.9296134152585764, 0.9527536119324738, 0.941134410624682, 0.8946331908831908, 0.9242064598174122, 0.9509318998841086, 0.7743468235456019, 0.929280413676171, 0.919703035152118, 0.9696433844617708, 0.825714020175548, 0.825714020175548, 0.9506774425731997, 0.8394971926753694, 0.8381600237369466, 0.8763489367168, 0.8758197783215275, 0.9335757159522423, 0.9305272107441829, 0.9632601530640745, 0.8681341607324926, 0.9562330299540704, 0.9049751112167513, 0.8704110704110704, 0.7615981339124706, 0.9562330299540704, 0.9306489630052044, 0.9132588928586467, 0.8672982545058018, 0.7593185189772584, 0.8670271563102243, 0.8865113880309959, 0.9576498435864785, 0.8981713461614207, 0.7753021618443975, 0.8863616284078853, 0.9261487120419136, 0.9160594691553644, 0.9303709402241147, 0.8297727933677977, 0.9304350450776763, 0.9466460989998694, 0.9150771554243107, 0.9461704993307214, 0.7917587557216997, 0.9367208169522538, 0.8962937680499363, 0.9841077291221939, 0.9741566508615707]}, {\"categories\": [\"0\", \"1\", \"2\", \"3\", \"4\", \"5\", \"6\", \"7\", \"8\", \"9\", \"10\", \"11\", \"12\", \"13\", \"14\", \"15\", \"16\", \"17\", \"18\", \"19\", \"20\", \"21\", \"22\", \"23\", \"24\", \"25\", \"26\", \"27\", \"28\", \"29\", \"30\", \"31\", \"32\", \"33\", \"34\", \"35\", \"36\", \"37\", \"38\", \"39\", \"40\", \"41\", \"42\", \"43\", \"44\", \"45\", \"46\", \"47\", \"48\", \"49\", \"50\", \"51\", \"52\", \"55\", \"56\"], \"mode\": \"lines\", \"name\": \"f1_score_weighted_max\", \"stepped\": true, \"type\": \"scatter\", \"data\": [0.9635496298140946, 0.9635496298140946, 0.9635496298140946, 0.9635496298140946, 0.9635496298140946, 0.9635496298140946, 0.9635496298140946, 0.9635496298140946, 0.9635496298140946, 0.9635496298140946, 0.9635496298140946, 0.9635496298140946, 0.9635496298140946, 0.9635496298140946, 0.9635496298140946, 0.9696433844617708, 0.9696433844617708, 0.9696433844617708, 0.9696433844617708, 0.9696433844617708, 0.9696433844617708, 0.9696433844617708, 0.9696433844617708, 0.9696433844617708, 0.9696433844617708, 0.9696433844617708, 0.9696433844617708, 0.9696433844617708, 0.9696433844617708, 0.9696433844617708, 0.9696433844617708, 0.9696433844617708, 0.9696433844617708, 0.9696433844617708, 0.9696433844617708, 0.9696433844617708, 0.9696433844617708, 0.9696433844617708, 0.9696433844617708, 0.9696433844617708, 0.9696433844617708, 0.9696433844617708, 0.9696433844617708, 0.9696433844617708, 0.9696433844617708, 0.9696433844617708, 0.9696433844617708, 0.9696433844617708, 0.9696433844617708, 0.9696433844617708, 0.9696433844617708, 0.9696433844617708, 0.9696433844617708, 0.9841077291221939, 0.9841077291221939]}], \"average_precision_score_micro\": [{\"categories\": [\"0\", \"1\", \"2\", \"3\", \"4\", \"5\", \"6\", \"7\", \"8\", \"9\", \"10\", \"11\", \"12\", \"13\", \"14\", \"15\", \"16\", \"17\", \"18\", \"19\", \"20\", \"21\", \"22\", \"23\", \"24\", \"25\", \"26\", \"27\", \"28\", \"29\", \"30\", \"31\", \"32\", \"33\", \"34\", \"35\", \"36\", \"37\", \"38\", \"39\", \"40\", \"41\", \"42\", \"43\", \"44\", \"45\", \"46\", \"47\", \"48\", \"49\", \"50\", \"51\", \"52\", \"55\", \"56\"], \"mode\": \"markers\", \"name\": \"average_precision_score_micro\", \"stepped\": false, \"type\": \"scatter\", \"data\": [0.993843075058092, 0.9918968830352352, 0.9869441687948317, 0.9565048058466429, 0.9724804576375202, 0.986886203330154, 0.9781276121522892, 0.9864729733932147, 0.985549419743079, 0.9661399061080518, 0.982564759379015, 0.9822066335950039, 0.9355526630819988, 0.9735600987201141, 0.9713729470902226, 0.9953335399064059, 0.9422083292054403, 0.9424262988714203, 0.9854851013177264, 0.941235520698944, 0.9418902568750243, 0.9644284201457836, 0.9692331963661405, 0.9799856167765644, 0.9822131386760468, 0.9932449732858075, 0.9592836036074551, 0.9788249423856531, 0.9741611036090717, 0.952333667992133, 0.9057391502251451, 0.9928147701154175, 0.9806454775683605, 0.9740960878462179, 0.939577288621279, 0.9318403488445156, 0.9658841903226769, 0.9580234218071688, 0.9866003316432821, 0.969768219914464, 0.822022333044172, 0.9538647747815207, 0.9760501670448889, 0.9713834847302278, 0.97287859376557, 0.9043022444100928, 0.9742854013818857, 0.977144407853203, 0.9764792695347018, 0.9814917284799328, 0.9000219710586028, 0.9737129811616583, 0.9653670040623353, 0.9971198631704002, 0.9976022366261332]}, {\"categories\": [\"0\", \"1\", \"2\", \"3\", \"4\", \"5\", \"6\", \"7\", \"8\", \"9\", \"10\", \"11\", \"12\", \"13\", \"14\", \"15\", \"16\", \"17\", \"18\", \"19\", \"20\", \"21\", \"22\", \"23\", \"24\", \"25\", \"26\", \"27\", \"28\", \"29\", \"30\", \"31\", \"32\", \"33\", \"34\", \"35\", \"36\", \"37\", \"38\", \"39\", \"40\", \"41\", \"42\", \"43\", \"44\", \"45\", \"46\", \"47\", \"48\", \"49\", \"50\", \"51\", \"52\", \"55\", \"56\"], \"mode\": \"lines\", \"name\": \"average_precision_score_micro_max\", \"stepped\": true, \"type\": \"scatter\", \"data\": [0.993843075058092, 0.993843075058092, 0.993843075058092, 0.993843075058092, 0.993843075058092, 0.993843075058092, 0.993843075058092, 0.993843075058092, 0.993843075058092, 0.993843075058092, 0.993843075058092, 0.993843075058092, 0.993843075058092, 0.993843075058092, 0.993843075058092, 0.9953335399064059, 0.9953335399064059, 0.9953335399064059, 0.9953335399064059, 0.9953335399064059, 0.9953335399064059, 0.9953335399064059, 0.9953335399064059, 0.9953335399064059, 0.9953335399064059, 0.9953335399064059, 0.9953335399064059, 0.9953335399064059, 0.9953335399064059, 0.9953335399064059, 0.9953335399064059, 0.9953335399064059, 0.9953335399064059, 0.9953335399064059, 0.9953335399064059, 0.9953335399064059, 0.9953335399064059, 0.9953335399064059, 0.9953335399064059, 0.9953335399064059, 0.9953335399064059, 0.9953335399064059, 0.9953335399064059, 0.9953335399064059, 0.9953335399064059, 0.9953335399064059, 0.9953335399064059, 0.9953335399064059, 0.9953335399064059, 0.9953335399064059, 0.9953335399064059, 0.9953335399064059, 0.9953335399064059, 0.9971198631704002, 0.9976022366261332]}], \"AUC_macro\": [{\"categories\": [\"0\", \"1\", \"2\", \"3\", \"4\", \"5\", \"6\", \"7\", \"8\", \"9\", \"10\", \"11\", \"12\", \"13\", \"14\", \"15\", \"16\", \"17\", \"18\", \"19\", \"20\", \"21\", \"22\", \"23\", \"24\", \"25\", \"26\", \"27\", \"28\", \"29\", \"30\", \"31\", \"32\", \"33\", \"34\", \"35\", \"36\", \"37\", \"38\", \"39\", \"40\", \"41\", \"42\", \"43\", \"44\", \"45\", \"46\", \"47\", \"48\", \"49\", \"50\", \"51\", \"52\", \"55\", \"56\"], \"mode\": \"markers\", \"name\": \"AUC_macro\", \"stepped\": false, \"type\": \"scatter\", \"data\": [0.9929244427965228, 0.9948905956647891, 0.9843494829646108, 0.9364669429877995, 0.9597022176315836, 0.9843714650611203, 0.9617171489779943, 0.9843714650611203, 0.9796200143016052, 0.9607172431449407, 0.9818275494229332, 0.977298827032976, 0.9636583711472477, 0.96003377062109, 0.9522298585730177, 0.9937931034482759, 0.9132819431937896, 0.9132819431937896, 0.9825111322986739, 0.9125287959578838, 0.9283815306248565, 0.9512758120427753, 0.9600077334604589, 0.9788077802496602, 0.9757948720212347, 0.990567296996663, 0.9503139437705622, 0.9626085789030727, 0.9559215913036825, 0.9364750133893626, 0.8684599444709289, 0.9921291146541424, 0.9790456636121263, 0.9684843800577949, 0.9024900904002683, 0.9534676830811424, 0.9554876317601568, 0.9285853284955063, 0.9841226053639847, 0.9473825149637163, 0.7275162989741689, 0.9212324363931705, 0.9567035595105672, 0.9516736997604628, 0.9522319331885516, 0.8824488960396912, 0.9537645002383602, 0.9600095770727026, 0.9680614777736579, 0.9697622784869726, 0.8848732027355497, 0.9527915938344191, 0.9416385387055575, 0.9979310344827587, 0.9979310344827587]}, {\"categories\": [\"0\", \"1\", \"2\", \"3\", \"4\", \"5\", \"6\", \"7\", \"8\", \"9\", \"10\", \"11\", \"12\", \"13\", \"14\", \"15\", \"16\", \"17\", \"18\", \"19\", \"20\", \"21\", \"22\", \"23\", \"24\", \"25\", \"26\", \"27\", \"28\", \"29\", \"30\", \"31\", \"32\", \"33\", \"34\", \"35\", \"36\", \"37\", \"38\", \"39\", \"40\", \"41\", \"42\", \"43\", \"44\", \"45\", \"46\", \"47\", \"48\", \"49\", \"50\", \"51\", \"52\", \"55\", \"56\"], \"mode\": \"lines\", \"name\": \"AUC_macro_max\", \"stepped\": true, \"type\": \"scatter\", \"data\": [0.9929244427965228, 0.9948905956647891, 0.9948905956647891, 0.9948905956647891, 0.9948905956647891, 0.9948905956647891, 0.9948905956647891, 0.9948905956647891, 0.9948905956647891, 0.9948905956647891, 0.9948905956647891, 0.9948905956647891, 0.9948905956647891, 0.9948905956647891, 0.9948905956647891, 0.9948905956647891, 0.9948905956647891, 0.9948905956647891, 0.9948905956647891, 0.9948905956647891, 0.9948905956647891, 0.9948905956647891, 0.9948905956647891, 0.9948905956647891, 0.9948905956647891, 0.9948905956647891, 0.9948905956647891, 0.9948905956647891, 0.9948905956647891, 0.9948905956647891, 0.9948905956647891, 0.9948905956647891, 0.9948905956647891, 0.9948905956647891, 0.9948905956647891, 0.9948905956647891, 0.9948905956647891, 0.9948905956647891, 0.9948905956647891, 0.9948905956647891, 0.9948905956647891, 0.9948905956647891, 0.9948905956647891, 0.9948905956647891, 0.9948905956647891, 0.9948905956647891, 0.9948905956647891, 0.9948905956647891, 0.9948905956647891, 0.9948905956647891, 0.9948905956647891, 0.9948905956647891, 0.9948905956647891, 0.9979310344827587, 0.9979310344827587]}], \"balanced_accuracy\": [{\"categories\": [\"0\", \"1\", \"2\", \"3\", \"4\", \"5\", \"6\", \"7\", \"8\", \"9\", \"10\", \"11\", \"12\", \"13\", \"14\", \"15\", \"16\", \"17\", \"18\", \"19\", \"20\", \"21\", \"22\", \"23\", \"24\", \"25\", \"26\", \"27\", \"28\", \"29\", \"30\", \"31\", \"32\", \"33\", \"34\", \"35\", \"36\", \"37\", \"38\", \"39\", \"40\", \"41\", \"42\", \"43\", \"44\", \"45\", \"46\", \"47\", \"48\", \"49\", \"50\", \"51\", \"52\", \"55\", \"56\"], \"mode\": \"markers\", \"name\": \"balanced_accuracy\", \"stepped\": false, \"type\": \"scatter\", \"data\": [0.9424406130268199, 0.9361666666666666, 0.9077222222222222, 0.7819016985362925, 0.8236759185691334, 0.928551971326165, 0.8786929811783816, 0.9325519713261649, 0.8984781746031747, 0.8217301587301588, 0.863984126984127, 0.9087777777777777, 0.6347619047619047, 0.8788158602150536, 0.8684251240355245, 0.9614012041598249, 0.7567707461553402, 0.7567707461553402, 0.9101666666666667, 0.7712679939792009, 0.7450223462577468, 0.7928538323004396, 0.7857821300563236, 0.8722698412698413, 0.8853076765188834, 0.9450719494323498, 0.8639516747002844, 0.9096031746031746, 0.852837822448223, 0.8065838541942547, 0.6300571181383194, 0.9096031746031746, 0.8950416666666665, 0.8622559523809523, 0.7806870287974292, 0.6161507936507936, 0.8385671491251301, 0.8116908602150538, 0.9335099206349206, 0.8325521081625087, 0.679710580097816, 0.8159830477426417, 0.8816191844553914, 0.8868498640464715, 0.8866790922894928, 0.7376827758355844, 0.8906473462577468, 0.913638888888889, 0.8750542291258366, 0.9024781746031747, 0.6685632073556157, 0.8966790922894928, 0.8260595238095239, 0.9688888888888888, 0.958388888888889]}, {\"categories\": [\"0\", \"1\", \"2\", \"3\", \"4\", \"5\", \"6\", \"7\", \"8\", \"9\", \"10\", \"11\", \"12\", \"13\", \"14\", \"15\", \"16\", \"17\", \"18\", \"19\", \"20\", \"21\", \"22\", \"23\", \"24\", \"25\", \"26\", \"27\", \"28\", \"29\", \"30\", \"31\", \"32\", \"33\", \"34\", \"35\", \"36\", \"37\", \"38\", \"39\", \"40\", \"41\", \"42\", \"43\", \"44\", \"45\", \"46\", \"47\", \"48\", \"49\", \"50\", \"51\", \"52\", \"55\", \"56\"], \"mode\": \"lines\", \"name\": \"balanced_accuracy_max\", \"stepped\": true, \"type\": \"scatter\", \"data\": [0.9424406130268199, 0.9424406130268199, 0.9424406130268199, 0.9424406130268199, 0.9424406130268199, 0.9424406130268199, 0.9424406130268199, 0.9424406130268199, 0.9424406130268199, 0.9424406130268199, 0.9424406130268199, 0.9424406130268199, 0.9424406130268199, 0.9424406130268199, 0.9424406130268199, 0.9614012041598249, 0.9614012041598249, 0.9614012041598249, 0.9614012041598249, 0.9614012041598249, 0.9614012041598249, 0.9614012041598249, 0.9614012041598249, 0.9614012041598249, 0.9614012041598249, 0.9614012041598249, 0.9614012041598249, 0.9614012041598249, 0.9614012041598249, 0.9614012041598249, 0.9614012041598249, 0.9614012041598249, 0.9614012041598249, 0.9614012041598249, 0.9614012041598249, 0.9614012041598249, 0.9614012041598249, 0.9614012041598249, 0.9614012041598249, 0.9614012041598249, 0.9614012041598249, 0.9614012041598249, 0.9614012041598249, 0.9614012041598249, 0.9614012041598249, 0.9614012041598249, 0.9614012041598249, 0.9614012041598249, 0.9614012041598249, 0.9614012041598249, 0.9614012041598249, 0.9614012041598249, 0.9614012041598249, 0.9688888888888888, 0.9688888888888888]}], \"accuracy\": [{\"categories\": [\"0\", \"1\", \"2\", \"3\", \"4\", \"5\", \"6\", \"7\", \"8\", \"9\", \"10\", \"11\", \"12\", \"13\", \"14\", \"15\", \"16\", \"17\", \"18\", \"19\", \"20\", \"21\", \"22\", \"23\", \"24\", \"25\", \"26\", \"27\", \"28\", \"29\", \"30\", \"31\", \"32\", \"33\", \"34\", \"35\", \"36\", \"37\", \"38\", \"39\", \"40\", \"41\", \"42\", \"43\", \"44\", \"45\", \"46\", \"47\", \"48\", \"49\", \"50\", \"51\", \"52\", \"55\", \"56\"], \"mode\": \"markers\", \"name\": \"accuracy\", \"stepped\": false, \"type\": \"scatter\", \"data\": [0.964102564102564, 0.964102564102564, 0.9435897435897435, 0.876923076923077, 0.8820512820512821, 0.9487179487179487, 0.9333333333333333, 0.9538461538461538, 0.9435897435897436, 0.9025641025641026, 0.9282051282051281, 0.9538461538461538, 0.8205128205128206, 0.9333333333333333, 0.9230769230769231, 0.9692307692307693, 0.8307692307692307, 0.8307692307692307, 0.9538461538461538, 0.846153846153846, 0.8512820512820511, 0.8871794871794872, 0.8923076923076924, 0.9384615384615383, 0.9333333333333333, 0.9641025641025642, 0.8615384615384617, 0.9589743589743589, 0.9076923076923077, 0.8769230769230768, 0.7948717948717949, 0.9589743589743589, 0.9333333333333333, 0.917948717948718, 0.876923076923077, 0.8102564102564104, 0.8666666666666666, 0.8923076923076924, 0.9589743589743589, 0.9025641025641026, 0.7846153846153845, 0.8923076923076924, 0.9282051282051282, 0.917948717948718, 0.9333333333333333, 0.8358974358974359, 0.9333333333333333, 0.9487179487179487, 0.917948717948718, 0.9487179487179487, 0.8102564102564103, 0.9384615384615385, 0.9025641025641027, 0.9846153846153847, 0.9743589743589745]}, {\"categories\": [\"0\", \"1\", \"2\", \"3\", \"4\", \"5\", \"6\", \"7\", \"8\", \"9\", \"10\", \"11\", \"12\", \"13\", \"14\", \"15\", \"16\", \"17\", \"18\", \"19\", \"20\", \"21\", \"22\", \"23\", \"24\", \"25\", \"26\", \"27\", \"28\", \"29\", \"30\", \"31\", \"32\", \"33\", \"34\", \"35\", \"36\", \"37\", \"38\", \"39\", \"40\", \"41\", \"42\", \"43\", \"44\", \"45\", \"46\", \"47\", \"48\", \"49\", \"50\", \"51\", \"52\", \"55\", \"56\"], \"mode\": \"lines\", \"name\": \"accuracy_max\", \"stepped\": true, \"type\": \"scatter\", \"data\": [0.964102564102564, 0.964102564102564, 0.964102564102564, 0.964102564102564, 0.964102564102564, 0.964102564102564, 0.964102564102564, 0.964102564102564, 0.964102564102564, 0.964102564102564, 0.964102564102564, 0.964102564102564, 0.964102564102564, 0.964102564102564, 0.964102564102564, 0.9692307692307693, 0.9692307692307693, 0.9692307692307693, 0.9692307692307693, 0.9692307692307693, 0.9692307692307693, 0.9692307692307693, 0.9692307692307693, 0.9692307692307693, 0.9692307692307693, 0.9692307692307693, 0.9692307692307693, 0.9692307692307693, 0.9692307692307693, 0.9692307692307693, 0.9692307692307693, 0.9692307692307693, 0.9692307692307693, 0.9692307692307693, 0.9692307692307693, 0.9692307692307693, 0.9692307692307693, 0.9692307692307693, 0.9692307692307693, 0.9692307692307693, 0.9692307692307693, 0.9692307692307693, 0.9692307692307693, 0.9692307692307693, 0.9692307692307693, 0.9692307692307693, 0.9692307692307693, 0.9692307692307693, 0.9692307692307693, 0.9692307692307693, 0.9692307692307693, 0.9692307692307693, 0.9692307692307693, 0.9846153846153847, 0.9846153846153847]}], \"f1_score_macro\": [{\"categories\": [\"0\", \"1\", \"2\", \"3\", \"4\", \"5\", \"6\", \"7\", \"8\", \"9\", \"10\", \"11\", \"12\", \"13\", \"14\", \"15\", \"16\", \"17\", \"18\", \"19\", \"20\", \"21\", \"22\", \"23\", \"24\", \"25\", \"26\", \"27\", \"28\", \"29\", \"30\", \"31\", \"32\", \"33\", \"34\", \"35\", \"36\", \"37\", \"38\", \"39\", \"40\", \"41\", \"42\", \"43\", \"44\", \"45\", \"46\", \"47\", \"48\", \"49\", \"50\", \"51\", \"52\", \"55\", \"56\"], \"mode\": \"markers\", \"name\": \"f1_score_macro\", \"stepped\": false, \"type\": \"scatter\", \"data\": [0.9507859793154119, 0.9491927205018195, 0.9199713479535031, 0.8110865389091195, 0.8380029526074244, 0.9329917525605879, 0.8949241551459293, 0.9381270066562578, 0.9153719279885408, 0.8525062576312576, 0.893686282015959, 0.9299227741708475, 0.6443019427320024, 0.8952219933208729, 0.8819084766523098, 0.9614891394544239, 0.7548166750097799, 0.7548166750097799, 0.9300434218923016, 0.7732510499786296, 0.7635285547785549, 0.8201309386085182, 0.8119711571517753, 0.9015963828202626, 0.9011315933477215, 0.9504032286867388, 0.826686401149549, 0.9343852063768191, 0.8644226275033194, 0.818, 0.6440016688246047, 0.9343852063768191, 0.9060828936530199, 0.8808581104855735, 0.8026868448637317, 0.6246375770531207, 0.8243046182512556, 0.8360029567382508, 0.942312276541147, 0.8502491728701408, 0.6849841792660704, 0.8352118064612739, 0.8957037336792641, 0.8804970967266594, 0.8957770739178802, 0.7584151124119758, 0.8976342831039226, 0.9224010769673757, 0.8806242978065544, 0.9207161691332745, 0.691836673077023, 0.9053460072553612, 0.8520800792498905, 0.9780338583520841, 0.9664329280602526]}, {\"categories\": [\"0\", \"1\", \"2\", \"3\", \"4\", \"5\", \"6\", \"7\", \"8\", \"9\", \"10\", \"11\", \"12\", \"13\", \"14\", \"15\", \"16\", \"17\", \"18\", \"19\", \"20\", \"21\", \"22\", \"23\", \"24\", \"25\", \"26\", \"27\", \"28\", \"29\", \"30\", \"31\", \"32\", \"33\", \"34\", \"35\", \"36\", \"37\", \"38\", \"39\", \"40\", \"41\", \"42\", \"43\", \"44\", \"45\", \"46\", \"47\", \"48\", \"49\", \"50\", \"51\", \"52\", \"55\", \"56\"], \"mode\": \"lines\", \"name\": \"f1_score_macro_max\", \"stepped\": true, \"type\": \"scatter\", \"data\": [0.9507859793154119, 0.9507859793154119, 0.9507859793154119, 0.9507859793154119, 0.9507859793154119, 0.9507859793154119, 0.9507859793154119, 0.9507859793154119, 0.9507859793154119, 0.9507859793154119, 0.9507859793154119, 0.9507859793154119, 0.9507859793154119, 0.9507859793154119, 0.9507859793154119, 0.9614891394544239, 0.9614891394544239, 0.9614891394544239, 0.9614891394544239, 0.9614891394544239, 0.9614891394544239, 0.9614891394544239, 0.9614891394544239, 0.9614891394544239, 0.9614891394544239, 0.9614891394544239, 0.9614891394544239, 0.9614891394544239, 0.9614891394544239, 0.9614891394544239, 0.9614891394544239, 0.9614891394544239, 0.9614891394544239, 0.9614891394544239, 0.9614891394544239, 0.9614891394544239, 0.9614891394544239, 0.9614891394544239, 0.9614891394544239, 0.9614891394544239, 0.9614891394544239, 0.9614891394544239, 0.9614891394544239, 0.9614891394544239, 0.9614891394544239, 0.9614891394544239, 0.9614891394544239, 0.9614891394544239, 0.9614891394544239, 0.9614891394544239, 0.9614891394544239, 0.9614891394544239, 0.9614891394544239, 0.9780338583520841, 0.9780338583520841]}], \"f1_score_micro\": [{\"categories\": [\"0\", \"1\", \"2\", \"3\", \"4\", \"5\", \"6\", \"7\", \"8\", \"9\", \"10\", \"11\", \"12\", \"13\", \"14\", \"15\", \"16\", \"17\", \"18\", \"19\", \"20\", \"21\", \"22\", \"23\", \"24\", \"25\", \"26\", \"27\", \"28\", \"29\", \"30\", \"31\", \"32\", \"33\", \"34\", \"35\", \"36\", \"37\", \"38\", \"39\", \"40\", \"41\", \"42\", \"43\", \"44\", \"45\", \"46\", \"47\", \"48\", \"49\", \"50\", \"51\", \"52\", \"55\", \"56\"], \"mode\": \"markers\", \"name\": \"f1_score_micro\", \"stepped\": false, \"type\": \"scatter\", \"data\": [0.964102564102564, 0.964102564102564, 0.9435897435897435, 0.876923076923077, 0.8820512820512821, 0.9487179487179487, 0.9333333333333333, 0.9538461538461538, 0.9435897435897436, 0.9025641025641026, 0.9282051282051281, 0.9538461538461538, 0.8205128205128206, 0.9333333333333333, 0.9230769230769231, 0.9692307692307693, 0.8307692307692307, 0.8307692307692307, 0.9538461538461538, 0.846153846153846, 0.8512820512820511, 0.8871794871794872, 0.8923076923076924, 0.9384615384615383, 0.9333333333333333, 0.9641025641025642, 0.8615384615384617, 0.9589743589743589, 0.9076923076923077, 0.8769230769230768, 0.7948717948717949, 0.9589743589743589, 0.9333333333333333, 0.917948717948718, 0.876923076923077, 0.8102564102564104, 0.8666666666666666, 0.8923076923076924, 0.9589743589743589, 0.9025641025641026, 0.7846153846153845, 0.8923076923076924, 0.9282051282051282, 0.917948717948718, 0.9333333333333333, 0.8358974358974359, 0.9333333333333333, 0.9487179487179487, 0.917948717948718, 0.9487179487179487, 0.8102564102564103, 0.9384615384615385, 0.9025641025641027, 0.9846153846153847, 0.9743589743589745]}, {\"categories\": [\"0\", \"1\", \"2\", \"3\", \"4\", \"5\", \"6\", \"7\", \"8\", \"9\", \"10\", \"11\", \"12\", \"13\", \"14\", \"15\", \"16\", \"17\", \"18\", \"19\", \"20\", \"21\", \"22\", \"23\", \"24\", \"25\", \"26\", \"27\", \"28\", \"29\", \"30\", \"31\", \"32\", \"33\", \"34\", \"35\", \"36\", \"37\", \"38\", \"39\", \"40\", \"41\", \"42\", \"43\", \"44\", \"45\", \"46\", \"47\", \"48\", \"49\", \"50\", \"51\", \"52\", \"55\", \"56\"], \"mode\": \"lines\", \"name\": \"f1_score_micro_max\", \"stepped\": true, \"type\": \"scatter\", \"data\": [0.964102564102564, 0.964102564102564, 0.964102564102564, 0.964102564102564, 0.964102564102564, 0.964102564102564, 0.964102564102564, 0.964102564102564, 0.964102564102564, 0.964102564102564, 0.964102564102564, 0.964102564102564, 0.964102564102564, 0.964102564102564, 0.964102564102564, 0.9692307692307693, 0.9692307692307693, 0.9692307692307693, 0.9692307692307693, 0.9692307692307693, 0.9692307692307693, 0.9692307692307693, 0.9692307692307693, 0.9692307692307693, 0.9692307692307693, 0.9692307692307693, 0.9692307692307693, 0.9692307692307693, 0.9692307692307693, 0.9692307692307693, 0.9692307692307693, 0.9692307692307693, 0.9692307692307693, 0.9692307692307693, 0.9692307692307693, 0.9692307692307693, 0.9692307692307693, 0.9692307692307693, 0.9692307692307693, 0.9692307692307693, 0.9692307692307693, 0.9692307692307693, 0.9692307692307693, 0.9692307692307693, 0.9692307692307693, 0.9692307692307693, 0.9692307692307693, 0.9692307692307693, 0.9692307692307693, 0.9692307692307693, 0.9692307692307693, 0.9692307692307693, 0.9692307692307693, 0.9846153846153847, 0.9846153846153847]}], \"average_precision_score_weighted\": [{\"categories\": [\"0\", \"1\", \"2\", \"3\", \"4\", \"5\", \"6\", \"7\", \"8\", \"9\", \"10\", \"11\", \"12\", \"13\", \"14\", \"15\", \"16\", \"17\", \"18\", \"19\", \"20\", \"21\", \"22\", \"23\", \"24\", \"25\", \"26\", \"27\", \"28\", \"29\", \"30\", \"31\", \"32\", \"33\", \"34\", \"35\", \"36\", \"37\", \"38\", \"39\", \"40\", \"41\", \"42\", \"43\", \"44\", \"45\", \"46\", \"47\", \"48\", \"49\", \"50\", \"51\", \"52\", \"55\", \"56\"], \"mode\": \"markers\", \"name\": \"average_precision_score_weighted\", \"stepped\": false, \"type\": \"scatter\", \"data\": [0.9950476709071372, 0.9958508468385183, 0.9871712570668739, 0.9483121324397741, 0.9688543776220702, 0.9889112217717863, 0.9732545863272797, 0.9889112217717863, 0.983950288852823, 0.9683395703468884, 0.9847232825707044, 0.9839889150287942, 0.9693987421441351, 0.9718043309754538, 0.9676727046851372, 0.9947064562382508, 0.9338417584478581, 0.9338417584478581, 0.9853527478389873, 0.9327331616182202, 0.9484787027404347, 0.9625454229162147, 0.9682640126220547, 0.9824419047126115, 0.9791573738452272, 0.9912618393232536, 0.9652141624769941, 0.9740918663682241, 0.968307777183764, 0.9498186322495117, 0.8959865947051835, 0.9933643142871343, 0.9828133464074396, 0.9743985761864107, 0.9304234328412313, 0.9623854454164371, 0.9596379269818271, 0.9515449060964233, 0.9878589920154963, 0.9616617539016111, 0.784521719269886, 0.9460164533639194, 0.9696565352921158, 0.9651768702294469, 0.9662756582756267, 0.8953168413785079, 0.9674327668603663, 0.9725949468837015, 0.9745619711845185, 0.9775328476225269, 0.8945676689292645, 0.9673074892242679, 0.9602566902502254, 0.9982856430336536, 0.9982856430336536]}, {\"categories\": [\"0\", \"1\", \"2\", \"3\", \"4\", \"5\", \"6\", \"7\", \"8\", \"9\", \"10\", \"11\", \"12\", \"13\", \"14\", \"15\", \"16\", \"17\", \"18\", \"19\", \"20\", \"21\", \"22\", \"23\", \"24\", \"25\", \"26\", \"27\", \"28\", \"29\", \"30\", \"31\", \"32\", \"33\", \"34\", \"35\", \"36\", \"37\", \"38\", \"39\", \"40\", \"41\", \"42\", \"43\", \"44\", \"45\", \"46\", \"47\", \"48\", \"49\", \"50\", \"51\", \"52\", \"55\", \"56\"], \"mode\": \"lines\", \"name\": \"average_precision_score_weighted_max\", \"stepped\": true, \"type\": \"scatter\", \"data\": [0.9950476709071372, 0.9958508468385183, 0.9958508468385183, 0.9958508468385183, 0.9958508468385183, 0.9958508468385183, 0.9958508468385183, 0.9958508468385183, 0.9958508468385183, 0.9958508468385183, 0.9958508468385183, 0.9958508468385183, 0.9958508468385183, 0.9958508468385183, 0.9958508468385183, 0.9958508468385183, 0.9958508468385183, 0.9958508468385183, 0.9958508468385183, 0.9958508468385183, 0.9958508468385183, 0.9958508468385183, 0.9958508468385183, 0.9958508468385183, 0.9958508468385183, 0.9958508468385183, 0.9958508468385183, 0.9958508468385183, 0.9958508468385183, 0.9958508468385183, 0.9958508468385183, 0.9958508468385183, 0.9958508468385183, 0.9958508468385183, 0.9958508468385183, 0.9958508468385183, 0.9958508468385183, 0.9958508468385183, 0.9958508468385183, 0.9958508468385183, 0.9958508468385183, 0.9958508468385183, 0.9958508468385183, 0.9958508468385183, 0.9958508468385183, 0.9958508468385183, 0.9958508468385183, 0.9958508468385183, 0.9958508468385183, 0.9958508468385183, 0.9958508468385183, 0.9958508468385183, 0.9958508468385183, 0.9982856430336536, 0.9982856430336536]}], \"average_precision_score_macro\": [{\"categories\": [\"0\", \"1\", \"2\", \"3\", \"4\", \"5\", \"6\", \"7\", \"8\", \"9\", \"10\", \"11\", \"12\", \"13\", \"14\", \"15\", \"16\", \"17\", \"18\", \"19\", \"20\", \"21\", \"22\", \"23\", \"24\", \"25\", \"26\", \"27\", \"28\", \"29\", \"30\", \"31\", \"32\", \"33\", \"34\", \"35\", \"36\", \"37\", \"38\", \"39\", \"40\", \"41\", \"42\", \"43\", \"44\", \"45\", \"46\", \"47\", \"48\", \"49\", \"50\", \"51\", \"52\", \"55\", \"56\"], \"mode\": \"markers\", \"name\": \"average_precision_score_macro\", \"stepped\": false, \"type\": \"scatter\", \"data\": [0.9911416177596116, 0.9929083781751883, 0.9771276751576419, 0.9155491815487039, 0.9521038989439109, 0.9845373971656045, 0.9586747378360126, 0.9845373971656045, 0.9730556705527814, 0.9513657563274499, 0.975078816378435, 0.9762935013924132, 0.952987993882512, 0.9559650718264766, 0.952077795592599, 0.9916203511158681, 0.893697605950622, 0.893697605950622, 0.9783269713937084, 0.8924137153056396, 0.9110241918525125, 0.9396707957903532, 0.9489494394903447, 0.9712889975061356, 0.9648258855351493, 0.9842741272986684, 0.9446319714994862, 0.9588989087577005, 0.9495316788074089, 0.9221897462255642, 0.8318057489091801, 0.9887639317478385, 0.9724064132643626, 0.9588757403598549, 0.8897627484949734, 0.9356528111637692, 0.9380201297522219, 0.9241068304304612, 0.9836287410103031, 0.9356562984613236, 0.6719076159130013, 0.9157301448913664, 0.9519584827654757, 0.9429317462967312, 0.9451595064562255, 0.8212913794431296, 0.9480801138706625, 0.9564508423265572, 0.9586286886427766, 0.9633406660845596, 0.8231943715940631, 0.9491322183944787, 0.9370906597046209, 0.9973353063900031, 0.9973353063900031]}, {\"categories\": [\"0\", \"1\", \"2\", \"3\", \"4\", \"5\", \"6\", \"7\", \"8\", \"9\", \"10\", \"11\", \"12\", \"13\", \"14\", \"15\", \"16\", \"17\", \"18\", \"19\", \"20\", \"21\", \"22\", \"23\", \"24\", \"25\", \"26\", \"27\", \"28\", \"29\", \"30\", \"31\", \"32\", \"33\", \"34\", \"35\", \"36\", \"37\", \"38\", \"39\", \"40\", \"41\", \"42\", \"43\", \"44\", \"45\", \"46\", \"47\", \"48\", \"49\", \"50\", \"51\", \"52\", \"55\", \"56\"], \"mode\": \"lines\", \"name\": \"average_precision_score_macro_max\", \"stepped\": true, \"type\": \"scatter\", \"data\": [0.9911416177596116, 0.9929083781751883, 0.9929083781751883, 0.9929083781751883, 0.9929083781751883, 0.9929083781751883, 0.9929083781751883, 0.9929083781751883, 0.9929083781751883, 0.9929083781751883, 0.9929083781751883, 0.9929083781751883, 0.9929083781751883, 0.9929083781751883, 0.9929083781751883, 0.9929083781751883, 0.9929083781751883, 0.9929083781751883, 0.9929083781751883, 0.9929083781751883, 0.9929083781751883, 0.9929083781751883, 0.9929083781751883, 0.9929083781751883, 0.9929083781751883, 0.9929083781751883, 0.9929083781751883, 0.9929083781751883, 0.9929083781751883, 0.9929083781751883, 0.9929083781751883, 0.9929083781751883, 0.9929083781751883, 0.9929083781751883, 0.9929083781751883, 0.9929083781751883, 0.9929083781751883, 0.9929083781751883, 0.9929083781751883, 0.9929083781751883, 0.9929083781751883, 0.9929083781751883, 0.9929083781751883, 0.9929083781751883, 0.9929083781751883, 0.9929083781751883, 0.9929083781751883, 0.9929083781751883, 0.9929083781751883, 0.9929083781751883, 0.9929083781751883, 0.9929083781751883, 0.9929083781751883, 0.9973353063900031, 0.9973353063900031]}], \"recall_score_weighted\": [{\"categories\": [\"0\", \"1\", \"2\", \"3\", \"4\", \"5\", \"6\", \"7\", \"8\", \"9\", \"10\", \"11\", \"12\", \"13\", \"14\", \"15\", \"16\", \"17\", \"18\", \"19\", \"20\", \"21\", \"22\", \"23\", \"24\", \"25\", \"26\", \"27\", \"28\", \"29\", \"30\", \"31\", \"32\", \"33\", \"34\", \"35\", \"36\", \"37\", \"38\", \"39\", \"40\", \"41\", \"42\", \"43\", \"44\", \"45\", \"46\", \"47\", \"48\", \"49\", \"50\", \"51\", \"52\", \"55\", \"56\"], \"mode\": \"markers\", \"name\": \"recall_score_weighted\", \"stepped\": false, \"type\": \"scatter\", \"data\": [0.964102564102564, 0.964102564102564, 0.9435897435897435, 0.876923076923077, 0.8820512820512821, 0.9487179487179487, 0.9333333333333333, 0.9538461538461538, 0.9435897435897436, 0.9025641025641026, 0.9282051282051281, 0.9538461538461538, 0.8205128205128206, 0.9333333333333333, 0.9230769230769231, 0.9692307692307693, 0.8307692307692307, 0.8307692307692307, 0.9538461538461538, 0.846153846153846, 0.8512820512820511, 0.8871794871794872, 0.8923076923076924, 0.9384615384615383, 0.9333333333333333, 0.9641025641025642, 0.8615384615384617, 0.9589743589743589, 0.9076923076923077, 0.8769230769230768, 0.7948717948717949, 0.9589743589743589, 0.9333333333333333, 0.917948717948718, 0.876923076923077, 0.8102564102564104, 0.8666666666666666, 0.8923076923076924, 0.9589743589743589, 0.9025641025641026, 0.7846153846153845, 0.8923076923076924, 0.9282051282051282, 0.917948717948718, 0.9333333333333333, 0.8358974358974359, 0.9333333333333333, 0.9487179487179487, 0.917948717948718, 0.9487179487179487, 0.8102564102564103, 0.9384615384615385, 0.9025641025641027, 0.9846153846153847, 0.9743589743589745]}, {\"categories\": [\"0\", \"1\", \"2\", \"3\", \"4\", \"5\", \"6\", \"7\", \"8\", \"9\", \"10\", \"11\", \"12\", \"13\", \"14\", \"15\", \"16\", \"17\", \"18\", \"19\", \"20\", \"21\", \"22\", \"23\", \"24\", \"25\", \"26\", \"27\", \"28\", \"29\", \"30\", \"31\", \"32\", \"33\", \"34\", \"35\", \"36\", \"37\", \"38\", \"39\", \"40\", \"41\", \"42\", \"43\", \"44\", \"45\", \"46\", \"47\", \"48\", \"49\", \"50\", \"51\", \"52\", \"55\", \"56\"], \"mode\": \"lines\", \"name\": \"recall_score_weighted_max\", \"stepped\": true, \"type\": \"scatter\", \"data\": [0.964102564102564, 0.964102564102564, 0.964102564102564, 0.964102564102564, 0.964102564102564, 0.964102564102564, 0.964102564102564, 0.964102564102564, 0.964102564102564, 0.964102564102564, 0.964102564102564, 0.964102564102564, 0.964102564102564, 0.964102564102564, 0.964102564102564, 0.9692307692307693, 0.9692307692307693, 0.9692307692307693, 0.9692307692307693, 0.9692307692307693, 0.9692307692307693, 0.9692307692307693, 0.9692307692307693, 0.9692307692307693, 0.9692307692307693, 0.9692307692307693, 0.9692307692307693, 0.9692307692307693, 0.9692307692307693, 0.9692307692307693, 0.9692307692307693, 0.9692307692307693, 0.9692307692307693, 0.9692307692307693, 0.9692307692307693, 0.9692307692307693, 0.9692307692307693, 0.9692307692307693, 0.9692307692307693, 0.9692307692307693, 0.9692307692307693, 0.9692307692307693, 0.9692307692307693, 0.9692307692307693, 0.9692307692307693, 0.9692307692307693, 0.9692307692307693, 0.9692307692307693, 0.9692307692307693, 0.9692307692307693, 0.9692307692307693, 0.9692307692307693, 0.9692307692307693, 0.9846153846153847, 0.9846153846153847]}], \"AUC_weighted\": [{\"categories\": [\"0\", \"1\", \"2\", \"3\", \"4\", \"5\", \"6\", \"7\", \"8\", \"9\", \"10\", \"11\", \"12\", \"13\", \"14\", \"15\", \"16\", \"17\", \"18\", \"19\", \"20\", \"21\", \"22\", \"23\", \"24\", \"25\", \"26\", \"27\", \"28\", \"29\", \"30\", \"31\", \"32\", \"33\", \"34\", \"35\", \"36\", \"37\", \"38\", \"39\", \"40\", \"41\", \"42\", \"43\", \"44\", \"45\", \"46\", \"47\", \"48\", \"49\", \"50\", \"51\", \"52\", \"55\", \"56\"], \"mode\": \"markers\", \"name\": \"AUC_weighted\", \"stepped\": false, \"type\": \"scatter\", \"data\": [0.9929244427965228, 0.9948905956647891, 0.9843494829646108, 0.9364669429877994, 0.9597022176315836, 0.9843714650611203, 0.9617171489779943, 0.9843714650611203, 0.9796200143016052, 0.9607172431449407, 0.9818275494229333, 0.977298827032976, 0.9636583711472477, 0.9600337706210897, 0.9522298585730177, 0.9937931034482759, 0.9132819431937896, 0.9132819431937896, 0.9825111322986739, 0.9125287959578838, 0.9283815306248566, 0.9512758120427754, 0.9600077334604589, 0.9788077802496602, 0.9757948720212346, 0.9905672969966629, 0.9503139437705622, 0.9626085789030727, 0.9559215913036823, 0.9364750133893626, 0.8684599444709289, 0.9921291146541424, 0.9790456636121263, 0.9684843800577949, 0.9024900904002683, 0.9534676830811424, 0.9554876317601568, 0.9285853284955066, 0.9841226053639847, 0.9473825149637163, 0.7275162989741689, 0.9212324363931705, 0.9567035595105674, 0.9516736997604628, 0.9522319331885516, 0.8824488960396912, 0.9537645002383602, 0.9600095770727026, 0.9680614777736579, 0.9697622784869726, 0.8848732027355497, 0.9527915938344191, 0.9416385387055575, 0.9979310344827585, 0.9979310344827585]}, {\"categories\": [\"0\", \"1\", \"2\", \"3\", \"4\", \"5\", \"6\", \"7\", \"8\", \"9\", \"10\", \"11\", \"12\", \"13\", \"14\", \"15\", \"16\", \"17\", \"18\", \"19\", \"20\", \"21\", \"22\", \"23\", \"24\", \"25\", \"26\", \"27\", \"28\", \"29\", \"30\", \"31\", \"32\", \"33\", \"34\", \"35\", \"36\", \"37\", \"38\", \"39\", \"40\", \"41\", \"42\", \"43\", \"44\", \"45\", \"46\", \"47\", \"48\", \"49\", \"50\", \"51\", \"52\", \"55\", \"56\"], \"mode\": \"lines\", \"name\": \"AUC_weighted_max\", \"stepped\": true, \"type\": \"scatter\", \"data\": [0.9929244427965228, 0.9948905956647891, 0.9948905956647891, 0.9948905956647891, 0.9948905956647891, 0.9948905956647891, 0.9948905956647891, 0.9948905956647891, 0.9948905956647891, 0.9948905956647891, 0.9948905956647891, 0.9948905956647891, 0.9948905956647891, 0.9948905956647891, 0.9948905956647891, 0.9948905956647891, 0.9948905956647891, 0.9948905956647891, 0.9948905956647891, 0.9948905956647891, 0.9948905956647891, 0.9948905956647891, 0.9948905956647891, 0.9948905956647891, 0.9948905956647891, 0.9948905956647891, 0.9948905956647891, 0.9948905956647891, 0.9948905956647891, 0.9948905956647891, 0.9948905956647891, 0.9948905956647891, 0.9948905956647891, 0.9948905956647891, 0.9948905956647891, 0.9948905956647891, 0.9948905956647891, 0.9948905956647891, 0.9948905956647891, 0.9948905956647891, 0.9948905956647891, 0.9948905956647891, 0.9948905956647891, 0.9948905956647891, 0.9948905956647891, 0.9948905956647891, 0.9948905956647891, 0.9948905956647891, 0.9948905956647891, 0.9948905956647891, 0.9948905956647891, 0.9948905956647891, 0.9948905956647891, 0.9979310344827585, 0.9979310344827585]}], \"recall_score_macro\": [{\"categories\": [\"0\", \"1\", \"2\", \"3\", \"4\", \"5\", \"6\", \"7\", \"8\", \"9\", \"10\", \"11\", \"12\", \"13\", \"14\", \"15\", \"16\", \"17\", \"18\", \"19\", \"20\", \"21\", \"22\", \"23\", \"24\", \"25\", \"26\", \"27\", \"28\", \"29\", \"30\", \"31\", \"32\", \"33\", \"34\", \"35\", \"36\", \"37\", \"38\", \"39\", \"40\", \"41\", \"42\", \"43\", \"44\", \"45\", \"46\", \"47\", \"48\", \"49\", \"50\", \"51\", \"52\", \"55\", \"56\"], \"mode\": \"markers\", \"name\": \"recall_score_macro\", \"stepped\": false, \"type\": \"scatter\", \"data\": [0.9424406130268199, 0.9361666666666666, 0.9077222222222222, 0.7819016985362925, 0.8236759185691334, 0.928551971326165, 0.8786929811783816, 0.9325519713261649, 0.8984781746031747, 0.8217301587301588, 0.863984126984127, 0.9087777777777777, 0.6347619047619047, 0.8788158602150536, 0.8684251240355245, 0.9614012041598249, 0.7567707461553402, 0.7567707461553402, 0.9101666666666667, 0.7712679939792009, 0.7450223462577468, 0.7928538323004396, 0.7857821300563236, 0.8722698412698413, 0.8853076765188834, 0.9450719494323498, 0.8639516747002844, 0.9096031746031746, 0.852837822448223, 0.8065838541942547, 0.6300571181383194, 0.9096031746031746, 0.8950416666666665, 0.8622559523809523, 0.7806870287974292, 0.6161507936507936, 0.8385671491251301, 0.8116908602150538, 0.9335099206349206, 0.8325521081625087, 0.679710580097816, 0.8159830477426417, 0.8816191844553914, 0.8868498640464715, 0.8866790922894928, 0.7376827758355844, 0.8906473462577468, 0.913638888888889, 0.8750542291258366, 0.9024781746031747, 0.6685632073556157, 0.8966790922894928, 0.8260595238095239, 0.9688888888888888, 0.958388888888889]}, {\"categories\": [\"0\", \"1\", \"2\", \"3\", \"4\", \"5\", \"6\", \"7\", \"8\", \"9\", \"10\", \"11\", \"12\", \"13\", \"14\", \"15\", \"16\", \"17\", \"18\", \"19\", \"20\", \"21\", \"22\", \"23\", \"24\", \"25\", \"26\", \"27\", \"28\", \"29\", \"30\", \"31\", \"32\", \"33\", \"34\", \"35\", \"36\", \"37\", \"38\", \"39\", \"40\", \"41\", \"42\", \"43\", \"44\", \"45\", \"46\", \"47\", \"48\", \"49\", \"50\", \"51\", \"52\", \"55\", \"56\"], \"mode\": \"lines\", \"name\": \"recall_score_macro_max\", \"stepped\": true, \"type\": \"scatter\", \"data\": [0.9424406130268199, 0.9424406130268199, 0.9424406130268199, 0.9424406130268199, 0.9424406130268199, 0.9424406130268199, 0.9424406130268199, 0.9424406130268199, 0.9424406130268199, 0.9424406130268199, 0.9424406130268199, 0.9424406130268199, 0.9424406130268199, 0.9424406130268199, 0.9424406130268199, 0.9614012041598249, 0.9614012041598249, 0.9614012041598249, 0.9614012041598249, 0.9614012041598249, 0.9614012041598249, 0.9614012041598249, 0.9614012041598249, 0.9614012041598249, 0.9614012041598249, 0.9614012041598249, 0.9614012041598249, 0.9614012041598249, 0.9614012041598249, 0.9614012041598249, 0.9614012041598249, 0.9614012041598249, 0.9614012041598249, 0.9614012041598249, 0.9614012041598249, 0.9614012041598249, 0.9614012041598249, 0.9614012041598249, 0.9614012041598249, 0.9614012041598249, 0.9614012041598249, 0.9614012041598249, 0.9614012041598249, 0.9614012041598249, 0.9614012041598249, 0.9614012041598249, 0.9614012041598249, 0.9614012041598249, 0.9614012041598249, 0.9614012041598249, 0.9614012041598249, 0.9614012041598249, 0.9614012041598249, 0.9688888888888888, 0.9688888888888888]}], \"precision_score_macro\": [{\"categories\": [\"0\", \"1\", \"2\", \"3\", \"4\", \"5\", \"6\", \"7\", \"8\", \"9\", \"10\", \"11\", \"12\", \"13\", \"14\", \"15\", \"16\", \"17\", \"18\", \"19\", \"20\", \"21\", \"22\", \"23\", \"24\", \"25\", \"26\", \"27\", \"28\", \"29\", \"30\", \"31\", \"32\", \"33\", \"34\", \"35\", \"36\", \"37\", \"38\", \"39\", \"40\", \"41\", \"42\", \"43\", \"44\", \"45\", \"46\", \"47\", \"48\", \"49\", \"50\", \"51\", \"52\", \"55\", \"56\"], \"mode\": \"markers\", \"name\": \"precision_score_macro\", \"stepped\": false, \"type\": \"scatter\", \"data\": [0.9647653116257121, 0.9719507575757576, 0.943988449485366, 0.8785858409020173, 0.8616092708705736, 0.9510416666666666, 0.9239853896103897, 0.9556168300653596, 0.9486816610808546, 0.9284889228418642, 0.9474836707410237, 0.9689015151515152, 0.8039560439560439, 0.9338636363636365, 0.9093241435983372, 0.9642243359985295, 0.7837564219549514, 0.7837564219549514, 0.9689962121212122, 0.8133186993272382, 0.8311460566631345, 0.89655592252575, 0.9244360594360593, 0.9603565062388594, 0.9310876623376624, 0.9596395092362833, 0.8150376919096084, 0.9755620723362659, 0.8854074353066288, 0.8513749702226932, 0.7676777197365434, 0.9755620723362659, 0.9409406565656566, 0.9293092691622103, 0.8563537687802395, 0.8992932782406466, 0.8301691556387951, 0.8887011273040685, 0.9607321428571428, 0.8817565536315538, 0.7344233511586452, 0.8733225108225108, 0.9203174513658385, 0.8829306923918991, 0.9161944909928781, 0.8042719414256417, 0.9155741435983373, 0.9497034864776801, 0.8926733870967741, 0.954514994414188, 0.7780413925100833, 0.9212269585253455, 0.9157772493161488, 0.9903225806451612, 0.9778158602150537]}, {\"categories\": [\"0\", \"1\", \"2\", \"3\", \"4\", \"5\", \"6\", \"7\", \"8\", \"9\", \"10\", \"11\", \"12\", \"13\", \"14\", \"15\", \"16\", \"17\", \"18\", \"19\", \"20\", \"21\", \"22\", \"23\", \"24\", \"25\", \"26\", \"27\", \"28\", \"29\", \"30\", \"31\", \"32\", \"33\", \"34\", \"35\", \"36\", \"37\", \"38\", \"39\", \"40\", \"41\", \"42\", \"43\", \"44\", \"45\", \"46\", \"47\", \"48\", \"49\", \"50\", \"51\", \"52\", \"55\", \"56\"], \"mode\": \"lines\", \"name\": \"precision_score_macro_max\", \"stepped\": true, \"type\": \"scatter\", \"data\": [0.9647653116257121, 0.9719507575757576, 0.9719507575757576, 0.9719507575757576, 0.9719507575757576, 0.9719507575757576, 0.9719507575757576, 0.9719507575757576, 0.9719507575757576, 0.9719507575757576, 0.9719507575757576, 0.9719507575757576, 0.9719507575757576, 0.9719507575757576, 0.9719507575757576, 0.9719507575757576, 0.9719507575757576, 0.9719507575757576, 0.9719507575757576, 0.9719507575757576, 0.9719507575757576, 0.9719507575757576, 0.9719507575757576, 0.9719507575757576, 0.9719507575757576, 0.9719507575757576, 0.9719507575757576, 0.9755620723362659, 0.9755620723362659, 0.9755620723362659, 0.9755620723362659, 0.9755620723362659, 0.9755620723362659, 0.9755620723362659, 0.9755620723362659, 0.9755620723362659, 0.9755620723362659, 0.9755620723362659, 0.9755620723362659, 0.9755620723362659, 0.9755620723362659, 0.9755620723362659, 0.9755620723362659, 0.9755620723362659, 0.9755620723362659, 0.9755620723362659, 0.9755620723362659, 0.9755620723362659, 0.9755620723362659, 0.9755620723362659, 0.9755620723362659, 0.9755620723362659, 0.9755620723362659, 0.9903225806451612, 0.9903225806451612]}], \"precision_score_weighted\": [{\"categories\": [\"0\", \"1\", \"2\", \"3\", \"4\", \"5\", \"6\", \"7\", \"8\", \"9\", \"10\", \"11\", \"12\", \"13\", \"14\", \"15\", \"16\", \"17\", \"18\", \"19\", \"20\", \"21\", \"22\", \"23\", \"24\", \"25\", \"26\", \"27\", \"28\", \"29\", \"30\", \"31\", \"32\", \"33\", \"34\", \"35\", \"36\", \"37\", \"38\", \"39\", \"40\", \"41\", \"42\", \"43\", \"44\", \"45\", \"46\", \"47\", \"48\", \"49\", \"50\", \"51\", \"52\", \"55\", \"56\"], \"mode\": \"markers\", \"name\": \"precision_score_weighted\", \"stepped\": false, \"type\": \"scatter\", \"data\": [0.9661716419780937, 0.9671144133644134, 0.9464273353149064, 0.8797042327679583, 0.883543365320859, 0.9559294871794872, 0.9332514707514707, 0.9592142198759847, 0.9481452239516756, 0.9107748460689636, 0.932837709675945, 0.9579370629370629, 0.8227475658244888, 0.9374242424242423, 0.9243089244640113, 0.9717776693789928, 0.837860645373843, 0.837860645373843, 0.9582332944832945, 0.8533028862345751, 0.8554346402069362, 0.8925236879978259, 0.9054005754005754, 0.9444800950683303, 0.9358995171495172, 0.9647455338522336, 0.8900454254547089, 0.9624031882096398, 0.9076184568120051, 0.8763249953714849, 0.7935184052831111, 0.9624031882096398, 0.9425780238280238, 0.9249789752730928, 0.8761051366933719, 0.8515228936281568, 0.8786701723324113, 0.8965027933353726, 0.9616987179487179, 0.9020972854306188, 0.7989756583285995, 0.8919615107115106, 0.9298340548340549, 0.919014760782002, 0.9338924963924965, 0.8402817057845521, 0.9339243090793958, 0.9546124604189121, 0.9158757237386268, 0.9523332581397097, 0.8121181812073652, 0.9390567765567767, 0.9110067352002835, 0.9854425144747726, 0.9761376481941]}, {\"categories\": [\"0\", \"1\", \"2\", \"3\", \"4\", \"5\", \"6\", \"7\", \"8\", \"9\", \"10\", \"11\", \"12\", \"13\", \"14\", \"15\", \"16\", \"17\", \"18\", \"19\", \"20\", \"21\", \"22\", \"23\", \"24\", \"25\", \"26\", \"27\", \"28\", \"29\", \"30\", \"31\", \"32\", \"33\", \"34\", \"35\", \"36\", \"37\", \"38\", \"39\", \"40\", \"41\", \"42\", \"43\", \"44\", \"45\", \"46\", \"47\", \"48\", \"49\", \"50\", \"51\", \"52\", \"55\", \"56\"], \"mode\": \"lines\", \"name\": \"precision_score_weighted_max\", \"stepped\": true, \"type\": \"scatter\", \"data\": [0.9661716419780937, 0.9671144133644134, 0.9671144133644134, 0.9671144133644134, 0.9671144133644134, 0.9671144133644134, 0.9671144133644134, 0.9671144133644134, 0.9671144133644134, 0.9671144133644134, 0.9671144133644134, 0.9671144133644134, 0.9671144133644134, 0.9671144133644134, 0.9671144133644134, 0.9717776693789928, 0.9717776693789928, 0.9717776693789928, 0.9717776693789928, 0.9717776693789928, 0.9717776693789928, 0.9717776693789928, 0.9717776693789928, 0.9717776693789928, 0.9717776693789928, 0.9717776693789928, 0.9717776693789928, 0.9717776693789928, 0.9717776693789928, 0.9717776693789928, 0.9717776693789928, 0.9717776693789928, 0.9717776693789928, 0.9717776693789928, 0.9717776693789928, 0.9717776693789928, 0.9717776693789928, 0.9717776693789928, 0.9717776693789928, 0.9717776693789928, 0.9717776693789928, 0.9717776693789928, 0.9717776693789928, 0.9717776693789928, 0.9717776693789928, 0.9717776693789928, 0.9717776693789928, 0.9717776693789928, 0.9717776693789928, 0.9717776693789928, 0.9717776693789928, 0.9717776693789928, 0.9717776693789928, 0.9854425144747726, 0.9854425144747726]}]}, \"metricName\": null, \"primaryMetricName\": \"accuracy\", \"showLegend\": false}, \"run_metrics\": [{\"name\": \"experiment_status\", \"run_id\": \"AutoML_d641fccc-1da4-4006-977e-0584f94ac0d7\", \"categories\": [0, 1, 2, 3, 4, 5, 6, 7, 8, 9, 10, 11, 12, 13], \"series\": [{\"data\": [\"DatasetEvaluation\", \"FeaturesGeneration\", \"DatasetFeaturization\", \"DatasetFeaturizationCompleted\", \"DatasetCrossValidationSplit\", \"ModelSelection\", \"BestRunExplainModel\", \"ModelExplanationDataSetSetup\", \"PickSurrogateModel\", \"EngineeredFeatureExplanations\", \"EngineeredFeatureExplanations\", \"RawFeaturesExplanations\", \"RawFeaturesExplanations\", \"BestRunExplainModel\"]}]}, {\"name\": \"experiment_status_description\", \"run_id\": \"AutoML_d641fccc-1da4-4006-977e-0584f94ac0d7\", \"categories\": [0, 1, 2, 3, 4, 5, 6, 7, 8, 9, 10, 11, 12, 13], \"series\": [{\"data\": [\"Gathering dataset statistics.\", \"Generating features for the dataset.\", \"Beginning to fit featurizers and featurize the dataset.\", \"Completed fit featurizers and featurizing the dataset.\", \"Generating individually featurized CV splits.\", \"Beginning model selection.\", \"Best run model explanations started\", \"Model explanations data setup completed\", \"Choosing LightGBM as the surrogate model for explanations\", \"Computation of engineered features started\", \"Computation of engineered features completed\", \"Computation of raw features started\", \"Computation of raw features completed\", \"Best run model explanations completed\"]}]}, {\"name\": \"AUC_macro\", \"run_id\": \"AutoML_d641fccc-1da4-4006-977e-0584f94ac0d7\", \"categories\": [0], \"series\": [{\"data\": [0.9979310344827587]}]}, {\"name\": \"weighted_accuracy\", \"run_id\": \"AutoML_d641fccc-1da4-4006-977e-0584f94ac0d7\", \"categories\": [0], \"series\": [{\"data\": [0.9939143405902369]}]}, {\"name\": \"f1_score_micro\", \"run_id\": \"AutoML_d641fccc-1da4-4006-977e-0584f94ac0d7\", \"categories\": [0], \"series\": [{\"data\": [0.9846153846153847]}]}, {\"name\": \"precision_score_micro\", \"run_id\": \"AutoML_d641fccc-1da4-4006-977e-0584f94ac0d7\", \"categories\": [0], \"series\": [{\"data\": [0.9846153846153847]}]}, {\"name\": \"accuracy\", \"run_id\": \"AutoML_d641fccc-1da4-4006-977e-0584f94ac0d7\", \"categories\": [0], \"series\": [{\"data\": [0.9846153846153847]}]}, {\"name\": \"recall_score_micro\", \"run_id\": \"AutoML_d641fccc-1da4-4006-977e-0584f94ac0d7\", \"categories\": [0], \"series\": [{\"data\": [0.9846153846153847]}]}, {\"name\": \"AUC_micro\", \"run_id\": \"AutoML_d641fccc-1da4-4006-977e-0584f94ac0d7\", \"categories\": [0], \"series\": [{\"data\": [0.996975673898751]}]}, {\"name\": \"matthews_correlation\", \"run_id\": \"AutoML_d641fccc-1da4-4006-977e-0584f94ac0d7\", \"categories\": [0], \"series\": [{\"data\": [0.9585142968007044]}]}, {\"name\": \"average_precision_score_micro\", \"run_id\": \"AutoML_d641fccc-1da4-4006-977e-0584f94ac0d7\", \"categories\": [0], \"series\": [{\"data\": [0.9971198631704002]}]}, {\"name\": \"average_precision_score_macro\", \"run_id\": \"AutoML_d641fccc-1da4-4006-977e-0584f94ac0d7\", \"categories\": [0], \"series\": [{\"data\": [0.9973353063900031]}]}, {\"name\": \"average_precision_score_weighted\", \"run_id\": \"AutoML_d641fccc-1da4-4006-977e-0584f94ac0d7\", \"categories\": [0], \"series\": [{\"data\": [0.9982856430336536]}]}, {\"name\": \"recall_score_weighted\", \"run_id\": \"AutoML_d641fccc-1da4-4006-977e-0584f94ac0d7\", \"categories\": [0], \"series\": [{\"data\": [0.9846153846153847]}]}, {\"name\": \"precision_score_weighted\", \"run_id\": \"AutoML_d641fccc-1da4-4006-977e-0584f94ac0d7\", \"categories\": [0], \"series\": [{\"data\": [0.9854425144747726]}]}, {\"name\": \"precision_score_macro\", \"run_id\": \"AutoML_d641fccc-1da4-4006-977e-0584f94ac0d7\", \"categories\": [0], \"series\": [{\"data\": [0.9903225806451612]}]}, {\"name\": \"log_loss\", \"run_id\": \"AutoML_d641fccc-1da4-4006-977e-0584f94ac0d7\", \"categories\": [0], \"series\": [{\"data\": [0.11664322843869879]}]}, {\"name\": \"AUC_weighted\", \"run_id\": \"AutoML_d641fccc-1da4-4006-977e-0584f94ac0d7\", \"categories\": [0], \"series\": [{\"data\": [0.9979310344827585]}]}, {\"name\": \"norm_macro_recall\", \"run_id\": \"AutoML_d641fccc-1da4-4006-977e-0584f94ac0d7\", \"categories\": [0], \"series\": [{\"data\": [0.9377777777777776]}]}, {\"name\": \"f1_score_macro\", \"run_id\": \"AutoML_d641fccc-1da4-4006-977e-0584f94ac0d7\", \"categories\": [0], \"series\": [{\"data\": [0.9780338583520841]}]}, {\"name\": \"recall_score_macro\", \"run_id\": \"AutoML_d641fccc-1da4-4006-977e-0584f94ac0d7\", \"categories\": [0], \"series\": [{\"data\": [0.9688888888888888]}]}, {\"name\": \"f1_score_weighted\", \"run_id\": \"AutoML_d641fccc-1da4-4006-977e-0584f94ac0d7\", \"categories\": [0], \"series\": [{\"data\": [0.9841077291221939]}]}, {\"name\": \"balanced_accuracy\", \"run_id\": \"AutoML_d641fccc-1da4-4006-977e-0584f94ac0d7\", \"categories\": [0], \"series\": [{\"data\": [0.9688888888888888]}]}], \"run_logs\": \"\\nRun is completed.\", \"graph\": {}, \"widget_settings\": {\"childWidgetDisplay\": \"popup\", \"send_telemetry\": false, \"log_level\": \"INFO\", \"sdk_version\": \"1.19.0\"}, \"loading\": false}"
     },
     "metadata": {},
     "output_type": "display_data"
    },
    {
     "name": "stdout",
     "output_type": "stream",
     "text": [
      "\n",
      "\n",
      "****************************************************************************************************\n",
      "DATA GUARDRAILS: \n",
      "\n",
      "TYPE:         Class balancing detection\n",
      "STATUS:       PASSED\n",
      "DESCRIPTION:  Your inputs were analyzed, and all classes are balanced in your training data.\n",
      "              Learn more about imbalanced data: https://aka.ms/AutomatedMLImbalancedData\n",
      "\n",
      "****************************************************************************************************\n",
      "\n",
      "TYPE:         Missing feature values imputation\n",
      "STATUS:       PASSED\n",
      "DESCRIPTION:  No feature missing values were detected in the training data.\n",
      "              Learn more about missing value imputation: https://aka.ms/AutomatedMLFeaturization\n",
      "\n",
      "****************************************************************************************************\n",
      "\n",
      "TYPE:         High cardinality feature detection\n",
      "STATUS:       PASSED\n",
      "DESCRIPTION:  Your inputs were analyzed, and no high cardinality features were detected.\n",
      "              Learn more about high cardinality feature handling: https://aka.ms/AutomatedMLFeaturization\n",
      "\n",
      "****************************************************************************************************\n",
      "\n",
      "****************************************************************************************************\n",
      "ITERATION: The iteration being evaluated.\n",
      "PIPELINE: A summary description of the pipeline being evaluated.\n",
      "DURATION: Time taken for the current iteration.\n",
      "METRIC: The result of computing score on the fitted pipeline.\n",
      "BEST: The best observed score thus far.\n",
      "****************************************************************************************************\n",
      "\n",
      " ITERATION   PIPELINE                                       DURATION      METRIC      BEST\n",
      "         0   MaxAbsScaler LightGBM                          0:00:50       0.9641    0.9641\n",
      "         1   MaxAbsScaler XGBoostClassifier                 0:00:42       0.9641    0.9641\n",
      "         2   MinMaxScaler RandomForest                      0:00:36       0.9436    0.9641\n",
      "         3   MinMaxScaler RandomForest                      0:00:41       0.8769    0.9641\n",
      "         4   MinMaxScaler RandomForest                      0:02:00       0.8821    0.9641\n",
      "         5   MinMaxScaler SVM                               0:02:09       0.9487    0.9641\n",
      "         6   SparseNormalizer XGBoostClassifier             0:01:52       0.9333    0.9641\n",
      "         7   MinMaxScaler SVM                               0:00:44       0.9538    0.9641\n",
      "        10   StandardScalerWrapper RandomForest             0:00:43       0.9282    0.9641\n",
      "        11   SparseNormalizer XGBoostClassifier             0:00:43       0.9538    0.9641\n",
      "         8   SparseNormalizer XGBoostClassifier             0:00:37       0.9436    0.9641\n",
      "         9   MaxAbsScaler LightGBM                          0:00:37       0.9026    0.9641\n",
      "        12   StandardScalerWrapper LightGBM                 0:00:42       0.8205    0.9641\n",
      "        13   SparseNormalizer XGBoostClassifier             0:00:43       0.9333    0.9641\n",
      "        14   SparseNormalizer XGBoostClassifier             0:00:39       0.9231    0.9641\n",
      "        15   RobustScaler KNN                               0:00:41       0.9692    0.9692\n",
      "        16   StandardScalerWrapper LogisticRegression       0:00:37       0.8308    0.9692\n",
      "        17   StandardScalerWrapper LogisticRegression       0:00:42       0.8308    0.9692\n",
      "        18   MinMaxScaler LightGBM                          0:00:41       0.9538    0.9692\n",
      "        19   MinMaxScaler LogisticRegression                0:00:40       0.8462    0.9692\n",
      "        20   SparseNormalizer XGBoostClassifier             0:00:43       0.8513    0.9692\n",
      "        21   StandardScalerWrapper ExtremeRandomTrees       0:00:42       0.8872    0.9692\n",
      "        22   RobustScaler ExtremeRandomTrees                0:00:36       0.8923    0.9692\n",
      "        23   StandardScalerWrapper LightGBM                 0:00:37       0.9385    0.9692\n",
      "        24   StandardScalerWrapper LightGBM                 0:00:41       0.9333    0.9692\n",
      "        25   TruncatedSVDWrapper KNN                        0:00:47       0.9641    0.9692\n",
      "        26   SparseNormalizer ExtremeRandomTrees            0:00:41       0.8615    0.9692\n",
      "        27   SparseNormalizer LightGBM                      0:00:39       0.9590    0.9692\n",
      "        28   SparseNormalizer RandomForest                  0:00:45       0.9077    0.9692\n",
      "        29   MinMaxScaler LightGBM                          0:00:40       0.8769    0.9692\n",
      "        30   TruncatedSVDWrapper KNN                        0:00:36       0.7949    0.9692\n",
      "        31   MinMaxScaler LightGBM                          0:00:40       0.9590    0.9692\n",
      "        32   MaxAbsScaler LightGBM                          0:00:46       0.9333    0.9692\n",
      "        33   StandardScalerWrapper LightGBM                 0:00:35       0.9179    0.9692\n",
      "        34   SparseNormalizer XGBoostClassifier             0:00:40       0.8769    0.9692\n",
      "        35   TruncatedSVDWrapper KNN                        0:00:43       0.8103    0.9692\n",
      "        36   RobustScaler RandomForest                      0:00:45       0.8667    0.9692\n",
      "        37   SparseNormalizer XGBoostClassifier             0:00:36       0.8923    0.9692\n",
      "        38   StandardScalerWrapper SVM                      0:00:54       0.9590    0.9692\n",
      "        39   SparseNormalizer LightGBM                      0:00:45       0.9026    0.9692\n",
      "        40   PCA KNN                                        0:00:36       0.7846    0.9692\n",
      "        41   SparseNormalizer XGBoostClassifier             0:00:42       0.8923    0.9692\n",
      "        42   SparseNormalizer XGBoostClassifier             0:00:36       0.9282    0.9692\n",
      "        43   SparseNormalizer XGBoostClassifier             0:00:38       0.9179    0.9692\n",
      "        44   SparseNormalizer LightGBM                      0:00:36       0.9333    0.9692\n",
      "        45   SparseNormalizer KNN                           0:00:46       0.8359    0.9692\n",
      "        46   SparseNormalizer XGBoostClassifier             0:00:35       0.9333    0.9692\n",
      "        47   SparseNormalizer XGBoostClassifier             0:00:37       0.9487    0.9692\n",
      "        48   RobustScaler LightGBM                          0:00:41       0.9179    0.9692\n",
      "        49   SparseNormalizer XGBoostClassifier             0:00:37       0.9487    0.9692\n",
      "        50   SparseNormalizer KNN                           0:00:40       0.8103    0.9692\n",
      "        51   SparseNormalizer XGBoostClassifier             0:00:46       0.9385    0.9692\n",
      "        52   SparseNormalizer XGBoostClassifier             0:00:40       0.9026    0.9692\n",
      "        53                                                  0:00:19          nan    0.9692\n",
      "        54                                                  0:00:08          nan    0.9692\n",
      "        55    VotingEnsemble                                0:01:29       0.9846    0.9846\n",
      "        56    StackEnsemble                                 0:02:34       0.9744    0.9846\n"
     ]
    },
    {
     "data": {
      "text/plain": [
       "{'runId': 'AutoML_d641fccc-1da4-4006-977e-0584f94ac0d7',\n",
       " 'target': 'cpu-cluster',\n",
       " 'status': 'Completed',\n",
       " 'startTimeUtc': '2020-12-31T18:52:10.658636Z',\n",
       " 'endTimeUtc': '2020-12-31T19:17:48.295891Z',\n",
       " 'properties': {'num_iterations': '1000',\n",
       "  'training_type': 'TrainFull',\n",
       "  'acquisition_function': 'EI',\n",
       "  'primary_metric': 'accuracy',\n",
       "  'train_split': '0',\n",
       "  'acquisition_parameter': '0',\n",
       "  'num_cross_validation': '5',\n",
       "  'target': 'cpu-cluster',\n",
       "  'AMLSettingsJsonString': '{\"path\":null,\"name\":\"Parkinson-classification-AutoML\",\"subscription_id\":\"3d1a56d2-7c81-4118-9790-f85d1acf0c77\",\"resource_group\":\"aml-quickstarts-132680\",\"workspace_name\":\"quick-starts-ws-132680\",\"region\":\"southcentralus\",\"compute_target\":\"cpu-cluster\",\"spark_service\":null,\"azure_service\":\"remote\",\"many_models\":false,\"pipeline_fetch_max_batch_size\":1,\"iterations\":1000,\"primary_metric\":\"accuracy\",\"task_type\":\"classification\",\"data_script\":null,\"validation_size\":0.0,\"n_cross_validations\":5,\"y_min\":null,\"y_max\":null,\"num_classes\":null,\"featurization\":\"auto\",\"_ignore_package_version_incompatibilities\":false,\"is_timeseries\":false,\"max_cores_per_iteration\":1,\"max_concurrent_iterations\":4,\"iteration_timeout_minutes\":null,\"mem_in_mb\":null,\"enforce_time_on_windows\":false,\"experiment_timeout_minutes\":15,\"experiment_exit_score\":null,\"whitelist_models\":null,\"blacklist_algos\":[\"TensorFlowLinearClassifier\",\"TensorFlowDNN\"],\"supported_models\":[\"LinearSVM\",\"TensorFlowDNN\",\"MultinomialNaiveBayes\",\"LightGBM\",\"RandomForest\",\"SGD\",\"AveragedPerceptronClassifier\",\"BernoulliNaiveBayes\",\"SVM\",\"LogisticRegression\",\"KNN\",\"XGBoostClassifier\",\"DecisionTree\",\"TensorFlowLinearClassifier\",\"ExtremeRandomTrees\",\"GradientBoosting\"],\"auto_blacklist\":true,\"blacklist_samples_reached\":false,\"exclude_nan_labels\":true,\"verbosity\":20,\"_debug_log\":\"azureml_automl.log\",\"show_warnings\":false,\"model_explainability\":true,\"service_url\":null,\"sdk_url\":null,\"sdk_packages\":null,\"enable_onnx_compatible_models\":false,\"enable_split_onnx_featurizer_estimator_models\":false,\"vm_type\":\"STANDARD_DS3_V2\",\"telemetry_verbosity\":20,\"send_telemetry\":true,\"enable_dnn\":false,\"scenario\":\"SDK-1.13.0\",\"environment_label\":null,\"force_text_dnn\":false,\"enable_feature_sweeping\":true,\"enable_early_stopping\":false,\"early_stopping_n_iters\":10,\"metrics\":null,\"enable_ensembling\":true,\"enable_stack_ensembling\":true,\"ensemble_iterations\":15,\"enable_tf\":false,\"enable_subsampling\":null,\"subsample_seed\":null,\"enable_nimbusml\":false,\"enable_streaming\":false,\"force_streaming\":false,\"track_child_runs\":true,\"allowed_private_models\":[],\"label_column_name\":\"status\",\"weight_column_name\":null,\"cv_split_column_names\":null,\"enable_local_managed\":false,\"_local_managed_run_id\":null,\"cost_mode\":1,\"lag_length\":0,\"metric_operation\":\"maximize\",\"preprocess\":true}',\n",
       "  'DataPrepJsonString': '{\\\\\"training_data\\\\\": \\\\\"{\\\\\\\\\\\\\"blocks\\\\\\\\\\\\\": [{\\\\\\\\\\\\\"id\\\\\\\\\\\\\": \\\\\\\\\\\\\"1c40873b-6008-4051-93db-db69ff0f833d\\\\\\\\\\\\\", \\\\\\\\\\\\\"type\\\\\\\\\\\\\": \\\\\\\\\\\\\"Microsoft.DPrep.GetDatastoreFilesBlock\\\\\\\\\\\\\", \\\\\\\\\\\\\"arguments\\\\\\\\\\\\\": {\\\\\\\\\\\\\"datastores\\\\\\\\\\\\\": [{\\\\\\\\\\\\\"datastoreName\\\\\\\\\\\\\": \\\\\\\\\\\\\"workspaceblobstore\\\\\\\\\\\\\", \\\\\\\\\\\\\"path\\\\\\\\\\\\\": \\\\\\\\\\\\\"data/training_data.csv\\\\\\\\\\\\\", \\\\\\\\\\\\\"resourceGroup\\\\\\\\\\\\\": \\\\\\\\\\\\\"aml-quickstarts-132680\\\\\\\\\\\\\", \\\\\\\\\\\\\"subscription\\\\\\\\\\\\\": \\\\\\\\\\\\\"3d1a56d2-7c81-4118-9790-f85d1acf0c77\\\\\\\\\\\\\", \\\\\\\\\\\\\"workspaceName\\\\\\\\\\\\\": \\\\\\\\\\\\\"quick-starts-ws-132680\\\\\\\\\\\\\"}]}, \\\\\\\\\\\\\"localData\\\\\\\\\\\\\": {}, \\\\\\\\\\\\\"isEnabled\\\\\\\\\\\\\": true, \\\\\\\\\\\\\"name\\\\\\\\\\\\\": null, \\\\\\\\\\\\\"annotation\\\\\\\\\\\\\": null}, {\\\\\\\\\\\\\"id\\\\\\\\\\\\\": \\\\\\\\\\\\\"ce20a126-a079-48a8-bf68-049168ab8ea0\\\\\\\\\\\\\", \\\\\\\\\\\\\"type\\\\\\\\\\\\\": \\\\\\\\\\\\\"Microsoft.DPrep.ParseDelimitedBlock\\\\\\\\\\\\\", \\\\\\\\\\\\\"arguments\\\\\\\\\\\\\": {\\\\\\\\\\\\\"columnHeadersMode\\\\\\\\\\\\\": 3, \\\\\\\\\\\\\"fileEncoding\\\\\\\\\\\\\": 0, \\\\\\\\\\\\\"handleQuotedLineBreaks\\\\\\\\\\\\\": false, \\\\\\\\\\\\\"preview\\\\\\\\\\\\\": false, \\\\\\\\\\\\\"separator\\\\\\\\\\\\\": \\\\\\\\\\\\\",\\\\\\\\\\\\\", \\\\\\\\\\\\\"skipRows\\\\\\\\\\\\\": 0, \\\\\\\\\\\\\"skipRowsMode\\\\\\\\\\\\\": 0}, \\\\\\\\\\\\\"localData\\\\\\\\\\\\\": {}, \\\\\\\\\\\\\"isEnabled\\\\\\\\\\\\\": true, \\\\\\\\\\\\\"name\\\\\\\\\\\\\": null, \\\\\\\\\\\\\"annotation\\\\\\\\\\\\\": null}, {\\\\\\\\\\\\\"id\\\\\\\\\\\\\": \\\\\\\\\\\\\"13b963ad-72eb-4087-92ba-5d7473da8b3b\\\\\\\\\\\\\", \\\\\\\\\\\\\"type\\\\\\\\\\\\\": \\\\\\\\\\\\\"Microsoft.DPrep.DropColumnsBlock\\\\\\\\\\\\\", \\\\\\\\\\\\\"arguments\\\\\\\\\\\\\": {\\\\\\\\\\\\\"columns\\\\\\\\\\\\\": {\\\\\\\\\\\\\"type\\\\\\\\\\\\\": 0, \\\\\\\\\\\\\"details\\\\\\\\\\\\\": {\\\\\\\\\\\\\"selectedColumns\\\\\\\\\\\\\": [\\\\\\\\\\\\\"Path\\\\\\\\\\\\\"]}}}, \\\\\\\\\\\\\"localData\\\\\\\\\\\\\": {}, \\\\\\\\\\\\\"isEnabled\\\\\\\\\\\\\": true, \\\\\\\\\\\\\"name\\\\\\\\\\\\\": null, \\\\\\\\\\\\\"annotation\\\\\\\\\\\\\": null}, {\\\\\\\\\\\\\"id\\\\\\\\\\\\\": \\\\\\\\\\\\\"5c72a65e-2a63-47f1-b605-5050ca44761f\\\\\\\\\\\\\", \\\\\\\\\\\\\"type\\\\\\\\\\\\\": \\\\\\\\\\\\\"Microsoft.DPrep.SetColumnTypesBlock\\\\\\\\\\\\\", \\\\\\\\\\\\\"arguments\\\\\\\\\\\\\": {\\\\\\\\\\\\\"columnConversion\\\\\\\\\\\\\": [{\\\\\\\\\\\\\"column\\\\\\\\\\\\\": {\\\\\\\\\\\\\"type\\\\\\\\\\\\\": 2, \\\\\\\\\\\\\"details\\\\\\\\\\\\\": {\\\\\\\\\\\\\"selectedColumn\\\\\\\\\\\\\": \\\\\\\\\\\\\"Column1\\\\\\\\\\\\\"}}, \\\\\\\\\\\\\"typeProperty\\\\\\\\\\\\\": 2}, {\\\\\\\\\\\\\"column\\\\\\\\\\\\\": {\\\\\\\\\\\\\"type\\\\\\\\\\\\\": 2, \\\\\\\\\\\\\"details\\\\\\\\\\\\\": {\\\\\\\\\\\\\"selectedColumn\\\\\\\\\\\\\": \\\\\\\\\\\\\"name\\\\\\\\\\\\\"}}, \\\\\\\\\\\\\"typeProperty\\\\\\\\\\\\\": 0}, {\\\\\\\\\\\\\"column\\\\\\\\\\\\\": {\\\\\\\\\\\\\"type\\\\\\\\\\\\\": 2, \\\\\\\\\\\\\"details\\\\\\\\\\\\\": {\\\\\\\\\\\\\"selectedColumn\\\\\\\\\\\\\": \\\\\\\\\\\\\"MDVP:Fo(Hz)\\\\\\\\\\\\\"}}, \\\\\\\\\\\\\"typeProperty\\\\\\\\\\\\\": 3}, {\\\\\\\\\\\\\"column\\\\\\\\\\\\\": {\\\\\\\\\\\\\"type\\\\\\\\\\\\\": 2, \\\\\\\\\\\\\"details\\\\\\\\\\\\\": {\\\\\\\\\\\\\"selectedColumn\\\\\\\\\\\\\": \\\\\\\\\\\\\"MDVP:Fhi(Hz)\\\\\\\\\\\\\"}}, \\\\\\\\\\\\\"typeProperty\\\\\\\\\\\\\": 3}, {\\\\\\\\\\\\\"column\\\\\\\\\\\\\": {\\\\\\\\\\\\\"type\\\\\\\\\\\\\": 2, \\\\\\\\\\\\\"details\\\\\\\\\\\\\": {\\\\\\\\\\\\\"selectedColumn\\\\\\\\\\\\\": \\\\\\\\\\\\\"MDVP:Flo(Hz)\\\\\\\\\\\\\"}}, \\\\\\\\\\\\\"typeProperty\\\\\\\\\\\\\": 3}, {\\\\\\\\\\\\\"column\\\\\\\\\\\\\": {\\\\\\\\\\\\\"type\\\\\\\\\\\\\": 2, \\\\\\\\\\\\\"details\\\\\\\\\\\\\": {\\\\\\\\\\\\\"selectedColumn\\\\\\\\\\\\\": \\\\\\\\\\\\\"MDVP:Jitter(%)\\\\\\\\\\\\\"}}, \\\\\\\\\\\\\"typeProperty\\\\\\\\\\\\\": 3}, {\\\\\\\\\\\\\"column\\\\\\\\\\\\\": {\\\\\\\\\\\\\"type\\\\\\\\\\\\\": 2, \\\\\\\\\\\\\"details\\\\\\\\\\\\\": {\\\\\\\\\\\\\"selectedColumn\\\\\\\\\\\\\": \\\\\\\\\\\\\"MDVP:Jitter(Abs)\\\\\\\\\\\\\"}}, \\\\\\\\\\\\\"typeProperty\\\\\\\\\\\\\": 3}, {\\\\\\\\\\\\\"column\\\\\\\\\\\\\": {\\\\\\\\\\\\\"type\\\\\\\\\\\\\": 2, \\\\\\\\\\\\\"details\\\\\\\\\\\\\": {\\\\\\\\\\\\\"selectedColumn\\\\\\\\\\\\\": \\\\\\\\\\\\\"MDVP:RAP\\\\\\\\\\\\\"}}, \\\\\\\\\\\\\"typeProperty\\\\\\\\\\\\\": 3}, {\\\\\\\\\\\\\"column\\\\\\\\\\\\\": {\\\\\\\\\\\\\"type\\\\\\\\\\\\\": 2, \\\\\\\\\\\\\"details\\\\\\\\\\\\\": {\\\\\\\\\\\\\"selectedColumn\\\\\\\\\\\\\": \\\\\\\\\\\\\"MDVP:PPQ\\\\\\\\\\\\\"}}, \\\\\\\\\\\\\"typeProperty\\\\\\\\\\\\\": 3}, {\\\\\\\\\\\\\"column\\\\\\\\\\\\\": {\\\\\\\\\\\\\"type\\\\\\\\\\\\\": 2, \\\\\\\\\\\\\"details\\\\\\\\\\\\\": {\\\\\\\\\\\\\"selectedColumn\\\\\\\\\\\\\": \\\\\\\\\\\\\"Jitter:DDP\\\\\\\\\\\\\"}}, \\\\\\\\\\\\\"typeProperty\\\\\\\\\\\\\": 3}, {\\\\\\\\\\\\\"column\\\\\\\\\\\\\": {\\\\\\\\\\\\\"type\\\\\\\\\\\\\": 2, \\\\\\\\\\\\\"details\\\\\\\\\\\\\": {\\\\\\\\\\\\\"selectedColumn\\\\\\\\\\\\\": \\\\\\\\\\\\\"MDVP:Shimmer\\\\\\\\\\\\\"}}, \\\\\\\\\\\\\"typeProperty\\\\\\\\\\\\\": 3}, {\\\\\\\\\\\\\"column\\\\\\\\\\\\\": {\\\\\\\\\\\\\"type\\\\\\\\\\\\\": 2, \\\\\\\\\\\\\"details\\\\\\\\\\\\\": {\\\\\\\\\\\\\"selectedColumn\\\\\\\\\\\\\": \\\\\\\\\\\\\"MDVP:Shimmer(dB)\\\\\\\\\\\\\"}}, \\\\\\\\\\\\\"typeProperty\\\\\\\\\\\\\": 3}, {\\\\\\\\\\\\\"column\\\\\\\\\\\\\": {\\\\\\\\\\\\\"type\\\\\\\\\\\\\": 2, \\\\\\\\\\\\\"details\\\\\\\\\\\\\": {\\\\\\\\\\\\\"selectedColumn\\\\\\\\\\\\\": \\\\\\\\\\\\\"Shimmer:APQ3\\\\\\\\\\\\\"}}, \\\\\\\\\\\\\"typeProperty\\\\\\\\\\\\\": 3}, {\\\\\\\\\\\\\"column\\\\\\\\\\\\\": {\\\\\\\\\\\\\"type\\\\\\\\\\\\\": 2, \\\\\\\\\\\\\"details\\\\\\\\\\\\\": {\\\\\\\\\\\\\"selectedColumn\\\\\\\\\\\\\": \\\\\\\\\\\\\"Shimmer:APQ5\\\\\\\\\\\\\"}}, \\\\\\\\\\\\\"typeProperty\\\\\\\\\\\\\": 3}, {\\\\\\\\\\\\\"column\\\\\\\\\\\\\": {\\\\\\\\\\\\\"type\\\\\\\\\\\\\": 2, \\\\\\\\\\\\\"details\\\\\\\\\\\\\": {\\\\\\\\\\\\\"selectedColumn\\\\\\\\\\\\\": \\\\\\\\\\\\\"MDVP:APQ\\\\\\\\\\\\\"}}, \\\\\\\\\\\\\"typeProperty\\\\\\\\\\\\\": 3}, {\\\\\\\\\\\\\"column\\\\\\\\\\\\\": {\\\\\\\\\\\\\"type\\\\\\\\\\\\\": 2, \\\\\\\\\\\\\"details\\\\\\\\\\\\\": {\\\\\\\\\\\\\"selectedColumn\\\\\\\\\\\\\": \\\\\\\\\\\\\"Shimmer:DDA\\\\\\\\\\\\\"}}, \\\\\\\\\\\\\"typeProperty\\\\\\\\\\\\\": 3}, {\\\\\\\\\\\\\"column\\\\\\\\\\\\\": {\\\\\\\\\\\\\"type\\\\\\\\\\\\\": 2, \\\\\\\\\\\\\"details\\\\\\\\\\\\\": {\\\\\\\\\\\\\"selectedColumn\\\\\\\\\\\\\": \\\\\\\\\\\\\"NHR\\\\\\\\\\\\\"}}, \\\\\\\\\\\\\"typeProperty\\\\\\\\\\\\\": 3}, {\\\\\\\\\\\\\"column\\\\\\\\\\\\\": {\\\\\\\\\\\\\"type\\\\\\\\\\\\\": 2, \\\\\\\\\\\\\"details\\\\\\\\\\\\\": {\\\\\\\\\\\\\"selectedColumn\\\\\\\\\\\\\": \\\\\\\\\\\\\"HNR\\\\\\\\\\\\\"}}, \\\\\\\\\\\\\"typeProperty\\\\\\\\\\\\\": 3}, {\\\\\\\\\\\\\"column\\\\\\\\\\\\\": {\\\\\\\\\\\\\"type\\\\\\\\\\\\\": 2, \\\\\\\\\\\\\"details\\\\\\\\\\\\\": {\\\\\\\\\\\\\"selectedColumn\\\\\\\\\\\\\": \\\\\\\\\\\\\"status\\\\\\\\\\\\\"}}, \\\\\\\\\\\\\"typeProperty\\\\\\\\\\\\\": 2}, {\\\\\\\\\\\\\"column\\\\\\\\\\\\\": {\\\\\\\\\\\\\"type\\\\\\\\\\\\\": 2, \\\\\\\\\\\\\"details\\\\\\\\\\\\\": {\\\\\\\\\\\\\"selectedColumn\\\\\\\\\\\\\": \\\\\\\\\\\\\"RPDE\\\\\\\\\\\\\"}}, \\\\\\\\\\\\\"typeProperty\\\\\\\\\\\\\": 3}, {\\\\\\\\\\\\\"column\\\\\\\\\\\\\": {\\\\\\\\\\\\\"type\\\\\\\\\\\\\": 2, \\\\\\\\\\\\\"details\\\\\\\\\\\\\": {\\\\\\\\\\\\\"selectedColumn\\\\\\\\\\\\\": \\\\\\\\\\\\\"DFA\\\\\\\\\\\\\"}}, \\\\\\\\\\\\\"typeProperty\\\\\\\\\\\\\": 3}, {\\\\\\\\\\\\\"column\\\\\\\\\\\\\": {\\\\\\\\\\\\\"type\\\\\\\\\\\\\": 2, \\\\\\\\\\\\\"details\\\\\\\\\\\\\": {\\\\\\\\\\\\\"selectedColumn\\\\\\\\\\\\\": \\\\\\\\\\\\\"spread1\\\\\\\\\\\\\"}}, \\\\\\\\\\\\\"typeProperty\\\\\\\\\\\\\": 3}, {\\\\\\\\\\\\\"column\\\\\\\\\\\\\": {\\\\\\\\\\\\\"type\\\\\\\\\\\\\": 2, \\\\\\\\\\\\\"details\\\\\\\\\\\\\": {\\\\\\\\\\\\\"selectedColumn\\\\\\\\\\\\\": \\\\\\\\\\\\\"spread2\\\\\\\\\\\\\"}}, \\\\\\\\\\\\\"typeProperty\\\\\\\\\\\\\": 3}, {\\\\\\\\\\\\\"column\\\\\\\\\\\\\": {\\\\\\\\\\\\\"type\\\\\\\\\\\\\": 2, \\\\\\\\\\\\\"details\\\\\\\\\\\\\": {\\\\\\\\\\\\\"selectedColumn\\\\\\\\\\\\\": \\\\\\\\\\\\\"D2\\\\\\\\\\\\\"}}, \\\\\\\\\\\\\"typeProperty\\\\\\\\\\\\\": 3}, {\\\\\\\\\\\\\"column\\\\\\\\\\\\\": {\\\\\\\\\\\\\"type\\\\\\\\\\\\\": 2, \\\\\\\\\\\\\"details\\\\\\\\\\\\\": {\\\\\\\\\\\\\"selectedColumn\\\\\\\\\\\\\": \\\\\\\\\\\\\"PPE\\\\\\\\\\\\\"}}, \\\\\\\\\\\\\"typeProperty\\\\\\\\\\\\\": 3}]}, \\\\\\\\\\\\\"localData\\\\\\\\\\\\\": {}, \\\\\\\\\\\\\"isEnabled\\\\\\\\\\\\\": true, \\\\\\\\\\\\\"name\\\\\\\\\\\\\": null, \\\\\\\\\\\\\"annotation\\\\\\\\\\\\\": null}], \\\\\\\\\\\\\"inspectors\\\\\\\\\\\\\": [], \\\\\\\\\\\\\"meta\\\\\\\\\\\\\": {\\\\\\\\\\\\\"savedDatasetId\\\\\\\\\\\\\": \\\\\\\\\\\\\"96bc2903-c61e-4872-8a98-9383d0042e17\\\\\\\\\\\\\", \\\\\\\\\\\\\"datasetType\\\\\\\\\\\\\": \\\\\\\\\\\\\"tabular\\\\\\\\\\\\\", \\\\\\\\\\\\\"subscriptionId\\\\\\\\\\\\\": \\\\\\\\\\\\\"3d1a56d2-7c81-4118-9790-f85d1acf0c77\\\\\\\\\\\\\", \\\\\\\\\\\\\"workspaceId\\\\\\\\\\\\\": \\\\\\\\\\\\\"1d1119b6-5109-4d56-a9ab-e90fbaadfba2\\\\\\\\\\\\\", \\\\\\\\\\\\\"workspaceLocation\\\\\\\\\\\\\": \\\\\\\\\\\\\"southcentralus\\\\\\\\\\\\\"}}\\\\\", \\\\\"activities\\\\\": 0}',\n",
       "  'EnableSubsampling': None,\n",
       "  'runTemplate': 'AutoML',\n",
       "  'azureml.runsource': 'automl',\n",
       "  'display_task_type': 'classification',\n",
       "  'dependencies_versions': '{\"azureml-widgets\": \"1.19.0\", \"azureml-train\": \"1.19.0\", \"azureml-train-restclients-hyperdrive\": \"1.19.0\", \"azureml-train-core\": \"1.19.0\", \"azureml-train-automl\": \"1.19.0\", \"azureml-train-automl-runtime\": \"1.19.0\", \"azureml-train-automl-client\": \"1.19.0\", \"azureml-tensorboard\": \"1.19.0\", \"azureml-telemetry\": \"1.19.0\", \"azureml-sdk\": \"1.19.0\", \"azureml-samples\": \"0+unknown\", \"azureml-pipeline\": \"1.19.0\", \"azureml-pipeline-steps\": \"1.19.0\", \"azureml-pipeline-core\": \"1.19.0\", \"azureml-opendatasets\": \"1.19.0\", \"azureml-model-management-sdk\": \"1.0.1b6.post1\", \"azureml-mlflow\": \"1.19.0\", \"azureml-interpret\": \"1.19.0\", \"azureml-explain-model\": \"1.19.0\", \"azureml-defaults\": \"1.19.0\", \"azureml-dataset-runtime\": \"1.19.0\", \"azureml-dataprep\": \"2.6.1\", \"azureml-dataprep-rslex\": \"1.4.0\", \"azureml-dataprep-native\": \"26.0.0\", \"azureml-datadrift\": \"1.19.0\", \"azureml-core\": \"1.19.0\", \"azureml-contrib-services\": \"1.19.0\", \"azureml-contrib-server\": \"1.19.0\", \"azureml-contrib-reinforcementlearning\": \"1.19.0\", \"azureml-contrib-pipeline-steps\": \"1.19.0\", \"azureml-contrib-notebook\": \"1.19.0\", \"azureml-contrib-interpret\": \"1.19.0\", \"azureml-contrib-gbdt\": \"1.19.0\", \"azureml-contrib-fairness\": \"1.19.0\", \"azureml-contrib-dataset\": \"1.19.0\", \"azureml-cli-common\": \"1.19.0\", \"azureml-automl-runtime\": \"1.19.0\", \"azureml-automl-core\": \"1.19.0\", \"azureml-accel-models\": \"1.19.0\"}',\n",
       "  '_aml_system_scenario_identification': 'Remote.Parent',\n",
       "  'ClientType': 'SDK',\n",
       "  'environment_cpu_name': 'AzureML-AutoML',\n",
       "  'environment_cpu_label': 'prod',\n",
       "  'environment_gpu_name': 'AzureML-AutoML-GPU',\n",
       "  'environment_gpu_label': 'prod',\n",
       "  'root_attribution': 'automl',\n",
       "  'attribution': 'AutoML',\n",
       "  'Orchestrator': 'AutoML',\n",
       "  'CancelUri': 'https://southcentralus.experiments.azureml.net/jasmine/v1.0/subscriptions/3d1a56d2-7c81-4118-9790-f85d1acf0c77/resourceGroups/aml-quickstarts-132680/providers/Microsoft.MachineLearningServices/workspaces/quick-starts-ws-132680/experimentids/1dcd2ee7-77b0-454e-a990-5ce53b73b69d/cancel/AutoML_d641fccc-1da4-4006-977e-0584f94ac0d7',\n",
       "  'ClientSdkVersion': '1.19.0',\n",
       "  'snapshotId': '00000000-0000-0000-0000-000000000000',\n",
       "  'SetupRunId': 'AutoML_d641fccc-1da4-4006-977e-0584f94ac0d7_setup',\n",
       "  'SetupRunContainerId': 'dcid.AutoML_d641fccc-1da4-4006-977e-0584f94ac0d7_setup',\n",
       "  'FeaturizationRunJsonPath': 'featurizer_container.json',\n",
       "  'FeaturizationRunId': 'AutoML_d641fccc-1da4-4006-977e-0584f94ac0d7_featurize',\n",
       "  'ProblemInfoJsonString': '{\"dataset_num_categorical\": 0, \"is_sparse\": false, \"subsampling\": false, \"dataset_classes\": 2, \"dataset_features\": 23, \"dataset_samples\": 195, \"single_frequency_class_detected\": false}',\n",
       "  'ModelExplainRunId': 'AutoML_d641fccc-1da4-4006-977e-0584f94ac0d7_ModelExplain'},\n",
       " 'inputDatasets': [{'dataset': {'id': '96bc2903-c61e-4872-8a98-9383d0042e17'}, 'consumptionDetails': {'type': 'RunInput', 'inputName': 'training_data', 'mechanism': 'Direct'}}],\n",
       " 'outputDatasets': [],\n",
       " 'logFiles': {}}"
      ]
     },
     "execution_count": 8,
     "metadata": {},
     "output_type": "execute_result"
    },
    {
     "data": {
      "application/vnd.jupyter.widget-view+json": {
       "model_id": "3f49502e222748798dc9a42ecb7e0d99",
       "version_major": 2,
       "version_minor": 0
      },
      "text/plain": [
       "_UserRunWidget(widget_settings={'childWidgetDisplay': 'popup', 'send_telemetry': False, 'log_level': 'INFO', '…"
      ]
     },
     "metadata": {},
     "output_type": "display_data"
    },
    {
     "data": {
      "application/aml.mini.widget.v1": "{\"loading\": true}"
     },
     "metadata": {},
     "output_type": "display_data"
    }
   ],
   "source": [
    "RunDetails(auto_ml_run).show()\n",
    "auto_ml_run.wait_for_completion(show_output=True)"
   ]
  },
  {
   "cell_type": "markdown",
   "metadata": {},
   "source": [
    "## Best Model\n",
    "\n",
    "The best model from the automl experiments is retrieved and  all the properties of the model are displayed\n",
    "\n"
   ]
  },
  {
   "cell_type": "code",
   "execution_count": 9,
   "metadata": {
    "gather": {
     "logged": 1598431425670
    },
    "jupyter": {
     "outputs_hidden": false,
     "source_hidden": false
    },
    "nteract": {
     "transient": {
      "deleting": false
     }
    }
   },
   "outputs": [
    {
     "name": "stdout",
     "output_type": "stream",
     "text": [
      "Run(Experiment: Parkinson-classification-AutoML,\n",
      "Id: AutoML_d641fccc-1da4-4006-977e-0584f94ac0d7_55,\n",
      "Type: azureml.scriptrun,\n",
      "Status: Completed)\n",
      "Pipeline(memory=None,\n",
      "         steps=[('datatransformer',\n",
      "                 DataTransformer(enable_dnn=None, enable_feature_sweeping=None,\n",
      "                                 feature_sweeping_config=None,\n",
      "                                 feature_sweeping_timeout=None,\n",
      "                                 featurization_config=None, force_text_dnn=None,\n",
      "                                 is_cross_validation=None,\n",
      "                                 is_onnx_compatible=None, logger=None,\n",
      "                                 observer=None, task=None, working_dir=None)),\n",
      "                ('prefittedsoftvotingclassifier',...\n",
      "                                                                                               objective='reg:logistic',\n",
      "                                                                                               random_state=0,\n",
      "                                                                                               reg_alpha=0,\n",
      "                                                                                               reg_lambda=1.3541666666666667,\n",
      "                                                                                               scale_pos_weight=1,\n",
      "                                                                                               seed=None,\n",
      "                                                                                               silent=None,\n",
      "                                                                                               subsample=1,\n",
      "                                                                                               tree_method='auto',\n",
      "                                                                                               verbose=-10,\n",
      "                                                                                               verbosity=0))],\n",
      "                                                                     verbose=False))],\n",
      "                                               flatten_transform=None,\n",
      "                                               weights=[0.3333333333333333,\n",
      "                                                        0.2222222222222222,\n",
      "                                                        0.1111111111111111,\n",
      "                                                        0.1111111111111111,\n",
      "                                                        0.1111111111111111,\n",
      "                                                        0.1111111111111111]))],\n",
      "         verbose=False)\n",
      "Parkinson-detection-automl\n"
     ]
    }
   ],
   "source": [
    "# Retrieve the best automl model.\n",
    "best_run, fitted_model = auto_ml_run.get_output()\n",
    "print(best_run)\n",
    "print(fitted_model)\n",
    "\n",
    "#Register the model\n",
    "description ='Parkinson detection classification '\n",
    "model_name='Parkinson-detection-automl'\n",
    "model_path='./'\n",
    "tags = None\n",
    "model = auto_ml_run.register_model(model_name = model_name, description = description , tags = tags)\n",
    "print(auto_ml_run.model_id)"
   ]
  },
  {
   "cell_type": "markdown",
   "metadata": {},
   "source": [
    "## Model Deployment\n",
    "\n",
    "\n",
    "In the cell below we first  register the model, then define the environement to finally  create the inference config and deploy the model as a web service."
   ]
  },
  {
   "cell_type": "code",
   "execution_count": 19,
   "metadata": {},
   "outputs": [
    {
     "name": "stdout",
     "output_type": "stream",
     "text": [
      "Downloading from outputs/conda_env_v_1_0_0.yml to ./amlmodel/conda_env_v_1_0_0.yml ...\n",
      "Downloading from outputs/env_dependencies.json to ./amlmodel/env_dependencies.json ...\n",
      "Downloading from outputs/model.pkl to ./amlmodel/model.pkl ...\n",
      "Downloading from outputs/pipeline_graph.json to ./amlmodel/pipeline_graph.json ...\n",
      "Downloading from outputs/scoring_file_v_1_0_0.py to ./amlmodel/scoring_file_v_1_0_0.py ...\n"
     ]
    }
   ],
   "source": [
    "#Save the best model for the deployement\n",
    "import os\n",
    "os.makedirs('./amlmodel', exist_ok=True)\n",
    "\n",
    "best_run.download_file('/outputs/model.pkl',os.path.join('./amlmodel','automl_best_model_park.pkl'))\n",
    "\n",
    "for f in best_run.get_file_names():\n",
    "    if f.startswith('outputs'):\n",
    "        output_file_path = os.path.join('./amlmodel', f.split('/')[-1])\n",
    "        print(f'Downloading from {f} to {output_file_path} ...')\n",
    "        best_run.download_file(name=f, output_file_path=output_file_path)"
   ]
  },
  {
   "cell_type": "code",
   "execution_count": 22,
   "metadata": {},
   "outputs": [],
   "source": [
    "#Register the best model for the deployement\n",
    "\n",
    "model=best_run.register_model(\n",
    "            model_name = 'automl-bestmodel-parkinson', \n",
    "            model_path = './outputs/model.pkl',\n",
    "            model_framework=Model.Framework.SCIKITLEARN,\n",
    "            description='Parkinson detection'\n",
    ")"
   ]
  },
  {
   "cell_type": "code",
   "execution_count": 23,
   "metadata": {},
   "outputs": [],
   "source": [
    "# Download the conda environment file and define the environement\n",
    "best_run.download_file('outputs/conda_env_v_1_0_0.yml', 'conda_env.yml')\n",
    "myenv = Environment.from_conda_specification(name = 'myenv',\n",
    "                                             file_path = 'conda_env.yml')"
   ]
  },
  {
   "cell_type": "code",
   "execution_count": 24,
   "metadata": {},
   "outputs": [],
   "source": [
    "# download the scoring file produced by AutoML\n",
    "best_run.download_file('outputs/scoring_file_v_1_0_0.py', 'score_auto_park.py')\n",
    "\n",
    "# set inference config\n",
    "inference_config = InferenceConfig(entry_script= 'score_auto_park.py',\n",
    "                                    environment=myenv)"
   ]
  },
  {
   "cell_type": "code",
   "execution_count": 25,
   "metadata": {},
   "outputs": [],
   "source": [
    "# set Aci Webservice config\n",
    "aci_config = AciWebservice.deploy_configuration(cpu_cores=1, memory_gb=1, auth_enabled=True)"
   ]
  },
  {
   "cell_type": "code",
   "execution_count": 26,
   "metadata": {},
   "outputs": [],
   "source": [
    "# deploye the model a a web service \n",
    "service = Model.deploy(workspace=ws, \n",
    "                       name='automl-bestmodel-parkinso', \n",
    "                       models=[model], \n",
    "                       inference_config=inference_config,\n",
    "                       deployment_config=aci_config,\n",
    "                       overwrite=True)"
   ]
  },
  {
   "cell_type": "code",
   "execution_count": 27,
   "metadata": {},
   "outputs": [
    {
     "data": {
      "text/plain": [
       "AciWebservice(workspace=Workspace.create(name='quick-starts-ws-132680', subscription_id='3d1a56d2-7c81-4118-9790-f85d1acf0c77', resource_group='aml-quickstarts-132680'), name=automl-bestmodel-parkinso, image_id=None, compute_type=None, state=ACI, scoring_uri=Transitioning, tags=None, properties={}, created_by={})"
      ]
     },
     "execution_count": 27,
     "metadata": {},
     "output_type": "execute_result"
    }
   ],
   "source": [
    "service"
   ]
  },
  {
   "cell_type": "code",
   "execution_count": 28,
   "metadata": {
    "scrolled": true
   },
   "outputs": [
    {
     "name": "stdout",
     "output_type": "stream",
     "text": [
      "Tips: You can try get_logs(): https://aka.ms/debugimage#dockerlog or local deployment: https://aka.ms/debugimage#debug-locally to debug if deployment takes longer than 10 minutes.\n",
      "Running.....................................................................................................................................\n",
      "Succeeded\n",
      "ACI service creation operation finished, operation \"Succeeded\"\n",
      "Service state:\n",
      "Healthy\n",
      "Scoring URI:\n",
      "http://fe9af3c7-a0c1-4152-9e22-0a3dfb91339d.southcentralus.azurecontainer.io/score\n",
      "Swagger URI:\n",
      "http://fe9af3c7-a0c1-4152-9e22-0a3dfb91339d.southcentralus.azurecontainer.io/swagger.json\n"
     ]
    }
   ],
   "source": [
    "service.wait_for_deployment(show_output=True)\n",
    "\n",
    "print('Service state:')\n",
    "print(service.state)\n",
    "\n",
    "print('Scoring URI:')\n",
    "print(service.scoring_uri)\n",
    "\n",
    "print('Swagger URI:')\n",
    "print(service.swagger_uri)\n",
    "\n"
   ]
  },
  {
   "cell_type": "code",
   "execution_count": null,
   "metadata": {},
   "outputs": [],
   "source": [
    "x_ds= ds.to_pandas_dataframe().drop(\"name\", inplace=True, axis=1).sample(2)\n",
    "y_ds = x_ds.pop('status')"
   ]
  },
  {
   "cell_type": "markdown",
   "metadata": {
    "collapsed": true,
    "gather": {
     "logged": 1598431657736
    },
    "jupyter": {
     "outputs_hidden": false,
     "source_hidden": false
    },
    "nteract": {
     "transient": {
      "deleting": false
     }
    }
   },
   "source": [
    "Send a request to the web deployed service  to test it."
   ]
  },
  {
   "cell_type": "code",
   "execution_count": null,
   "metadata": {},
   "outputs": [],
   "source": []
  },
  {
   "cell_type": "markdown",
   "metadata": {
    "collapsed": true,
    "gather": {
     "logged": 1598432765711
    },
    "jupyter": {
     "outputs_hidden": false,
     "source_hidden": false
    },
    "nteract": {
     "transient": {
      "deleting": false
     }
    }
   },
   "source": [
    "In the cell below, the logs of the web service are printed once over the service is deleted"
   ]
  },
  {
   "cell_type": "code",
   "execution_count": null,
   "metadata": {},
   "outputs": [],
   "source": []
  },
  {
   "cell_type": "code",
   "execution_count": null,
   "metadata": {},
   "outputs": [],
   "source": [
    "service_local.delete()\n",
    "aml_compute.delete()"
   ]
  },
  {
   "cell_type": "code",
   "execution_count": null,
   "metadata": {},
   "outputs": [],
   "source": []
  }
 ],
 "metadata": {
  "kernel_info": {
   "name": "python3"
  },
  "kernelspec": {
   "display_name": "Python 3",
   "language": "python",
   "name": "python3"
  },
  "language_info": {
   "codemirror_mode": {
    "name": "ipython",
    "version": 3
   },
   "file_extension": ".py",
   "mimetype": "text/x-python",
   "name": "python",
   "nbconvert_exporter": "python",
   "pygments_lexer": "ipython3",
   "version": "3.6.9"
  },
  "nteract": {
   "version": "nteract-front-end@1.0.0"
  }
 },
 "nbformat": 4,
 "nbformat_minor": 2
}
