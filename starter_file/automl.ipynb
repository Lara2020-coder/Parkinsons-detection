{
 "cells": [
  {
   "cell_type": "markdown",
   "metadata": {},
   "source": [
    "# Automated ML\n",
    "\n",
    "we start by importing all the dependencies that we will need to complete the project."
   ]
  },
  {
   "cell_type": "code",
   "execution_count": 10,
   "metadata": {
    "gather": {
     "logged": 1598423888013
    },
    "jupyter": {
     "outputs_hidden": false,
     "source_hidden": false
    },
    "nteract": {
     "transient": {
      "deleting": false
     }
    }
   },
   "outputs": [],
   "source": [
    "from azureml.core import Workspace, Experiment\n",
    "from azureml.core.compute import ComputeTarget, AmlCompute\n",
    "from azureml.core.compute_target import ComputeTargetException\n",
    "from azureml.data.dataset_factory import TabularDatasetFactory\n",
    "import pandas as pd\n",
    "from azureml.train.automl import AutoMLConfig\n",
    "from azureml.widgets import RunDetails\n"
   ]
  },
  {
   "cell_type": "markdown",
   "metadata": {},
   "source": [
    "## Dataset\n",
    "\n",
    "### Overview\n",
    "We first of all define the workspace and create the experiment 'Parkinson-classification-AutoML' (config.json in the same directory)\n",
    "\n",
    "We then access to the dataset from the external link (placed in the github)\n",
    "\n",
    "To  prepare the data(read the data using TabularDatasetFactory  then transforme it to a dataframe then store it in a csv file ) and send it to the default datastore so that we can use it in the Automl Config , to finally create the compute cluster \n",
    "\n",
    "The dataset used in this notebook  is composed of a range of biomedical voice measurements from 31 people, 23 with Parkinson's disease (PD). Each column in the data is a particular voice measure, and each row corresponds one of 195 voice recording from these individuals (\"name\" column)"
   ]
  },
  {
   "cell_type": "code",
   "execution_count": 2,
   "metadata": {
    "gather": {
     "logged": 1598423890461
    },
    "jupyter": {
     "outputs_hidden": false,
     "source_hidden": false
    },
    "nteract": {
     "transient": {
      "deleting": false
     }
    },
    "scrolled": true
   },
   "outputs": [
    {
     "name": "stdout",
     "output_type": "stream",
     "text": [
      "Workspace name: quick-starts-ws-132562\n",
      "Azure region: southcentralus\n",
      "Subscription id: 3e42d11f-d64d-4173-af9b-12ecaa1030b3\n",
      "Resource group: aml-quickstarts-132562\n"
     ]
    }
   ],
   "source": [
    "#Connection to the workspace and definition of the experiment \n",
    "ws = Workspace.from_config()\n",
    "experiment_name = 'Parkinson-classification-AutoML'\n",
    "\n",
    "experiment=Experiment(workspace=ws, name=experiment_name)\n",
    "\n",
    "print('Workspace name: ' + ws.name, \n",
    "      'Azure region: ' + ws.location, \n",
    "      'Subscription id: ' + ws.subscription_id, \n",
    "      'Resource group: ' + ws.resource_group, sep = '\\n')\n",
    "\n",
    "run = experiment.start_logging()"
   ]
  },
  {
   "cell_type": "code",
   "execution_count": 3,
   "metadata": {},
   "outputs": [
    {
     "data": {
      "text/html": [
       "<div>\n",
       "<style scoped>\n",
       "    .dataframe tbody tr th:only-of-type {\n",
       "        vertical-align: middle;\n",
       "    }\n",
       "\n",
       "    .dataframe tbody tr th {\n",
       "        vertical-align: top;\n",
       "    }\n",
       "\n",
       "    .dataframe thead th {\n",
       "        text-align: right;\n",
       "    }\n",
       "</style>\n",
       "<table border=\"1\" class=\"dataframe\">\n",
       "  <thead>\n",
       "    <tr style=\"text-align: right;\">\n",
       "      <th></th>\n",
       "      <th>name</th>\n",
       "      <th>MDVP:Fo(Hz)</th>\n",
       "      <th>MDVP:Fhi(Hz)</th>\n",
       "      <th>MDVP:Flo(Hz)</th>\n",
       "      <th>MDVP:Jitter(%)</th>\n",
       "      <th>MDVP:Jitter(Abs)</th>\n",
       "      <th>MDVP:RAP</th>\n",
       "      <th>MDVP:PPQ</th>\n",
       "      <th>Jitter:DDP</th>\n",
       "      <th>MDVP:Shimmer</th>\n",
       "      <th>...</th>\n",
       "      <th>Shimmer:DDA</th>\n",
       "      <th>NHR</th>\n",
       "      <th>HNR</th>\n",
       "      <th>status</th>\n",
       "      <th>RPDE</th>\n",
       "      <th>DFA</th>\n",
       "      <th>spread1</th>\n",
       "      <th>spread2</th>\n",
       "      <th>D2</th>\n",
       "      <th>PPE</th>\n",
       "    </tr>\n",
       "  </thead>\n",
       "  <tbody>\n",
       "    <tr>\n",
       "      <th>0</th>\n",
       "      <td>phon_R01_S01_1</td>\n",
       "      <td>119.992</td>\n",
       "      <td>157.302</td>\n",
       "      <td>74.997</td>\n",
       "      <td>0.00784</td>\n",
       "      <td>0.00007</td>\n",
       "      <td>0.00370</td>\n",
       "      <td>0.00554</td>\n",
       "      <td>0.01109</td>\n",
       "      <td>0.04374</td>\n",
       "      <td>...</td>\n",
       "      <td>0.06545</td>\n",
       "      <td>0.02211</td>\n",
       "      <td>21.033</td>\n",
       "      <td>1</td>\n",
       "      <td>0.414783</td>\n",
       "      <td>0.815285</td>\n",
       "      <td>-4.813031</td>\n",
       "      <td>0.266482</td>\n",
       "      <td>2.301442</td>\n",
       "      <td>0.284654</td>\n",
       "    </tr>\n",
       "    <tr>\n",
       "      <th>1</th>\n",
       "      <td>phon_R01_S01_2</td>\n",
       "      <td>122.400</td>\n",
       "      <td>148.650</td>\n",
       "      <td>113.819</td>\n",
       "      <td>0.00968</td>\n",
       "      <td>0.00008</td>\n",
       "      <td>0.00465</td>\n",
       "      <td>0.00696</td>\n",
       "      <td>0.01394</td>\n",
       "      <td>0.06134</td>\n",
       "      <td>...</td>\n",
       "      <td>0.09403</td>\n",
       "      <td>0.01929</td>\n",
       "      <td>19.085</td>\n",
       "      <td>1</td>\n",
       "      <td>0.458359</td>\n",
       "      <td>0.819521</td>\n",
       "      <td>-4.075192</td>\n",
       "      <td>0.335590</td>\n",
       "      <td>2.486855</td>\n",
       "      <td>0.368674</td>\n",
       "    </tr>\n",
       "    <tr>\n",
       "      <th>2</th>\n",
       "      <td>phon_R01_S01_3</td>\n",
       "      <td>116.682</td>\n",
       "      <td>131.111</td>\n",
       "      <td>111.555</td>\n",
       "      <td>0.01050</td>\n",
       "      <td>0.00009</td>\n",
       "      <td>0.00544</td>\n",
       "      <td>0.00781</td>\n",
       "      <td>0.01633</td>\n",
       "      <td>0.05233</td>\n",
       "      <td>...</td>\n",
       "      <td>0.08270</td>\n",
       "      <td>0.01309</td>\n",
       "      <td>20.651</td>\n",
       "      <td>1</td>\n",
       "      <td>0.429895</td>\n",
       "      <td>0.825288</td>\n",
       "      <td>-4.443179</td>\n",
       "      <td>0.311173</td>\n",
       "      <td>2.342259</td>\n",
       "      <td>0.332634</td>\n",
       "    </tr>\n",
       "    <tr>\n",
       "      <th>3</th>\n",
       "      <td>phon_R01_S01_4</td>\n",
       "      <td>116.676</td>\n",
       "      <td>137.871</td>\n",
       "      <td>111.366</td>\n",
       "      <td>0.00997</td>\n",
       "      <td>0.00009</td>\n",
       "      <td>0.00502</td>\n",
       "      <td>0.00698</td>\n",
       "      <td>0.01505</td>\n",
       "      <td>0.05492</td>\n",
       "      <td>...</td>\n",
       "      <td>0.08771</td>\n",
       "      <td>0.01353</td>\n",
       "      <td>20.644</td>\n",
       "      <td>1</td>\n",
       "      <td>0.434969</td>\n",
       "      <td>0.819235</td>\n",
       "      <td>-4.117501</td>\n",
       "      <td>0.334147</td>\n",
       "      <td>2.405554</td>\n",
       "      <td>0.368975</td>\n",
       "    </tr>\n",
       "    <tr>\n",
       "      <th>4</th>\n",
       "      <td>phon_R01_S01_5</td>\n",
       "      <td>116.014</td>\n",
       "      <td>141.781</td>\n",
       "      <td>110.655</td>\n",
       "      <td>0.01284</td>\n",
       "      <td>0.00011</td>\n",
       "      <td>0.00655</td>\n",
       "      <td>0.00908</td>\n",
       "      <td>0.01966</td>\n",
       "      <td>0.06425</td>\n",
       "      <td>...</td>\n",
       "      <td>0.10470</td>\n",
       "      <td>0.01767</td>\n",
       "      <td>19.649</td>\n",
       "      <td>1</td>\n",
       "      <td>0.417356</td>\n",
       "      <td>0.823484</td>\n",
       "      <td>-3.747787</td>\n",
       "      <td>0.234513</td>\n",
       "      <td>2.332180</td>\n",
       "      <td>0.410335</td>\n",
       "    </tr>\n",
       "  </tbody>\n",
       "</table>\n",
       "<p>5 rows × 24 columns</p>\n",
       "</div>"
      ],
      "text/plain": [
       "             name  MDVP:Fo(Hz)  MDVP:Fhi(Hz)  MDVP:Flo(Hz)  MDVP:Jitter(%)  \\\n",
       "0  phon_R01_S01_1      119.992       157.302        74.997         0.00784   \n",
       "1  phon_R01_S01_2      122.400       148.650       113.819         0.00968   \n",
       "2  phon_R01_S01_3      116.682       131.111       111.555         0.01050   \n",
       "3  phon_R01_S01_4      116.676       137.871       111.366         0.00997   \n",
       "4  phon_R01_S01_5      116.014       141.781       110.655         0.01284   \n",
       "\n",
       "   MDVP:Jitter(Abs)  MDVP:RAP  MDVP:PPQ  Jitter:DDP  MDVP:Shimmer  ...  \\\n",
       "0           0.00007   0.00370   0.00554     0.01109       0.04374  ...   \n",
       "1           0.00008   0.00465   0.00696     0.01394       0.06134  ...   \n",
       "2           0.00009   0.00544   0.00781     0.01633       0.05233  ...   \n",
       "3           0.00009   0.00502   0.00698     0.01505       0.05492  ...   \n",
       "4           0.00011   0.00655   0.00908     0.01966       0.06425  ...   \n",
       "\n",
       "   Shimmer:DDA      NHR     HNR  status      RPDE       DFA   spread1  \\\n",
       "0      0.06545  0.02211  21.033       1  0.414783  0.815285 -4.813031   \n",
       "1      0.09403  0.01929  19.085       1  0.458359  0.819521 -4.075192   \n",
       "2      0.08270  0.01309  20.651       1  0.429895  0.825288 -4.443179   \n",
       "3      0.08771  0.01353  20.644       1  0.434969  0.819235 -4.117501   \n",
       "4      0.10470  0.01767  19.649       1  0.417356  0.823484 -3.747787   \n",
       "\n",
       "    spread2        D2       PPE  \n",
       "0  0.266482  2.301442  0.284654  \n",
       "1  0.335590  2.486855  0.368674  \n",
       "2  0.311173  2.342259  0.332634  \n",
       "3  0.334147  2.405554  0.368975  \n",
       "4  0.234513  2.332180  0.410335  \n",
       "\n",
       "[5 rows x 24 columns]"
      ]
     },
     "execution_count": 3,
     "metadata": {},
     "output_type": "execute_result"
    }
   ],
   "source": [
    "#Get the data from github\n",
    "path_url = 'https://raw.githubusercontent.com/hananeouhammouch/Parkinsons-detection/master/parkinsons.data'\n",
    "ds = TabularDatasetFactory.from_delimited_files(path = path_url)\n",
    "ds.to_pandas_dataframe().head()"
   ]
  },
  {
   "cell_type": "code",
   "execution_count": 5,
   "metadata": {},
   "outputs": [
    {
     "name": "stdout",
     "output_type": "stream",
     "text": [
      "Uploading an estimated of 5 files\n",
      "Uploading ./automl.ipynb\n",
      "Uploaded ./automl.ipynb, 1 files out of an estimated total of 5\n",
      "Uploading ./config.json\n",
      "Uploaded ./config.json, 2 files out of an estimated total of 5\n",
      "Uploading ./training_dataset.csv\n",
      "Uploaded ./training_dataset.csv, 3 files out of an estimated total of 5\n",
      "Uploading ./.ipynb_aml_checkpoints/automl-checkpoint2020-11-30-23-29-16.ipynb\n",
      "Uploaded ./.ipynb_aml_checkpoints/automl-checkpoint2020-11-30-23-29-16.ipynb, 4 files out of an estimated total of 5\n",
      "Uploading ./.ipynb_checkpoints/automl-checkpoint.ipynb\n",
      "Uploaded ./.ipynb_checkpoints/automl-checkpoint.ipynb, 5 files out of an estimated total of 5\n",
      "Uploaded 5 files\n"
     ]
    }
   ],
   "source": [
    "#Prepare the data and send it to the datastore\n",
    "ds.to_pandas_dataframe().to_csv(\"./training_dataset.csv\")\n",
    "datastore = ws.get_default_datastore()\n",
    "datastore.upload(src_dir = \"./\", target_path = \"data/\")\n",
    "training_data = TabularDatasetFactory.from_delimited_files(path = [(datastore, (\"data/training_dataset.csv\"))])\n"
   ]
  },
  {
   "cell_type": "code",
   "execution_count": 6,
   "metadata": {},
   "outputs": [
    {
     "name": "stdout",
     "output_type": "stream",
     "text": [
      "Creating\n",
      "Succeeded....................\n",
      "AmlCompute wait for completion finished\n",
      "\n",
      "Wait timeout has been reached\n",
      "Current provisioning state of AmlCompute is \"Succeeded\" and current node count is \"0\"\n"
     ]
    }
   ],
   "source": [
    "#Creation of the compute-cluster\n",
    "amlcompute_cluster_name = \"cpu-cluster\"\n",
    "\n",
    "try:\n",
    "    aml_compute = ComputeTarget(workspace=ws, name=amlcompute_cluster_name)\n",
    "    print('Found existing cluster, use it.')\n",
    "except ComputeTargetException:\n",
    "    compute_config = AmlCompute.provisioning_configuration(vm_size='STANDARD_DS3_V2',\n",
    "                                                           max_nodes=5)\n",
    "    aml_compute = ComputeTarget.create(ws, amlcompute_cluster_name, compute_config)\n",
    "\n",
    "aml_compute.wait_for_completion(show_output=True , min_node_count = 1, timeout_in_minutes = 2)"
   ]
  },
  {
   "cell_type": "markdown",
   "metadata": {},
   "source": [
    "## AutoML Configuration\n",
    "\n",
    "Bellow the description of the configuration used in Automl\n",
    "\n",
    "\n",
    "|Setting |Why?|\n",
    "|-|-|\n",
    "|**experiment_timeout_minutes**|Maximum amount of time in minutes that all iterations combined can take before the experiment terminates (15 minute the dataset include only 195 line)|\n",
    "|**max_concurrent_iterations**|To help manage child runs and when they can be performed, we create a dedicated cluster per experiment, and match the number of this setting (4) to the number of nodes in the cluster(5-1))|"
   ]
  },
  {
   "cell_type": "code",
   "execution_count": 7,
   "metadata": {
    "gather": {
     "logged": 1598429217746
    },
    "jupyter": {
     "outputs_hidden": false,
     "source_hidden": false
    },
    "nteract": {
     "transient": {
      "deleting": false
     }
    }
   },
   "outputs": [],
   "source": [
    "# Automl settings here\n",
    "automl_settings = {\n",
    "    \"experiment_timeout_minutes\" :15,\n",
    "    \"max_concurrent_iterations\": 4,\n",
    "    \"n_cross_validations\": 5,\n",
    "    \"primary_metric\": 'accuracy',\n",
    "}\n",
    "\n",
    "# Automl config here\n",
    "automl_config = AutoMLConfig(\n",
    "    task=\"classification\",\n",
    "    compute_target=aml_compute,\n",
    "    training_data=training_data,\n",
    "    label_column_name=\"status\",\n",
    "    **automl_settings\n",
    ")"
   ]
  },
  {
   "cell_type": "code",
   "execution_count": 8,
   "metadata": {
    "gather": {
     "logged": 1598431107951
    },
    "jupyter": {
     "outputs_hidden": false,
     "source_hidden": false
    },
    "nteract": {
     "transient": {
      "deleting": false
     }
    }
   },
   "outputs": [
    {
     "name": "stdout",
     "output_type": "stream",
     "text": [
      "Running on remote.\n",
      "No run_configuration provided, running on cpu-cluster with default configuration\n",
      "Running on remote compute: cpu-cluster\n",
      "Parent Run ID: AutoML_a0240568-0f51-4765-ab12-51ce97260977\n",
      "\n",
      "Current status: FeaturesGeneration. Generating features for the dataset.\n",
      "Current status: DatasetCrossValidationSplit. Generating individually featurized CV splits.\n",
      "Current status: ModelSelection. Beginning model selection.\n",
      "\n",
      "****************************************************************************************************\n",
      "DATA GUARDRAILS: \n",
      "\n",
      "TYPE:         Class balancing detection\n",
      "STATUS:       PASSED\n",
      "DESCRIPTION:  Your inputs were analyzed, and all classes are balanced in your training data.\n",
      "              Learn more about imbalanced data: https://aka.ms/AutomatedMLImbalancedData\n",
      "\n",
      "****************************************************************************************************\n",
      "\n",
      "TYPE:         Missing feature values imputation\n",
      "STATUS:       PASSED\n",
      "DESCRIPTION:  No feature missing values were detected in the training data.\n",
      "              Learn more about missing value imputation: https://aka.ms/AutomatedMLFeaturization\n",
      "\n",
      "****************************************************************************************************\n",
      "\n",
      "TYPE:         High cardinality feature detection\n",
      "STATUS:       PASSED\n",
      "DESCRIPTION:  Your inputs were analyzed, and no high cardinality features were detected.\n",
      "              Learn more about high cardinality feature handling: https://aka.ms/AutomatedMLFeaturization\n",
      "\n",
      "****************************************************************************************************\n",
      "\n",
      "****************************************************************************************************\n",
      "ITERATION: The iteration being evaluated.\n",
      "PIPELINE: A summary description of the pipeline being evaluated.\n",
      "DURATION: Time taken for the current iteration.\n",
      "METRIC: The result of computing score on the fitted pipeline.\n",
      "BEST: The best observed score thus far.\n",
      "****************************************************************************************************\n",
      "\n",
      " ITERATION   PIPELINE                                       DURATION      METRIC      BEST\n",
      "         0   MaxAbsScaler LightGBM                          0:00:45       0.9641    0.9641\n",
      "         3   MinMaxScaler RandomForest                      0:00:46       0.8769    0.9641\n",
      "         2   MinMaxScaler RandomForest                      0:00:44       0.9128    0.9641\n",
      "         1   MaxAbsScaler XGBoostClassifier                 0:00:44       0.9641    0.9641\n",
      "         7   MinMaxScaler SVM                               0:00:38       0.9590    0.9641\n",
      "         4   MinMaxScaler RandomForest                      0:01:54       0.9128    0.9641\n",
      "         5   RobustScaler ExtremeRandomTrees                0:01:54       0.8564    0.9641\n",
      "         6   MinMaxScaler SVM                               0:01:56       0.9590    0.9641\n",
      "         8   SparseNormalizer XGBoostClassifier             0:00:48       0.9436    0.9641\n",
      "         9   StandardScalerWrapper LightGBM                 0:00:44       0.9385    0.9641\n",
      "        10   MaxAbsScaler GradientBoosting                  0:00:43       0.9590    0.9641\n",
      "        11   SparseNormalizer XGBoostClassifier             0:00:43       0.8923    0.9641\n",
      "        12   StandardScalerWrapper RandomForest             0:00:43       0.9282    0.9641\n",
      "        13   SparseNormalizer XGBoostClassifier             0:00:48       0.9333    0.9641\n",
      "        14   SparseNormalizer XGBoostClassifier             0:00:44       0.9333    0.9641\n",
      "        15   StandardScalerWrapper XGBoostClassifier        0:00:45       0.8974    0.9641\n",
      "        16   SparseNormalizer XGBoostClassifier             0:00:49       0.9538    0.9641\n",
      "        17   SparseNormalizer XGBoostClassifier             0:00:41       0.8769    0.9641\n",
      "        18   MaxAbsScaler ExtremeRandomTrees                0:00:40       0.9077    0.9641\n",
      "        19   StandardScalerWrapper ExtremeRandomTrees       0:00:36       0.9077    0.9641\n",
      "        20   SparseNormalizer XGBoostClassifier             0:00:42       0.8974    0.9641\n",
      "        21   SparseNormalizer LightGBM                      0:00:36       0.8821    0.9641\n",
      "        22   MaxAbsScaler ExtremeRandomTrees                0:00:42       0.9333    0.9641\n",
      "        23   SparseNormalizer XGBoostClassifier             0:00:40       0.9385    0.9641\n",
      "        24   StandardScalerWrapper XGBoostClassifier        0:00:45       0.9179    0.9641\n",
      "        25   MinMaxScaler LightGBM                          0:00:42       0.7538    0.9641\n",
      "        26   StandardScalerWrapper XGBoostClassifier        0:00:43       0.9538    0.9641\n",
      "        27   StandardScalerWrapper SVM                      0:00:39       0.9590    0.9641\n",
      "        28   SparseNormalizer XGBoostClassifier             0:00:42       0.9282    0.9641\n",
      "        29   StandardScalerWrapper ExtremeRandomTrees       0:00:46       0.9077    0.9641\n",
      "        30   RobustScaler LightGBM                          0:00:41       0.8154    0.9641\n",
      "        31   StandardScalerWrapper LogisticRegression       0:00:42       0.8308    0.9641\n",
      "        33   StandardScalerWrapper LogisticRegression       0:00:42       0.8410    0.9641\n",
      "        32   StandardScalerWrapper LogisticRegression       0:00:56       0.8308    0.9641\n",
      "        34   StandardScalerWrapper XGBoostClassifier        0:00:42       0.9282    0.9641\n",
      "        35   SparseNormalizer LightGBM                      0:00:39       0.8769    0.9641\n",
      "        36   RobustScaler RandomForest                      0:00:44       0.9487    0.9641\n",
      "        37   StandardScalerWrapper LightGBM                 0:00:41       0.9333    0.9641\n",
      "        39   MaxAbsScaler LogisticRegression                0:00:39       0.8359    0.9641\n",
      "        38   SparseNormalizer XGBoostClassifier             0:00:44       0.9282    0.9641\n",
      "        40   MinMaxScaler LightGBM                          0:00:39       0.8974    0.9641\n",
      "        41   StandardScalerWrapper XGBoostClassifier        0:00:36       0.9487    0.9641\n",
      "        43   RobustScaler SVM                               0:00:43       0.9590    0.9641\n",
      "        42   SparseNormalizer XGBoostClassifier             0:00:50       0.9436    0.9641\n",
      "        44   SparseNormalizer XGBoostClassifier             0:00:44       0.9385    0.9641\n",
      "        45   MaxAbsScaler LightGBM                          0:00:41       0.9231    0.9641\n",
      "        46   SparseNormalizer XGBoostClassifier             0:00:51       0.9487    0.9641\n",
      "        47   SparseNormalizer XGBoostClassifier             0:00:47       0.9487    0.9641\n",
      "        48   StandardScalerWrapper GradientBoosting         0:00:44       0.9692    0.9692\n",
      "        49   MaxAbsScaler LightGBM                          0:00:45       0.7538    0.9692\n",
      "        50   SparseNormalizer XGBoostClassifier             0:00:41       0.9231    0.9692\n",
      "        51   SparseNormalizer XGBoostClassifier             0:00:48       0.9436    0.9692\n",
      "        52    VotingEnsemble                                0:01:42       0.9744    0.9744\n",
      "        53    StackEnsemble                                 0:01:39       0.9641    0.9744\n"
     ]
    }
   ],
   "source": [
    "# TODO: Submit your experiment\n",
    "auto_ml_run = experiment.submit(config = automl_config, show_output = True)\n"
   ]
  },
  {
   "cell_type": "markdown",
   "metadata": {},
   "source": [
    "## Run Details\n",
    "\n",
    "OPTIONAL: Write about the different models trained and their performance. Why do you think some models did better than others?\n",
    "\n",
    "TODO: In the cell below, use the `RunDetails` widget to show the different experiments."
   ]
  },
  {
   "cell_type": "code",
   "execution_count": 12,
   "metadata": {
    "gather": {
     "logged": 1598431121770
    },
    "jupyter": {
     "outputs_hidden": false,
     "source_hidden": false
    },
    "nteract": {
     "transient": {
      "deleting": false
     }
    }
   },
   "outputs": [
    {
     "data": {
      "application/vnd.jupyter.widget-view+json": {
       "model_id": "a2cd95e0f2e24a9aa5ca87617a8ed7a8",
       "version_major": 2,
       "version_minor": 0
      },
      "text/plain": [
       "_AutoMLWidget(widget_settings={'childWidgetDisplay': 'popup', 'send_telemetry': False, 'log_level': 'INFO', 's…"
      ]
     },
     "metadata": {},
     "output_type": "display_data"
    },
    {
     "data": {
      "application/aml.mini.widget.v1": "{\"status\": \"Completed\", \"workbench_run_details_uri\": \"https://ml.azure.com/experiments/Parkinson-classification-AutoML/runs/AutoML_a0240568-0f51-4765-ab12-51ce97260977?wsid=/subscriptions/3e42d11f-d64d-4173-af9b-12ecaa1030b3/resourcegroups/aml-quickstarts-132562/workspaces/quick-starts-ws-132562\", \"run_id\": \"AutoML_a0240568-0f51-4765-ab12-51ce97260977\", \"run_properties\": {\"run_id\": \"AutoML_a0240568-0f51-4765-ab12-51ce97260977\", \"created_utc\": \"2020-12-31T00:02:04.457728Z\", \"properties\": {\"num_iterations\": \"1000\", \"training_type\": \"TrainFull\", \"acquisition_function\": \"EI\", \"primary_metric\": \"accuracy\", \"train_split\": \"0\", \"acquisition_parameter\": \"0\", \"num_cross_validation\": \"5\", \"target\": \"cpu-cluster\", \"AMLSettingsJsonString\": \"{\\\"path\\\":null,\\\"name\\\":\\\"Parkinson-classification-AutoML\\\",\\\"subscription_id\\\":\\\"3e42d11f-d64d-4173-af9b-12ecaa1030b3\\\",\\\"resource_group\\\":\\\"aml-quickstarts-132562\\\",\\\"workspace_name\\\":\\\"quick-starts-ws-132562\\\",\\\"region\\\":\\\"southcentralus\\\",\\\"compute_target\\\":\\\"cpu-cluster\\\",\\\"spark_service\\\":null,\\\"azure_service\\\":\\\"remote\\\",\\\"many_models\\\":false,\\\"pipeline_fetch_max_batch_size\\\":1,\\\"iterations\\\":1000,\\\"primary_metric\\\":\\\"accuracy\\\",\\\"task_type\\\":\\\"classification\\\",\\\"data_script\\\":null,\\\"validation_size\\\":0.0,\\\"n_cross_validations\\\":5,\\\"y_min\\\":null,\\\"y_max\\\":null,\\\"num_classes\\\":null,\\\"featurization\\\":\\\"auto\\\",\\\"_ignore_package_version_incompatibilities\\\":false,\\\"is_timeseries\\\":false,\\\"max_cores_per_iteration\\\":1,\\\"max_concurrent_iterations\\\":4,\\\"iteration_timeout_minutes\\\":null,\\\"mem_in_mb\\\":null,\\\"enforce_time_on_windows\\\":false,\\\"experiment_timeout_minutes\\\":15,\\\"experiment_exit_score\\\":null,\\\"whitelist_models\\\":null,\\\"blacklist_algos\\\":[\\\"TensorFlowLinearClassifier\\\",\\\"TensorFlowDNN\\\"],\\\"supported_models\\\":[\\\"LightGBM\\\",\\\"SVM\\\",\\\"KNN\\\",\\\"GradientBoosting\\\",\\\"LogisticRegression\\\",\\\"XGBoostClassifier\\\",\\\"SGD\\\",\\\"AveragedPerceptronClassifier\\\",\\\"TensorFlowLinearClassifier\\\",\\\"DecisionTree\\\",\\\"RandomForest\\\",\\\"LinearSVM\\\",\\\"TensorFlowDNN\\\",\\\"ExtremeRandomTrees\\\",\\\"MultinomialNaiveBayes\\\",\\\"BernoulliNaiveBayes\\\"],\\\"auto_blacklist\\\":true,\\\"blacklist_samples_reached\\\":false,\\\"exclude_nan_labels\\\":true,\\\"verbosity\\\":20,\\\"_debug_log\\\":\\\"azureml_automl.log\\\",\\\"show_warnings\\\":false,\\\"model_explainability\\\":true,\\\"service_url\\\":null,\\\"sdk_url\\\":null,\\\"sdk_packages\\\":null,\\\"enable_onnx_compatible_models\\\":false,\\\"enable_split_onnx_featurizer_estimator_models\\\":false,\\\"vm_type\\\":\\\"STANDARD_DS3_V2\\\",\\\"telemetry_verbosity\\\":20,\\\"send_telemetry\\\":true,\\\"enable_dnn\\\":false,\\\"scenario\\\":\\\"SDK-1.13.0\\\",\\\"environment_label\\\":null,\\\"force_text_dnn\\\":false,\\\"enable_feature_sweeping\\\":true,\\\"enable_early_stopping\\\":false,\\\"early_stopping_n_iters\\\":10,\\\"metrics\\\":null,\\\"enable_ensembling\\\":true,\\\"enable_stack_ensembling\\\":true,\\\"ensemble_iterations\\\":15,\\\"enable_tf\\\":false,\\\"enable_subsampling\\\":null,\\\"subsample_seed\\\":null,\\\"enable_nimbusml\\\":false,\\\"enable_streaming\\\":false,\\\"force_streaming\\\":false,\\\"track_child_runs\\\":true,\\\"allowed_private_models\\\":[],\\\"label_column_name\\\":\\\"status\\\",\\\"weight_column_name\\\":null,\\\"cv_split_column_names\\\":null,\\\"enable_local_managed\\\":false,\\\"_local_managed_run_id\\\":null,\\\"cost_mode\\\":1,\\\"lag_length\\\":0,\\\"metric_operation\\\":\\\"maximize\\\",\\\"preprocess\\\":true}\", \"DataPrepJsonString\": \"{\\\\\\\"training_data\\\\\\\": \\\\\\\"{\\\\\\\\\\\\\\\"blocks\\\\\\\\\\\\\\\": [{\\\\\\\\\\\\\\\"id\\\\\\\\\\\\\\\": \\\\\\\\\\\\\\\"fed87274-db85-49fc-a59e-beb8273b1b71\\\\\\\\\\\\\\\", \\\\\\\\\\\\\\\"type\\\\\\\\\\\\\\\": \\\\\\\\\\\\\\\"Microsoft.DPrep.GetDatastoreFilesBlock\\\\\\\\\\\\\\\", \\\\\\\\\\\\\\\"arguments\\\\\\\\\\\\\\\": {\\\\\\\\\\\\\\\"datastores\\\\\\\\\\\\\\\": [{\\\\\\\\\\\\\\\"datastoreName\\\\\\\\\\\\\\\": \\\\\\\\\\\\\\\"workspaceblobstore\\\\\\\\\\\\\\\", \\\\\\\\\\\\\\\"path\\\\\\\\\\\\\\\": \\\\\\\\\\\\\\\"data/training_dataset.csv\\\\\\\\\\\\\\\", \\\\\\\\\\\\\\\"resourceGroup\\\\\\\\\\\\\\\": \\\\\\\\\\\\\\\"aml-quickstarts-132562\\\\\\\\\\\\\\\", \\\\\\\\\\\\\\\"subscription\\\\\\\\\\\\\\\": \\\\\\\\\\\\\\\"3e42d11f-d64d-4173-af9b-12ecaa1030b3\\\\\\\\\\\\\\\", \\\\\\\\\\\\\\\"workspaceName\\\\\\\\\\\\\\\": \\\\\\\\\\\\\\\"quick-starts-ws-132562\\\\\\\\\\\\\\\"}]}, \\\\\\\\\\\\\\\"localData\\\\\\\\\\\\\\\": {}, \\\\\\\\\\\\\\\"isEnabled\\\\\\\\\\\\\\\": true, \\\\\\\\\\\\\\\"name\\\\\\\\\\\\\\\": null, \\\\\\\\\\\\\\\"annotation\\\\\\\\\\\\\\\": null}, {\\\\\\\\\\\\\\\"id\\\\\\\\\\\\\\\": \\\\\\\\\\\\\\\"fd71824f-d33c-4c89-b0bc-8a64aa6c8530\\\\\\\\\\\\\\\", \\\\\\\\\\\\\\\"type\\\\\\\\\\\\\\\": \\\\\\\\\\\\\\\"Microsoft.DPrep.ParseDelimitedBlock\\\\\\\\\\\\\\\", \\\\\\\\\\\\\\\"arguments\\\\\\\\\\\\\\\": {\\\\\\\\\\\\\\\"columnHeadersMode\\\\\\\\\\\\\\\": 3, \\\\\\\\\\\\\\\"fileEncoding\\\\\\\\\\\\\\\": 0, \\\\\\\\\\\\\\\"handleQuotedLineBreaks\\\\\\\\\\\\\\\": false, \\\\\\\\\\\\\\\"preview\\\\\\\\\\\\\\\": false, \\\\\\\\\\\\\\\"separator\\\\\\\\\\\\\\\": \\\\\\\\\\\\\\\",\\\\\\\\\\\\\\\", \\\\\\\\\\\\\\\"skipRows\\\\\\\\\\\\\\\": 0, \\\\\\\\\\\\\\\"skipRowsMode\\\\\\\\\\\\\\\": 0}, \\\\\\\\\\\\\\\"localData\\\\\\\\\\\\\\\": {}, \\\\\\\\\\\\\\\"isEnabled\\\\\\\\\\\\\\\": true, \\\\\\\\\\\\\\\"name\\\\\\\\\\\\\\\": null, \\\\\\\\\\\\\\\"annotation\\\\\\\\\\\\\\\": null}, {\\\\\\\\\\\\\\\"id\\\\\\\\\\\\\\\": \\\\\\\\\\\\\\\"632b6259-de9b-49fc-a0d1-057d1ab7501e\\\\\\\\\\\\\\\", \\\\\\\\\\\\\\\"type\\\\\\\\\\\\\\\": \\\\\\\\\\\\\\\"Microsoft.DPrep.DropColumnsBlock\\\\\\\\\\\\\\\", \\\\\\\\\\\\\\\"arguments\\\\\\\\\\\\\\\": {\\\\\\\\\\\\\\\"columns\\\\\\\\\\\\\\\": {\\\\\\\\\\\\\\\"type\\\\\\\\\\\\\\\": 0, \\\\\\\\\\\\\\\"details\\\\\\\\\\\\\\\": {\\\\\\\\\\\\\\\"selectedColumns\\\\\\\\\\\\\\\": [\\\\\\\\\\\\\\\"Path\\\\\\\\\\\\\\\"]}}}, \\\\\\\\\\\\\\\"localData\\\\\\\\\\\\\\\": {}, \\\\\\\\\\\\\\\"isEnabled\\\\\\\\\\\\\\\": true, \\\\\\\\\\\\\\\"name\\\\\\\\\\\\\\\": null, \\\\\\\\\\\\\\\"annotation\\\\\\\\\\\\\\\": null}, {\\\\\\\\\\\\\\\"id\\\\\\\\\\\\\\\": \\\\\\\\\\\\\\\"07c3066c-dfbb-4bef-8a8c-1bacb6f4346f\\\\\\\\\\\\\\\", \\\\\\\\\\\\\\\"type\\\\\\\\\\\\\\\": \\\\\\\\\\\\\\\"Microsoft.DPrep.SetColumnTypesBlock\\\\\\\\\\\\\\\", \\\\\\\\\\\\\\\"arguments\\\\\\\\\\\\\\\": {\\\\\\\\\\\\\\\"columnConversion\\\\\\\\\\\\\\\": [{\\\\\\\\\\\\\\\"column\\\\\\\\\\\\\\\": {\\\\\\\\\\\\\\\"type\\\\\\\\\\\\\\\": 2, \\\\\\\\\\\\\\\"details\\\\\\\\\\\\\\\": {\\\\\\\\\\\\\\\"selectedColumn\\\\\\\\\\\\\\\": \\\\\\\\\\\\\\\"Column1\\\\\\\\\\\\\\\"}}, \\\\\\\\\\\\\\\"typeProperty\\\\\\\\\\\\\\\": 2}, {\\\\\\\\\\\\\\\"column\\\\\\\\\\\\\\\": {\\\\\\\\\\\\\\\"type\\\\\\\\\\\\\\\": 2, \\\\\\\\\\\\\\\"details\\\\\\\\\\\\\\\": {\\\\\\\\\\\\\\\"selectedColumn\\\\\\\\\\\\\\\": \\\\\\\\\\\\\\\"name\\\\\\\\\\\\\\\"}}, \\\\\\\\\\\\\\\"typeProperty\\\\\\\\\\\\\\\": 0}, {\\\\\\\\\\\\\\\"column\\\\\\\\\\\\\\\": {\\\\\\\\\\\\\\\"type\\\\\\\\\\\\\\\": 2, \\\\\\\\\\\\\\\"details\\\\\\\\\\\\\\\": {\\\\\\\\\\\\\\\"selectedColumn\\\\\\\\\\\\\\\": \\\\\\\\\\\\\\\"MDVP:Fo(Hz)\\\\\\\\\\\\\\\"}}, \\\\\\\\\\\\\\\"typeProperty\\\\\\\\\\\\\\\": 3}, {\\\\\\\\\\\\\\\"column\\\\\\\\\\\\\\\": {\\\\\\\\\\\\\\\"type\\\\\\\\\\\\\\\": 2, \\\\\\\\\\\\\\\"details\\\\\\\\\\\\\\\": {\\\\\\\\\\\\\\\"selectedColumn\\\\\\\\\\\\\\\": \\\\\\\\\\\\\\\"MDVP:Fhi(Hz)\\\\\\\\\\\\\\\"}}, \\\\\\\\\\\\\\\"typeProperty\\\\\\\\\\\\\\\": 3}, {\\\\\\\\\\\\\\\"column\\\\\\\\\\\\\\\": {\\\\\\\\\\\\\\\"type\\\\\\\\\\\\\\\": 2, \\\\\\\\\\\\\\\"details\\\\\\\\\\\\\\\": {\\\\\\\\\\\\\\\"selectedColumn\\\\\\\\\\\\\\\": \\\\\\\\\\\\\\\"MDVP:Flo(Hz)\\\\\\\\\\\\\\\"}}, \\\\\\\\\\\\\\\"typeProperty\\\\\\\\\\\\\\\": 3}, {\\\\\\\\\\\\\\\"column\\\\\\\\\\\\\\\": {\\\\\\\\\\\\\\\"type\\\\\\\\\\\\\\\": 2, \\\\\\\\\\\\\\\"details\\\\\\\\\\\\\\\": {\\\\\\\\\\\\\\\"selectedColumn\\\\\\\\\\\\\\\": \\\\\\\\\\\\\\\"MDVP:Jitter(%)\\\\\\\\\\\\\\\"}}, \\\\\\\\\\\\\\\"typeProperty\\\\\\\\\\\\\\\": 3}, {\\\\\\\\\\\\\\\"column\\\\\\\\\\\\\\\": {\\\\\\\\\\\\\\\"type\\\\\\\\\\\\\\\": 2, \\\\\\\\\\\\\\\"details\\\\\\\\\\\\\\\": {\\\\\\\\\\\\\\\"selectedColumn\\\\\\\\\\\\\\\": \\\\\\\\\\\\\\\"MDVP:Jitter(Abs)\\\\\\\\\\\\\\\"}}, \\\\\\\\\\\\\\\"typeProperty\\\\\\\\\\\\\\\": 3}, {\\\\\\\\\\\\\\\"column\\\\\\\\\\\\\\\": {\\\\\\\\\\\\\\\"type\\\\\\\\\\\\\\\": 2, \\\\\\\\\\\\\\\"details\\\\\\\\\\\\\\\": {\\\\\\\\\\\\\\\"selectedColumn\\\\\\\\\\\\\\\": \\\\\\\\\\\\\\\"MDVP:RAP\\\\\\\\\\\\\\\"}}, \\\\\\\\\\\\\\\"typeProperty\\\\\\\\\\\\\\\": 3}, {\\\\\\\\\\\\\\\"column\\\\\\\\\\\\\\\": {\\\\\\\\\\\\\\\"type\\\\\\\\\\\\\\\": 2, \\\\\\\\\\\\\\\"details\\\\\\\\\\\\\\\": {\\\\\\\\\\\\\\\"selectedColumn\\\\\\\\\\\\\\\": \\\\\\\\\\\\\\\"MDVP:PPQ\\\\\\\\\\\\\\\"}}, \\\\\\\\\\\\\\\"typeProperty\\\\\\\\\\\\\\\": 3}, {\\\\\\\\\\\\\\\"column\\\\\\\\\\\\\\\": {\\\\\\\\\\\\\\\"type\\\\\\\\\\\\\\\": 2, \\\\\\\\\\\\\\\"details\\\\\\\\\\\\\\\": {\\\\\\\\\\\\\\\"selectedColumn\\\\\\\\\\\\\\\": \\\\\\\\\\\\\\\"Jitter:DDP\\\\\\\\\\\\\\\"}}, \\\\\\\\\\\\\\\"typeProperty\\\\\\\\\\\\\\\": 3}, {\\\\\\\\\\\\\\\"column\\\\\\\\\\\\\\\": {\\\\\\\\\\\\\\\"type\\\\\\\\\\\\\\\": 2, \\\\\\\\\\\\\\\"details\\\\\\\\\\\\\\\": {\\\\\\\\\\\\\\\"selectedColumn\\\\\\\\\\\\\\\": \\\\\\\\\\\\\\\"MDVP:Shimmer\\\\\\\\\\\\\\\"}}, \\\\\\\\\\\\\\\"typeProperty\\\\\\\\\\\\\\\": 3}, {\\\\\\\\\\\\\\\"column\\\\\\\\\\\\\\\": {\\\\\\\\\\\\\\\"type\\\\\\\\\\\\\\\": 2, \\\\\\\\\\\\\\\"details\\\\\\\\\\\\\\\": {\\\\\\\\\\\\\\\"selectedColumn\\\\\\\\\\\\\\\": \\\\\\\\\\\\\\\"MDVP:Shimmer(dB)\\\\\\\\\\\\\\\"}}, \\\\\\\\\\\\\\\"typeProperty\\\\\\\\\\\\\\\": 3}, {\\\\\\\\\\\\\\\"column\\\\\\\\\\\\\\\": {\\\\\\\\\\\\\\\"type\\\\\\\\\\\\\\\": 2, \\\\\\\\\\\\\\\"details\\\\\\\\\\\\\\\": {\\\\\\\\\\\\\\\"selectedColumn\\\\\\\\\\\\\\\": \\\\\\\\\\\\\\\"Shimmer:APQ3\\\\\\\\\\\\\\\"}}, \\\\\\\\\\\\\\\"typeProperty\\\\\\\\\\\\\\\": 3}, {\\\\\\\\\\\\\\\"column\\\\\\\\\\\\\\\": {\\\\\\\\\\\\\\\"type\\\\\\\\\\\\\\\": 2, \\\\\\\\\\\\\\\"details\\\\\\\\\\\\\\\": {\\\\\\\\\\\\\\\"selectedColumn\\\\\\\\\\\\\\\": \\\\\\\\\\\\\\\"Shimmer:APQ5\\\\\\\\\\\\\\\"}}, \\\\\\\\\\\\\\\"typeProperty\\\\\\\\\\\\\\\": 3}, {\\\\\\\\\\\\\\\"column\\\\\\\\\\\\\\\": {\\\\\\\\\\\\\\\"type\\\\\\\\\\\\\\\": 2, \\\\\\\\\\\\\\\"details\\\\\\\\\\\\\\\": {\\\\\\\\\\\\\\\"selectedColumn\\\\\\\\\\\\\\\": \\\\\\\\\\\\\\\"MDVP:APQ\\\\\\\\\\\\\\\"}}, \\\\\\\\\\\\\\\"typeProperty\\\\\\\\\\\\\\\": 3}, {\\\\\\\\\\\\\\\"column\\\\\\\\\\\\\\\": {\\\\\\\\\\\\\\\"type\\\\\\\\\\\\\\\": 2, \\\\\\\\\\\\\\\"details\\\\\\\\\\\\\\\": {\\\\\\\\\\\\\\\"selectedColumn\\\\\\\\\\\\\\\": \\\\\\\\\\\\\\\"Shimmer:DDA\\\\\\\\\\\\\\\"}}, \\\\\\\\\\\\\\\"typeProperty\\\\\\\\\\\\\\\": 3}, {\\\\\\\\\\\\\\\"column\\\\\\\\\\\\\\\": {\\\\\\\\\\\\\\\"type\\\\\\\\\\\\\\\": 2, \\\\\\\\\\\\\\\"details\\\\\\\\\\\\\\\": {\\\\\\\\\\\\\\\"selectedColumn\\\\\\\\\\\\\\\": \\\\\\\\\\\\\\\"NHR\\\\\\\\\\\\\\\"}}, \\\\\\\\\\\\\\\"typeProperty\\\\\\\\\\\\\\\": 3}, {\\\\\\\\\\\\\\\"column\\\\\\\\\\\\\\\": {\\\\\\\\\\\\\\\"type\\\\\\\\\\\\\\\": 2, \\\\\\\\\\\\\\\"details\\\\\\\\\\\\\\\": {\\\\\\\\\\\\\\\"selectedColumn\\\\\\\\\\\\\\\": \\\\\\\\\\\\\\\"HNR\\\\\\\\\\\\\\\"}}, \\\\\\\\\\\\\\\"typeProperty\\\\\\\\\\\\\\\": 3}, {\\\\\\\\\\\\\\\"column\\\\\\\\\\\\\\\": {\\\\\\\\\\\\\\\"type\\\\\\\\\\\\\\\": 2, \\\\\\\\\\\\\\\"details\\\\\\\\\\\\\\\": {\\\\\\\\\\\\\\\"selectedColumn\\\\\\\\\\\\\\\": \\\\\\\\\\\\\\\"status\\\\\\\\\\\\\\\"}}, \\\\\\\\\\\\\\\"typeProperty\\\\\\\\\\\\\\\": 2}, {\\\\\\\\\\\\\\\"column\\\\\\\\\\\\\\\": {\\\\\\\\\\\\\\\"type\\\\\\\\\\\\\\\": 2, \\\\\\\\\\\\\\\"details\\\\\\\\\\\\\\\": {\\\\\\\\\\\\\\\"selectedColumn\\\\\\\\\\\\\\\": \\\\\\\\\\\\\\\"RPDE\\\\\\\\\\\\\\\"}}, \\\\\\\\\\\\\\\"typeProperty\\\\\\\\\\\\\\\": 3}, {\\\\\\\\\\\\\\\"column\\\\\\\\\\\\\\\": {\\\\\\\\\\\\\\\"type\\\\\\\\\\\\\\\": 2, \\\\\\\\\\\\\\\"details\\\\\\\\\\\\\\\": {\\\\\\\\\\\\\\\"selectedColumn\\\\\\\\\\\\\\\": \\\\\\\\\\\\\\\"DFA\\\\\\\\\\\\\\\"}}, \\\\\\\\\\\\\\\"typeProperty\\\\\\\\\\\\\\\": 3}, {\\\\\\\\\\\\\\\"column\\\\\\\\\\\\\\\": {\\\\\\\\\\\\\\\"type\\\\\\\\\\\\\\\": 2, \\\\\\\\\\\\\\\"details\\\\\\\\\\\\\\\": {\\\\\\\\\\\\\\\"selectedColumn\\\\\\\\\\\\\\\": \\\\\\\\\\\\\\\"spread1\\\\\\\\\\\\\\\"}}, \\\\\\\\\\\\\\\"typeProperty\\\\\\\\\\\\\\\": 3}, {\\\\\\\\\\\\\\\"column\\\\\\\\\\\\\\\": {\\\\\\\\\\\\\\\"type\\\\\\\\\\\\\\\": 2, \\\\\\\\\\\\\\\"details\\\\\\\\\\\\\\\": {\\\\\\\\\\\\\\\"selectedColumn\\\\\\\\\\\\\\\": \\\\\\\\\\\\\\\"spread2\\\\\\\\\\\\\\\"}}, \\\\\\\\\\\\\\\"typeProperty\\\\\\\\\\\\\\\": 3}, {\\\\\\\\\\\\\\\"column\\\\\\\\\\\\\\\": {\\\\\\\\\\\\\\\"type\\\\\\\\\\\\\\\": 2, \\\\\\\\\\\\\\\"details\\\\\\\\\\\\\\\": {\\\\\\\\\\\\\\\"selectedColumn\\\\\\\\\\\\\\\": \\\\\\\\\\\\\\\"D2\\\\\\\\\\\\\\\"}}, \\\\\\\\\\\\\\\"typeProperty\\\\\\\\\\\\\\\": 3}, {\\\\\\\\\\\\\\\"column\\\\\\\\\\\\\\\": {\\\\\\\\\\\\\\\"type\\\\\\\\\\\\\\\": 2, \\\\\\\\\\\\\\\"details\\\\\\\\\\\\\\\": {\\\\\\\\\\\\\\\"selectedColumn\\\\\\\\\\\\\\\": \\\\\\\\\\\\\\\"PPE\\\\\\\\\\\\\\\"}}, \\\\\\\\\\\\\\\"typeProperty\\\\\\\\\\\\\\\": 3}]}, \\\\\\\\\\\\\\\"localData\\\\\\\\\\\\\\\": {}, \\\\\\\\\\\\\\\"isEnabled\\\\\\\\\\\\\\\": true, \\\\\\\\\\\\\\\"name\\\\\\\\\\\\\\\": null, \\\\\\\\\\\\\\\"annotation\\\\\\\\\\\\\\\": null}], \\\\\\\\\\\\\\\"inspectors\\\\\\\\\\\\\\\": [], \\\\\\\\\\\\\\\"meta\\\\\\\\\\\\\\\": {\\\\\\\\\\\\\\\"savedDatasetId\\\\\\\\\\\\\\\": \\\\\\\\\\\\\\\"b23cf7a4-08b2-47fc-b6c2-58ef89396cc1\\\\\\\\\\\\\\\", \\\\\\\\\\\\\\\"datasetType\\\\\\\\\\\\\\\": \\\\\\\\\\\\\\\"tabular\\\\\\\\\\\\\\\", \\\\\\\\\\\\\\\"subscriptionId\\\\\\\\\\\\\\\": \\\\\\\\\\\\\\\"3e42d11f-d64d-4173-af9b-12ecaa1030b3\\\\\\\\\\\\\\\", \\\\\\\\\\\\\\\"workspaceId\\\\\\\\\\\\\\\": \\\\\\\\\\\\\\\"82c0c143-4f77-4a1f-807f-989efa8d27ac\\\\\\\\\\\\\\\", \\\\\\\\\\\\\\\"workspaceLocation\\\\\\\\\\\\\\\": \\\\\\\\\\\\\\\"southcentralus\\\\\\\\\\\\\\\"}}\\\\\\\", \\\\\\\"activities\\\\\\\": 0}\", \"EnableSubsampling\": null, \"runTemplate\": \"AutoML\", \"azureml.runsource\": \"automl\", \"display_task_type\": \"classification\", \"dependencies_versions\": \"{\\\"azureml-widgets\\\": \\\"1.19.0\\\", \\\"azureml-train\\\": \\\"1.19.0\\\", \\\"azureml-train-restclients-hyperdrive\\\": \\\"1.19.0\\\", \\\"azureml-train-core\\\": \\\"1.19.0\\\", \\\"azureml-train-automl\\\": \\\"1.19.0\\\", \\\"azureml-train-automl-runtime\\\": \\\"1.19.0\\\", \\\"azureml-train-automl-client\\\": \\\"1.19.0\\\", \\\"azureml-tensorboard\\\": \\\"1.19.0\\\", \\\"azureml-telemetry\\\": \\\"1.19.0\\\", \\\"azureml-sdk\\\": \\\"1.19.0\\\", \\\"azureml-samples\\\": \\\"0+unknown\\\", \\\"azureml-pipeline\\\": \\\"1.19.0\\\", \\\"azureml-pipeline-steps\\\": \\\"1.19.0\\\", \\\"azureml-pipeline-core\\\": \\\"1.19.0\\\", \\\"azureml-opendatasets\\\": \\\"1.19.0\\\", \\\"azureml-model-management-sdk\\\": \\\"1.0.1b6.post1\\\", \\\"azureml-mlflow\\\": \\\"1.19.0\\\", \\\"azureml-interpret\\\": \\\"1.19.0\\\", \\\"azureml-explain-model\\\": \\\"1.19.0\\\", \\\"azureml-defaults\\\": \\\"1.19.0\\\", \\\"azureml-dataset-runtime\\\": \\\"1.19.0\\\", \\\"azureml-dataprep\\\": \\\"2.6.1\\\", \\\"azureml-dataprep-rslex\\\": \\\"1.4.0\\\", \\\"azureml-dataprep-native\\\": \\\"26.0.0\\\", \\\"azureml-datadrift\\\": \\\"1.19.0\\\", \\\"azureml-core\\\": \\\"1.19.0\\\", \\\"azureml-contrib-services\\\": \\\"1.19.0\\\", \\\"azureml-contrib-server\\\": \\\"1.19.0\\\", \\\"azureml-contrib-reinforcementlearning\\\": \\\"1.19.0\\\", \\\"azureml-contrib-pipeline-steps\\\": \\\"1.19.0\\\", \\\"azureml-contrib-notebook\\\": \\\"1.19.0\\\", \\\"azureml-contrib-interpret\\\": \\\"1.19.0\\\", \\\"azureml-contrib-gbdt\\\": \\\"1.19.0\\\", \\\"azureml-contrib-fairness\\\": \\\"1.19.0\\\", \\\"azureml-contrib-dataset\\\": \\\"1.19.0\\\", \\\"azureml-cli-common\\\": \\\"1.19.0\\\", \\\"azureml-automl-runtime\\\": \\\"1.19.0\\\", \\\"azureml-automl-core\\\": \\\"1.19.0\\\", \\\"azureml-accel-models\\\": \\\"1.19.0\\\"}\", \"_aml_system_scenario_identification\": \"Remote.Parent\", \"ClientType\": \"SDK\", \"environment_cpu_name\": \"AzureML-AutoML\", \"environment_cpu_label\": \"prod\", \"environment_gpu_name\": \"AzureML-AutoML-GPU\", \"environment_gpu_label\": \"prod\", \"root_attribution\": \"automl\", \"attribution\": \"AutoML\", \"Orchestrator\": \"AutoML\", \"CancelUri\": \"https://southcentralus.experiments.azureml.net/jasmine/v1.0/subscriptions/3e42d11f-d64d-4173-af9b-12ecaa1030b3/resourceGroups/aml-quickstarts-132562/providers/Microsoft.MachineLearningServices/workspaces/quick-starts-ws-132562/experimentids/f70c8548-11fb-43e4-b348-59c974425f45/cancel/AutoML_a0240568-0f51-4765-ab12-51ce97260977\", \"ClientSdkVersion\": \"1.19.0\", \"snapshotId\": \"00000000-0000-0000-0000-000000000000\", \"SetupRunId\": \"AutoML_a0240568-0f51-4765-ab12-51ce97260977_setup\", \"SetupRunContainerId\": \"dcid.AutoML_a0240568-0f51-4765-ab12-51ce97260977_setup\", \"FeaturizationRunJsonPath\": \"featurizer_container.json\", \"FeaturizationRunId\": \"AutoML_a0240568-0f51-4765-ab12-51ce97260977_featurize\", \"ProblemInfoJsonString\": \"{\\\"dataset_num_categorical\\\": 0, \\\"is_sparse\\\": false, \\\"subsampling\\\": false, \\\"dataset_classes\\\": 2, \\\"dataset_features\\\": 23, \\\"dataset_samples\\\": 195, \\\"single_frequency_class_detected\\\": false}\", \"ModelExplainRunId\": \"AutoML_a0240568-0f51-4765-ab12-51ce97260977_ModelExplain\"}, \"tags\": {\"model_explain_run\": \"best_run\", \"_aml_system_azureml.automlComponent\": \"AutoML\", \"pipeline_id\": \"\", \"score\": \"\", \"predicted_cost\": \"\", \"fit_time\": \"\", \"training_percent\": \"\", \"iteration\": \"\", \"run_preprocessor\": \"\", \"run_algorithm\": \"\", \"dynamic_whitelisting_iterations\": \"<25>;<30>;<35>;<40>;<45>;<49>;\", \"automl_best_child_run_id\": \"AutoML_a0240568-0f51-4765-ab12-51ce97260977_52\"}, \"end_time_utc\": \"2020-12-31T00:26:59.27174Z\", \"status\": \"Completed\", \"log_files\": {}, \"log_groups\": [], \"run_duration\": \"0:24:54\"}, \"child_runs\": [{\"run_id\": \"AutoML_a0240568-0f51-4765-ab12-51ce97260977_0\", \"run_number\": 8, \"metric\": null, \"status\": \"Completed\", \"run_type\": \"azureml.scriptrun\", \"training_percent\": \"100\", \"start_time\": \"2020-12-31T00:09:06.944386Z\", \"end_time\": \"2020-12-31T00:09:51.857094Z\", \"created_time\": \"2020-12-31T00:08:55.856015Z\", \"created_time_dt\": \"2020-12-31T00:08:55.856015Z\", \"duration\": \"0:00:56\", \"iteration\": \"0\", \"goal\": \"accuracy_max\", \"run_name\": \"MaxAbsScaler, LightGBM\", \"run_properties\": \"copy=True\", \"primary_metric\": 0.96410256, \"best_metric\": 0.96410256}, {\"run_id\": \"AutoML_a0240568-0f51-4765-ab12-51ce97260977_1\", \"run_number\": 9, \"metric\": null, \"status\": \"Completed\", \"run_type\": \"azureml.scriptrun\", \"training_percent\": \"100\", \"start_time\": \"2020-12-31T00:11:42.004541Z\", \"end_time\": \"2020-12-31T00:12:26.265297Z\", \"created_time\": \"2020-12-31T00:08:55.859723Z\", \"created_time_dt\": \"2020-12-31T00:08:55.859723Z\", \"duration\": \"0:03:30\", \"iteration\": \"1\", \"goal\": \"accuracy_max\", \"run_name\": \"MaxAbsScaler, XGBoostClassifier\", \"run_properties\": \"copy=True\", \"primary_metric\": 0.96410256, \"best_metric\": 0.96410256}, {\"run_id\": \"AutoML_a0240568-0f51-4765-ab12-51ce97260977_2\", \"run_number\": 10, \"metric\": null, \"status\": \"Completed\", \"run_type\": \"azureml.scriptrun\", \"training_percent\": \"100\", \"start_time\": \"2020-12-31T00:10:48.683566Z\", \"end_time\": \"2020-12-31T00:11:33.182785Z\", \"created_time\": \"2020-12-31T00:08:55.989036Z\", \"created_time_dt\": \"2020-12-31T00:08:55.989036Z\", \"duration\": \"0:02:37\", \"iteration\": \"2\", \"goal\": \"accuracy_max\", \"run_name\": \"MinMaxScaler, RandomForest\", \"run_properties\": \"copy=True, feature_range=(0, 1\", \"primary_metric\": 0.91282051, \"best_metric\": 0.96410256}, {\"run_id\": \"AutoML_a0240568-0f51-4765-ab12-51ce97260977_3\", \"run_number\": 11, \"metric\": null, \"status\": \"Completed\", \"run_type\": \"azureml.scriptrun\", \"training_percent\": \"100\", \"start_time\": \"2020-12-31T00:09:57.08804Z\", \"end_time\": \"2020-12-31T00:10:43.584263Z\", \"created_time\": \"2020-12-31T00:08:56.250966Z\", \"created_time_dt\": \"2020-12-31T00:08:56.250966Z\", \"duration\": \"0:01:47\", \"iteration\": \"3\", \"goal\": \"accuracy_max\", \"run_name\": \"MinMaxScaler, RandomForest\", \"run_properties\": \"copy=True, feature_range=(0, 1\", \"primary_metric\": 0.87692308, \"best_metric\": 0.96410256}, {\"run_id\": \"AutoML_a0240568-0f51-4765-ab12-51ce97260977_4\", \"run_number\": 12, \"metric\": null, \"status\": \"Completed\", \"run_type\": \"azureml.scriptrun\", \"training_percent\": \"100\", \"start_time\": \"2020-12-31T00:11:47.509439Z\", \"end_time\": \"2020-12-31T00:13:41.429061Z\", \"created_time\": \"2020-12-31T00:09:55.281172Z\", \"created_time_dt\": \"2020-12-31T00:09:55.281172Z\", \"duration\": \"0:03:46\", \"iteration\": \"4\", \"goal\": \"accuracy_max\", \"run_name\": \"MinMaxScaler, RandomForest\", \"run_properties\": \"copy=True, feature_range=(0, 1\", \"primary_metric\": 0.91282051, \"best_metric\": 0.96410256}, {\"run_id\": \"AutoML_a0240568-0f51-4765-ab12-51ce97260977_5\", \"run_number\": 13, \"metric\": null, \"status\": \"Completed\", \"run_type\": \"azureml.scriptrun\", \"training_percent\": \"100\", \"start_time\": \"2020-12-31T00:11:45.301302Z\", \"end_time\": \"2020-12-31T00:13:39.784076Z\", \"created_time\": \"2020-12-31T00:10:48.123373Z\", \"created_time_dt\": \"2020-12-31T00:10:48.123373Z\", \"duration\": \"0:02:51\", \"iteration\": \"5\", \"goal\": \"accuracy_max\", \"run_name\": \"RobustScaler, ExtremeRandomTrees\", \"run_properties\": \"copy=True, quantile_range=[10, 90], with_centering=False,\\n             with_scaling=False\", \"primary_metric\": 0.85641026, \"best_metric\": 0.96410256}, {\"run_id\": \"AutoML_a0240568-0f51-4765-ab12-51ce97260977_6\", \"run_number\": 14, \"metric\": null, \"status\": \"Completed\", \"run_type\": \"azureml.scriptrun\", \"training_percent\": \"100\", \"start_time\": \"2020-12-31T00:11:49.355889Z\", \"end_time\": \"2020-12-31T00:13:44.928295Z\", \"created_time\": \"2020-12-31T00:11:37.18682Z\", \"created_time_dt\": \"2020-12-31T00:11:37.18682Z\", \"duration\": \"0:02:07\", \"iteration\": \"6\", \"goal\": \"accuracy_max\", \"run_name\": \"MinMaxScaler, SVM\", \"run_properties\": \"copy=True, feature_range=(0, 1\", \"primary_metric\": 0.95897436, \"best_metric\": 0.96410256}, {\"run_id\": \"AutoML_a0240568-0f51-4765-ab12-51ce97260977_7\", \"run_number\": 15, \"metric\": null, \"status\": \"Completed\", \"run_type\": \"azureml.scriptrun\", \"training_percent\": \"100\", \"start_time\": \"2020-12-31T00:12:44.184872Z\", \"end_time\": \"2020-12-31T00:13:22.646383Z\", \"created_time\": \"2020-12-31T00:12:29.073885Z\", \"created_time_dt\": \"2020-12-31T00:12:29.073885Z\", \"duration\": \"0:00:53\", \"iteration\": \"7\", \"goal\": \"accuracy_max\", \"run_name\": \"MinMaxScaler, SVM\", \"run_properties\": \"copy=True, feature_range=(0, 1\", \"primary_metric\": 0.95897436, \"best_metric\": 0.96410256}, {\"run_id\": \"AutoML_a0240568-0f51-4765-ab12-51ce97260977_8\", \"run_number\": 16, \"metric\": null, \"status\": \"Completed\", \"run_type\": \"azureml.scriptrun\", \"training_percent\": \"100\", \"start_time\": \"2020-12-31T00:13:38.724115Z\", \"end_time\": \"2020-12-31T00:14:26.381845Z\", \"created_time\": \"2020-12-31T00:13:25.358115Z\", \"created_time_dt\": \"2020-12-31T00:13:25.358115Z\", \"duration\": \"0:01:01\", \"iteration\": \"8\", \"goal\": \"accuracy_max\", \"run_name\": \"SparseNormalizer, XGBoostClassifier\", \"run_properties\": \"<azureml.automl.runtime.shared.model_wrappers.SparseNormalizer object at 0x7faf4c06a5c0\", \"primary_metric\": 0.94358974, \"best_metric\": 0.96410256}, {\"run_id\": \"AutoML_a0240568-0f51-4765-ab12-51ce97260977_9\", \"run_number\": 17, \"metric\": null, \"status\": \"Completed\", \"run_type\": \"azureml.scriptrun\", \"training_percent\": \"100\", \"start_time\": \"2020-12-31T00:13:55.264669Z\", \"end_time\": \"2020-12-31T00:14:39.205672Z\", \"created_time\": \"2020-12-31T00:13:42.73868Z\", \"created_time_dt\": \"2020-12-31T00:13:42.73868Z\", \"duration\": \"0:00:56\", \"iteration\": \"9\", \"goal\": \"accuracy_max\", \"run_name\": \"StandardScalerWrapper, LightGBM\", \"run_properties\": \"<azureml.automl.runtime.shared.model_wrappers.StandardScalerWrapper object at 0x7f0e53518240\", \"primary_metric\": 0.93846154, \"best_metric\": 0.96410256}, {\"run_id\": \"AutoML_a0240568-0f51-4765-ab12-51ce97260977_11\", \"run_number\": 18, \"metric\": null, \"status\": \"Completed\", \"run_type\": \"azureml.scriptrun\", \"training_percent\": \"100\", \"start_time\": \"2020-12-31T00:14:02.344561Z\", \"end_time\": \"2020-12-31T00:14:45.487783Z\", \"created_time\": \"2020-12-31T00:13:49.395074Z\", \"created_time_dt\": \"2020-12-31T00:13:49.395074Z\", \"duration\": \"0:00:56\", \"iteration\": \"11\", \"goal\": \"accuracy_max\", \"run_name\": \"SparseNormalizer, XGBoostClassifier\", \"run_properties\": \"<azureml.automl.runtime.shared.model_wrappers.SparseNormalizer object at 0x7fd5fdce4908\", \"primary_metric\": 0.89230769, \"best_metric\": 0.96410256}, {\"run_id\": \"AutoML_a0240568-0f51-4765-ab12-51ce97260977_10\", \"run_number\": 19, \"metric\": null, \"status\": \"Completed\", \"run_type\": \"azureml.scriptrun\", \"training_percent\": \"100\", \"start_time\": \"2020-12-31T00:14:01.999612Z\", \"end_time\": \"2020-12-31T00:14:44.9328Z\", \"created_time\": \"2020-12-31T00:13:49.574992Z\", \"created_time_dt\": \"2020-12-31T00:13:49.574992Z\", \"duration\": \"0:00:55\", \"iteration\": \"10\", \"goal\": \"accuracy_max\", \"run_name\": \"MaxAbsScaler, GradientBoosting\", \"run_properties\": \"copy=True\", \"primary_metric\": 0.95897436, \"best_metric\": 0.96410256}, {\"run_id\": \"AutoML_a0240568-0f51-4765-ab12-51ce97260977_12\", \"run_number\": 20, \"metric\": null, \"status\": \"Completed\", \"run_type\": \"azureml.scriptrun\", \"training_percent\": \"100\", \"start_time\": \"2020-12-31T00:14:41.83291Z\", \"end_time\": \"2020-12-31T00:15:24.682016Z\", \"created_time\": \"2020-12-31T00:14:30.209211Z\", \"created_time_dt\": \"2020-12-31T00:14:30.209211Z\", \"duration\": \"0:00:54\", \"iteration\": \"12\", \"goal\": \"accuracy_max\", \"run_name\": \"StandardScalerWrapper, RandomForest\", \"run_properties\": \"<azureml.automl.runtime.shared.model_wrappers.StandardScalerWrapper object at 0x7efc0d11e4e0\", \"primary_metric\": 0.92820513, \"best_metric\": 0.96410256}, {\"run_id\": \"AutoML_a0240568-0f51-4765-ab12-51ce97260977_13\", \"run_number\": 21, \"metric\": null, \"status\": \"Completed\", \"run_type\": \"azureml.scriptrun\", \"training_percent\": \"100\", \"start_time\": \"2020-12-31T00:14:56.373949Z\", \"end_time\": \"2020-12-31T00:15:44.030796Z\", \"created_time\": \"2020-12-31T00:14:41.777151Z\", \"created_time_dt\": \"2020-12-31T00:14:41.777151Z\", \"duration\": \"0:01:02\", \"iteration\": \"13\", \"goal\": \"accuracy_max\", \"run_name\": \"SparseNormalizer, XGBoostClassifier\", \"run_properties\": \"<azureml.automl.runtime.shared.model_wrappers.SparseNormalizer object at 0x7f2058baa278\", \"primary_metric\": 0.93333333, \"best_metric\": 0.96410256}, {\"run_id\": \"AutoML_a0240568-0f51-4765-ab12-51ce97260977_14\", \"run_number\": 22, \"metric\": null, \"status\": \"Completed\", \"run_type\": \"azureml.scriptrun\", \"training_percent\": \"100\", \"start_time\": \"2020-12-31T00:15:01.863708Z\", \"end_time\": \"2020-12-31T00:15:46.130845Z\", \"created_time\": \"2020-12-31T00:14:47.149704Z\", \"created_time_dt\": \"2020-12-31T00:14:47.149704Z\", \"duration\": \"0:00:58\", \"iteration\": \"14\", \"goal\": \"accuracy_max\", \"run_name\": \"SparseNormalizer, XGBoostClassifier\", \"run_properties\": \"<azureml.automl.runtime.shared.model_wrappers.SparseNormalizer object at 0x7fa2554f7ba8\", \"primary_metric\": 0.93333333, \"best_metric\": 0.96410256}, {\"run_id\": \"AutoML_a0240568-0f51-4765-ab12-51ce97260977_15\", \"run_number\": 23, \"metric\": null, \"status\": \"Completed\", \"run_type\": \"azureml.scriptrun\", \"training_percent\": \"100\", \"start_time\": \"2020-12-31T00:15:06.32948Z\", \"end_time\": \"2020-12-31T00:15:51.434805Z\", \"created_time\": \"2020-12-31T00:14:54.333196Z\", \"created_time_dt\": \"2020-12-31T00:14:54.333196Z\", \"duration\": \"0:00:57\", \"iteration\": \"15\", \"goal\": \"accuracy_max\", \"run_name\": \"StandardScalerWrapper, XGBoostClassifier\", \"run_properties\": \"<azureml.automl.runtime.shared.model_wrappers.StandardScalerWrapper object at 0x7f7a44ca1fd0\", \"primary_metric\": 0.8974359, \"best_metric\": 0.96410256}, {\"run_id\": \"AutoML_a0240568-0f51-4765-ab12-51ce97260977_16\", \"run_number\": 24, \"metric\": null, \"status\": \"Completed\", \"run_type\": \"azureml.scriptrun\", \"training_percent\": \"100\", \"start_time\": \"2020-12-31T00:15:39.989397Z\", \"end_time\": \"2020-12-31T00:16:29.015376Z\", \"created_time\": \"2020-12-31T00:15:27.221326Z\", \"created_time_dt\": \"2020-12-31T00:15:27.221326Z\", \"duration\": \"0:01:01\", \"iteration\": \"16\", \"goal\": \"accuracy_max\", \"run_name\": \"SparseNormalizer, XGBoostClassifier\", \"run_properties\": \"<azureml.automl.runtime.shared.model_wrappers.SparseNormalizer object at 0x7f5808a94b00\", \"primary_metric\": 0.95384615, \"best_metric\": 0.96410256}, {\"run_id\": \"AutoML_a0240568-0f51-4765-ab12-51ce97260977_17\", \"run_number\": 25, \"metric\": null, \"status\": \"Completed\", \"run_type\": \"azureml.scriptrun\", \"training_percent\": \"100\", \"start_time\": \"2020-12-31T00:15:58.598014Z\", \"end_time\": \"2020-12-31T00:16:39.275804Z\", \"created_time\": \"2020-12-31T00:15:46.310065Z\", \"created_time_dt\": \"2020-12-31T00:15:46.310065Z\", \"duration\": \"0:00:52\", \"iteration\": \"17\", \"goal\": \"accuracy_max\", \"run_name\": \"SparseNormalizer, XGBoostClassifier\", \"run_properties\": \"<azureml.automl.runtime.shared.model_wrappers.SparseNormalizer object at 0x7fbd274ceba8\", \"primary_metric\": 0.87692308, \"best_metric\": 0.96410256}, {\"run_id\": \"AutoML_a0240568-0f51-4765-ab12-51ce97260977_18\", \"run_number\": 26, \"metric\": null, \"status\": \"Completed\", \"run_type\": \"azureml.scriptrun\", \"training_percent\": \"100\", \"start_time\": \"2020-12-31T00:16:04.968318Z\", \"end_time\": \"2020-12-31T00:16:44.964828Z\", \"created_time\": \"2020-12-31T00:15:51.818622Z\", \"created_time_dt\": \"2020-12-31T00:15:51.818622Z\", \"duration\": \"0:00:53\", \"iteration\": \"18\", \"goal\": \"accuracy_max\", \"run_name\": \"MaxAbsScaler, ExtremeRandomTrees\", \"run_properties\": \"copy=True\", \"primary_metric\": 0.90769231, \"best_metric\": 0.96410256}, {\"run_id\": \"AutoML_a0240568-0f51-4765-ab12-51ce97260977_19\", \"run_number\": 27, \"metric\": null, \"status\": \"Completed\", \"run_type\": \"azureml.scriptrun\", \"training_percent\": \"100\", \"start_time\": \"2020-12-31T00:16:07.326272Z\", \"end_time\": \"2020-12-31T00:16:43.696189Z\", \"created_time\": \"2020-12-31T00:15:56.615867Z\", \"created_time_dt\": \"2020-12-31T00:15:56.615867Z\", \"duration\": \"0:00:47\", \"iteration\": \"19\", \"goal\": \"accuracy_max\", \"run_name\": \"StandardScalerWrapper, ExtremeRandomTrees\", \"run_properties\": \"<azureml.automl.runtime.shared.model_wrappers.StandardScalerWrapper object at 0x7f01b05061d0\", \"primary_metric\": 0.90769231, \"best_metric\": 0.96410256}, {\"run_id\": \"AutoML_a0240568-0f51-4765-ab12-51ce97260977_20\", \"run_number\": 28, \"metric\": null, \"status\": \"Completed\", \"run_type\": \"azureml.scriptrun\", \"training_percent\": \"100\", \"start_time\": \"2020-12-31T00:16:42.313895Z\", \"end_time\": \"2020-12-31T00:17:24.472382Z\", \"created_time\": \"2020-12-31T00:16:31.190231Z\", \"created_time_dt\": \"2020-12-31T00:16:31.190231Z\", \"duration\": \"0:00:53\", \"iteration\": \"20\", \"goal\": \"accuracy_max\", \"run_name\": \"SparseNormalizer, XGBoostClassifier\", \"run_properties\": \"<azureml.automl.runtime.shared.model_wrappers.SparseNormalizer object at 0x7fc7cce06dd8\", \"primary_metric\": 0.8974359, \"best_metric\": 0.96410256}, {\"run_id\": \"AutoML_a0240568-0f51-4765-ab12-51ce97260977_21\", \"run_number\": 29, \"metric\": null, \"status\": \"Completed\", \"run_type\": \"azureml.scriptrun\", \"training_percent\": \"100\", \"start_time\": \"2020-12-31T00:16:52.724949Z\", \"end_time\": \"2020-12-31T00:17:29.084752Z\", \"created_time\": \"2020-12-31T00:16:41.904632Z\", \"created_time_dt\": \"2020-12-31T00:16:41.904632Z\", \"duration\": \"0:00:47\", \"iteration\": \"21\", \"goal\": \"accuracy_max\", \"run_name\": \"SparseNormalizer, LightGBM\", \"run_properties\": \"<azureml.automl.runtime.shared.model_wrappers.SparseNormalizer object at 0x7f45ec09dc50\", \"primary_metric\": 0.88205128, \"best_metric\": 0.96410256}, {\"run_id\": \"AutoML_a0240568-0f51-4765-ab12-51ce97260977_22\", \"run_number\": 30, \"metric\": null, \"status\": \"Completed\", \"run_type\": \"azureml.scriptrun\", \"training_percent\": \"100\", \"start_time\": \"2020-12-31T00:16:57.702322Z\", \"end_time\": \"2020-12-31T00:17:39.510472Z\", \"created_time\": \"2020-12-31T00:16:46.550895Z\", \"created_time_dt\": \"2020-12-31T00:16:46.550895Z\", \"duration\": \"0:00:52\", \"iteration\": \"22\", \"goal\": \"accuracy_max\", \"run_name\": \"MaxAbsScaler, ExtremeRandomTrees\", \"run_properties\": \"copy=True\", \"primary_metric\": 0.93333333, \"best_metric\": 0.96410256}, {\"run_id\": \"AutoML_a0240568-0f51-4765-ab12-51ce97260977_23\", \"run_number\": 31, \"metric\": null, \"status\": \"Completed\", \"run_type\": \"azureml.scriptrun\", \"training_percent\": \"100\", \"start_time\": \"2020-12-31T00:17:05.568218Z\", \"end_time\": \"2020-12-31T00:17:45.598639Z\", \"created_time\": \"2020-12-31T00:16:51.227305Z\", \"created_time_dt\": \"2020-12-31T00:16:51.227305Z\", \"duration\": \"0:00:54\", \"iteration\": \"23\", \"goal\": \"accuracy_max\", \"run_name\": \"SparseNormalizer, XGBoostClassifier\", \"run_properties\": \"<azureml.automl.runtime.shared.model_wrappers.SparseNormalizer object at 0x7f08d95be4e0\", \"primary_metric\": 0.93846154, \"best_metric\": 0.96410256}, {\"run_id\": \"AutoML_a0240568-0f51-4765-ab12-51ce97260977_24\", \"run_number\": 32, \"metric\": null, \"status\": \"Completed\", \"run_type\": \"azureml.scriptrun\", \"training_percent\": \"100\", \"start_time\": \"2020-12-31T00:17:36.191584Z\", \"end_time\": \"2020-12-31T00:18:20.801137Z\", \"created_time\": \"2020-12-31T00:17:26.317742Z\", \"created_time_dt\": \"2020-12-31T00:17:26.317742Z\", \"duration\": \"0:00:54\", \"iteration\": \"24\", \"goal\": \"accuracy_max\", \"run_name\": \"StandardScalerWrapper, XGBoostClassifier\", \"run_properties\": \"<azureml.automl.runtime.shared.model_wrappers.StandardScalerWrapper object at 0x7f6e4560fba8\", \"primary_metric\": 0.91794872, \"best_metric\": 0.96410256}, {\"run_id\": \"AutoML_a0240568-0f51-4765-ab12-51ce97260977_25\", \"run_number\": 33, \"metric\": null, \"status\": \"Completed\", \"run_type\": \"azureml.scriptrun\", \"training_percent\": \"100\", \"start_time\": \"2020-12-31T00:17:43.420738Z\", \"end_time\": \"2020-12-31T00:18:25.218501Z\", \"created_time\": \"2020-12-31T00:17:32.119355Z\", \"created_time_dt\": \"2020-12-31T00:17:32.119355Z\", \"duration\": \"0:00:53\", \"iteration\": \"25\", \"goal\": \"accuracy_max\", \"run_name\": \"MinMaxScaler, LightGBM\", \"run_properties\": \"copy=True, feature_range=(0, 1\", \"primary_metric\": 0.75384615, \"best_metric\": 0.96410256}, {\"run_id\": \"AutoML_a0240568-0f51-4765-ab12-51ce97260977_26\", \"run_number\": 34, \"metric\": null, \"status\": \"Completed\", \"run_type\": \"azureml.scriptrun\", \"training_percent\": \"100\", \"start_time\": \"2020-12-31T00:17:54.946297Z\", \"end_time\": \"2020-12-31T00:18:38.112606Z\", \"created_time\": \"2020-12-31T00:17:41.246194Z\", \"created_time_dt\": \"2020-12-31T00:17:41.246194Z\", \"duration\": \"0:00:56\", \"iteration\": \"26\", \"goal\": \"accuracy_max\", \"run_name\": \"StandardScalerWrapper, XGBoostClassifier\", \"run_properties\": \"<azureml.automl.runtime.shared.model_wrappers.StandardScalerWrapper object at 0x7f708f387550\", \"primary_metric\": 0.95384615, \"best_metric\": 0.96410256}, {\"run_id\": \"AutoML_a0240568-0f51-4765-ab12-51ce97260977_27\", \"run_number\": 35, \"metric\": null, \"status\": \"Completed\", \"run_type\": \"azureml.scriptrun\", \"training_percent\": \"100\", \"start_time\": \"2020-12-31T00:17:59.240972Z\", \"end_time\": \"2020-12-31T00:18:38.309206Z\", \"created_time\": \"2020-12-31T00:17:47.501174Z\", \"created_time_dt\": \"2020-12-31T00:17:47.501174Z\", \"duration\": \"0:00:50\", \"iteration\": \"27\", \"goal\": \"accuracy_max\", \"run_name\": \"StandardScalerWrapper, SVM\", \"run_properties\": \"<azureml.automl.runtime.shared.model_wrappers.StandardScalerWrapper object at 0x7fe26408cf28\", \"primary_metric\": 0.95897436, \"best_metric\": 0.96410256}, {\"run_id\": \"AutoML_a0240568-0f51-4765-ab12-51ce97260977_28\", \"run_number\": 36, \"metric\": null, \"status\": \"Completed\", \"run_type\": \"azureml.scriptrun\", \"training_percent\": \"100\", \"start_time\": \"2020-12-31T00:18:33.634578Z\", \"end_time\": \"2020-12-31T00:19:15.430543Z\", \"created_time\": \"2020-12-31T00:18:22.516076Z\", \"created_time_dt\": \"2020-12-31T00:18:22.516076Z\", \"duration\": \"0:00:52\", \"iteration\": \"28\", \"goal\": \"accuracy_max\", \"run_name\": \"SparseNormalizer, XGBoostClassifier\", \"run_properties\": \"<azureml.automl.runtime.shared.model_wrappers.SparseNormalizer object at 0x7f115c9d0e80\", \"primary_metric\": 0.92820513, \"best_metric\": 0.96410256}, {\"run_id\": \"AutoML_a0240568-0f51-4765-ab12-51ce97260977_29\", \"run_number\": 37, \"metric\": null, \"status\": \"Completed\", \"run_type\": \"azureml.scriptrun\", \"training_percent\": \"100\", \"start_time\": \"2020-12-31T00:18:42.174896Z\", \"end_time\": \"2020-12-31T00:19:28.428245Z\", \"created_time\": \"2020-12-31T00:18:26.98937Z\", \"created_time_dt\": \"2020-12-31T00:18:26.98937Z\", \"duration\": \"0:01:01\", \"iteration\": \"29\", \"goal\": \"accuracy_max\", \"run_name\": \"StandardScalerWrapper, ExtremeRandomTrees\", \"run_properties\": \"<azureml.automl.runtime.shared.model_wrappers.StandardScalerWrapper object at 0x7f21cab40c18\", \"primary_metric\": 0.90769231, \"best_metric\": 0.96410256}, {\"run_id\": \"AutoML_a0240568-0f51-4765-ab12-51ce97260977_30\", \"run_number\": 38, \"metric\": null, \"status\": \"Completed\", \"run_type\": \"azureml.scriptrun\", \"training_percent\": \"100\", \"start_time\": \"2020-12-31T00:18:55.744363Z\", \"end_time\": \"2020-12-31T00:19:36.913386Z\", \"created_time\": \"2020-12-31T00:18:40.934467Z\", \"created_time_dt\": \"2020-12-31T00:18:40.934467Z\", \"duration\": \"0:00:55\", \"iteration\": \"30\", \"goal\": \"accuracy_max\", \"run_name\": \"RobustScaler, LightGBM\", \"run_properties\": \"copy=True, quantile_range=[25, 75], with_centering=False,\\n             with_scaling=False\", \"primary_metric\": 0.81538462, \"best_metric\": 0.96410256}, {\"run_id\": \"AutoML_a0240568-0f51-4765-ab12-51ce97260977_31\", \"run_number\": 39, \"metric\": null, \"status\": \"Completed\", \"run_type\": \"azureml.scriptrun\", \"training_percent\": \"100\", \"start_time\": \"2020-12-31T00:18:52.499655Z\", \"end_time\": \"2020-12-31T00:19:34.360162Z\", \"created_time\": \"2020-12-31T00:18:41.003455Z\", \"created_time_dt\": \"2020-12-31T00:18:41.003455Z\", \"duration\": \"0:00:53\", \"iteration\": \"31\", \"goal\": \"accuracy_max\", \"run_name\": \"StandardScalerWrapper, LogisticRegression\", \"run_properties\": \"<azureml.automl.runtime.shared.model_wrappers.StandardScalerWrapper object at 0x7fb7d1636a20\", \"primary_metric\": 0.83076923, \"best_metric\": 0.96410256}, {\"run_id\": \"AutoML_a0240568-0f51-4765-ab12-51ce97260977_32\", \"run_number\": 40, \"metric\": null, \"status\": \"Completed\", \"run_type\": \"azureml.scriptrun\", \"training_percent\": \"100\", \"start_time\": \"2020-12-31T00:19:32.930664Z\", \"end_time\": \"2020-12-31T00:20:28.928382Z\", \"created_time\": \"2020-12-31T00:19:17.314692Z\", \"created_time_dt\": \"2020-12-31T00:19:17.314692Z\", \"duration\": \"0:01:11\", \"iteration\": \"32\", \"goal\": \"accuracy_max\", \"run_name\": \"StandardScalerWrapper, LogisticRegression\", \"run_properties\": \"<azureml.automl.runtime.shared.model_wrappers.StandardScalerWrapper object at 0x7f3ee499e9b0\", \"primary_metric\": 0.83076923, \"best_metric\": 0.96410256}, {\"run_id\": \"AutoML_a0240568-0f51-4765-ab12-51ce97260977_33\", \"run_number\": 41, \"metric\": null, \"status\": \"Completed\", \"run_type\": \"azureml.scriptrun\", \"training_percent\": \"100\", \"start_time\": \"2020-12-31T00:19:40.764591Z\", \"end_time\": \"2020-12-31T00:20:22.527925Z\", \"created_time\": \"2020-12-31T00:19:30.271351Z\", \"created_time_dt\": \"2020-12-31T00:19:30.271351Z\", \"duration\": \"0:00:52\", \"iteration\": \"33\", \"goal\": \"accuracy_max\", \"run_name\": \"StandardScalerWrapper, LogisticRegression\", \"run_properties\": \"<azureml.automl.runtime.shared.model_wrappers.StandardScalerWrapper object at 0x7fbd7c7f7cc0\", \"primary_metric\": 0.84102564, \"best_metric\": 0.96410256}, {\"run_id\": \"AutoML_a0240568-0f51-4765-ab12-51ce97260977_34\", \"run_number\": 42, \"metric\": null, \"status\": \"Completed\", \"run_type\": \"azureml.scriptrun\", \"training_percent\": \"100\", \"start_time\": \"2020-12-31T00:19:47.190518Z\", \"end_time\": \"2020-12-31T00:20:29.376669Z\", \"created_time\": \"2020-12-31T00:19:36.13707Z\", \"created_time_dt\": \"2020-12-31T00:19:36.13707Z\", \"duration\": \"0:00:53\", \"iteration\": \"34\", \"goal\": \"accuracy_max\", \"run_name\": \"StandardScalerWrapper, XGBoostClassifier\", \"run_properties\": \"<azureml.automl.runtime.shared.model_wrappers.StandardScalerWrapper object at 0x7f50756ee9b0\", \"primary_metric\": 0.92820513, \"best_metric\": 0.96410256}, {\"run_id\": \"AutoML_a0240568-0f51-4765-ab12-51ce97260977_35\", \"run_number\": 43, \"metric\": null, \"status\": \"Completed\", \"run_type\": \"azureml.scriptrun\", \"training_percent\": \"100\", \"start_time\": \"2020-12-31T00:19:53.905167Z\", \"end_time\": \"2020-12-31T00:20:32.617537Z\", \"created_time\": \"2020-12-31T00:19:41.284686Z\", \"created_time_dt\": \"2020-12-31T00:19:41.284686Z\", \"duration\": \"0:00:51\", \"iteration\": \"35\", \"goal\": \"accuracy_max\", \"run_name\": \"SparseNormalizer, LightGBM\", \"run_properties\": \"<azureml.automl.runtime.shared.model_wrappers.SparseNormalizer object at 0x7f5c44038400\", \"primary_metric\": 0.87692308, \"best_metric\": 0.96410256}, {\"run_id\": \"AutoML_a0240568-0f51-4765-ab12-51ce97260977_36\", \"run_number\": 44, \"metric\": null, \"status\": \"Completed\", \"run_type\": \"azureml.scriptrun\", \"training_percent\": \"100\", \"start_time\": \"2020-12-31T00:20:40.102182Z\", \"end_time\": \"2020-12-31T00:21:24.469546Z\", \"created_time\": \"2020-12-31T00:20:24.305625Z\", \"created_time_dt\": \"2020-12-31T00:20:24.305625Z\", \"duration\": \"0:01:00\", \"iteration\": \"36\", \"goal\": \"accuracy_max\", \"run_name\": \"RobustScaler, RandomForest\", \"run_properties\": \"copy=True, quantile_range=[10, 90], with_centering=True,\\n             with_scaling=True\", \"primary_metric\": 0.94871795, \"best_metric\": 0.96410256}, {\"run_id\": \"AutoML_a0240568-0f51-4765-ab12-51ce97260977_37\", \"run_number\": 45, \"metric\": null, \"status\": \"Completed\", \"run_type\": \"azureml.scriptrun\", \"training_percent\": \"100\", \"start_time\": \"2020-12-31T00:20:45.206035Z\", \"end_time\": \"2020-12-31T00:21:25.80398Z\", \"created_time\": \"2020-12-31T00:20:30.659583Z\", \"created_time_dt\": \"2020-12-31T00:20:30.659583Z\", \"duration\": \"0:00:55\", \"iteration\": \"37\", \"goal\": \"accuracy_max\", \"run_name\": \"StandardScalerWrapper, LightGBM\", \"run_properties\": \"<azureml.automl.runtime.shared.model_wrappers.StandardScalerWrapper object at 0x7fa1a40f09e8\", \"primary_metric\": 0.93333333, \"best_metric\": 0.96410256}, {\"run_id\": \"AutoML_a0240568-0f51-4765-ab12-51ce97260977_39\", \"run_number\": 46, \"metric\": null, \"status\": \"Completed\", \"run_type\": \"azureml.scriptrun\", \"training_percent\": \"100\", \"start_time\": \"2020-12-31T00:20:46.491256Z\", \"end_time\": \"2020-12-31T00:21:25.514326Z\", \"created_time\": \"2020-12-31T00:20:35.755146Z\", \"created_time_dt\": \"2020-12-31T00:20:35.755146Z\", \"duration\": \"0:00:49\", \"iteration\": \"39\", \"goal\": \"accuracy_max\", \"run_name\": \"MaxAbsScaler, LogisticRegression\", \"run_properties\": \"copy=True\", \"primary_metric\": 0.83589744, \"best_metric\": 0.96410256}, {\"run_id\": \"AutoML_a0240568-0f51-4765-ab12-51ce97260977_38\", \"run_number\": 47, \"metric\": null, \"status\": \"Completed\", \"run_type\": \"azureml.scriptrun\", \"training_percent\": \"100\", \"start_time\": \"2020-12-31T00:20:48.345561Z\", \"end_time\": \"2020-12-31T00:21:32.51966Z\", \"created_time\": \"2020-12-31T00:20:35.755737Z\", \"created_time_dt\": \"2020-12-31T00:20:35.755737Z\", \"duration\": \"0:00:56\", \"iteration\": \"38\", \"goal\": \"accuracy_max\", \"run_name\": \"SparseNormalizer, XGBoostClassifier\", \"run_properties\": \"<azureml.automl.runtime.shared.model_wrappers.SparseNormalizer object at 0x7f104d0e0240\", \"primary_metric\": 0.92820513, \"best_metric\": 0.96410256}, {\"run_id\": \"AutoML_a0240568-0f51-4765-ab12-51ce97260977_40\", \"run_number\": 48, \"metric\": null, \"status\": \"Completed\", \"run_type\": \"azureml.scriptrun\", \"training_percent\": \"100\", \"start_time\": \"2020-12-31T00:21:40.091836Z\", \"end_time\": \"2020-12-31T00:22:19.152369Z\", \"created_time\": \"2020-12-31T00:21:28.283197Z\", \"created_time_dt\": \"2020-12-31T00:21:28.283197Z\", \"duration\": \"0:00:50\", \"iteration\": \"40\", \"goal\": \"accuracy_max\", \"run_name\": \"MinMaxScaler, LightGBM\", \"run_properties\": \"copy=True, feature_range=(0, 1\", \"primary_metric\": 0.8974359, \"best_metric\": 0.96410256}, {\"run_id\": \"AutoML_a0240568-0f51-4765-ab12-51ce97260977_41\", \"run_number\": 49, \"metric\": null, \"status\": \"Completed\", \"run_type\": \"azureml.scriptrun\", \"training_percent\": \"100\", \"start_time\": \"2020-12-31T00:21:43.9011Z\", \"end_time\": \"2020-12-31T00:22:20.391146Z\", \"created_time\": \"2020-12-31T00:21:32.545995Z\", \"created_time_dt\": \"2020-12-31T00:21:32.545995Z\", \"duration\": \"0:00:47\", \"iteration\": \"41\", \"goal\": \"accuracy_max\", \"run_name\": \"StandardScalerWrapper, XGBoostClassifier\", \"run_properties\": \"<azureml.automl.runtime.shared.model_wrappers.StandardScalerWrapper object at 0x7f92c0023e10\", \"primary_metric\": 0.94871795, \"best_metric\": 0.96410256}, {\"run_id\": \"AutoML_a0240568-0f51-4765-ab12-51ce97260977_42\", \"run_number\": 50, \"metric\": null, \"status\": \"Completed\", \"run_type\": \"azureml.scriptrun\", \"training_percent\": \"100\", \"start_time\": \"2020-12-31T00:21:47.464452Z\", \"end_time\": \"2020-12-31T00:22:37.13455Z\", \"created_time\": \"2020-12-31T00:21:32.572714Z\", \"created_time_dt\": \"2020-12-31T00:21:32.572714Z\", \"duration\": \"0:01:04\", \"iteration\": \"42\", \"goal\": \"accuracy_max\", \"run_name\": \"SparseNormalizer, XGBoostClassifier\", \"run_properties\": \"<azureml.automl.runtime.shared.model_wrappers.SparseNormalizer object at 0x7f378d97ce80\", \"primary_metric\": 0.94358974, \"best_metric\": 0.96410256}, {\"run_id\": \"AutoML_a0240568-0f51-4765-ab12-51ce97260977_43\", \"run_number\": 51, \"metric\": null, \"status\": \"Completed\", \"run_type\": \"azureml.scriptrun\", \"training_percent\": \"100\", \"start_time\": \"2020-12-31T00:21:49.415565Z\", \"end_time\": \"2020-12-31T00:22:32.532201Z\", \"created_time\": \"2020-12-31T00:21:37.483623Z\", \"created_time_dt\": \"2020-12-31T00:21:37.483623Z\", \"duration\": \"0:00:55\", \"iteration\": \"43\", \"goal\": \"accuracy_max\", \"run_name\": \"RobustScaler, SVM\", \"run_properties\": \"copy=True, quantile_range=[10, 90], with_centering=True,\\n             with_scaling=True\", \"primary_metric\": 0.95897436, \"best_metric\": 0.96410256}, {\"run_id\": \"AutoML_a0240568-0f51-4765-ab12-51ce97260977_44\", \"run_number\": 52, \"metric\": null, \"status\": \"Completed\", \"run_type\": \"azureml.scriptrun\", \"training_percent\": \"100\", \"start_time\": \"2020-12-31T00:22:34.941985Z\", \"end_time\": \"2020-12-31T00:23:19.337485Z\", \"created_time\": \"2020-12-31T00:22:20.979037Z\", \"created_time_dt\": \"2020-12-31T00:22:20.979037Z\", \"duration\": \"0:00:58\", \"iteration\": \"44\", \"goal\": \"accuracy_max\", \"run_name\": \"SparseNormalizer, XGBoostClassifier\", \"run_properties\": \"<azureml.automl.runtime.shared.model_wrappers.SparseNormalizer object at 0x7f45f131ec88\", \"primary_metric\": 0.93846154, \"best_metric\": 0.96410256}, {\"run_id\": \"AutoML_a0240568-0f51-4765-ab12-51ce97260977_45\", \"run_number\": 53, \"metric\": null, \"status\": \"Completed\", \"run_type\": \"azureml.scriptrun\", \"training_percent\": \"100\", \"start_time\": \"2020-12-31T00:22:41.229959Z\", \"end_time\": \"2020-12-31T00:23:21.98978Z\", \"created_time\": \"2020-12-31T00:22:26.439713Z\", \"created_time_dt\": \"2020-12-31T00:22:26.439713Z\", \"duration\": \"0:00:55\", \"iteration\": \"45\", \"goal\": \"accuracy_max\", \"run_name\": \"MaxAbsScaler, LightGBM\", \"run_properties\": \"copy=True\", \"primary_metric\": 0.92307692, \"best_metric\": 0.96410256}, {\"run_id\": \"AutoML_a0240568-0f51-4765-ab12-51ce97260977_46\", \"run_number\": 54, \"metric\": null, \"status\": \"Completed\", \"run_type\": \"azureml.scriptrun\", \"training_percent\": \"100\", \"start_time\": \"2020-12-31T00:22:46.203145Z\", \"end_time\": \"2020-12-31T00:23:36.94519Z\", \"created_time\": \"2020-12-31T00:22:34.201861Z\", \"created_time_dt\": \"2020-12-31T00:22:34.201861Z\", \"duration\": \"0:01:02\", \"iteration\": \"46\", \"goal\": \"accuracy_max\", \"run_name\": \"SparseNormalizer, XGBoostClassifier\", \"run_properties\": \"<azureml.automl.runtime.shared.model_wrappers.SparseNormalizer object at 0x7f1fec084668\", \"primary_metric\": 0.94871795, \"best_metric\": 0.96410256}, {\"run_id\": \"AutoML_a0240568-0f51-4765-ab12-51ce97260977_47\", \"run_number\": 55, \"metric\": null, \"status\": \"Completed\", \"run_type\": \"azureml.scriptrun\", \"training_percent\": \"100\", \"start_time\": \"2020-12-31T00:22:50.64593Z\", \"end_time\": \"2020-12-31T00:23:38.134988Z\", \"created_time\": \"2020-12-31T00:22:39.10911Z\", \"created_time_dt\": \"2020-12-31T00:22:39.10911Z\", \"duration\": \"0:00:59\", \"iteration\": \"47\", \"goal\": \"accuracy_max\", \"run_name\": \"SparseNormalizer, XGBoostClassifier\", \"run_properties\": \"<azureml.automl.runtime.shared.model_wrappers.SparseNormalizer object at 0x7f6d123245f8\", \"primary_metric\": 0.94871795, \"best_metric\": 0.96410256}, {\"run_id\": \"AutoML_a0240568-0f51-4765-ab12-51ce97260977_48\", \"run_number\": 56, \"metric\": null, \"status\": \"Completed\", \"run_type\": \"azureml.scriptrun\", \"training_percent\": \"100\", \"start_time\": \"2020-12-31T00:23:50.291348Z\", \"end_time\": \"2020-12-31T00:24:33.879781Z\", \"created_time\": \"2020-12-31T00:23:22.355107Z\", \"created_time_dt\": \"2020-12-31T00:23:22.355107Z\", \"duration\": \"0:01:11\", \"iteration\": \"48\", \"goal\": \"accuracy_max\", \"run_name\": \"StandardScalerWrapper, GradientBoosting\", \"run_properties\": \"<azureml.automl.runtime.shared.model_wrappers.StandardScalerWrapper object at 0x7f783522ef60\", \"primary_metric\": 0.96923077, \"best_metric\": 0.96923077}, {\"run_id\": \"AutoML_a0240568-0f51-4765-ab12-51ce97260977_49\", \"run_number\": 57, \"metric\": null, \"status\": \"Canceled\", \"run_type\": \"azureml.scriptrun\", \"training_percent\": \"100\", \"start_time\": \"2020-12-31T00:23:55.445682Z\", \"end_time\": \"2020-12-31T00:24:40.902114Z\", \"created_time\": \"2020-12-31T00:23:42.211858Z\", \"created_time_dt\": \"2020-12-31T00:23:42.211858Z\", \"duration\": \"0:00:58\", \"iteration\": \"49\", \"goal\": \"accuracy_max\", \"run_name\": \"MaxAbsScaler, LightGBM\", \"run_properties\": \"copy=True\", \"primary_metric\": 0.75384615, \"best_metric\": 0.96923077}, {\"run_id\": \"AutoML_a0240568-0f51-4765-ab12-51ce97260977_50\", \"run_number\": 58, \"metric\": null, \"status\": \"Canceled\", \"run_type\": \"azureml.scriptrun\", \"training_percent\": \"100\", \"start_time\": \"2020-12-31T00:23:56.605097Z\", \"end_time\": \"2020-12-31T00:24:37.256626Z\", \"created_time\": \"2020-12-31T00:23:42.328037Z\", \"created_time_dt\": \"2020-12-31T00:23:42.328037Z\", \"duration\": \"0:00:54\", \"iteration\": \"50\", \"goal\": \"accuracy_max\", \"run_name\": \"SparseNormalizer, XGBoostClassifier\", \"run_properties\": \"<azureml.automl.runtime.shared.model_wrappers.SparseNormalizer object at 0x7f2d3c02a898\", \"primary_metric\": 0.92307692, \"best_metric\": 0.96923077}, {\"run_id\": \"AutoML_a0240568-0f51-4765-ab12-51ce97260977_51\", \"run_number\": 59, \"metric\": null, \"status\": \"Canceled\", \"run_type\": \"azureml.scriptrun\", \"training_percent\": \"100\", \"start_time\": \"2020-12-31T00:23:55.191103Z\", \"end_time\": \"2020-12-31T00:24:43.499576Z\", \"created_time\": \"2020-12-31T00:23:42.377268Z\", \"created_time_dt\": \"2020-12-31T00:23:42.377268Z\", \"duration\": \"0:01:01\", \"iteration\": \"51\", \"goal\": \"accuracy_max\", \"run_name\": \"SparseNormalizer, XGBoostClassifier\", \"run_properties\": \"<azureml.automl.runtime.shared.model_wrappers.SparseNormalizer object at 0x7fc7395b5320\", \"primary_metric\": 0.94358974, \"best_metric\": 0.96923077}, {\"run_id\": \"AutoML_a0240568-0f51-4765-ab12-51ce97260977_53\", \"run_number\": 60, \"metric\": null, \"status\": \"Completed\", \"run_type\": \"azureml.scriptrun\", \"training_percent\": \"100\", \"start_time\": \"2020-12-31T00:24:58.659843Z\", \"end_time\": \"2020-12-31T00:26:37.618992Z\", \"created_time\": \"2020-12-31T00:24:44.915327Z\", \"created_time_dt\": \"2020-12-31T00:24:44.915327Z\", \"duration\": \"0:01:52\", \"iteration\": \"53\", \"goal\": \"accuracy_max\", \"run_name\": \"StackEnsemble\", \"run_properties\": \"base_learners=[('48',\\n                                        Pipeline(memory=None,\\n                                                 steps=[('standardscalerwrapper',\\n                                                         <azureml.automl.runtime.shared.model_wrappers.StandardScalerWrapper object at 0x7f28643e2438>\", \"primary_metric\": 0.96410256, \"best_metric\": 0.97435897}, {\"run_id\": \"AutoML_a0240568-0f51-4765-ab12-51ce97260977_52\", \"run_number\": 61, \"metric\": null, \"status\": \"Completed\", \"run_type\": \"azureml.scriptrun\", \"training_percent\": \"100\", \"start_time\": \"2020-12-31T00:24:57.25479Z\", \"end_time\": \"2020-12-31T00:26:39.22455Z\", \"created_time\": \"2020-12-31T00:24:44.930961Z\", \"created_time_dt\": \"2020-12-31T00:24:44.930961Z\", \"duration\": \"0:01:54\", \"iteration\": \"52\", \"goal\": \"accuracy_max\", \"run_name\": \"VotingEnsemble\", \"run_properties\": \"classification_labels=None,\\n                              estimators=[('48',\\n                                           Pipeline(memory=None,\\n                                                    steps=[('standardscalerwrapper',\\n                                                            <azureml.automl.runtime.shared.model_wrappers.StandardScalerWrapper object at 0x7f9d3c04a0b8>\", \"primary_metric\": 0.97435897, \"best_metric\": 0.97435897}], \"children_metrics\": {\"categories\": [0], \"series\": {\"matthews_correlation\": [{\"categories\": [\"0\", \"1\", \"2\", \"3\", \"4\", \"5\", \"6\", \"7\", \"8\", \"9\", \"10\", \"11\", \"12\", \"13\", \"14\", \"15\", \"16\", \"17\", \"18\", \"19\", \"20\", \"21\", \"22\", \"23\", \"24\", \"25\", \"26\", \"27\", \"28\", \"29\", \"30\", \"31\", \"32\", \"33\", \"34\", \"35\", \"36\", \"37\", \"38\", \"39\", \"40\", \"41\", \"42\", \"43\", \"44\", \"45\", \"46\", \"47\", \"48\", \"49\", \"50\", \"51\", \"52\", \"53\"], \"mode\": \"markers\", \"name\": \"matthews_correlation\", \"stepped\": false, \"type\": \"scatter\", \"data\": [0.9059170029620965, 0.9058274526265475, 0.7552934778523677, 0.6543519751358653, 0.7620741323291745, 0.6537803447790995, 0.8995561273561148, 0.8974183784229794, 0.8432192210072849, 0.8336272164566747, 0.9014943624886028, 0.6852836344283746, 0.8030446257852614, 0.8008158104164027, 0.8070528735302753, 0.7391095646784226, 0.8731985726505634, 0.6296476541149808, 0.740660820752732, 0.7379796911849724, 0.7105173760604399, 0.6706665713157648, 0.816014868650387, 0.8233364619137097, 0.8007034912938741, 0.0, 0.8785751947855112, 0.8908197190217273, 0.7945986148140286, 0.7365788205755208, 0.4503201978800272, 0.5339665460458889, 0.5339665460458889, 0.5568781355610115, 0.809757477886739, 0.6378320544234637, 0.8655376113541434, 0.8188977191247322, 0.7918011797674092, 0.5261866693913527, 0.7268655759177368, 0.8668909467905573, 0.8418625609314514, 0.8838420882979603, 0.8233364619137097, 0.7839019356815697, 0.8476090420603682, 0.8507630612899622, 0.9149176434533632, 0.0, 0.7800106737156398, 0.8424440682873712, 0.9307811451701603, 0.907381333995097]}, {\"categories\": [\"0\", \"1\", \"2\", \"3\", \"4\", \"5\", \"6\", \"7\", \"8\", \"9\", \"10\", \"11\", \"12\", \"13\", \"14\", \"15\", \"16\", \"17\", \"18\", \"19\", \"20\", \"21\", \"22\", \"23\", \"24\", \"25\", \"26\", \"27\", \"28\", \"29\", \"30\", \"31\", \"32\", \"33\", \"34\", \"35\", \"36\", \"37\", \"38\", \"39\", \"40\", \"41\", \"42\", \"43\", \"44\", \"45\", \"46\", \"47\", \"48\", \"49\", \"50\", \"51\", \"52\", \"53\"], \"mode\": \"lines\", \"name\": \"matthews_correlation_max\", \"stepped\": true, \"type\": \"scatter\", \"data\": [0.9059170029620965, 0.9059170029620965, 0.9059170029620965, 0.9059170029620965, 0.9059170029620965, 0.9059170029620965, 0.9059170029620965, 0.9059170029620965, 0.9059170029620965, 0.9059170029620965, 0.9059170029620965, 0.9059170029620965, 0.9059170029620965, 0.9059170029620965, 0.9059170029620965, 0.9059170029620965, 0.9059170029620965, 0.9059170029620965, 0.9059170029620965, 0.9059170029620965, 0.9059170029620965, 0.9059170029620965, 0.9059170029620965, 0.9059170029620965, 0.9059170029620965, 0.9059170029620965, 0.9059170029620965, 0.9059170029620965, 0.9059170029620965, 0.9059170029620965, 0.9059170029620965, 0.9059170029620965, 0.9059170029620965, 0.9059170029620965, 0.9059170029620965, 0.9059170029620965, 0.9059170029620965, 0.9059170029620965, 0.9059170029620965, 0.9059170029620965, 0.9059170029620965, 0.9059170029620965, 0.9059170029620965, 0.9059170029620965, 0.9059170029620965, 0.9059170029620965, 0.9059170029620965, 0.9059170029620965, 0.9149176434533632, 0.9149176434533632, 0.9149176434533632, 0.9149176434533632, 0.9307811451701603, 0.9307811451701603]}], \"accuracy\": [{\"categories\": [\"0\", \"1\", \"2\", \"3\", \"4\", \"5\", \"6\", \"7\", \"8\", \"9\", \"10\", \"11\", \"12\", \"13\", \"14\", \"15\", \"16\", \"17\", \"18\", \"19\", \"20\", \"21\", \"22\", \"23\", \"24\", \"25\", \"26\", \"27\", \"28\", \"29\", \"30\", \"31\", \"32\", \"33\", \"34\", \"35\", \"36\", \"37\", \"38\", \"39\", \"40\", \"41\", \"42\", \"43\", \"44\", \"45\", \"46\", \"47\", \"48\", \"49\", \"50\", \"51\", \"52\", \"53\"], \"mode\": \"markers\", \"name\": \"accuracy\", \"stepped\": false, \"type\": \"scatter\", \"data\": [0.964102564102564, 0.964102564102564, 0.9128205128205128, 0.876923076923077, 0.9128205128205128, 0.8564102564102564, 0.9589743589743589, 0.9589743589743589, 0.9435897435897436, 0.9384615384615385, 0.9589743589743589, 0.8923076923076924, 0.9282051282051282, 0.9333333333333333, 0.9333333333333333, 0.8974358974358975, 0.9538461538461538, 0.876923076923077, 0.9076923076923077, 0.9076923076923078, 0.8974358974358975, 0.8820512820512821, 0.9333333333333333, 0.9384615384615385, 0.9179487179487179, 0.7538461538461538, 0.9538461538461538, 0.9589743589743589, 0.9282051282051282, 0.9076923076923077, 0.8153846153846154, 0.8307692307692307, 0.8307692307692307, 0.8410256410256409, 0.9282051282051282, 0.876923076923077, 0.9487179487179487, 0.9333333333333332, 0.9282051282051281, 0.8358974358974359, 0.8974358974358975, 0.9487179487179487, 0.9435897435897436, 0.9589743589743589, 0.9384615384615385, 0.9230769230769231, 0.9487179487179487, 0.9487179487179487, 0.9692307692307691, 0.7538461538461538, 0.9230769230769231, 0.9435897435897435, 0.9743589743589742, 0.964102564102564]}, {\"categories\": [\"0\", \"1\", \"2\", \"3\", \"4\", \"5\", \"6\", \"7\", \"8\", \"9\", \"10\", \"11\", \"12\", \"13\", \"14\", \"15\", \"16\", \"17\", \"18\", \"19\", \"20\", \"21\", \"22\", \"23\", \"24\", \"25\", \"26\", \"27\", \"28\", \"29\", \"30\", \"31\", \"32\", \"33\", \"34\", \"35\", \"36\", \"37\", \"38\", \"39\", \"40\", \"41\", \"42\", \"43\", \"44\", \"45\", \"46\", \"47\", \"48\", \"49\", \"50\", \"51\", \"52\", \"53\"], \"mode\": \"lines\", \"name\": \"accuracy_max\", \"stepped\": true, \"type\": \"scatter\", \"data\": [0.964102564102564, 0.964102564102564, 0.964102564102564, 0.964102564102564, 0.964102564102564, 0.964102564102564, 0.964102564102564, 0.964102564102564, 0.964102564102564, 0.964102564102564, 0.964102564102564, 0.964102564102564, 0.964102564102564, 0.964102564102564, 0.964102564102564, 0.964102564102564, 0.964102564102564, 0.964102564102564, 0.964102564102564, 0.964102564102564, 0.964102564102564, 0.964102564102564, 0.964102564102564, 0.964102564102564, 0.964102564102564, 0.964102564102564, 0.964102564102564, 0.964102564102564, 0.964102564102564, 0.964102564102564, 0.964102564102564, 0.964102564102564, 0.964102564102564, 0.964102564102564, 0.964102564102564, 0.964102564102564, 0.964102564102564, 0.964102564102564, 0.964102564102564, 0.964102564102564, 0.964102564102564, 0.964102564102564, 0.964102564102564, 0.964102564102564, 0.964102564102564, 0.964102564102564, 0.964102564102564, 0.964102564102564, 0.9692307692307691, 0.9692307692307691, 0.9692307692307691, 0.9692307692307691, 0.9743589743589742, 0.9743589743589742]}], \"weighted_accuracy\": [{\"categories\": [\"0\", \"1\", \"2\", \"3\", \"4\", \"5\", \"6\", \"7\", \"8\", \"9\", \"10\", \"11\", \"12\", \"13\", \"14\", \"15\", \"16\", \"17\", \"18\", \"19\", \"20\", \"21\", \"22\", \"23\", \"24\", \"25\", \"26\", \"27\", \"28\", \"29\", \"30\", \"31\", \"32\", \"33\", \"34\", \"35\", \"36\", \"37\", \"38\", \"39\", \"40\", \"41\", \"42\", \"43\", \"44\", \"45\", \"46\", \"47\", \"48\", \"49\", \"50\", \"51\", \"52\", \"53\"], \"mode\": \"markers\", \"name\": \"weighted_accuracy\", \"stepped\": false, \"type\": \"scatter\", \"data\": [0.9745738642316095, 0.9786287707561643, 0.9560571595704328, 0.9271417688815454, 0.9454735865169349, 0.8628688306025806, 0.967760295768268, 0.9743633366963488, 0.9670919860765663, 0.9685662010975241, 0.96857390130249, 0.9354724430610479, 0.9619919595690156, 0.9547559159795806, 0.9632073922202016, 0.9144239962578808, 0.9786165959780139, 0.9302916243474897, 0.9536755384773468, 0.9542056478337768, 0.9411653910274411, 0.9302459091098847, 0.9583876977201102, 0.9736597823731806, 0.931465685011981, 0.892864526903305, 0.9743779737317222, 0.9756897667097212, 0.9523495907426869, 0.9579308100749732, 0.8722806380269986, 0.8738921708584915, 0.8738921708584915, 0.8859055366212264, 0.9448413298009811, 0.9400049588446027, 0.9651045416049197, 0.9591836390596326, 0.9658603347129293, 0.8858690923609558, 0.9268060128214681, 0.9640350894947811, 0.9624735073256698, 0.9804751476637777, 0.9736597823731806, 0.9517102403811221, 0.9689788754674116, 0.96896820195703, 0.980589181849503, 0.892864526903305, 0.9461859350572459, 0.9749468712073718, 0.9865537671244331, 0.9783382346292644]}, {\"categories\": [\"0\", \"1\", \"2\", \"3\", \"4\", \"5\", \"6\", \"7\", \"8\", \"9\", \"10\", \"11\", \"12\", \"13\", \"14\", \"15\", \"16\", \"17\", \"18\", \"19\", \"20\", \"21\", \"22\", \"23\", \"24\", \"25\", \"26\", \"27\", \"28\", \"29\", \"30\", \"31\", \"32\", \"33\", \"34\", \"35\", \"36\", \"37\", \"38\", \"39\", \"40\", \"41\", \"42\", \"43\", \"44\", \"45\", \"46\", \"47\", \"48\", \"49\", \"50\", \"51\", \"52\", \"53\"], \"mode\": \"lines\", \"name\": \"weighted_accuracy_max\", \"stepped\": true, \"type\": \"scatter\", \"data\": [0.9745738642316095, 0.9786287707561643, 0.9786287707561643, 0.9786287707561643, 0.9786287707561643, 0.9786287707561643, 0.9786287707561643, 0.9786287707561643, 0.9786287707561643, 0.9786287707561643, 0.9786287707561643, 0.9786287707561643, 0.9786287707561643, 0.9786287707561643, 0.9786287707561643, 0.9786287707561643, 0.9786287707561643, 0.9786287707561643, 0.9786287707561643, 0.9786287707561643, 0.9786287707561643, 0.9786287707561643, 0.9786287707561643, 0.9786287707561643, 0.9786287707561643, 0.9786287707561643, 0.9786287707561643, 0.9786287707561643, 0.9786287707561643, 0.9786287707561643, 0.9786287707561643, 0.9786287707561643, 0.9786287707561643, 0.9786287707561643, 0.9786287707561643, 0.9786287707561643, 0.9786287707561643, 0.9786287707561643, 0.9786287707561643, 0.9786287707561643, 0.9786287707561643, 0.9786287707561643, 0.9786287707561643, 0.9804751476637777, 0.9804751476637777, 0.9804751476637777, 0.9804751476637777, 0.9804751476637777, 0.980589181849503, 0.980589181849503, 0.980589181849503, 0.980589181849503, 0.9865537671244331, 0.9865537671244331]}], \"AUC_micro\": [{\"categories\": [\"0\", \"1\", \"2\", \"3\", \"4\", \"5\", \"6\", \"7\", \"8\", \"9\", \"10\", \"11\", \"12\", \"13\", \"14\", \"15\", \"16\", \"17\", \"18\", \"19\", \"20\", \"21\", \"22\", \"23\", \"24\", \"25\", \"26\", \"27\", \"28\", \"29\", \"30\", \"31\", \"32\", \"33\", \"34\", \"35\", \"36\", \"37\", \"38\", \"39\", \"40\", \"41\", \"42\", \"43\", \"44\", \"45\", \"46\", \"47\", \"48\", \"49\", \"50\", \"51\", \"52\", \"53\"], \"mode\": \"markers\", \"name\": \"AUC_micro\", \"stepped\": false, \"type\": \"scatter\", \"data\": [0.9935568704799473, 0.9914529914529915, 0.9677843523997371, 0.9623931623931623, 0.9733070348454964, 0.9634451019066403, 0.9873767258382642, 0.9884286653517422, 0.9846153846153847, 0.9873767258382642, 0.9913214990138066, 0.9531886916502301, 0.9784352399737015, 0.9733070348454964, 0.9730440499671269, 0.9533201840894149, 0.9819855358316897, 0.9374095989480604, 0.9705456936226167, 0.9679158448389218, 0.9671268902038133, 0.9325443786982248, 0.9888888888888889, 0.9713346482577251, 0.9679158448389217, 0.9192636423405653, 0.9838264299802763, 0.9900065746219593, 0.9700197238658778, 0.9687047994740302, 0.9176857330703484, 0.9378040762656148, 0.9380670611439843, 0.9367521367521366, 0.9731755424063117, 0.9292570677186063, 0.9866535174227481, 0.9779092702169626, 0.9734385272846812, 0.936094674556213, 0.9602892833662064, 0.9863247863247864, 0.9751479289940829, 0.9881656804733728, 0.9789612097304404, 0.9767258382642998, 0.9723865877712032, 0.9721236028928336, 0.9939513477975016, 0.9120315581854044, 0.9698882314266928, 0.9809335963182116, 0.9961867192636424, 0.9935568704799473]}, {\"categories\": [\"0\", \"1\", \"2\", \"3\", \"4\", \"5\", \"6\", \"7\", \"8\", \"9\", \"10\", \"11\", \"12\", \"13\", \"14\", \"15\", \"16\", \"17\", \"18\", \"19\", \"20\", \"21\", \"22\", \"23\", \"24\", \"25\", \"26\", \"27\", \"28\", \"29\", \"30\", \"31\", \"32\", \"33\", \"34\", \"35\", \"36\", \"37\", \"38\", \"39\", \"40\", \"41\", \"42\", \"43\", \"44\", \"45\", \"46\", \"47\", \"48\", \"49\", \"50\", \"51\", \"52\", \"53\"], \"mode\": \"lines\", \"name\": \"AUC_micro_max\", \"stepped\": true, \"type\": \"scatter\", \"data\": [0.9935568704799473, 0.9935568704799473, 0.9935568704799473, 0.9935568704799473, 0.9935568704799473, 0.9935568704799473, 0.9935568704799473, 0.9935568704799473, 0.9935568704799473, 0.9935568704799473, 0.9935568704799473, 0.9935568704799473, 0.9935568704799473, 0.9935568704799473, 0.9935568704799473, 0.9935568704799473, 0.9935568704799473, 0.9935568704799473, 0.9935568704799473, 0.9935568704799473, 0.9935568704799473, 0.9935568704799473, 0.9935568704799473, 0.9935568704799473, 0.9935568704799473, 0.9935568704799473, 0.9935568704799473, 0.9935568704799473, 0.9935568704799473, 0.9935568704799473, 0.9935568704799473, 0.9935568704799473, 0.9935568704799473, 0.9935568704799473, 0.9935568704799473, 0.9935568704799473, 0.9935568704799473, 0.9935568704799473, 0.9935568704799473, 0.9935568704799473, 0.9935568704799473, 0.9935568704799473, 0.9935568704799473, 0.9935568704799473, 0.9935568704799473, 0.9935568704799473, 0.9935568704799473, 0.9935568704799473, 0.9939513477975016, 0.9939513477975016, 0.9939513477975016, 0.9939513477975016, 0.9961867192636424, 0.9961867192636424]}], \"recall_score_micro\": [{\"categories\": [\"0\", \"1\", \"2\", \"3\", \"4\", \"5\", \"6\", \"7\", \"8\", \"9\", \"10\", \"11\", \"12\", \"13\", \"14\", \"15\", \"16\", \"17\", \"18\", \"19\", \"20\", \"21\", \"22\", \"23\", \"24\", \"25\", \"26\", \"27\", \"28\", \"29\", \"30\", \"31\", \"32\", \"33\", \"34\", \"35\", \"36\", \"37\", \"38\", \"39\", \"40\", \"41\", \"42\", \"43\", \"44\", \"45\", \"46\", \"47\", \"48\", \"49\", \"50\", \"51\", \"52\", \"53\"], \"mode\": \"markers\", \"name\": \"recall_score_micro\", \"stepped\": false, \"type\": \"scatter\", \"data\": [0.964102564102564, 0.964102564102564, 0.9128205128205128, 0.876923076923077, 0.9128205128205128, 0.8564102564102564, 0.9589743589743589, 0.9589743589743589, 0.9435897435897436, 0.9384615384615385, 0.9589743589743589, 0.8923076923076924, 0.9282051282051282, 0.9333333333333333, 0.9333333333333333, 0.8974358974358975, 0.9538461538461538, 0.876923076923077, 0.9076923076923077, 0.9076923076923078, 0.8974358974358975, 0.8820512820512821, 0.9333333333333333, 0.9384615384615385, 0.9179487179487179, 0.7538461538461538, 0.9538461538461538, 0.9589743589743589, 0.9282051282051282, 0.9076923076923077, 0.8153846153846154, 0.8307692307692307, 0.8307692307692307, 0.8410256410256409, 0.9282051282051282, 0.876923076923077, 0.9487179487179487, 0.9333333333333332, 0.9282051282051281, 0.8358974358974359, 0.8974358974358975, 0.9487179487179487, 0.9435897435897436, 0.9589743589743589, 0.9384615384615385, 0.9230769230769231, 0.9487179487179487, 0.9487179487179487, 0.9692307692307691, 0.7538461538461538, 0.9230769230769231, 0.9435897435897435, 0.9743589743589742, 0.964102564102564]}, {\"categories\": [\"0\", \"1\", \"2\", \"3\", \"4\", \"5\", \"6\", \"7\", \"8\", \"9\", \"10\", \"11\", \"12\", \"13\", \"14\", \"15\", \"16\", \"17\", \"18\", \"19\", \"20\", \"21\", \"22\", \"23\", \"24\", \"25\", \"26\", \"27\", \"28\", \"29\", \"30\", \"31\", \"32\", \"33\", \"34\", \"35\", \"36\", \"37\", \"38\", \"39\", \"40\", \"41\", \"42\", \"43\", \"44\", \"45\", \"46\", \"47\", \"48\", \"49\", \"50\", \"51\", \"52\", \"53\"], \"mode\": \"lines\", \"name\": \"recall_score_micro_max\", \"stepped\": true, \"type\": \"scatter\", \"data\": [0.964102564102564, 0.964102564102564, 0.964102564102564, 0.964102564102564, 0.964102564102564, 0.964102564102564, 0.964102564102564, 0.964102564102564, 0.964102564102564, 0.964102564102564, 0.964102564102564, 0.964102564102564, 0.964102564102564, 0.964102564102564, 0.964102564102564, 0.964102564102564, 0.964102564102564, 0.964102564102564, 0.964102564102564, 0.964102564102564, 0.964102564102564, 0.964102564102564, 0.964102564102564, 0.964102564102564, 0.964102564102564, 0.964102564102564, 0.964102564102564, 0.964102564102564, 0.964102564102564, 0.964102564102564, 0.964102564102564, 0.964102564102564, 0.964102564102564, 0.964102564102564, 0.964102564102564, 0.964102564102564, 0.964102564102564, 0.964102564102564, 0.964102564102564, 0.964102564102564, 0.964102564102564, 0.964102564102564, 0.964102564102564, 0.964102564102564, 0.964102564102564, 0.964102564102564, 0.964102564102564, 0.964102564102564, 0.9692307692307691, 0.9692307692307691, 0.9692307692307691, 0.9692307692307691, 0.9743589743589742, 0.9743589743589742]}], \"precision_score_weighted\": [{\"categories\": [\"0\", \"1\", \"2\", \"3\", \"4\", \"5\", \"6\", \"7\", \"8\", \"9\", \"10\", \"11\", \"12\", \"13\", \"14\", \"15\", \"16\", \"17\", \"18\", \"19\", \"20\", \"21\", \"22\", \"23\", \"24\", \"25\", \"26\", \"27\", \"28\", \"29\", \"30\", \"31\", \"32\", \"33\", \"34\", \"35\", \"36\", \"37\", \"38\", \"39\", \"40\", \"41\", \"42\", \"43\", \"44\", \"45\", \"46\", \"47\", \"48\", \"49\", \"50\", \"51\", \"52\", \"53\"], \"mode\": \"markers\", \"name\": \"precision_score_weighted\", \"stepped\": false, \"type\": \"scatter\", \"data\": [0.9661716419780937, 0.9671144133644134, 0.918196318931613, 0.8808469308469308, 0.9204816709292413, 0.8789707663901212, 0.9635618211993924, 0.9615277777777778, 0.9481452239516756, 0.9455345308286486, 0.9650916213416213, 0.8919615107115106, 0.9360299830888067, 0.9341391583327067, 0.9374242424242423, 0.907307873930592, 0.9579370629370629, 0.8761051366933719, 0.9135396194219723, 0.9129728659140424, 0.9085233972821631, 0.8928384034266387, 0.9392560870502045, 0.9450327450327449, 0.9285144485144485, 0.5721236028928336, 0.9581293706293706, 0.9630134680134679, 0.9307443482443482, 0.9161528014469191, 0.8013383430295196, 0.837860645373843, 0.837860645373843, 0.8450450504749147, 0.9339342139342138, 0.88228255404726, 0.9549339549339549, 0.9400641025641026, 0.9364320320202673, 0.8371476453829395, 0.9024096274096273, 0.9517832167832168, 0.9484505667570182, 0.9628269878269877, 0.9450327450327449, 0.9242235015084477, 0.9501814493749977, 0.9511341436341436, 0.9711858974358973, 0.5721236028928336, 0.923935185185185, 0.9494529000411355, 0.9756730769230769, 0.9668476013234077]}, {\"categories\": [\"0\", \"1\", \"2\", \"3\", \"4\", \"5\", \"6\", \"7\", \"8\", \"9\", \"10\", \"11\", \"12\", \"13\", \"14\", \"15\", \"16\", \"17\", \"18\", \"19\", \"20\", \"21\", \"22\", \"23\", \"24\", \"25\", \"26\", \"27\", \"28\", \"29\", \"30\", \"31\", \"32\", \"33\", \"34\", \"35\", \"36\", \"37\", \"38\", \"39\", \"40\", \"41\", \"42\", \"43\", \"44\", \"45\", \"46\", \"47\", \"48\", \"49\", \"50\", \"51\", \"52\", \"53\"], \"mode\": \"lines\", \"name\": \"precision_score_weighted_max\", \"stepped\": true, \"type\": \"scatter\", \"data\": [0.9661716419780937, 0.9671144133644134, 0.9671144133644134, 0.9671144133644134, 0.9671144133644134, 0.9671144133644134, 0.9671144133644134, 0.9671144133644134, 0.9671144133644134, 0.9671144133644134, 0.9671144133644134, 0.9671144133644134, 0.9671144133644134, 0.9671144133644134, 0.9671144133644134, 0.9671144133644134, 0.9671144133644134, 0.9671144133644134, 0.9671144133644134, 0.9671144133644134, 0.9671144133644134, 0.9671144133644134, 0.9671144133644134, 0.9671144133644134, 0.9671144133644134, 0.9671144133644134, 0.9671144133644134, 0.9671144133644134, 0.9671144133644134, 0.9671144133644134, 0.9671144133644134, 0.9671144133644134, 0.9671144133644134, 0.9671144133644134, 0.9671144133644134, 0.9671144133644134, 0.9671144133644134, 0.9671144133644134, 0.9671144133644134, 0.9671144133644134, 0.9671144133644134, 0.9671144133644134, 0.9671144133644134, 0.9671144133644134, 0.9671144133644134, 0.9671144133644134, 0.9671144133644134, 0.9671144133644134, 0.9711858974358973, 0.9711858974358973, 0.9711858974358973, 0.9711858974358973, 0.9756730769230769, 0.9756730769230769]}], \"recall_score_weighted\": [{\"categories\": [\"0\", \"1\", \"2\", \"3\", \"4\", \"5\", \"6\", \"7\", \"8\", \"9\", \"10\", \"11\", \"12\", \"13\", \"14\", \"15\", \"16\", \"17\", \"18\", \"19\", \"20\", \"21\", \"22\", \"23\", \"24\", \"25\", \"26\", \"27\", \"28\", \"29\", \"30\", \"31\", \"32\", \"33\", \"34\", \"35\", \"36\", \"37\", \"38\", \"39\", \"40\", \"41\", \"42\", \"43\", \"44\", \"45\", \"46\", \"47\", \"48\", \"49\", \"50\", \"51\", \"52\", \"53\"], \"mode\": \"markers\", \"name\": \"recall_score_weighted\", \"stepped\": false, \"type\": \"scatter\", \"data\": [0.964102564102564, 0.964102564102564, 0.9128205128205128, 0.876923076923077, 0.9128205128205128, 0.8564102564102564, 0.9589743589743589, 0.9589743589743589, 0.9435897435897436, 0.9384615384615385, 0.9589743589743589, 0.8923076923076924, 0.9282051282051282, 0.9333333333333333, 0.9333333333333333, 0.8974358974358975, 0.9538461538461538, 0.876923076923077, 0.9076923076923077, 0.9076923076923078, 0.8974358974358975, 0.8820512820512821, 0.9333333333333333, 0.9384615384615385, 0.9179487179487179, 0.7538461538461538, 0.9538461538461538, 0.9589743589743589, 0.9282051282051282, 0.9076923076923077, 0.8153846153846154, 0.8307692307692307, 0.8307692307692307, 0.8410256410256409, 0.9282051282051282, 0.876923076923077, 0.9487179487179487, 0.9333333333333332, 0.9282051282051281, 0.8358974358974359, 0.8974358974358975, 0.9487179487179487, 0.9435897435897436, 0.9589743589743589, 0.9384615384615385, 0.9230769230769231, 0.9487179487179487, 0.9487179487179487, 0.9692307692307691, 0.7538461538461538, 0.9230769230769231, 0.9435897435897435, 0.9743589743589742, 0.964102564102564]}, {\"categories\": [\"0\", \"1\", \"2\", \"3\", \"4\", \"5\", \"6\", \"7\", \"8\", \"9\", \"10\", \"11\", \"12\", \"13\", \"14\", \"15\", \"16\", \"17\", \"18\", \"19\", \"20\", \"21\", \"22\", \"23\", \"24\", \"25\", \"26\", \"27\", \"28\", \"29\", \"30\", \"31\", \"32\", \"33\", \"34\", \"35\", \"36\", \"37\", \"38\", \"39\", \"40\", \"41\", \"42\", \"43\", \"44\", \"45\", \"46\", \"47\", \"48\", \"49\", \"50\", \"51\", \"52\", \"53\"], \"mode\": \"lines\", \"name\": \"recall_score_weighted_max\", \"stepped\": true, \"type\": \"scatter\", \"data\": [0.964102564102564, 0.964102564102564, 0.964102564102564, 0.964102564102564, 0.964102564102564, 0.964102564102564, 0.964102564102564, 0.964102564102564, 0.964102564102564, 0.964102564102564, 0.964102564102564, 0.964102564102564, 0.964102564102564, 0.964102564102564, 0.964102564102564, 0.964102564102564, 0.964102564102564, 0.964102564102564, 0.964102564102564, 0.964102564102564, 0.964102564102564, 0.964102564102564, 0.964102564102564, 0.964102564102564, 0.964102564102564, 0.964102564102564, 0.964102564102564, 0.964102564102564, 0.964102564102564, 0.964102564102564, 0.964102564102564, 0.964102564102564, 0.964102564102564, 0.964102564102564, 0.964102564102564, 0.964102564102564, 0.964102564102564, 0.964102564102564, 0.964102564102564, 0.964102564102564, 0.964102564102564, 0.964102564102564, 0.964102564102564, 0.964102564102564, 0.964102564102564, 0.964102564102564, 0.964102564102564, 0.964102564102564, 0.9692307692307691, 0.9692307692307691, 0.9692307692307691, 0.9692307692307691, 0.9743589743589742, 0.9743589743589742]}], \"log_loss\": [{\"categories\": [\"0\", \"1\", \"2\", \"3\", \"4\", \"5\", \"6\", \"7\", \"8\", \"9\", \"10\", \"11\", \"12\", \"13\", \"14\", \"15\", \"16\", \"17\", \"18\", \"19\", \"20\", \"21\", \"22\", \"23\", \"24\", \"25\", \"26\", \"27\", \"28\", \"29\", \"30\", \"31\", \"32\", \"33\", \"34\", \"35\", \"36\", \"37\", \"38\", \"39\", \"40\", \"41\", \"42\", \"43\", \"44\", \"45\", \"46\", \"47\", \"48\", \"49\", \"50\", \"51\", \"52\", \"53\"], \"mode\": \"markers\", \"name\": \"log_loss\", \"stepped\": false, \"type\": \"scatter\", \"data\": [0.09697701271279814, 0.1254761327246973, 0.23707903958420826, 0.26373754555894613, 0.23574809373756067, 0.28734765987708605, 0.1303592276818635, 0.13125410232251947, 0.3202055996853156, 0.15733466440740762, 0.13207498351574212, 0.4089979873158792, 0.2194404630438071, 0.20893664580303128, 0.21497969789440124, 0.3712864068790528, 0.1635776035655999, 0.36818370669205736, 0.25915740229172907, 0.2770674867746043, 0.3694263933535289, 0.32525609838798897, 0.17465058954245266, 0.21902033334994525, 0.3623600510107209, 0.563789494969109, 0.1699650204654223, 0.12856168360401313, 0.20786988667946954, 0.2733796429530427, 0.3643086332764904, 0.31632767037976306, 0.31585091714036057, 0.3164898705027713, 0.263609378954822, 0.3580970585367764, 0.16635041227821643, 0.2118539563323484, 0.2217408965966791, 0.32289433907476994, 0.24682003871967625, 0.16055973517613326, 0.18357101630741418, 0.18225834785619116, 0.17421374087591363, 0.2518618122890248, 0.2010397028572362, 0.1945043519633789, 0.10735728970072093, 0.4320060446646311, 0.2259511907470922, 0.16877462982467656, 0.10233741071608511, 0.11575940699711922]}, {\"categories\": [\"0\", \"1\", \"2\", \"3\", \"4\", \"5\", \"6\", \"7\", \"8\", \"9\", \"10\", \"11\", \"12\", \"13\", \"14\", \"15\", \"16\", \"17\", \"18\", \"19\", \"20\", \"21\", \"22\", \"23\", \"24\", \"25\", \"26\", \"27\", \"28\", \"29\", \"30\", \"31\", \"32\", \"33\", \"34\", \"35\", \"36\", \"37\", \"38\", \"39\", \"40\", \"41\", \"42\", \"43\", \"44\", \"45\", \"46\", \"47\", \"48\", \"49\", \"50\", \"51\", \"52\", \"53\"], \"mode\": \"lines\", \"name\": \"log_loss_min\", \"stepped\": true, \"type\": \"scatter\", \"data\": [0.09697701271279814, 0.09697701271279814, 0.09697701271279814, 0.09697701271279814, 0.09697701271279814, 0.09697701271279814, 0.09697701271279814, 0.09697701271279814, 0.09697701271279814, 0.09697701271279814, 0.09697701271279814, 0.09697701271279814, 0.09697701271279814, 0.09697701271279814, 0.09697701271279814, 0.09697701271279814, 0.09697701271279814, 0.09697701271279814, 0.09697701271279814, 0.09697701271279814, 0.09697701271279814, 0.09697701271279814, 0.09697701271279814, 0.09697701271279814, 0.09697701271279814, 0.09697701271279814, 0.09697701271279814, 0.09697701271279814, 0.09697701271279814, 0.09697701271279814, 0.09697701271279814, 0.09697701271279814, 0.09697701271279814, 0.09697701271279814, 0.09697701271279814, 0.09697701271279814, 0.09697701271279814, 0.09697701271279814, 0.09697701271279814, 0.09697701271279814, 0.09697701271279814, 0.09697701271279814, 0.09697701271279814, 0.09697701271279814, 0.09697701271279814, 0.09697701271279814, 0.09697701271279814, 0.09697701271279814, 0.09697701271279814, 0.09697701271279814, 0.09697701271279814, 0.09697701271279814, 0.09697701271279814, 0.09697701271279814]}], \"f1_score_macro\": [{\"categories\": [\"0\", \"1\", \"2\", \"3\", \"4\", \"5\", \"6\", \"7\", \"8\", \"9\", \"10\", \"11\", \"12\", \"13\", \"14\", \"15\", \"16\", \"17\", \"18\", \"19\", \"20\", \"21\", \"22\", \"23\", \"24\", \"25\", \"26\", \"27\", \"28\", \"29\", \"30\", \"31\", \"32\", \"33\", \"34\", \"35\", \"36\", \"37\", \"38\", \"39\", \"40\", \"41\", \"42\", \"43\", \"44\", \"45\", \"46\", \"47\", \"48\", \"49\", \"50\", \"51\", \"52\", \"53\"], \"mode\": \"markers\", \"name\": \"f1_score_macro\", \"stepped\": false, \"type\": \"scatter\", \"data\": [0.9507859793154119, 0.9491927205018195, 0.8661911609895482, 0.8132290444643608, 0.8691055427547363, 0.8158745887652217, 0.9462476538222282, 0.9452418253721738, 0.9153719279885408, 0.9057242063492064, 0.9457884748102139, 0.8352118064612739, 0.8906184002739425, 0.8966090629800307, 0.8952219933208729, 0.861451870279974, 0.9299227741708475, 0.8026868448637317, 0.8567796092796092, 0.8563729326229327, 0.836572030120417, 0.8172394248326231, 0.8991551459293394, 0.8989034507523304, 0.8928171934607217, 0.4290879130280404, 0.9335857020403789, 0.9398117912530901, 0.8911199707914312, 0.8508637374156243, 0.7179980158730158, 0.7548166750097799, 0.7548166750097799, 0.7666382664176782, 0.9000317028799326, 0.7976194276737756, 0.9251911683377972, 0.9008883992002312, 0.8805899586888384, 0.7503415898617511, 0.8540945785747679, 0.9294274335547582, 0.9150498864911853, 0.9360701142109205, 0.8989034507523304, 0.8873504273504272, 0.9202188949350232, 0.9208866758605556, 0.9553190917028769, 0.4290879130280404, 0.8856455097219691, 0.9108271520510318, 0.9635730599568451, 0.9507424475166409]}, {\"categories\": [\"0\", \"1\", \"2\", \"3\", \"4\", \"5\", \"6\", \"7\", \"8\", \"9\", \"10\", \"11\", \"12\", \"13\", \"14\", \"15\", \"16\", \"17\", \"18\", \"19\", \"20\", \"21\", \"22\", \"23\", \"24\", \"25\", \"26\", \"27\", \"28\", \"29\", \"30\", \"31\", \"32\", \"33\", \"34\", \"35\", \"36\", \"37\", \"38\", \"39\", \"40\", \"41\", \"42\", \"43\", \"44\", \"45\", \"46\", \"47\", \"48\", \"49\", \"50\", \"51\", \"52\", \"53\"], \"mode\": \"lines\", \"name\": \"f1_score_macro_max\", \"stepped\": true, \"type\": \"scatter\", \"data\": [0.9507859793154119, 0.9507859793154119, 0.9507859793154119, 0.9507859793154119, 0.9507859793154119, 0.9507859793154119, 0.9507859793154119, 0.9507859793154119, 0.9507859793154119, 0.9507859793154119, 0.9507859793154119, 0.9507859793154119, 0.9507859793154119, 0.9507859793154119, 0.9507859793154119, 0.9507859793154119, 0.9507859793154119, 0.9507859793154119, 0.9507859793154119, 0.9507859793154119, 0.9507859793154119, 0.9507859793154119, 0.9507859793154119, 0.9507859793154119, 0.9507859793154119, 0.9507859793154119, 0.9507859793154119, 0.9507859793154119, 0.9507859793154119, 0.9507859793154119, 0.9507859793154119, 0.9507859793154119, 0.9507859793154119, 0.9507859793154119, 0.9507859793154119, 0.9507859793154119, 0.9507859793154119, 0.9507859793154119, 0.9507859793154119, 0.9507859793154119, 0.9507859793154119, 0.9507859793154119, 0.9507859793154119, 0.9507859793154119, 0.9507859793154119, 0.9507859793154119, 0.9507859793154119, 0.9507859793154119, 0.9553190917028769, 0.9553190917028769, 0.9553190917028769, 0.9553190917028769, 0.9635730599568451, 0.9635730599568451]}], \"f1_score_weighted\": [{\"categories\": [\"0\", \"1\", \"2\", \"3\", \"4\", \"5\", \"6\", \"7\", \"8\", \"9\", \"10\", \"11\", \"12\", \"13\", \"14\", \"15\", \"16\", \"17\", \"18\", \"19\", \"20\", \"21\", \"22\", \"23\", \"24\", \"25\", \"26\", \"27\", \"28\", \"29\", \"30\", \"31\", \"32\", \"33\", \"34\", \"35\", \"36\", \"37\", \"38\", \"39\", \"40\", \"41\", \"42\", \"43\", \"44\", \"45\", \"46\", \"47\", \"48\", \"49\", \"50\", \"51\", \"52\", \"53\"], \"mode\": \"markers\", \"name\": \"f1_score_weighted\", \"stepped\": false, \"type\": \"scatter\", \"data\": [0.9635496298140946, 0.9628368745273296, 0.907144238446968, 0.8684144804233643, 0.9075315425315426, 0.858439308468238, 0.9584621125107912, 0.9576278695743566, 0.941134410624682, 0.933589234839235, 0.958062147192582, 0.8863616284078853, 0.9241123418448403, 0.9308704557091654, 0.929280413676171, 0.8962022983502254, 0.9509318998841086, 0.8672982545058018, 0.9004499702576625, 0.9010256766025997, 0.8894386534336907, 0.8736045444208864, 0.9294694552759071, 0.9326258645216218, 0.9167846071764011, 0.6495164816362269, 0.9516928018229851, 0.9567412444289884, 0.924996898505559, 0.8987013884089355, 0.8031491656491656, 0.825714020175548, 0.825714020175548, 0.8346678357952866, 0.9271486763504762, 0.8633252811848131, 0.946186761482927, 0.9301879785748536, 0.9213824782782355, 0.8270220371026824, 0.8927718775562393, 0.9472988520517653, 0.9416995178032883, 0.9565473647959273, 0.9326258645216218, 0.9202504617889234, 0.9469043983713705, 0.9464609183566756, 0.9686997648666222, 0.6495164816362269, 0.920437594411306, 0.9388617120074692, 0.9736977298645872, 0.9632260690325207]}, {\"categories\": [\"0\", \"1\", \"2\", \"3\", \"4\", \"5\", \"6\", \"7\", \"8\", \"9\", \"10\", \"11\", \"12\", \"13\", \"14\", \"15\", \"16\", \"17\", \"18\", \"19\", \"20\", \"21\", \"22\", \"23\", \"24\", \"25\", \"26\", \"27\", \"28\", \"29\", \"30\", \"31\", \"32\", \"33\", \"34\", \"35\", \"36\", \"37\", \"38\", \"39\", \"40\", \"41\", \"42\", \"43\", \"44\", \"45\", \"46\", \"47\", \"48\", \"49\", \"50\", \"51\", \"52\", \"53\"], \"mode\": \"lines\", \"name\": \"f1_score_weighted_max\", \"stepped\": true, \"type\": \"scatter\", \"data\": [0.9635496298140946, 0.9635496298140946, 0.9635496298140946, 0.9635496298140946, 0.9635496298140946, 0.9635496298140946, 0.9635496298140946, 0.9635496298140946, 0.9635496298140946, 0.9635496298140946, 0.9635496298140946, 0.9635496298140946, 0.9635496298140946, 0.9635496298140946, 0.9635496298140946, 0.9635496298140946, 0.9635496298140946, 0.9635496298140946, 0.9635496298140946, 0.9635496298140946, 0.9635496298140946, 0.9635496298140946, 0.9635496298140946, 0.9635496298140946, 0.9635496298140946, 0.9635496298140946, 0.9635496298140946, 0.9635496298140946, 0.9635496298140946, 0.9635496298140946, 0.9635496298140946, 0.9635496298140946, 0.9635496298140946, 0.9635496298140946, 0.9635496298140946, 0.9635496298140946, 0.9635496298140946, 0.9635496298140946, 0.9635496298140946, 0.9635496298140946, 0.9635496298140946, 0.9635496298140946, 0.9635496298140946, 0.9635496298140946, 0.9635496298140946, 0.9635496298140946, 0.9635496298140946, 0.9635496298140946, 0.9686997648666222, 0.9686997648666222, 0.9686997648666222, 0.9686997648666222, 0.9736977298645872, 0.9736977298645872]}], \"precision_score_macro\": [{\"categories\": [\"0\", \"1\", \"2\", \"3\", \"4\", \"5\", \"6\", \"7\", \"8\", \"9\", \"10\", \"11\", \"12\", \"13\", \"14\", \"15\", \"16\", \"17\", \"18\", \"19\", \"20\", \"21\", \"22\", \"23\", \"24\", \"25\", \"26\", \"27\", \"28\", \"29\", \"30\", \"31\", \"32\", \"33\", \"34\", \"35\", \"36\", \"37\", \"38\", \"39\", \"40\", \"41\", \"42\", \"43\", \"44\", \"45\", \"46\", \"47\", \"48\", \"49\", \"50\", \"51\", \"52\", \"53\"], \"mode\": \"markers\", \"name\": \"precision_score_macro\", \"stepped\": false, \"type\": \"scatter\", \"data\": [0.9647653116257121, 0.9719507575757576, 0.9302515703250999, 0.8769751082251084, 0.9172950649404223, 0.8132466489140571, 0.9585402171621336, 0.9668749999999999, 0.9486816610808546, 0.9576426024955438, 0.9655618686868687, 0.8733225108225108, 0.9491978609625669, 0.9085043988269795, 0.9338636363636365, 0.8775251134936732, 0.9689015151515152, 0.8563537687802395, 0.9252970885323826, 0.925118835412953, 0.9108408696259328, 0.8852915711739241, 0.9335084033613444, 0.9606926406926407, 0.9114087301587303, 0.3769230769230769, 0.965909090909091, 0.9638510101010102, 0.912507215007215, 0.9315062388591802, 0.7414842436974791, 0.7837564219549514, 0.7837564219549514, 0.800623004446534, 0.9177725701717637, 0.8889215686274511, 0.9554367201426025, 0.9406775210084033, 0.9455188439011968, 0.7885770157525375, 0.8882936507936507, 0.9445202020202021, 0.9352283782525717, 0.9674873737373737, 0.9606926406926407, 0.9125627434095176, 0.9389278732020667, 0.9432656926406926, 0.968125, 0.3769230769230769, 0.9001289682539682, 0.9633868092691623, 0.9806250000000001, 0.9716733870967742]}, {\"categories\": [\"0\", \"1\", \"2\", \"3\", \"4\", \"5\", \"6\", \"7\", \"8\", \"9\", \"10\", \"11\", \"12\", \"13\", \"14\", \"15\", \"16\", \"17\", \"18\", \"19\", \"20\", \"21\", \"22\", \"23\", \"24\", \"25\", \"26\", \"27\", \"28\", \"29\", \"30\", \"31\", \"32\", \"33\", \"34\", \"35\", \"36\", \"37\", \"38\", \"39\", \"40\", \"41\", \"42\", \"43\", \"44\", \"45\", \"46\", \"47\", \"48\", \"49\", \"50\", \"51\", \"52\", \"53\"], \"mode\": \"lines\", \"name\": \"precision_score_macro_max\", \"stepped\": true, \"type\": \"scatter\", \"data\": [0.9647653116257121, 0.9719507575757576, 0.9719507575757576, 0.9719507575757576, 0.9719507575757576, 0.9719507575757576, 0.9719507575757576, 0.9719507575757576, 0.9719507575757576, 0.9719507575757576, 0.9719507575757576, 0.9719507575757576, 0.9719507575757576, 0.9719507575757576, 0.9719507575757576, 0.9719507575757576, 0.9719507575757576, 0.9719507575757576, 0.9719507575757576, 0.9719507575757576, 0.9719507575757576, 0.9719507575757576, 0.9719507575757576, 0.9719507575757576, 0.9719507575757576, 0.9719507575757576, 0.9719507575757576, 0.9719507575757576, 0.9719507575757576, 0.9719507575757576, 0.9719507575757576, 0.9719507575757576, 0.9719507575757576, 0.9719507575757576, 0.9719507575757576, 0.9719507575757576, 0.9719507575757576, 0.9719507575757576, 0.9719507575757576, 0.9719507575757576, 0.9719507575757576, 0.9719507575757576, 0.9719507575757576, 0.9719507575757576, 0.9719507575757576, 0.9719507575757576, 0.9719507575757576, 0.9719507575757576, 0.9719507575757576, 0.9719507575757576, 0.9719507575757576, 0.9719507575757576, 0.9806250000000001, 0.9806250000000001]}], \"average_precision_score_macro\": [{\"categories\": [\"0\", \"1\", \"2\", \"3\", \"4\", \"5\", \"6\", \"7\", \"8\", \"9\", \"10\", \"11\", \"12\", \"13\", \"14\", \"15\", \"16\", \"17\", \"18\", \"19\", \"20\", \"21\", \"22\", \"23\", \"24\", \"25\", \"26\", \"27\", \"28\", \"29\", \"30\", \"31\", \"32\", \"33\", \"34\", \"35\", \"36\", \"37\", \"38\", \"39\", \"40\", \"41\", \"42\", \"43\", \"44\", \"45\", \"46\", \"47\", \"48\", \"49\", \"50\", \"51\", \"52\", \"53\"], \"mode\": \"markers\", \"name\": \"average_precision_score_macro\", \"stepped\": false, \"type\": \"scatter\", \"data\": [0.9911416177596116, 0.9929083781751883, 0.9468624923736929, 0.9382118500993819, 0.9461477529231009, 0.9538147381901171, 0.9845373971656045, 0.9845373971656045, 0.9730556705527814, 0.9828409572616457, 0.9964257856341188, 0.9157301448913664, 0.9659389102484537, 0.948368794568346, 0.9559650718264766, 0.9165888631830612, 0.9762935013924132, 0.8897627484949734, 0.9560608409520904, 0.9527793776458674, 0.9514104206194796, 0.8926011478466332, 0.9815124812047854, 0.9496140920618237, 0.9503231130601311, 0.9461555045747836, 0.9771328449357467, 0.9877004187197468, 0.9433360227322414, 0.9528119819668645, 0.8550740733530215, 0.893697605950622, 0.8921035541626047, 0.8949213394363934, 0.9608877986242564, 0.891765435020984, 0.9794894150048801, 0.9677273898320484, 0.9594451104130665, 0.8906791030301324, 0.9383375321647579, 0.9735208708607331, 0.9555412198859617, 0.9846484237291013, 0.9668431186002694, 0.9613429968679366, 0.950055187801081, 0.9517916677509379, 0.9920096043704077, 0.925987799061722, 0.9398626141308141, 0.9697187598585595, 0.9999999999999998, 0.9987813620071684]}, {\"categories\": [\"0\", \"1\", \"2\", \"3\", \"4\", \"5\", \"6\", \"7\", \"8\", \"9\", \"10\", \"11\", \"12\", \"13\", \"14\", \"15\", \"16\", \"17\", \"18\", \"19\", \"20\", \"21\", \"22\", \"23\", \"24\", \"25\", \"26\", \"27\", \"28\", \"29\", \"30\", \"31\", \"32\", \"33\", \"34\", \"35\", \"36\", \"37\", \"38\", \"39\", \"40\", \"41\", \"42\", \"43\", \"44\", \"45\", \"46\", \"47\", \"48\", \"49\", \"50\", \"51\", \"52\", \"53\"], \"mode\": \"lines\", \"name\": \"average_precision_score_macro_max\", \"stepped\": true, \"type\": \"scatter\", \"data\": [0.9911416177596116, 0.9929083781751883, 0.9929083781751883, 0.9929083781751883, 0.9929083781751883, 0.9929083781751883, 0.9929083781751883, 0.9929083781751883, 0.9929083781751883, 0.9929083781751883, 0.9964257856341188, 0.9964257856341188, 0.9964257856341188, 0.9964257856341188, 0.9964257856341188, 0.9964257856341188, 0.9964257856341188, 0.9964257856341188, 0.9964257856341188, 0.9964257856341188, 0.9964257856341188, 0.9964257856341188, 0.9964257856341188, 0.9964257856341188, 0.9964257856341188, 0.9964257856341188, 0.9964257856341188, 0.9964257856341188, 0.9964257856341188, 0.9964257856341188, 0.9964257856341188, 0.9964257856341188, 0.9964257856341188, 0.9964257856341188, 0.9964257856341188, 0.9964257856341188, 0.9964257856341188, 0.9964257856341188, 0.9964257856341188, 0.9964257856341188, 0.9964257856341188, 0.9964257856341188, 0.9964257856341188, 0.9964257856341188, 0.9964257856341188, 0.9964257856341188, 0.9964257856341188, 0.9964257856341188, 0.9964257856341188, 0.9964257856341188, 0.9964257856341188, 0.9964257856341188, 0.9999999999999998, 0.9999999999999998]}], \"balanced_accuracy\": [{\"categories\": [\"0\", \"1\", \"2\", \"3\", \"4\", \"5\", \"6\", \"7\", \"8\", \"9\", \"10\", \"11\", \"12\", \"13\", \"14\", \"15\", \"16\", \"17\", \"18\", \"19\", \"20\", \"21\", \"22\", \"23\", \"24\", \"25\", \"26\", \"27\", \"28\", \"29\", \"30\", \"31\", \"32\", \"33\", \"34\", \"35\", \"36\", \"37\", \"38\", \"39\", \"40\", \"41\", \"42\", \"43\", \"44\", \"45\", \"46\", \"47\", \"48\", \"49\", \"50\", \"51\", \"52\", \"53\"], \"mode\": \"markers\", \"name\": \"balanced_accuracy\", \"stepped\": false, \"type\": \"scatter\", \"data\": [0.9424406130268199, 0.9361666666666666, 0.8333297491039428, 0.7874604542966612, 0.8532761776753712, 0.8427552836484983, 0.9425519713261649, 0.9326349206349207, 0.8984781746031747, 0.8836666666666666, 0.9381666666666666, 0.8159830477426417, 0.861095238095238, 0.8945643969489909, 0.8788158602150536, 0.8662137273337217, 0.9087777777777777, 0.7806870287974292, 0.8251154633896569, 0.8219408602150537, 0.8147658730158731, 0.7985976062467998, 0.8884269713261649, 0.8726666666666667, 0.8913778890124829, 0.5, 0.9161666666666667, 0.930551971326165, 0.8858536954640959, 0.8180043522785458, 0.7119812004520013, 0.7567707461553402, 0.7567707461553402, 0.7631215526069532, 0.8940818700672706, 0.7629108511220579, 0.9151072796934866, 0.8836448412698413, 0.8584305555555556, 0.7459854158942034, 0.8435060892172961, 0.9248872887864822, 0.910413082437276, 0.9202662570404506, 0.8726666666666667, 0.8741335942052014, 0.9110160098522166, 0.9103634792626728, 0.9481527777777778, 0.5, 0.882405419602027, 0.8865555555555555, 0.9512777777777778, 0.9372777777777778]}, {\"categories\": [\"0\", \"1\", \"2\", \"3\", \"4\", \"5\", \"6\", \"7\", \"8\", \"9\", \"10\", \"11\", \"12\", \"13\", \"14\", \"15\", \"16\", \"17\", \"18\", \"19\", \"20\", \"21\", \"22\", \"23\", \"24\", \"25\", \"26\", \"27\", \"28\", \"29\", \"30\", \"31\", \"32\", \"33\", \"34\", \"35\", \"36\", \"37\", \"38\", \"39\", \"40\", \"41\", \"42\", \"43\", \"44\", \"45\", \"46\", \"47\", \"48\", \"49\", \"50\", \"51\", \"52\", \"53\"], \"mode\": \"lines\", \"name\": \"balanced_accuracy_max\", \"stepped\": true, \"type\": \"scatter\", \"data\": [0.9424406130268199, 0.9424406130268199, 0.9424406130268199, 0.9424406130268199, 0.9424406130268199, 0.9424406130268199, 0.9425519713261649, 0.9425519713261649, 0.9425519713261649, 0.9425519713261649, 0.9425519713261649, 0.9425519713261649, 0.9425519713261649, 0.9425519713261649, 0.9425519713261649, 0.9425519713261649, 0.9425519713261649, 0.9425519713261649, 0.9425519713261649, 0.9425519713261649, 0.9425519713261649, 0.9425519713261649, 0.9425519713261649, 0.9425519713261649, 0.9425519713261649, 0.9425519713261649, 0.9425519713261649, 0.9425519713261649, 0.9425519713261649, 0.9425519713261649, 0.9425519713261649, 0.9425519713261649, 0.9425519713261649, 0.9425519713261649, 0.9425519713261649, 0.9425519713261649, 0.9425519713261649, 0.9425519713261649, 0.9425519713261649, 0.9425519713261649, 0.9425519713261649, 0.9425519713261649, 0.9425519713261649, 0.9425519713261649, 0.9425519713261649, 0.9425519713261649, 0.9425519713261649, 0.9425519713261649, 0.9481527777777778, 0.9481527777777778, 0.9481527777777778, 0.9481527777777778, 0.9512777777777778, 0.9512777777777778]}], \"f1_score_micro\": [{\"categories\": [\"0\", \"1\", \"2\", \"3\", \"4\", \"5\", \"6\", \"7\", \"8\", \"9\", \"10\", \"11\", \"12\", \"13\", \"14\", \"15\", \"16\", \"17\", \"18\", \"19\", \"20\", \"21\", \"22\", \"23\", \"24\", \"25\", \"26\", \"27\", \"28\", \"29\", \"30\", \"31\", \"32\", \"33\", \"34\", \"35\", \"36\", \"37\", \"38\", \"39\", \"40\", \"41\", \"42\", \"43\", \"44\", \"45\", \"46\", \"47\", \"48\", \"49\", \"50\", \"51\", \"52\", \"53\"], \"mode\": \"markers\", \"name\": \"f1_score_micro\", \"stepped\": false, \"type\": \"scatter\", \"data\": [0.964102564102564, 0.964102564102564, 0.9128205128205128, 0.876923076923077, 0.9128205128205128, 0.8564102564102564, 0.9589743589743589, 0.9589743589743589, 0.9435897435897436, 0.9384615384615385, 0.9589743589743589, 0.8923076923076924, 0.9282051282051282, 0.9333333333333333, 0.9333333333333333, 0.8974358974358975, 0.9538461538461538, 0.876923076923077, 0.9076923076923077, 0.9076923076923078, 0.8974358974358975, 0.8820512820512821, 0.9333333333333333, 0.9384615384615385, 0.9179487179487179, 0.7538461538461538, 0.9538461538461538, 0.9589743589743589, 0.9282051282051282, 0.9076923076923077, 0.8153846153846154, 0.8307692307692307, 0.8307692307692307, 0.8410256410256409, 0.9282051282051282, 0.876923076923077, 0.9487179487179487, 0.9333333333333332, 0.9282051282051281, 0.8358974358974359, 0.8974358974358975, 0.9487179487179487, 0.9435897435897436, 0.9589743589743589, 0.9384615384615385, 0.9230769230769231, 0.9487179487179487, 0.9487179487179487, 0.9692307692307691, 0.7538461538461538, 0.9230769230769231, 0.9435897435897435, 0.9743589743589742, 0.964102564102564]}, {\"categories\": [\"0\", \"1\", \"2\", \"3\", \"4\", \"5\", \"6\", \"7\", \"8\", \"9\", \"10\", \"11\", \"12\", \"13\", \"14\", \"15\", \"16\", \"17\", \"18\", \"19\", \"20\", \"21\", \"22\", \"23\", \"24\", \"25\", \"26\", \"27\", \"28\", \"29\", \"30\", \"31\", \"32\", \"33\", \"34\", \"35\", \"36\", \"37\", \"38\", \"39\", \"40\", \"41\", \"42\", \"43\", \"44\", \"45\", \"46\", \"47\", \"48\", \"49\", \"50\", \"51\", \"52\", \"53\"], \"mode\": \"lines\", \"name\": \"f1_score_micro_max\", \"stepped\": true, \"type\": \"scatter\", \"data\": [0.964102564102564, 0.964102564102564, 0.964102564102564, 0.964102564102564, 0.964102564102564, 0.964102564102564, 0.964102564102564, 0.964102564102564, 0.964102564102564, 0.964102564102564, 0.964102564102564, 0.964102564102564, 0.964102564102564, 0.964102564102564, 0.964102564102564, 0.964102564102564, 0.964102564102564, 0.964102564102564, 0.964102564102564, 0.964102564102564, 0.964102564102564, 0.964102564102564, 0.964102564102564, 0.964102564102564, 0.964102564102564, 0.964102564102564, 0.964102564102564, 0.964102564102564, 0.964102564102564, 0.964102564102564, 0.964102564102564, 0.964102564102564, 0.964102564102564, 0.964102564102564, 0.964102564102564, 0.964102564102564, 0.964102564102564, 0.964102564102564, 0.964102564102564, 0.964102564102564, 0.964102564102564, 0.964102564102564, 0.964102564102564, 0.964102564102564, 0.964102564102564, 0.964102564102564, 0.964102564102564, 0.964102564102564, 0.9692307692307691, 0.9692307692307691, 0.9692307692307691, 0.9692307692307691, 0.9743589743589742, 0.9743589743589742]}], \"AUC_macro\": [{\"categories\": [\"0\", \"1\", \"2\", \"3\", \"4\", \"5\", \"6\", \"7\", \"8\", \"9\", \"10\", \"11\", \"12\", \"13\", \"14\", \"15\", \"16\", \"17\", \"18\", \"19\", \"20\", \"21\", \"22\", \"23\", \"24\", \"25\", \"26\", \"27\", \"28\", \"29\", \"30\", \"31\", \"32\", \"33\", \"34\", \"35\", \"36\", \"37\", \"38\", \"39\", \"40\", \"41\", \"42\", \"43\", \"44\", \"45\", \"46\", \"47\", \"48\", \"49\", \"50\", \"51\", \"52\", \"53\"], \"mode\": \"markers\", \"name\": \"AUC_macro\", \"stepped\": false, \"type\": \"scatter\", \"data\": [0.9929244427965228, 0.9948905956647891, 0.9555799933494594, 0.9517910273613832, 0.9597263920523096, 0.9644570848856165, 0.9843714650611203, 0.9843714650611203, 0.9796200143016052, 0.9877093654913456, 0.9977777777777778, 0.9212324363931705, 0.9731591171260249, 0.9536173128873351, 0.96003377062109, 0.9285730080748156, 0.977298827032976, 0.9024900904002683, 0.9644157176404118, 0.9631532037360737, 0.9570999184867371, 0.9027790107762298, 0.988584232333398, 0.9578311056965116, 0.9636290587425181, 0.9578342676460029, 0.9845479280329114, 0.9886079182630907, 0.9524144405012034, 0.9622270953616894, 0.8911485204018573, 0.9132819431937896, 0.9132819431937896, 0.9161417418530877, 0.9714674844477402, 0.8982019586724815, 0.9860260813013871, 0.975393439800837, 0.9627034153174309, 0.9160466332374007, 0.9501016591038838, 0.9815275820870925, 0.9587823831299918, 0.9846232439335887, 0.971314399891708, 0.9698779346245976, 0.9544348879707613, 0.9518851898935325, 0.9941520737327189, 0.9375371429748516, 0.9505119297749998, 0.9743548387096773, 1.0, 0.9992592592592592]}, {\"categories\": [\"0\", \"1\", \"2\", \"3\", \"4\", \"5\", \"6\", \"7\", \"8\", \"9\", \"10\", \"11\", \"12\", \"13\", \"14\", \"15\", \"16\", \"17\", \"18\", \"19\", \"20\", \"21\", \"22\", \"23\", \"24\", \"25\", \"26\", \"27\", \"28\", \"29\", \"30\", \"31\", \"32\", \"33\", \"34\", \"35\", \"36\", \"37\", \"38\", \"39\", \"40\", \"41\", \"42\", \"43\", \"44\", \"45\", \"46\", \"47\", \"48\", \"49\", \"50\", \"51\", \"52\", \"53\"], \"mode\": \"lines\", \"name\": \"AUC_macro_max\", \"stepped\": true, \"type\": \"scatter\", \"data\": [0.9929244427965228, 0.9948905956647891, 0.9948905956647891, 0.9948905956647891, 0.9948905956647891, 0.9948905956647891, 0.9948905956647891, 0.9948905956647891, 0.9948905956647891, 0.9948905956647891, 0.9977777777777778, 0.9977777777777778, 0.9977777777777778, 0.9977777777777778, 0.9977777777777778, 0.9977777777777778, 0.9977777777777778, 0.9977777777777778, 0.9977777777777778, 0.9977777777777778, 0.9977777777777778, 0.9977777777777778, 0.9977777777777778, 0.9977777777777778, 0.9977777777777778, 0.9977777777777778, 0.9977777777777778, 0.9977777777777778, 0.9977777777777778, 0.9977777777777778, 0.9977777777777778, 0.9977777777777778, 0.9977777777777778, 0.9977777777777778, 0.9977777777777778, 0.9977777777777778, 0.9977777777777778, 0.9977777777777778, 0.9977777777777778, 0.9977777777777778, 0.9977777777777778, 0.9977777777777778, 0.9977777777777778, 0.9977777777777778, 0.9977777777777778, 0.9977777777777778, 0.9977777777777778, 0.9977777777777778, 0.9977777777777778, 0.9977777777777778, 0.9977777777777778, 0.9977777777777778, 1.0, 1.0]}], \"AUC_weighted\": [{\"categories\": [\"0\", \"1\", \"2\", \"3\", \"4\", \"5\", \"6\", \"7\", \"8\", \"9\", \"10\", \"11\", \"12\", \"13\", \"14\", \"15\", \"16\", \"17\", \"18\", \"19\", \"20\", \"21\", \"22\", \"23\", \"24\", \"25\", \"26\", \"27\", \"28\", \"29\", \"30\", \"31\", \"32\", \"33\", \"34\", \"35\", \"36\", \"37\", \"38\", \"39\", \"40\", \"41\", \"42\", \"43\", \"44\", \"45\", \"46\", \"47\", \"48\", \"49\", \"50\", \"51\", \"52\", \"53\"], \"mode\": \"markers\", \"name\": \"AUC_weighted\", \"stepped\": false, \"type\": \"scatter\", \"data\": [0.9929244427965228, 0.9948905956647891, 0.9555799933494594, 0.9517910273613832, 0.9597263920523098, 0.9644570848856165, 0.9843714650611203, 0.9843714650611203, 0.9796200143016052, 0.9877093654913454, 0.9977777777777778, 0.9212324363931705, 0.9731591171260249, 0.9536173128873351, 0.9600337706210897, 0.9285730080748156, 0.977298827032976, 0.9024900904002683, 0.9644157176404118, 0.9631532037360735, 0.9570999184867371, 0.90277901077623, 0.9885842323333979, 0.9578311056965116, 0.9636290587425181, 0.9578342676460029, 0.9845479280329114, 0.9886079182630907, 0.9524144405012034, 0.9622270953616894, 0.8911485204018575, 0.9132819431937896, 0.9132819431937896, 0.9161417418530877, 0.9714674844477402, 0.8982019586724815, 0.9860260813013871, 0.9753934398008368, 0.9627034153174309, 0.9160466332374007, 0.9501016591038838, 0.9815275820870927, 0.9587823831299916, 0.9846232439335887, 0.971314399891708, 0.9698779346245976, 0.9544348879707613, 0.9518851898935324, 0.9941520737327189, 0.9375371429748516, 0.9505119297749998, 0.9743548387096773, 1.0, 0.9992592592592592]}, {\"categories\": [\"0\", \"1\", \"2\", \"3\", \"4\", \"5\", \"6\", \"7\", \"8\", \"9\", \"10\", \"11\", \"12\", \"13\", \"14\", \"15\", \"16\", \"17\", \"18\", \"19\", \"20\", \"21\", \"22\", \"23\", \"24\", \"25\", \"26\", \"27\", \"28\", \"29\", \"30\", \"31\", \"32\", \"33\", \"34\", \"35\", \"36\", \"37\", \"38\", \"39\", \"40\", \"41\", \"42\", \"43\", \"44\", \"45\", \"46\", \"47\", \"48\", \"49\", \"50\", \"51\", \"52\", \"53\"], \"mode\": \"lines\", \"name\": \"AUC_weighted_max\", \"stepped\": true, \"type\": \"scatter\", \"data\": [0.9929244427965228, 0.9948905956647891, 0.9948905956647891, 0.9948905956647891, 0.9948905956647891, 0.9948905956647891, 0.9948905956647891, 0.9948905956647891, 0.9948905956647891, 0.9948905956647891, 0.9977777777777778, 0.9977777777777778, 0.9977777777777778, 0.9977777777777778, 0.9977777777777778, 0.9977777777777778, 0.9977777777777778, 0.9977777777777778, 0.9977777777777778, 0.9977777777777778, 0.9977777777777778, 0.9977777777777778, 0.9977777777777778, 0.9977777777777778, 0.9977777777777778, 0.9977777777777778, 0.9977777777777778, 0.9977777777777778, 0.9977777777777778, 0.9977777777777778, 0.9977777777777778, 0.9977777777777778, 0.9977777777777778, 0.9977777777777778, 0.9977777777777778, 0.9977777777777778, 0.9977777777777778, 0.9977777777777778, 0.9977777777777778, 0.9977777777777778, 0.9977777777777778, 0.9977777777777778, 0.9977777777777778, 0.9977777777777778, 0.9977777777777778, 0.9977777777777778, 0.9977777777777778, 0.9977777777777778, 0.9977777777777778, 0.9977777777777778, 0.9977777777777778, 0.9977777777777778, 1.0, 1.0]}], \"precision_score_micro\": [{\"categories\": [\"0\", \"1\", \"2\", \"3\", \"4\", \"5\", \"6\", \"7\", \"8\", \"9\", \"10\", \"11\", \"12\", \"13\", \"14\", \"15\", \"16\", \"17\", \"18\", \"19\", \"20\", \"21\", \"22\", \"23\", \"24\", \"25\", \"26\", \"27\", \"28\", \"29\", \"30\", \"31\", \"32\", \"33\", \"34\", \"35\", \"36\", \"37\", \"38\", \"39\", \"40\", \"41\", \"42\", \"43\", \"44\", \"45\", \"46\", \"47\", \"48\", \"49\", \"50\", \"51\", \"52\", \"53\"], \"mode\": \"markers\", \"name\": \"precision_score_micro\", \"stepped\": false, \"type\": \"scatter\", \"data\": [0.964102564102564, 0.964102564102564, 0.9128205128205128, 0.876923076923077, 0.9128205128205128, 0.8564102564102564, 0.9589743589743589, 0.9589743589743589, 0.9435897435897436, 0.9384615384615385, 0.9589743589743589, 0.8923076923076924, 0.9282051282051282, 0.9333333333333333, 0.9333333333333333, 0.8974358974358975, 0.9538461538461538, 0.876923076923077, 0.9076923076923077, 0.9076923076923078, 0.8974358974358975, 0.8820512820512821, 0.9333333333333333, 0.9384615384615385, 0.9179487179487179, 0.7538461538461538, 0.9538461538461538, 0.9589743589743589, 0.9282051282051282, 0.9076923076923077, 0.8153846153846154, 0.8307692307692307, 0.8307692307692307, 0.8410256410256409, 0.9282051282051282, 0.876923076923077, 0.9487179487179487, 0.9333333333333332, 0.9282051282051281, 0.8358974358974359, 0.8974358974358975, 0.9487179487179487, 0.9435897435897436, 0.9589743589743589, 0.9384615384615385, 0.9230769230769231, 0.9487179487179487, 0.9487179487179487, 0.9692307692307691, 0.7538461538461538, 0.9230769230769231, 0.9435897435897435, 0.9743589743589742, 0.964102564102564]}, {\"categories\": [\"0\", \"1\", \"2\", \"3\", \"4\", \"5\", \"6\", \"7\", \"8\", \"9\", \"10\", \"11\", \"12\", \"13\", \"14\", \"15\", \"16\", \"17\", \"18\", \"19\", \"20\", \"21\", \"22\", \"23\", \"24\", \"25\", \"26\", \"27\", \"28\", \"29\", \"30\", \"31\", \"32\", \"33\", \"34\", \"35\", \"36\", \"37\", \"38\", \"39\", \"40\", \"41\", \"42\", \"43\", \"44\", \"45\", \"46\", \"47\", \"48\", \"49\", \"50\", \"51\", \"52\", \"53\"], \"mode\": \"lines\", \"name\": \"precision_score_micro_max\", \"stepped\": true, \"type\": \"scatter\", \"data\": [0.964102564102564, 0.964102564102564, 0.964102564102564, 0.964102564102564, 0.964102564102564, 0.964102564102564, 0.964102564102564, 0.964102564102564, 0.964102564102564, 0.964102564102564, 0.964102564102564, 0.964102564102564, 0.964102564102564, 0.964102564102564, 0.964102564102564, 0.964102564102564, 0.964102564102564, 0.964102564102564, 0.964102564102564, 0.964102564102564, 0.964102564102564, 0.964102564102564, 0.964102564102564, 0.964102564102564, 0.964102564102564, 0.964102564102564, 0.964102564102564, 0.964102564102564, 0.964102564102564, 0.964102564102564, 0.964102564102564, 0.964102564102564, 0.964102564102564, 0.964102564102564, 0.964102564102564, 0.964102564102564, 0.964102564102564, 0.964102564102564, 0.964102564102564, 0.964102564102564, 0.964102564102564, 0.964102564102564, 0.964102564102564, 0.964102564102564, 0.964102564102564, 0.964102564102564, 0.964102564102564, 0.964102564102564, 0.9692307692307691, 0.9692307692307691, 0.9692307692307691, 0.9692307692307691, 0.9743589743589742, 0.9743589743589742]}], \"average_precision_score_micro\": [{\"categories\": [\"0\", \"1\", \"2\", \"3\", \"4\", \"5\", \"6\", \"7\", \"8\", \"9\", \"10\", \"11\", \"12\", \"13\", \"14\", \"15\", \"16\", \"17\", \"18\", \"19\", \"20\", \"21\", \"22\", \"23\", \"24\", \"25\", \"26\", \"27\", \"28\", \"29\", \"30\", \"31\", \"32\", \"33\", \"34\", \"35\", \"36\", \"37\", \"38\", \"39\", \"40\", \"41\", \"42\", \"43\", \"44\", \"45\", \"46\", \"47\", \"48\", \"49\", \"50\", \"51\", \"52\", \"53\"], \"mode\": \"markers\", \"name\": \"average_precision_score_micro\", \"stepped\": false, \"type\": \"scatter\", \"data\": [0.993843075058092, 0.9918968830352352, 0.9701085241242347, 0.9651636927658094, 0.9750569982546644, 0.966405685308532, 0.9878624884595482, 0.9888460499937824, 0.985549419743079, 0.9881409989885593, 0.9918855864894827, 0.9538647747815207, 0.9796599834177817, 0.9750696119398714, 0.9735600987201141, 0.9493238304661988, 0.9822066335950039, 0.939577288621279, 0.9725528372165595, 0.9702412008001599, 0.9686600274347679, 0.935860293948417, 0.989102276329086, 0.9725867586133508, 0.9702097632890674, 0.9282470933593207, 0.9845468465792955, 0.9904390133272555, 0.9716930943911594, 0.9707811325463143, 0.9243801378715789, 0.942203714927906, 0.9424279877834769, 0.9407927082464079, 0.9749130792121472, 0.932754054506194, 0.9873139632700927, 0.9791323748756904, 0.9743078845619179, 0.9413693143611033, 0.9632352901837541, 0.9869010006240458, 0.9758002309544672, 0.9883007467711101, 0.9796985942338313, 0.9783199513914665, 0.9735816139286493, 0.9723042991134803, 0.9942192757581794, 0.9215495707856712, 0.9718759898421597, 0.9821573026549484, 0.9963521555857036, 0.9938777803978983]}, {\"categories\": [\"0\", \"1\", \"2\", \"3\", \"4\", \"5\", \"6\", \"7\", \"8\", \"9\", \"10\", \"11\", \"12\", \"13\", \"14\", \"15\", \"16\", \"17\", \"18\", \"19\", \"20\", \"21\", \"22\", \"23\", \"24\", \"25\", \"26\", \"27\", \"28\", \"29\", \"30\", \"31\", \"32\", \"33\", \"34\", \"35\", \"36\", \"37\", \"38\", \"39\", \"40\", \"41\", \"42\", \"43\", \"44\", \"45\", \"46\", \"47\", \"48\", \"49\", \"50\", \"51\", \"52\", \"53\"], \"mode\": \"lines\", \"name\": \"average_precision_score_micro_max\", \"stepped\": true, \"type\": \"scatter\", \"data\": [0.993843075058092, 0.993843075058092, 0.993843075058092, 0.993843075058092, 0.993843075058092, 0.993843075058092, 0.993843075058092, 0.993843075058092, 0.993843075058092, 0.993843075058092, 0.993843075058092, 0.993843075058092, 0.993843075058092, 0.993843075058092, 0.993843075058092, 0.993843075058092, 0.993843075058092, 0.993843075058092, 0.993843075058092, 0.993843075058092, 0.993843075058092, 0.993843075058092, 0.993843075058092, 0.993843075058092, 0.993843075058092, 0.993843075058092, 0.993843075058092, 0.993843075058092, 0.993843075058092, 0.993843075058092, 0.993843075058092, 0.993843075058092, 0.993843075058092, 0.993843075058092, 0.993843075058092, 0.993843075058092, 0.993843075058092, 0.993843075058092, 0.993843075058092, 0.993843075058092, 0.993843075058092, 0.993843075058092, 0.993843075058092, 0.993843075058092, 0.993843075058092, 0.993843075058092, 0.993843075058092, 0.993843075058092, 0.9942192757581794, 0.9942192757581794, 0.9942192757581794, 0.9942192757581794, 0.9963521555857036, 0.9963521555857036]}], \"average_precision_score_weighted\": [{\"categories\": [\"0\", \"1\", \"2\", \"3\", \"4\", \"5\", \"6\", \"7\", \"8\", \"9\", \"10\", \"11\", \"12\", \"13\", \"14\", \"15\", \"16\", \"17\", \"18\", \"19\", \"20\", \"21\", \"22\", \"23\", \"24\", \"25\", \"26\", \"27\", \"28\", \"29\", \"30\", \"31\", \"32\", \"33\", \"34\", \"35\", \"36\", \"37\", \"38\", \"39\", \"40\", \"41\", \"42\", \"43\", \"44\", \"45\", \"46\", \"47\", \"48\", \"49\", \"50\", \"51\", \"52\", \"53\"], \"mode\": \"markers\", \"name\": \"average_precision_score_weighted\", \"stepped\": false, \"type\": \"scatter\", \"data\": [0.9950476709071372, 0.9958508468385183, 0.9655383087443059, 0.9617180223422892, 0.9675946167234498, 0.9718856318863802, 0.9889112217717863, 0.9889112217717863, 0.983950288852823, 0.9898556741983413, 0.9980063455063455, 0.9460164533639194, 0.9789286388297495, 0.9677527019626613, 0.9718043309754538, 0.9393449269750775, 0.9839889150287942, 0.9304234328412313, 0.9722662407433788, 0.9704687693351985, 0.9692766602142552, 0.9310763103797342, 0.9897060808169513, 0.9693046576425346, 0.9672149881535942, 0.9656983712916564, 0.9849602177696427, 0.9919559582639511, 0.9657055263902705, 0.9703137746705528, 0.9109753298486893, 0.9338417584478581, 0.9330370513931511, 0.9334207885110086, 0.9738067984382706, 0.931485899815549, 0.9879539267241414, 0.9795675593327401, 0.9741662289673535, 0.9334181951378214, 0.9586243619184485, 0.9846451721686325, 0.9715783650390322, 0.9893344923166291, 0.9789054715004075, 0.9766331229672431, 0.9680267332993221, 0.9672778079856122, 0.9946031907849525, 0.9528512484016298, 0.9641378846560491, 0.981092604584249, 1.0, 0.9993217535153018]}, {\"categories\": [\"0\", \"1\", \"2\", \"3\", \"4\", \"5\", \"6\", \"7\", \"8\", \"9\", \"10\", \"11\", \"12\", \"13\", \"14\", \"15\", \"16\", \"17\", \"18\", \"19\", \"20\", \"21\", \"22\", \"23\", \"24\", \"25\", \"26\", \"27\", \"28\", \"29\", \"30\", \"31\", \"32\", \"33\", \"34\", \"35\", \"36\", \"37\", \"38\", \"39\", \"40\", \"41\", \"42\", \"43\", \"44\", \"45\", \"46\", \"47\", \"48\", \"49\", \"50\", \"51\", \"52\", \"53\"], \"mode\": \"lines\", \"name\": \"average_precision_score_weighted_max\", \"stepped\": true, \"type\": \"scatter\", \"data\": [0.9950476709071372, 0.9958508468385183, 0.9958508468385183, 0.9958508468385183, 0.9958508468385183, 0.9958508468385183, 0.9958508468385183, 0.9958508468385183, 0.9958508468385183, 0.9958508468385183, 0.9980063455063455, 0.9980063455063455, 0.9980063455063455, 0.9980063455063455, 0.9980063455063455, 0.9980063455063455, 0.9980063455063455, 0.9980063455063455, 0.9980063455063455, 0.9980063455063455, 0.9980063455063455, 0.9980063455063455, 0.9980063455063455, 0.9980063455063455, 0.9980063455063455, 0.9980063455063455, 0.9980063455063455, 0.9980063455063455, 0.9980063455063455, 0.9980063455063455, 0.9980063455063455, 0.9980063455063455, 0.9980063455063455, 0.9980063455063455, 0.9980063455063455, 0.9980063455063455, 0.9980063455063455, 0.9980063455063455, 0.9980063455063455, 0.9980063455063455, 0.9980063455063455, 0.9980063455063455, 0.9980063455063455, 0.9980063455063455, 0.9980063455063455, 0.9980063455063455, 0.9980063455063455, 0.9980063455063455, 0.9980063455063455, 0.9980063455063455, 0.9980063455063455, 0.9980063455063455, 1.0, 1.0]}], \"norm_macro_recall\": [{\"categories\": [\"0\", \"1\", \"2\", \"3\", \"4\", \"5\", \"6\", \"7\", \"8\", \"9\", \"10\", \"11\", \"12\", \"13\", \"14\", \"15\", \"16\", \"17\", \"18\", \"19\", \"20\", \"21\", \"22\", \"23\", \"24\", \"25\", \"26\", \"27\", \"28\", \"29\", \"30\", \"31\", \"32\", \"33\", \"34\", \"35\", \"36\", \"37\", \"38\", \"39\", \"40\", \"41\", \"42\", \"43\", \"44\", \"45\", \"46\", \"47\", \"48\", \"49\", \"50\", \"51\", \"52\", \"53\"], \"mode\": \"markers\", \"name\": \"norm_macro_recall\", \"stepped\": false, \"type\": \"scatter\", \"data\": [0.8848812260536398, 0.8723333333333333, 0.6666594982078854, 0.5749209085933225, 0.7065523553507425, 0.6855105672969967, 0.8851039426523297, 0.8652698412698413, 0.7969563492063492, 0.7673333333333333, 0.8763333333333332, 0.6319660954852835, 0.7221904761904762, 0.789128793897982, 0.7576317204301075, 0.7324274546674436, 0.8175555555555555, 0.5613740575948585, 0.6502309267793138, 0.6438817204301075, 0.629531746031746, 0.5971952124935996, 0.7768539426523298, 0.7453333333333333, 0.782755778024966, 0.0, 0.8323333333333334, 0.8611039426523298, 0.7717073909281918, 0.6360087045570917, 0.42396240090400267, 0.5135414923106804, 0.5135414923106804, 0.5262431052139062, 0.7881637401345409, 0.5258217022441161, 0.8302145593869732, 0.7672896825396825, 0.7168611111111112, 0.49197083178840695, 0.6870121784345923, 0.8497745775729646, 0.820826164874552, 0.8405325140809012, 0.7453333333333333, 0.7482671884104031, 0.8220320197044334, 0.8207269585253456, 0.8963055555555556, 0.0, 0.7648108392040538, 0.7731111111111112, 0.9025555555555556, 0.8745555555555555]}, {\"categories\": [\"0\", \"1\", \"2\", \"3\", \"4\", \"5\", \"6\", \"7\", \"8\", \"9\", \"10\", \"11\", \"12\", \"13\", \"14\", \"15\", \"16\", \"17\", \"18\", \"19\", \"20\", \"21\", \"22\", \"23\", \"24\", \"25\", \"26\", \"27\", \"28\", \"29\", \"30\", \"31\", \"32\", \"33\", \"34\", \"35\", \"36\", \"37\", \"38\", \"39\", \"40\", \"41\", \"42\", \"43\", \"44\", \"45\", \"46\", \"47\", \"48\", \"49\", \"50\", \"51\", \"52\", \"53\"], \"mode\": \"lines\", \"name\": \"norm_macro_recall_max\", \"stepped\": true, \"type\": \"scatter\", \"data\": [0.8848812260536398, 0.8848812260536398, 0.8848812260536398, 0.8848812260536398, 0.8848812260536398, 0.8848812260536398, 0.8851039426523297, 0.8851039426523297, 0.8851039426523297, 0.8851039426523297, 0.8851039426523297, 0.8851039426523297, 0.8851039426523297, 0.8851039426523297, 0.8851039426523297, 0.8851039426523297, 0.8851039426523297, 0.8851039426523297, 0.8851039426523297, 0.8851039426523297, 0.8851039426523297, 0.8851039426523297, 0.8851039426523297, 0.8851039426523297, 0.8851039426523297, 0.8851039426523297, 0.8851039426523297, 0.8851039426523297, 0.8851039426523297, 0.8851039426523297, 0.8851039426523297, 0.8851039426523297, 0.8851039426523297, 0.8851039426523297, 0.8851039426523297, 0.8851039426523297, 0.8851039426523297, 0.8851039426523297, 0.8851039426523297, 0.8851039426523297, 0.8851039426523297, 0.8851039426523297, 0.8851039426523297, 0.8851039426523297, 0.8851039426523297, 0.8851039426523297, 0.8851039426523297, 0.8851039426523297, 0.8963055555555556, 0.8963055555555556, 0.8963055555555556, 0.8963055555555556, 0.9025555555555556, 0.9025555555555556]}], \"recall_score_macro\": [{\"categories\": [\"0\", \"1\", \"2\", \"3\", \"4\", \"5\", \"6\", \"7\", \"8\", \"9\", \"10\", \"11\", \"12\", \"13\", \"14\", \"15\", \"16\", \"17\", \"18\", \"19\", \"20\", \"21\", \"22\", \"23\", \"24\", \"25\", \"26\", \"27\", \"28\", \"29\", \"30\", \"31\", \"32\", \"33\", \"34\", \"35\", \"36\", \"37\", \"38\", \"39\", \"40\", \"41\", \"42\", \"43\", \"44\", \"45\", \"46\", \"47\", \"48\", \"49\", \"50\", \"51\", \"52\", \"53\"], \"mode\": \"markers\", \"name\": \"recall_score_macro\", \"stepped\": false, \"type\": \"scatter\", \"data\": [0.9424406130268199, 0.9361666666666666, 0.8333297491039428, 0.7874604542966612, 0.8532761776753712, 0.8427552836484983, 0.9425519713261649, 0.9326349206349207, 0.8984781746031747, 0.8836666666666666, 0.9381666666666666, 0.8159830477426417, 0.861095238095238, 0.8945643969489909, 0.8788158602150536, 0.8662137273337217, 0.9087777777777777, 0.7806870287974292, 0.8251154633896569, 0.8219408602150537, 0.8147658730158731, 0.7985976062467998, 0.8884269713261649, 0.8726666666666667, 0.8913778890124829, 0.5, 0.9161666666666667, 0.930551971326165, 0.8858536954640959, 0.8180043522785458, 0.7119812004520013, 0.7567707461553402, 0.7567707461553402, 0.7631215526069532, 0.8940818700672706, 0.7629108511220579, 0.9151072796934866, 0.8836448412698413, 0.8584305555555556, 0.7459854158942034, 0.8435060892172961, 0.9248872887864822, 0.910413082437276, 0.9202662570404506, 0.8726666666666667, 0.8741335942052014, 0.9110160098522166, 0.9103634792626728, 0.9481527777777778, 0.5, 0.882405419602027, 0.8865555555555555, 0.9512777777777778, 0.9372777777777778]}, {\"categories\": [\"0\", \"1\", \"2\", \"3\", \"4\", \"5\", \"6\", \"7\", \"8\", \"9\", \"10\", \"11\", \"12\", \"13\", \"14\", \"15\", \"16\", \"17\", \"18\", \"19\", \"20\", \"21\", \"22\", \"23\", \"24\", \"25\", \"26\", \"27\", \"28\", \"29\", \"30\", \"31\", \"32\", \"33\", \"34\", \"35\", \"36\", \"37\", \"38\", \"39\", \"40\", \"41\", \"42\", \"43\", \"44\", \"45\", \"46\", \"47\", \"48\", \"49\", \"50\", \"51\", \"52\", \"53\"], \"mode\": \"lines\", \"name\": \"recall_score_macro_max\", \"stepped\": true, \"type\": \"scatter\", \"data\": [0.9424406130268199, 0.9424406130268199, 0.9424406130268199, 0.9424406130268199, 0.9424406130268199, 0.9424406130268199, 0.9425519713261649, 0.9425519713261649, 0.9425519713261649, 0.9425519713261649, 0.9425519713261649, 0.9425519713261649, 0.9425519713261649, 0.9425519713261649, 0.9425519713261649, 0.9425519713261649, 0.9425519713261649, 0.9425519713261649, 0.9425519713261649, 0.9425519713261649, 0.9425519713261649, 0.9425519713261649, 0.9425519713261649, 0.9425519713261649, 0.9425519713261649, 0.9425519713261649, 0.9425519713261649, 0.9425519713261649, 0.9425519713261649, 0.9425519713261649, 0.9425519713261649, 0.9425519713261649, 0.9425519713261649, 0.9425519713261649, 0.9425519713261649, 0.9425519713261649, 0.9425519713261649, 0.9425519713261649, 0.9425519713261649, 0.9425519713261649, 0.9425519713261649, 0.9425519713261649, 0.9425519713261649, 0.9425519713261649, 0.9425519713261649, 0.9425519713261649, 0.9425519713261649, 0.9425519713261649, 0.9481527777777778, 0.9481527777777778, 0.9481527777777778, 0.9481527777777778, 0.9512777777777778, 0.9512777777777778]}]}, \"metricName\": null, \"primaryMetricName\": \"accuracy\", \"showLegend\": false}, \"run_metrics\": [{\"name\": \"experiment_status\", \"run_id\": \"AutoML_a0240568-0f51-4765-ab12-51ce97260977\", \"categories\": [0, 1, 2, 3, 4, 5], \"series\": [{\"data\": [\"DatasetEvaluation\", \"FeaturesGeneration\", \"DatasetFeaturization\", \"DatasetFeaturizationCompleted\", \"DatasetCrossValidationSplit\", \"ModelSelection\"]}]}, {\"name\": \"experiment_status_description\", \"run_id\": \"AutoML_a0240568-0f51-4765-ab12-51ce97260977\", \"categories\": [0, 1, 2, 3, 4, 5], \"series\": [{\"data\": [\"Gathering dataset statistics.\", \"Generating features for the dataset.\", \"Beginning to fit featurizers and featurize the dataset.\", \"Completed fit featurizers and featurizing the dataset.\", \"Generating individually featurized CV splits.\", \"Beginning model selection.\"]}]}, {\"name\": \"balanced_accuracy\", \"run_id\": \"AutoML_a0240568-0f51-4765-ab12-51ce97260977\", \"categories\": [0], \"series\": [{\"data\": [0.9512777777777778]}]}, {\"name\": \"recall_score_weighted\", \"run_id\": \"AutoML_a0240568-0f51-4765-ab12-51ce97260977\", \"categories\": [0], \"series\": [{\"data\": [0.9743589743589742]}]}, {\"name\": \"log_loss\", \"run_id\": \"AutoML_a0240568-0f51-4765-ab12-51ce97260977\", \"categories\": [0], \"series\": [{\"data\": [0.10233741071608511]}]}, {\"name\": \"f1_score_weighted\", \"run_id\": \"AutoML_a0240568-0f51-4765-ab12-51ce97260977\", \"categories\": [0], \"series\": [{\"data\": [0.9736977298645872]}]}, {\"name\": \"f1_score_micro\", \"run_id\": \"AutoML_a0240568-0f51-4765-ab12-51ce97260977\", \"categories\": [0], \"series\": [{\"data\": [0.9743589743589742]}]}, {\"name\": \"f1_score_macro\", \"run_id\": \"AutoML_a0240568-0f51-4765-ab12-51ce97260977\", \"categories\": [0], \"series\": [{\"data\": [0.9635730599568451]}]}, {\"name\": \"matthews_correlation\", \"run_id\": \"AutoML_a0240568-0f51-4765-ab12-51ce97260977\", \"categories\": [0], \"series\": [{\"data\": [0.9307811451701603]}]}, {\"name\": \"weighted_accuracy\", \"run_id\": \"AutoML_a0240568-0f51-4765-ab12-51ce97260977\", \"categories\": [0], \"series\": [{\"data\": [0.9865537671244331]}]}, {\"name\": \"AUC_macro\", \"run_id\": \"AutoML_a0240568-0f51-4765-ab12-51ce97260977\", \"categories\": [0], \"series\": [{\"data\": [1.0]}]}, {\"name\": \"AUC_weighted\", \"run_id\": \"AutoML_a0240568-0f51-4765-ab12-51ce97260977\", \"categories\": [0], \"series\": [{\"data\": [1.0]}]}, {\"name\": \"precision_score_weighted\", \"run_id\": \"AutoML_a0240568-0f51-4765-ab12-51ce97260977\", \"categories\": [0], \"series\": [{\"data\": [0.9756730769230769]}]}, {\"name\": \"recall_score_macro\", \"run_id\": \"AutoML_a0240568-0f51-4765-ab12-51ce97260977\", \"categories\": [0], \"series\": [{\"data\": [0.9512777777777778]}]}, {\"name\": \"recall_score_micro\", \"run_id\": \"AutoML_a0240568-0f51-4765-ab12-51ce97260977\", \"categories\": [0], \"series\": [{\"data\": [0.9743589743589742]}]}, {\"name\": \"AUC_micro\", \"run_id\": \"AutoML_a0240568-0f51-4765-ab12-51ce97260977\", \"categories\": [0], \"series\": [{\"data\": [0.9961867192636424]}]}, {\"name\": \"average_precision_score_micro\", \"run_id\": \"AutoML_a0240568-0f51-4765-ab12-51ce97260977\", \"categories\": [0], \"series\": [{\"data\": [0.9963521555857036]}]}, {\"name\": \"average_precision_score_weighted\", \"run_id\": \"AutoML_a0240568-0f51-4765-ab12-51ce97260977\", \"categories\": [0], \"series\": [{\"data\": [1.0]}]}, {\"name\": \"norm_macro_recall\", \"run_id\": \"AutoML_a0240568-0f51-4765-ab12-51ce97260977\", \"categories\": [0], \"series\": [{\"data\": [0.9025555555555556]}]}, {\"name\": \"accuracy\", \"run_id\": \"AutoML_a0240568-0f51-4765-ab12-51ce97260977\", \"categories\": [0], \"series\": [{\"data\": [0.9743589743589742]}]}, {\"name\": \"precision_score_micro\", \"run_id\": \"AutoML_a0240568-0f51-4765-ab12-51ce97260977\", \"categories\": [0], \"series\": [{\"data\": [0.9743589743589742]}]}, {\"name\": \"average_precision_score_macro\", \"run_id\": \"AutoML_a0240568-0f51-4765-ab12-51ce97260977\", \"categories\": [0], \"series\": [{\"data\": [0.9999999999999998]}]}, {\"name\": \"precision_score_macro\", \"run_id\": \"AutoML_a0240568-0f51-4765-ab12-51ce97260977\", \"categories\": [0], \"series\": [{\"data\": [0.9806250000000001]}]}], \"run_logs\": \"\\nRun is completed.\", \"graph\": {}, \"widget_settings\": {\"childWidgetDisplay\": \"popup\", \"send_telemetry\": false, \"log_level\": \"INFO\", \"sdk_version\": \"1.19.0\"}, \"loading\": false}"
     },
     "metadata": {},
     "output_type": "display_data"
    }
   ],
   "source": [
    "RunDetails(auto_ml_run).show()\n"
   ]
  },
  {
   "cell_type": "markdown",
   "metadata": {},
   "source": [
    "## Best Model\n",
    "\n",
    "TODO: In the cell below, get the best model from the automl experiments and display all the properties of the model.\n",
    "\n"
   ]
  },
  {
   "cell_type": "code",
   "execution_count": null,
   "metadata": {
    "gather": {
     "logged": 1598431425670
    },
    "jupyter": {
     "outputs_hidden": false,
     "source_hidden": false
    },
    "nteract": {
     "transient": {
      "deleting": false
     }
    }
   },
   "outputs": [],
   "source": [
    "# Retrieve and save your best automl model.\n",
    "best_run, fitted_model = remote_run.get_output()\n",
    "print(best_run)\n",
    "print(fitted_model)\n",
    "\n",
    "model_ml = best_run.register_model(model_name='Oarkinson-detection-automl', model_path='./')"
   ]
  },
  {
   "cell_type": "code",
   "execution_count": null,
   "metadata": {
    "gather": {
     "logged": 1598431426111
    },
    "jupyter": {
     "outputs_hidden": false,
     "source_hidden": false
    },
    "nteract": {
     "transient": {
      "deleting": false
     }
    }
   },
   "outputs": [],
   "source": [
    "#TODO: Save the best model"
   ]
  },
  {
   "cell_type": "markdown",
   "metadata": {},
   "source": [
    "## Model Deployment\n",
    "\n",
    "Remember you have to deploy only one of the two models you trained.. Perform the steps in the rest of this notebook only if you wish to deploy this model.\n",
    "\n",
    "TODO: In the cell below, register the model, create an inference config and deploy the model as a web service."
   ]
  },
  {
   "cell_type": "code",
   "execution_count": null,
   "metadata": {
    "gather": {
     "logged": 1598431435189
    },
    "jupyter": {
     "outputs_hidden": false,
     "source_hidden": false
    },
    "nteract": {
     "transient": {
      "deleting": false
     }
    }
   },
   "outputs": [],
   "source": []
  },
  {
   "cell_type": "markdown",
   "metadata": {
    "collapsed": true,
    "gather": {
     "logged": 1598431657736
    },
    "jupyter": {
     "outputs_hidden": false,
     "source_hidden": false
    },
    "nteract": {
     "transient": {
      "deleting": false
     }
    }
   },
   "source": [
    "TODO: In the cell below, send a request to the web service you deployed to test it."
   ]
  },
  {
   "cell_type": "code",
   "execution_count": null,
   "metadata": {
    "gather": {
     "logged": 1598432707604
    },
    "jupyter": {
     "outputs_hidden": false,
     "source_hidden": false
    },
    "nteract": {
     "transient": {
      "deleting": false
     }
    }
   },
   "outputs": [],
   "source": []
  },
  {
   "cell_type": "markdown",
   "metadata": {
    "collapsed": true,
    "gather": {
     "logged": 1598432765711
    },
    "jupyter": {
     "outputs_hidden": false,
     "source_hidden": false
    },
    "nteract": {
     "transient": {
      "deleting": false
     }
    }
   },
   "source": [
    "TODO: In the cell below, print the logs of the web service and delete the service"
   ]
  },
  {
   "cell_type": "code",
   "execution_count": null,
   "metadata": {
    "jupyter": {
     "outputs_hidden": false,
     "source_hidden": false
    },
    "nteract": {
     "transient": {
      "deleting": false
     }
    }
   },
   "outputs": [],
   "source": []
  }
 ],
 "metadata": {
  "kernel_info": {
   "name": "python3"
  },
  "kernelspec": {
   "display_name": "Python 3",
   "language": "python",
   "name": "python3"
  },
  "language_info": {
   "codemirror_mode": {
    "name": "ipython",
    "version": 3
   },
   "file_extension": ".py",
   "mimetype": "text/x-python",
   "name": "python",
   "nbconvert_exporter": "python",
   "pygments_lexer": "ipython3",
   "version": "3.6.9"
  },
  "nteract": {
   "version": "nteract-front-end@1.0.0"
  }
 },
 "nbformat": 4,
 "nbformat_minor": 2
}
